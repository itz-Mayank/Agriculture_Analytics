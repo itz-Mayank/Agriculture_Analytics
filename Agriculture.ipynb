{
 "cells": [
  {
   "cell_type": "code",
   "execution_count": 1,
   "id": "6e432d4a",
   "metadata": {},
   "outputs": [],
   "source": [
    "# Importing Libraries\n",
    "import numpy as np\n",
    "import pandas as pd\n",
    "\n",
    "import matplotlib.pyplot as plt\n",
    "import seaborn as sn\n",
    "\n",
    "import plotly.express as px"
   ]
  },
  {
   "cell_type": "code",
   "execution_count": 2,
   "id": "3997619b",
   "metadata": {},
   "outputs": [],
   "source": [
    "# Importing Data\n",
    "df = pd.read_csv('data.csv')"
   ]
  },
  {
   "cell_type": "code",
   "execution_count": 3,
   "id": "b8c3f2e5",
   "metadata": {},
   "outputs": [
    {
     "data": {
      "application/vnd.microsoft.datawrangler.viewer.v0+json": {
       "columns": [
        {
         "name": "index",
         "rawType": "int64",
         "type": "integer"
        },
        {
         "name": "Dist Code",
         "rawType": "int64",
         "type": "integer"
        },
        {
         "name": "Year",
         "rawType": "int64",
         "type": "integer"
        },
        {
         "name": "State Code",
         "rawType": "int64",
         "type": "integer"
        },
        {
         "name": "State Name",
         "rawType": "object",
         "type": "string"
        },
        {
         "name": "Dist Name",
         "rawType": "object",
         "type": "string"
        },
        {
         "name": "RICE AREA (1000 ha)",
         "rawType": "float64",
         "type": "float"
        },
        {
         "name": "RICE PRODUCTION (1000 tons)",
         "rawType": "float64",
         "type": "float"
        },
        {
         "name": "RICE YIELD (Kg per ha)",
         "rawType": "float64",
         "type": "float"
        },
        {
         "name": "WHEAT AREA (1000 ha)",
         "rawType": "float64",
         "type": "float"
        },
        {
         "name": "WHEAT PRODUCTION (1000 tons)",
         "rawType": "float64",
         "type": "float"
        },
        {
         "name": "WHEAT YIELD (Kg per ha)",
         "rawType": "float64",
         "type": "float"
        },
        {
         "name": "KHARIF SORGHUM AREA (1000 ha)",
         "rawType": "float64",
         "type": "float"
        },
        {
         "name": "KHARIF SORGHUM PRODUCTION (1000 tons)",
         "rawType": "float64",
         "type": "float"
        },
        {
         "name": "KHARIF SORGHUM YIELD (Kg per ha)",
         "rawType": "float64",
         "type": "float"
        },
        {
         "name": "RABI SORGHUM AREA (1000 ha)",
         "rawType": "float64",
         "type": "float"
        },
        {
         "name": "RABI SORGHUM PRODUCTION (1000 tons)",
         "rawType": "float64",
         "type": "float"
        },
        {
         "name": "RABI SORGHUM YIELD (Kg per ha)",
         "rawType": "float64",
         "type": "float"
        },
        {
         "name": "SORGHUM AREA (1000 ha)",
         "rawType": "float64",
         "type": "float"
        },
        {
         "name": "SORGHUM PRODUCTION (1000 tons)",
         "rawType": "float64",
         "type": "float"
        },
        {
         "name": "SORGHUM YIELD (Kg per ha)",
         "rawType": "float64",
         "type": "float"
        },
        {
         "name": "PEARL MILLET AREA (1000 ha)",
         "rawType": "float64",
         "type": "float"
        },
        {
         "name": "PEARL MILLET PRODUCTION (1000 tons)",
         "rawType": "float64",
         "type": "float"
        },
        {
         "name": "PEARL MILLET YIELD (Kg per ha)",
         "rawType": "float64",
         "type": "float"
        },
        {
         "name": "MAIZE AREA (1000 ha)",
         "rawType": "float64",
         "type": "float"
        },
        {
         "name": "MAIZE PRODUCTION (1000 tons)",
         "rawType": "float64",
         "type": "float"
        },
        {
         "name": "MAIZE YIELD (Kg per ha)",
         "rawType": "float64",
         "type": "float"
        },
        {
         "name": "FINGER MILLET AREA (1000 ha)",
         "rawType": "float64",
         "type": "float"
        },
        {
         "name": "FINGER MILLET PRODUCTION (1000 tons)",
         "rawType": "float64",
         "type": "float"
        },
        {
         "name": "FINGER MILLET YIELD (Kg per ha)",
         "rawType": "float64",
         "type": "float"
        },
        {
         "name": "BARLEY AREA (1000 ha)",
         "rawType": "float64",
         "type": "float"
        },
        {
         "name": "BARLEY PRODUCTION (1000 tons)",
         "rawType": "float64",
         "type": "float"
        },
        {
         "name": "BARLEY YIELD (Kg per ha)",
         "rawType": "float64",
         "type": "float"
        },
        {
         "name": "CHICKPEA AREA (1000 ha)",
         "rawType": "float64",
         "type": "float"
        },
        {
         "name": "CHICKPEA PRODUCTION (1000 tons)",
         "rawType": "float64",
         "type": "float"
        },
        {
         "name": "CHICKPEA YIELD (Kg per ha)",
         "rawType": "float64",
         "type": "float"
        },
        {
         "name": "PIGEONPEA AREA (1000 ha)",
         "rawType": "float64",
         "type": "float"
        },
        {
         "name": "PIGEONPEA PRODUCTION (1000 tons)",
         "rawType": "float64",
         "type": "float"
        },
        {
         "name": "PIGEONPEA YIELD (Kg per ha)",
         "rawType": "float64",
         "type": "float"
        },
        {
         "name": "MINOR PULSES AREA (1000 ha)",
         "rawType": "float64",
         "type": "float"
        },
        {
         "name": "MINOR PULSES PRODUCTION (1000 tons)",
         "rawType": "float64",
         "type": "float"
        },
        {
         "name": "MINOR PULSES YIELD (Kg per ha)",
         "rawType": "float64",
         "type": "float"
        },
        {
         "name": "GROUNDNUT AREA (1000 ha)",
         "rawType": "float64",
         "type": "float"
        },
        {
         "name": "GROUNDNUT PRODUCTION (1000 tons)",
         "rawType": "float64",
         "type": "float"
        },
        {
         "name": "GROUNDNUT YIELD (Kg per ha)",
         "rawType": "float64",
         "type": "float"
        },
        {
         "name": "SESAMUM AREA (1000 ha)",
         "rawType": "float64",
         "type": "float"
        },
        {
         "name": "SESAMUM PRODUCTION (1000 tons)",
         "rawType": "float64",
         "type": "float"
        },
        {
         "name": "SESAMUM YIELD (Kg per ha)",
         "rawType": "float64",
         "type": "float"
        },
        {
         "name": "RAPESEED AND MUSTARD AREA (1000 ha)",
         "rawType": "float64",
         "type": "float"
        },
        {
         "name": "RAPESEED AND MUSTARD PRODUCTION (1000 tons)",
         "rawType": "float64",
         "type": "float"
        },
        {
         "name": "RAPESEED AND MUSTARD YIELD (Kg per ha)",
         "rawType": "float64",
         "type": "float"
        },
        {
         "name": "SAFFLOWER AREA (1000 ha)",
         "rawType": "float64",
         "type": "float"
        },
        {
         "name": "SAFFLOWER PRODUCTION (1000 tons)",
         "rawType": "float64",
         "type": "float"
        },
        {
         "name": "SAFFLOWER YIELD (Kg per ha)",
         "rawType": "float64",
         "type": "float"
        },
        {
         "name": "CASTOR AREA (1000 ha)",
         "rawType": "float64",
         "type": "float"
        },
        {
         "name": "CASTOR PRODUCTION (1000 tons)",
         "rawType": "float64",
         "type": "float"
        },
        {
         "name": "CASTOR YIELD (Kg per ha)",
         "rawType": "float64",
         "type": "float"
        },
        {
         "name": "LINSEED AREA (1000 ha)",
         "rawType": "float64",
         "type": "float"
        },
        {
         "name": "LINSEED PRODUCTION (1000 tons)",
         "rawType": "float64",
         "type": "float"
        },
        {
         "name": "LINSEED YIELD (Kg per ha)",
         "rawType": "float64",
         "type": "float"
        },
        {
         "name": "SUNFLOWER AREA (1000 ha)",
         "rawType": "float64",
         "type": "float"
        },
        {
         "name": "SUNFLOWER PRODUCTION (1000 tons)",
         "rawType": "float64",
         "type": "float"
        },
        {
         "name": "SUNFLOWER YIELD (Kg per ha)",
         "rawType": "float64",
         "type": "float"
        },
        {
         "name": "SOYABEAN AREA (1000 ha)",
         "rawType": "float64",
         "type": "float"
        },
        {
         "name": "SOYABEAN PRODUCTION (1000 tons)",
         "rawType": "float64",
         "type": "float"
        },
        {
         "name": "SOYABEAN YIELD (Kg per ha)",
         "rawType": "float64",
         "type": "float"
        },
        {
         "name": "OILSEEDS AREA (1000 ha)",
         "rawType": "float64",
         "type": "float"
        },
        {
         "name": "OILSEEDS PRODUCTION (1000 tons)",
         "rawType": "float64",
         "type": "float"
        },
        {
         "name": "OILSEEDS YIELD (Kg per ha)",
         "rawType": "float64",
         "type": "float"
        },
        {
         "name": "SUGARCANE AREA (1000 ha)",
         "rawType": "float64",
         "type": "float"
        },
        {
         "name": "SUGARCANE PRODUCTION (1000 tons)",
         "rawType": "float64",
         "type": "float"
        },
        {
         "name": "SUGARCANE YIELD (Kg per ha)",
         "rawType": "float64",
         "type": "float"
        },
        {
         "name": "COTTON AREA (1000 ha)",
         "rawType": "float64",
         "type": "float"
        },
        {
         "name": "COTTON PRODUCTION (1000 tons)",
         "rawType": "float64",
         "type": "float"
        },
        {
         "name": "COTTON YIELD (Kg per ha)",
         "rawType": "float64",
         "type": "float"
        },
        {
         "name": "FRUITS AREA (1000 ha)",
         "rawType": "float64",
         "type": "float"
        },
        {
         "name": "VEGETABLES AREA (1000 ha)",
         "rawType": "float64",
         "type": "float"
        },
        {
         "name": "FRUITS AND VEGETABLES AREA (1000 ha)",
         "rawType": "float64",
         "type": "float"
        },
        {
         "name": "POTATOES AREA (1000 ha)",
         "rawType": "float64",
         "type": "float"
        },
        {
         "name": "ONION AREA (1000 ha)",
         "rawType": "float64",
         "type": "float"
        },
        {
         "name": "FODDER AREA (1000 ha)",
         "rawType": "float64",
         "type": "float"
        }
       ],
       "ref": "d81570b2-e0f9-420b-a96a-2cf4159ff5e5",
       "rows": [
        [
         "0",
         "1",
         "1966",
         "14",
         "Chhattisgarh",
         "Durg",
         "548.0",
         "185.0",
         "337.59",
         "44.0",
         "20.0",
         "454.55",
         "0.6",
         "0.4",
         "666.67",
         "0.0",
         "0.0",
         "0.0",
         "0.6",
         "0.4",
         "666.67",
         "0.0",
         "0.0",
         "0.0",
         "3.0",
         "2.0",
         "666.67",
         "0.8",
         "0.2",
         "250.0",
         "0.1",
         "0.0",
         "0.0",
         "54.0",
         "27.0",
         "500.0",
         "37.0",
         "15.0",
         "405.41",
         "114.96",
         "-1.0",
         "-1.0",
         "0.2",
         "0.1",
         "500.0",
         "3.0",
         "0.3",
         "100.0",
         "1.0",
         "0.2",
         "200.0",
         "0.07",
         "0.0",
         "0.0",
         "0.7",
         "0.2",
         "285.71",
         "45.7",
         "6.8",
         "148.8",
         "0.0",
         "0.0",
         "0.0",
         "0.0",
         "0.0",
         "0.0",
         "50.7",
         "-1.0",
         "-1.0",
         "0.9",
         "1.6",
         "1777.78",
         "0.0",
         "0.0",
         "0.0",
         "5.95",
         "6.64",
         "12.59",
         "0.01",
         "0.6",
         "0.47"
        ],
        [
         "1",
         "1",
         "1967",
         "14",
         "Chhattisgarh",
         "Durg",
         "547.0",
         "409.0",
         "747.71",
         "50.0",
         "26.0",
         "520.0",
         "1.1",
         "0.9",
         "818.18",
         "0.0",
         "0.0",
         "0.0",
         "1.1",
         "0.9",
         "818.18",
         "0.0",
         "0.0",
         "0.0",
         "3.0",
         "3.0",
         "1000.0",
         "0.9",
         "0.2",
         "222.22",
         "0.2",
         "0.1",
         "500.0",
         "52.0",
         "15.0",
         "288.46",
         "36.0",
         "26.0",
         "722.22",
         "269.54",
         "-1.0",
         "-1.0",
         "0.1",
         "0.1",
         "1000.0",
         "11.6",
         "0.9",
         "77.59",
         "1.1",
         "0.3",
         "272.73",
         "0.01",
         "0.0",
         "0.0",
         "0.5",
         "0.1",
         "200.0",
         "100.1",
         "25.8",
         "257.74",
         "0.0",
         "0.0",
         "0.0",
         "0.0",
         "0.0",
         "0.0",
         "113.55",
         "-1.0",
         "-1.0",
         "0.8",
         "1.2",
         "1500.0",
         "0.0",
         "0.0",
         "0.0",
         "5.77",
         "7.24",
         "13.02",
         "0.01",
         "0.56",
         "1.23"
        ],
        [
         "2",
         "1",
         "1968",
         "14",
         "Chhattisgarh",
         "Durg",
         "556.3",
         "468.0",
         "841.27",
         "53.7",
         "30.0",
         "558.66",
         "0.5",
         "0.4",
         "800.0",
         "0.0",
         "0.0",
         "0.0",
         "0.5",
         "0.4",
         "800.0",
         "0.0",
         "0.0",
         "0.0",
         "2.8",
         "2.0",
         "714.29",
         "0.8",
         "0.2",
         "250.0",
         "0.2",
         "0.1",
         "500.0",
         "51.3",
         "23.0",
         "448.34",
         "35.7",
         "28.0",
         "784.31",
         "289.46",
         "-1.0",
         "-1.0",
         "0.1",
         "0.1",
         "1000.0",
         "11.3",
         "1.6",
         "141.59",
         "1.2",
         "0.5",
         "416.67",
         "0.02",
         "0.0",
         "0.0",
         "0.6",
         "0.3",
         "500.0",
         "113.3",
         "23.8",
         "210.06",
         "0.0",
         "0.0",
         "0.0",
         "0.0",
         "0.0",
         "0.0",
         "126.62",
         "-1.0",
         "-1.0",
         "1.0",
         "1.0",
         "1000.0",
         "0.0",
         "0.0",
         "0.0",
         "5.41",
         "7.4",
         "12.81",
         "0.1",
         "0.58",
         "1.02"
        ],
        [
         "3",
         "1",
         "1969",
         "14",
         "Chhattisgarh",
         "Durg",
         "563.4",
         "400.8",
         "711.4",
         "49.4",
         "26.5",
         "536.44",
         "0.8",
         "0.6",
         "750.0",
         "0.0",
         "0.0",
         "0.0",
         "0.8",
         "0.6",
         "750.0",
         "0.0",
         "0.0",
         "0.0",
         "2.7",
         "2.3",
         "851.85",
         "0.8",
         "0.2",
         "250.0",
         "0.2",
         "0.1",
         "500.0",
         "52.6",
         "23.1",
         "439.16",
         "35.7",
         "27.3",
         "764.71",
         "298.18",
         "98.3",
         "329.67",
         "0.1",
         "0.1",
         "1000.0",
         "11.4",
         "1.4",
         "122.81",
         "1.2",
         "0.4",
         "333.33",
         "0.02",
         "0.0",
         "0.0",
         "0.5",
         "0.1",
         "200.0",
         "101.1",
         "13.0",
         "128.59",
         "0.0",
         "0.0",
         "0.0",
         "0.0",
         "0.0",
         "0.0",
         "114.14",
         "14.9",
         "130.54",
         "1.0",
         "1.9",
         "1900.0",
         "0.0",
         "0.0",
         "0.0",
         "5.52",
         "7.16",
         "12.69",
         "0.01",
         "0.56",
         "0.84"
        ],
        [
         "4",
         "1",
         "1970",
         "14",
         "Chhattisgarh",
         "Durg",
         "571.6",
         "473.6",
         "828.55",
         "44.2",
         "29.0",
         "656.11",
         "0.9",
         "0.6",
         "666.67",
         "0.0",
         "0.0",
         "0.0",
         "0.9",
         "0.6",
         "666.67",
         "0.0",
         "0.0",
         "0.0",
         "2.5",
         "3.3",
         "1320.0",
         "0.8",
         "0.2",
         "250.0",
         "0.1",
         "0.1",
         "1000.0",
         "53.3",
         "32.6",
         "611.63",
         "33.3",
         "35.2",
         "1057.06",
         "342.8",
         "142.9",
         "416.86",
         "0.1",
         "0.1",
         "1000.0",
         "10.8",
         "1.1",
         "101.85",
         "1.1",
         "0.4",
         "363.64",
         "0.02",
         "0.0",
         "0.0",
         "0.4",
         "0.1",
         "250.0",
         "114.1",
         "22.7",
         "198.95",
         "0.0",
         "0.0",
         "0.0",
         "0.0",
         "0.0",
         "0.0",
         "126.4",
         "24.3",
         "192.25",
         "0.7",
         "1.4",
         "2000.0",
         "0.0",
         "0.0",
         "0.0",
         "5.45",
         "7.19",
         "12.64",
         "0.02",
         "0.52",
         "0.42"
        ]
       ],
       "shape": {
        "columns": 80,
        "rows": 5
       }
      },
      "text/html": [
       "<div>\n",
       "<style scoped>\n",
       "    .dataframe tbody tr th:only-of-type {\n",
       "        vertical-align: middle;\n",
       "    }\n",
       "\n",
       "    .dataframe tbody tr th {\n",
       "        vertical-align: top;\n",
       "    }\n",
       "\n",
       "    .dataframe thead th {\n",
       "        text-align: right;\n",
       "    }\n",
       "</style>\n",
       "<table border=\"1\" class=\"dataframe\">\n",
       "  <thead>\n",
       "    <tr style=\"text-align: right;\">\n",
       "      <th></th>\n",
       "      <th>Dist Code</th>\n",
       "      <th>Year</th>\n",
       "      <th>State Code</th>\n",
       "      <th>State Name</th>\n",
       "      <th>Dist Name</th>\n",
       "      <th>RICE AREA (1000 ha)</th>\n",
       "      <th>RICE PRODUCTION (1000 tons)</th>\n",
       "      <th>RICE YIELD (Kg per ha)</th>\n",
       "      <th>WHEAT AREA (1000 ha)</th>\n",
       "      <th>WHEAT PRODUCTION (1000 tons)</th>\n",
       "      <th>...</th>\n",
       "      <th>SUGARCANE YIELD (Kg per ha)</th>\n",
       "      <th>COTTON AREA (1000 ha)</th>\n",
       "      <th>COTTON PRODUCTION (1000 tons)</th>\n",
       "      <th>COTTON YIELD (Kg per ha)</th>\n",
       "      <th>FRUITS AREA (1000 ha)</th>\n",
       "      <th>VEGETABLES AREA (1000 ha)</th>\n",
       "      <th>FRUITS AND VEGETABLES AREA (1000 ha)</th>\n",
       "      <th>POTATOES AREA (1000 ha)</th>\n",
       "      <th>ONION AREA (1000 ha)</th>\n",
       "      <th>FODDER AREA (1000 ha)</th>\n",
       "    </tr>\n",
       "  </thead>\n",
       "  <tbody>\n",
       "    <tr>\n",
       "      <th>0</th>\n",
       "      <td>1</td>\n",
       "      <td>1966</td>\n",
       "      <td>14</td>\n",
       "      <td>Chhattisgarh</td>\n",
       "      <td>Durg</td>\n",
       "      <td>548.0</td>\n",
       "      <td>185.0</td>\n",
       "      <td>337.59</td>\n",
       "      <td>44.0</td>\n",
       "      <td>20.0</td>\n",
       "      <td>...</td>\n",
       "      <td>1777.78</td>\n",
       "      <td>0.0</td>\n",
       "      <td>0.0</td>\n",
       "      <td>0.0</td>\n",
       "      <td>5.95</td>\n",
       "      <td>6.64</td>\n",
       "      <td>12.59</td>\n",
       "      <td>0.01</td>\n",
       "      <td>0.60</td>\n",
       "      <td>0.47</td>\n",
       "    </tr>\n",
       "    <tr>\n",
       "      <th>1</th>\n",
       "      <td>1</td>\n",
       "      <td>1967</td>\n",
       "      <td>14</td>\n",
       "      <td>Chhattisgarh</td>\n",
       "      <td>Durg</td>\n",
       "      <td>547.0</td>\n",
       "      <td>409.0</td>\n",
       "      <td>747.71</td>\n",
       "      <td>50.0</td>\n",
       "      <td>26.0</td>\n",
       "      <td>...</td>\n",
       "      <td>1500.00</td>\n",
       "      <td>0.0</td>\n",
       "      <td>0.0</td>\n",
       "      <td>0.0</td>\n",
       "      <td>5.77</td>\n",
       "      <td>7.24</td>\n",
       "      <td>13.02</td>\n",
       "      <td>0.01</td>\n",
       "      <td>0.56</td>\n",
       "      <td>1.23</td>\n",
       "    </tr>\n",
       "    <tr>\n",
       "      <th>2</th>\n",
       "      <td>1</td>\n",
       "      <td>1968</td>\n",
       "      <td>14</td>\n",
       "      <td>Chhattisgarh</td>\n",
       "      <td>Durg</td>\n",
       "      <td>556.3</td>\n",
       "      <td>468.0</td>\n",
       "      <td>841.27</td>\n",
       "      <td>53.7</td>\n",
       "      <td>30.0</td>\n",
       "      <td>...</td>\n",
       "      <td>1000.00</td>\n",
       "      <td>0.0</td>\n",
       "      <td>0.0</td>\n",
       "      <td>0.0</td>\n",
       "      <td>5.41</td>\n",
       "      <td>7.40</td>\n",
       "      <td>12.81</td>\n",
       "      <td>0.10</td>\n",
       "      <td>0.58</td>\n",
       "      <td>1.02</td>\n",
       "    </tr>\n",
       "    <tr>\n",
       "      <th>3</th>\n",
       "      <td>1</td>\n",
       "      <td>1969</td>\n",
       "      <td>14</td>\n",
       "      <td>Chhattisgarh</td>\n",
       "      <td>Durg</td>\n",
       "      <td>563.4</td>\n",
       "      <td>400.8</td>\n",
       "      <td>711.40</td>\n",
       "      <td>49.4</td>\n",
       "      <td>26.5</td>\n",
       "      <td>...</td>\n",
       "      <td>1900.00</td>\n",
       "      <td>0.0</td>\n",
       "      <td>0.0</td>\n",
       "      <td>0.0</td>\n",
       "      <td>5.52</td>\n",
       "      <td>7.16</td>\n",
       "      <td>12.69</td>\n",
       "      <td>0.01</td>\n",
       "      <td>0.56</td>\n",
       "      <td>0.84</td>\n",
       "    </tr>\n",
       "    <tr>\n",
       "      <th>4</th>\n",
       "      <td>1</td>\n",
       "      <td>1970</td>\n",
       "      <td>14</td>\n",
       "      <td>Chhattisgarh</td>\n",
       "      <td>Durg</td>\n",
       "      <td>571.6</td>\n",
       "      <td>473.6</td>\n",
       "      <td>828.55</td>\n",
       "      <td>44.2</td>\n",
       "      <td>29.0</td>\n",
       "      <td>...</td>\n",
       "      <td>2000.00</td>\n",
       "      <td>0.0</td>\n",
       "      <td>0.0</td>\n",
       "      <td>0.0</td>\n",
       "      <td>5.45</td>\n",
       "      <td>7.19</td>\n",
       "      <td>12.64</td>\n",
       "      <td>0.02</td>\n",
       "      <td>0.52</td>\n",
       "      <td>0.42</td>\n",
       "    </tr>\n",
       "  </tbody>\n",
       "</table>\n",
       "<p>5 rows × 80 columns</p>\n",
       "</div>"
      ],
      "text/plain": [
       "   Dist Code  Year  State Code    State Name Dist Name  RICE AREA (1000 ha)  \\\n",
       "0          1  1966          14  Chhattisgarh      Durg                548.0   \n",
       "1          1  1967          14  Chhattisgarh      Durg                547.0   \n",
       "2          1  1968          14  Chhattisgarh      Durg                556.3   \n",
       "3          1  1969          14  Chhattisgarh      Durg                563.4   \n",
       "4          1  1970          14  Chhattisgarh      Durg                571.6   \n",
       "\n",
       "   RICE PRODUCTION (1000 tons)  RICE YIELD (Kg per ha)  WHEAT AREA (1000 ha)  \\\n",
       "0                        185.0                  337.59                  44.0   \n",
       "1                        409.0                  747.71                  50.0   \n",
       "2                        468.0                  841.27                  53.7   \n",
       "3                        400.8                  711.40                  49.4   \n",
       "4                        473.6                  828.55                  44.2   \n",
       "\n",
       "   WHEAT PRODUCTION (1000 tons)  ...  SUGARCANE YIELD (Kg per ha)  \\\n",
       "0                          20.0  ...                      1777.78   \n",
       "1                          26.0  ...                      1500.00   \n",
       "2                          30.0  ...                      1000.00   \n",
       "3                          26.5  ...                      1900.00   \n",
       "4                          29.0  ...                      2000.00   \n",
       "\n",
       "   COTTON AREA (1000 ha)  COTTON PRODUCTION (1000 tons)  \\\n",
       "0                    0.0                            0.0   \n",
       "1                    0.0                            0.0   \n",
       "2                    0.0                            0.0   \n",
       "3                    0.0                            0.0   \n",
       "4                    0.0                            0.0   \n",
       "\n",
       "   COTTON YIELD (Kg per ha)  FRUITS AREA (1000 ha)  VEGETABLES AREA (1000 ha)  \\\n",
       "0                       0.0                   5.95                       6.64   \n",
       "1                       0.0                   5.77                       7.24   \n",
       "2                       0.0                   5.41                       7.40   \n",
       "3                       0.0                   5.52                       7.16   \n",
       "4                       0.0                   5.45                       7.19   \n",
       "\n",
       "   FRUITS AND VEGETABLES AREA (1000 ha)  POTATOES AREA (1000 ha)  \\\n",
       "0                                 12.59                     0.01   \n",
       "1                                 13.02                     0.01   \n",
       "2                                 12.81                     0.10   \n",
       "3                                 12.69                     0.01   \n",
       "4                                 12.64                     0.02   \n",
       "\n",
       "   ONION AREA (1000 ha)  FODDER AREA (1000 ha)  \n",
       "0                  0.60                   0.47  \n",
       "1                  0.56                   1.23  \n",
       "2                  0.58                   1.02  \n",
       "3                  0.56                   0.84  \n",
       "4                  0.52                   0.42  \n",
       "\n",
       "[5 rows x 80 columns]"
      ]
     },
     "execution_count": 3,
     "metadata": {},
     "output_type": "execute_result"
    }
   ],
   "source": [
    "# Top 5 data\n",
    "df.head()"
   ]
  },
  {
   "cell_type": "code",
   "execution_count": 4,
   "id": "5972a2a6",
   "metadata": {},
   "outputs": [
    {
     "data": {
      "text/plain": [
       "(16146, 80)"
      ]
     },
     "execution_count": 4,
     "metadata": {},
     "output_type": "execute_result"
    }
   ],
   "source": [
    "# Row and column of the dataset\n",
    "df.shape"
   ]
  },
  {
   "cell_type": "code",
   "execution_count": 5,
   "id": "6db688e7",
   "metadata": {},
   "outputs": [
    {
     "name": "stdout",
     "output_type": "stream",
     "text": [
      "<class 'pandas.core.frame.DataFrame'>\n",
      "RangeIndex: 16146 entries, 0 to 16145\n",
      "Data columns (total 80 columns):\n",
      " #   Column                                       Non-Null Count  Dtype  \n",
      "---  ------                                       --------------  -----  \n",
      " 0   Dist Code                                    16146 non-null  int64  \n",
      " 1   Year                                         16146 non-null  int64  \n",
      " 2   State Code                                   16146 non-null  int64  \n",
      " 3   State Name                                   16146 non-null  object \n",
      " 4   Dist Name                                    16146 non-null  object \n",
      " 5   RICE AREA (1000 ha)                          16146 non-null  float64\n",
      " 6   RICE PRODUCTION (1000 tons)                  16146 non-null  float64\n",
      " 7   RICE YIELD (Kg per ha)                       16146 non-null  float64\n",
      " 8   WHEAT AREA (1000 ha)                         16146 non-null  float64\n",
      " 9   WHEAT PRODUCTION (1000 tons)                 16146 non-null  float64\n",
      " 10  WHEAT YIELD (Kg per ha)                      16146 non-null  float64\n",
      " 11  KHARIF SORGHUM AREA (1000 ha)                16146 non-null  float64\n",
      " 12  KHARIF SORGHUM PRODUCTION (1000 tons)        16146 non-null  float64\n",
      " 13  KHARIF SORGHUM YIELD (Kg per ha)             16146 non-null  float64\n",
      " 14  RABI SORGHUM AREA (1000 ha)                  16146 non-null  float64\n",
      " 15  RABI SORGHUM PRODUCTION (1000 tons)          16146 non-null  float64\n",
      " 16  RABI SORGHUM YIELD (Kg per ha)               16146 non-null  float64\n",
      " 17  SORGHUM AREA (1000 ha)                       16146 non-null  float64\n",
      " 18  SORGHUM PRODUCTION (1000 tons)               16146 non-null  float64\n",
      " 19  SORGHUM YIELD (Kg per ha)                    16146 non-null  float64\n",
      " 20  PEARL MILLET AREA (1000 ha)                  16146 non-null  float64\n",
      " 21  PEARL MILLET PRODUCTION (1000 tons)          16146 non-null  float64\n",
      " 22  PEARL MILLET YIELD (Kg per ha)               16146 non-null  float64\n",
      " 23  MAIZE AREA (1000 ha)                         16146 non-null  float64\n",
      " 24  MAIZE PRODUCTION (1000 tons)                 16146 non-null  float64\n",
      " 25  MAIZE YIELD (Kg per ha)                      16146 non-null  float64\n",
      " 26  FINGER MILLET AREA (1000 ha)                 16146 non-null  float64\n",
      " 27  FINGER MILLET PRODUCTION (1000 tons)         16146 non-null  float64\n",
      " 28  FINGER MILLET YIELD (Kg per ha)              16146 non-null  float64\n",
      " 29  BARLEY AREA (1000 ha)                        16146 non-null  float64\n",
      " 30  BARLEY PRODUCTION (1000 tons)                16146 non-null  float64\n",
      " 31  BARLEY YIELD (Kg per ha)                     16146 non-null  float64\n",
      " 32  CHICKPEA AREA (1000 ha)                      16146 non-null  float64\n",
      " 33  CHICKPEA PRODUCTION (1000 tons)              16146 non-null  float64\n",
      " 34  CHICKPEA YIELD (Kg per ha)                   16146 non-null  float64\n",
      " 35  PIGEONPEA AREA (1000 ha)                     16146 non-null  float64\n",
      " 36  PIGEONPEA PRODUCTION (1000 tons)             16146 non-null  float64\n",
      " 37  PIGEONPEA YIELD (Kg per ha)                  16146 non-null  float64\n",
      " 38  MINOR PULSES AREA (1000 ha)                  16146 non-null  float64\n",
      " 39  MINOR PULSES PRODUCTION (1000 tons)          16146 non-null  float64\n",
      " 40  MINOR PULSES YIELD (Kg per ha)               16146 non-null  float64\n",
      " 41  GROUNDNUT AREA (1000 ha)                     16146 non-null  float64\n",
      " 42  GROUNDNUT PRODUCTION (1000 tons)             16146 non-null  float64\n",
      " 43  GROUNDNUT YIELD (Kg per ha)                  16146 non-null  float64\n",
      " 44  SESAMUM AREA (1000 ha)                       16146 non-null  float64\n",
      " 45  SESAMUM PRODUCTION (1000 tons)               16146 non-null  float64\n",
      " 46  SESAMUM YIELD (Kg per ha)                    16146 non-null  float64\n",
      " 47  RAPESEED AND MUSTARD AREA (1000 ha)          16146 non-null  float64\n",
      " 48  RAPESEED AND MUSTARD PRODUCTION (1000 tons)  16146 non-null  float64\n",
      " 49  RAPESEED AND MUSTARD YIELD (Kg per ha)       16146 non-null  float64\n",
      " 50  SAFFLOWER AREA (1000 ha)                     16146 non-null  float64\n",
      " 51  SAFFLOWER PRODUCTION (1000 tons)             16146 non-null  float64\n",
      " 52  SAFFLOWER YIELD (Kg per ha)                  16146 non-null  float64\n",
      " 53  CASTOR AREA (1000 ha)                        16146 non-null  float64\n",
      " 54  CASTOR PRODUCTION (1000 tons)                16146 non-null  float64\n",
      " 55  CASTOR YIELD (Kg per ha)                     16146 non-null  float64\n",
      " 56  LINSEED AREA (1000 ha)                       16146 non-null  float64\n",
      " 57  LINSEED PRODUCTION (1000 tons)               16146 non-null  float64\n",
      " 58  LINSEED YIELD (Kg per ha)                    16146 non-null  float64\n",
      " 59  SUNFLOWER AREA (1000 ha)                     16146 non-null  float64\n",
      " 60  SUNFLOWER PRODUCTION (1000 tons)             16146 non-null  float64\n",
      " 61  SUNFLOWER YIELD (Kg per ha)                  16146 non-null  float64\n",
      " 62  SOYABEAN AREA (1000 ha)                      16146 non-null  float64\n",
      " 63  SOYABEAN PRODUCTION (1000 tons)              16146 non-null  float64\n",
      " 64  SOYABEAN YIELD (Kg per ha)                   16146 non-null  float64\n",
      " 65  OILSEEDS AREA (1000 ha)                      16146 non-null  float64\n",
      " 66  OILSEEDS PRODUCTION (1000 tons)              16146 non-null  float64\n",
      " 67  OILSEEDS YIELD (Kg per ha)                   16146 non-null  float64\n",
      " 68  SUGARCANE AREA (1000 ha)                     16146 non-null  float64\n",
      " 69  SUGARCANE PRODUCTION (1000 tons)             16146 non-null  float64\n",
      " 70  SUGARCANE YIELD (Kg per ha)                  16146 non-null  float64\n",
      " 71  COTTON AREA (1000 ha)                        16146 non-null  float64\n",
      " 72  COTTON PRODUCTION (1000 tons)                16146 non-null  float64\n",
      " 73  COTTON YIELD (Kg per ha)                     16146 non-null  float64\n",
      " 74  FRUITS AREA (1000 ha)                        16146 non-null  float64\n",
      " 75  VEGETABLES AREA (1000 ha)                    16146 non-null  float64\n",
      " 76  FRUITS AND VEGETABLES AREA (1000 ha)         16146 non-null  float64\n",
      " 77  POTATOES AREA (1000 ha)                      16146 non-null  float64\n",
      " 78  ONION AREA (1000 ha)                         16146 non-null  float64\n",
      " 79  FODDER AREA (1000 ha)                        16146 non-null  float64\n",
      "dtypes: float64(75), int64(3), object(2)\n",
      "memory usage: 9.9+ MB\n"
     ]
    }
   ],
   "source": [
    "# Total information of the dataset\n",
    "df.info()"
   ]
  },
  {
   "cell_type": "code",
   "execution_count": 6,
   "id": "3f9834ca",
   "metadata": {},
   "outputs": [
    {
     "data": {
      "application/vnd.microsoft.datawrangler.viewer.v0+json": {
       "columns": [
        {
         "name": "index",
         "rawType": "object",
         "type": "string"
        },
        {
         "name": "0",
         "rawType": "int64",
         "type": "integer"
        }
       ],
       "ref": "d20bb0da-720c-43fc-88f5-6be0d64b985e",
       "rows": [
        [
         "Dist Code",
         "0"
        ],
        [
         "Year",
         "0"
        ],
        [
         "State Code",
         "0"
        ],
        [
         "State Name",
         "0"
        ],
        [
         "Dist Name",
         "0"
        ],
        [
         "RICE AREA (1000 ha)",
         "0"
        ],
        [
         "RICE PRODUCTION (1000 tons)",
         "0"
        ],
        [
         "RICE YIELD (Kg per ha)",
         "0"
        ],
        [
         "WHEAT AREA (1000 ha)",
         "0"
        ],
        [
         "WHEAT PRODUCTION (1000 tons)",
         "0"
        ],
        [
         "WHEAT YIELD (Kg per ha)",
         "0"
        ],
        [
         "KHARIF SORGHUM AREA (1000 ha)",
         "0"
        ],
        [
         "KHARIF SORGHUM PRODUCTION (1000 tons)",
         "0"
        ],
        [
         "KHARIF SORGHUM YIELD (Kg per ha)",
         "0"
        ],
        [
         "RABI SORGHUM AREA (1000 ha)",
         "0"
        ],
        [
         "RABI SORGHUM PRODUCTION (1000 tons)",
         "0"
        ],
        [
         "RABI SORGHUM YIELD (Kg per ha)",
         "0"
        ],
        [
         "SORGHUM AREA (1000 ha)",
         "0"
        ],
        [
         "SORGHUM PRODUCTION (1000 tons)",
         "0"
        ],
        [
         "SORGHUM YIELD (Kg per ha)",
         "0"
        ],
        [
         "PEARL MILLET AREA (1000 ha)",
         "0"
        ],
        [
         "PEARL MILLET PRODUCTION (1000 tons)",
         "0"
        ],
        [
         "PEARL MILLET YIELD (Kg per ha)",
         "0"
        ],
        [
         "MAIZE AREA (1000 ha)",
         "0"
        ],
        [
         "MAIZE PRODUCTION (1000 tons)",
         "0"
        ],
        [
         "MAIZE YIELD (Kg per ha)",
         "0"
        ],
        [
         "FINGER MILLET AREA (1000 ha)",
         "0"
        ],
        [
         "FINGER MILLET PRODUCTION (1000 tons)",
         "0"
        ],
        [
         "FINGER MILLET YIELD (Kg per ha)",
         "0"
        ],
        [
         "BARLEY AREA (1000 ha)",
         "0"
        ],
        [
         "BARLEY PRODUCTION (1000 tons)",
         "0"
        ],
        [
         "BARLEY YIELD (Kg per ha)",
         "0"
        ],
        [
         "CHICKPEA AREA (1000 ha)",
         "0"
        ],
        [
         "CHICKPEA PRODUCTION (1000 tons)",
         "0"
        ],
        [
         "CHICKPEA YIELD (Kg per ha)",
         "0"
        ],
        [
         "PIGEONPEA AREA (1000 ha)",
         "0"
        ],
        [
         "PIGEONPEA PRODUCTION (1000 tons)",
         "0"
        ],
        [
         "PIGEONPEA YIELD (Kg per ha)",
         "0"
        ],
        [
         "MINOR PULSES AREA (1000 ha)",
         "0"
        ],
        [
         "MINOR PULSES PRODUCTION (1000 tons)",
         "0"
        ],
        [
         "MINOR PULSES YIELD (Kg per ha)",
         "0"
        ],
        [
         "GROUNDNUT AREA (1000 ha)",
         "0"
        ],
        [
         "GROUNDNUT PRODUCTION (1000 tons)",
         "0"
        ],
        [
         "GROUNDNUT YIELD (Kg per ha)",
         "0"
        ],
        [
         "SESAMUM AREA (1000 ha)",
         "0"
        ],
        [
         "SESAMUM PRODUCTION (1000 tons)",
         "0"
        ],
        [
         "SESAMUM YIELD (Kg per ha)",
         "0"
        ],
        [
         "RAPESEED AND MUSTARD AREA (1000 ha)",
         "0"
        ],
        [
         "RAPESEED AND MUSTARD PRODUCTION (1000 tons)",
         "0"
        ],
        [
         "RAPESEED AND MUSTARD YIELD (Kg per ha)",
         "0"
        ]
       ],
       "shape": {
        "columns": 1,
        "rows": 80
       }
      },
      "text/plain": [
       "Dist Code                               0\n",
       "Year                                    0\n",
       "State Code                              0\n",
       "State Name                              0\n",
       "Dist Name                               0\n",
       "                                       ..\n",
       "VEGETABLES AREA (1000 ha)               0\n",
       "FRUITS AND VEGETABLES AREA (1000 ha)    0\n",
       "POTATOES AREA (1000 ha)                 0\n",
       "ONION AREA (1000 ha)                    0\n",
       "FODDER AREA (1000 ha)                   0\n",
       "Length: 80, dtype: int64"
      ]
     },
     "execution_count": 6,
     "metadata": {},
     "output_type": "execute_result"
    }
   ],
   "source": [
    "# Checking the null values in dataset\n",
    "df.isnull().sum()"
   ]
  },
  {
   "cell_type": "code",
   "execution_count": 7,
   "id": "2400b82d",
   "metadata": {},
   "outputs": [
    {
     "data": {
      "text/plain": [
       "0"
      ]
     },
     "execution_count": 7,
     "metadata": {},
     "output_type": "execute_result"
    }
   ],
   "source": [
    "# Duplicate data in dataset\n",
    "df.duplicated().sum()"
   ]
  },
  {
   "cell_type": "code",
   "execution_count": 8,
   "id": "59ce2870",
   "metadata": {},
   "outputs": [
    {
     "data": {
      "application/vnd.microsoft.datawrangler.viewer.v0+json": {
       "columns": [
        {
         "name": "index",
         "rawType": "object",
         "type": "string"
        },
        {
         "name": "Dist Code",
         "rawType": "float64",
         "type": "float"
        },
        {
         "name": "Year",
         "rawType": "float64",
         "type": "float"
        },
        {
         "name": "State Code",
         "rawType": "float64",
         "type": "float"
        },
        {
         "name": "RICE AREA (1000 ha)",
         "rawType": "float64",
         "type": "float"
        },
        {
         "name": "RICE PRODUCTION (1000 tons)",
         "rawType": "float64",
         "type": "float"
        },
        {
         "name": "RICE YIELD (Kg per ha)",
         "rawType": "float64",
         "type": "float"
        },
        {
         "name": "WHEAT AREA (1000 ha)",
         "rawType": "float64",
         "type": "float"
        },
        {
         "name": "WHEAT PRODUCTION (1000 tons)",
         "rawType": "float64",
         "type": "float"
        },
        {
         "name": "WHEAT YIELD (Kg per ha)",
         "rawType": "float64",
         "type": "float"
        },
        {
         "name": "KHARIF SORGHUM AREA (1000 ha)",
         "rawType": "float64",
         "type": "float"
        },
        {
         "name": "KHARIF SORGHUM PRODUCTION (1000 tons)",
         "rawType": "float64",
         "type": "float"
        },
        {
         "name": "KHARIF SORGHUM YIELD (Kg per ha)",
         "rawType": "float64",
         "type": "float"
        },
        {
         "name": "RABI SORGHUM AREA (1000 ha)",
         "rawType": "float64",
         "type": "float"
        },
        {
         "name": "RABI SORGHUM PRODUCTION (1000 tons)",
         "rawType": "float64",
         "type": "float"
        },
        {
         "name": "RABI SORGHUM YIELD (Kg per ha)",
         "rawType": "float64",
         "type": "float"
        },
        {
         "name": "SORGHUM AREA (1000 ha)",
         "rawType": "float64",
         "type": "float"
        },
        {
         "name": "SORGHUM PRODUCTION (1000 tons)",
         "rawType": "float64",
         "type": "float"
        },
        {
         "name": "SORGHUM YIELD (Kg per ha)",
         "rawType": "float64",
         "type": "float"
        },
        {
         "name": "PEARL MILLET AREA (1000 ha)",
         "rawType": "float64",
         "type": "float"
        },
        {
         "name": "PEARL MILLET PRODUCTION (1000 tons)",
         "rawType": "float64",
         "type": "float"
        },
        {
         "name": "PEARL MILLET YIELD (Kg per ha)",
         "rawType": "float64",
         "type": "float"
        },
        {
         "name": "MAIZE AREA (1000 ha)",
         "rawType": "float64",
         "type": "float"
        },
        {
         "name": "MAIZE PRODUCTION (1000 tons)",
         "rawType": "float64",
         "type": "float"
        },
        {
         "name": "MAIZE YIELD (Kg per ha)",
         "rawType": "float64",
         "type": "float"
        },
        {
         "name": "FINGER MILLET AREA (1000 ha)",
         "rawType": "float64",
         "type": "float"
        },
        {
         "name": "FINGER MILLET PRODUCTION (1000 tons)",
         "rawType": "float64",
         "type": "float"
        },
        {
         "name": "FINGER MILLET YIELD (Kg per ha)",
         "rawType": "float64",
         "type": "float"
        },
        {
         "name": "BARLEY AREA (1000 ha)",
         "rawType": "float64",
         "type": "float"
        },
        {
         "name": "BARLEY PRODUCTION (1000 tons)",
         "rawType": "float64",
         "type": "float"
        },
        {
         "name": "BARLEY YIELD (Kg per ha)",
         "rawType": "float64",
         "type": "float"
        },
        {
         "name": "CHICKPEA AREA (1000 ha)",
         "rawType": "float64",
         "type": "float"
        },
        {
         "name": "CHICKPEA PRODUCTION (1000 tons)",
         "rawType": "float64",
         "type": "float"
        },
        {
         "name": "CHICKPEA YIELD (Kg per ha)",
         "rawType": "float64",
         "type": "float"
        },
        {
         "name": "PIGEONPEA AREA (1000 ha)",
         "rawType": "float64",
         "type": "float"
        },
        {
         "name": "PIGEONPEA PRODUCTION (1000 tons)",
         "rawType": "float64",
         "type": "float"
        },
        {
         "name": "PIGEONPEA YIELD (Kg per ha)",
         "rawType": "float64",
         "type": "float"
        },
        {
         "name": "MINOR PULSES AREA (1000 ha)",
         "rawType": "float64",
         "type": "float"
        },
        {
         "name": "MINOR PULSES PRODUCTION (1000 tons)",
         "rawType": "float64",
         "type": "float"
        },
        {
         "name": "MINOR PULSES YIELD (Kg per ha)",
         "rawType": "float64",
         "type": "float"
        },
        {
         "name": "GROUNDNUT AREA (1000 ha)",
         "rawType": "float64",
         "type": "float"
        },
        {
         "name": "GROUNDNUT PRODUCTION (1000 tons)",
         "rawType": "float64",
         "type": "float"
        },
        {
         "name": "GROUNDNUT YIELD (Kg per ha)",
         "rawType": "float64",
         "type": "float"
        },
        {
         "name": "SESAMUM AREA (1000 ha)",
         "rawType": "float64",
         "type": "float"
        },
        {
         "name": "SESAMUM PRODUCTION (1000 tons)",
         "rawType": "float64",
         "type": "float"
        },
        {
         "name": "SESAMUM YIELD (Kg per ha)",
         "rawType": "float64",
         "type": "float"
        },
        {
         "name": "RAPESEED AND MUSTARD AREA (1000 ha)",
         "rawType": "float64",
         "type": "float"
        },
        {
         "name": "RAPESEED AND MUSTARD PRODUCTION (1000 tons)",
         "rawType": "float64",
         "type": "float"
        },
        {
         "name": "RAPESEED AND MUSTARD YIELD (Kg per ha)",
         "rawType": "float64",
         "type": "float"
        },
        {
         "name": "SAFFLOWER AREA (1000 ha)",
         "rawType": "float64",
         "type": "float"
        },
        {
         "name": "SAFFLOWER PRODUCTION (1000 tons)",
         "rawType": "float64",
         "type": "float"
        },
        {
         "name": "SAFFLOWER YIELD (Kg per ha)",
         "rawType": "float64",
         "type": "float"
        },
        {
         "name": "CASTOR AREA (1000 ha)",
         "rawType": "float64",
         "type": "float"
        },
        {
         "name": "CASTOR PRODUCTION (1000 tons)",
         "rawType": "float64",
         "type": "float"
        },
        {
         "name": "CASTOR YIELD (Kg per ha)",
         "rawType": "float64",
         "type": "float"
        },
        {
         "name": "LINSEED AREA (1000 ha)",
         "rawType": "float64",
         "type": "float"
        },
        {
         "name": "LINSEED PRODUCTION (1000 tons)",
         "rawType": "float64",
         "type": "float"
        },
        {
         "name": "LINSEED YIELD (Kg per ha)",
         "rawType": "float64",
         "type": "float"
        },
        {
         "name": "SUNFLOWER AREA (1000 ha)",
         "rawType": "float64",
         "type": "float"
        },
        {
         "name": "SUNFLOWER PRODUCTION (1000 tons)",
         "rawType": "float64",
         "type": "float"
        },
        {
         "name": "SUNFLOWER YIELD (Kg per ha)",
         "rawType": "float64",
         "type": "float"
        },
        {
         "name": "SOYABEAN AREA (1000 ha)",
         "rawType": "float64",
         "type": "float"
        },
        {
         "name": "SOYABEAN PRODUCTION (1000 tons)",
         "rawType": "float64",
         "type": "float"
        },
        {
         "name": "SOYABEAN YIELD (Kg per ha)",
         "rawType": "float64",
         "type": "float"
        },
        {
         "name": "OILSEEDS AREA (1000 ha)",
         "rawType": "float64",
         "type": "float"
        },
        {
         "name": "OILSEEDS PRODUCTION (1000 tons)",
         "rawType": "float64",
         "type": "float"
        },
        {
         "name": "OILSEEDS YIELD (Kg per ha)",
         "rawType": "float64",
         "type": "float"
        },
        {
         "name": "SUGARCANE AREA (1000 ha)",
         "rawType": "float64",
         "type": "float"
        },
        {
         "name": "SUGARCANE PRODUCTION (1000 tons)",
         "rawType": "float64",
         "type": "float"
        },
        {
         "name": "SUGARCANE YIELD (Kg per ha)",
         "rawType": "float64",
         "type": "float"
        },
        {
         "name": "COTTON AREA (1000 ha)",
         "rawType": "float64",
         "type": "float"
        },
        {
         "name": "COTTON PRODUCTION (1000 tons)",
         "rawType": "float64",
         "type": "float"
        },
        {
         "name": "COTTON YIELD (Kg per ha)",
         "rawType": "float64",
         "type": "float"
        },
        {
         "name": "FRUITS AREA (1000 ha)",
         "rawType": "float64",
         "type": "float"
        },
        {
         "name": "VEGETABLES AREA (1000 ha)",
         "rawType": "float64",
         "type": "float"
        },
        {
         "name": "FRUITS AND VEGETABLES AREA (1000 ha)",
         "rawType": "float64",
         "type": "float"
        },
        {
         "name": "POTATOES AREA (1000 ha)",
         "rawType": "float64",
         "type": "float"
        },
        {
         "name": "ONION AREA (1000 ha)",
         "rawType": "float64",
         "type": "float"
        },
        {
         "name": "FODDER AREA (1000 ha)",
         "rawType": "float64",
         "type": "float"
        }
       ],
       "ref": "58546072-a0ee-4bc4-abee-ab9d176d61fb",
       "rows": [
        [
         "count",
         "16146.0",
         "16146.0",
         "16146.0",
         "16146.0",
         "16146.0",
         "16146.0",
         "16146.0",
         "16146.0",
         "16146.0",
         "16146.0",
         "16146.0",
         "16146.0",
         "16146.0",
         "16146.0",
         "16146.0",
         "16146.0",
         "16146.0",
         "16146.0",
         "16146.0",
         "16146.0",
         "16146.0",
         "16146.0",
         "16146.0",
         "16146.0",
         "16146.0",
         "16146.0",
         "16146.0",
         "16146.0",
         "16146.0",
         "16146.0",
         "16146.0",
         "16146.0",
         "16146.0",
         "16146.0",
         "16146.0",
         "16146.0",
         "16146.0",
         "16146.0",
         "16146.0",
         "16146.0",
         "16146.0",
         "16146.0",
         "16146.0",
         "16146.0",
         "16146.0",
         "16146.0",
         "16146.0",
         "16146.0",
         "16146.0",
         "16146.0",
         "16146.0",
         "16146.0",
         "16146.0",
         "16146.0",
         "16146.0",
         "16146.0",
         "16146.0",
         "16146.0",
         "16146.0",
         "16146.0",
         "16146.0",
         "16146.0",
         "16146.0",
         "16146.0",
         "16146.0",
         "16146.0",
         "16146.0",
         "16146.0",
         "16146.0",
         "16146.0",
         "16146.0",
         "16146.0",
         "16146.0",
         "16146.0",
         "16146.0",
         "16146.0",
         "16146.0",
         "16146.0"
        ],
        [
         "mean",
         "269.7692307692308",
         "1991.4968413229283",
         "9.568561872909699",
         "128.59319150253933",
         "224.88956459804288",
         "1486.9247838473925",
         "77.0579456212065",
         "182.01274557165863",
         "1492.4198587885544",
         "22.632268054007184",
         "18.358094264833394",
         "586.0310733308559",
         "17.386122259383125",
         "10.003390932738757",
         "225.63576303728476",
         "40.15010466988728",
         "28.461352657004827",
         "586.0935612535613",
         "33.19569367025889",
         "22.125087328130807",
         "517.9170933977456",
         "20.122120029728727",
         "36.053213179734925",
         "1408.7632181345225",
         "6.247759816672859",
         "7.11099715099715",
         "354.8491155704199",
         "4.171438746438747",
         "5.882635946983773",
         "734.2463650439738",
         "23.866339031339034",
         "18.04650501672241",
         "630.8181865477518",
         "10.480132540567324",
         "7.436632602502169",
         "618.0201690821256",
         "41.461085717824844",
         "16.665397002353526",
         "453.6326340889384",
         "22.439888517279822",
         "22.0306856187291",
         "765.9476520500433",
         "6.104558404558405",
         "1.8707809983896944",
         "264.7290096618358",
         "12.968988603988606",
         "12.400292332466245",
         "497.9536293818903",
         "1.7601331599157681",
         "0.6892394401090053",
         "73.04831846897063",
         "2.1886993682645857",
         "2.2095645980428587",
         "215.4057110120154",
         "2.4488195218630002",
         "0.6875665799578844",
         "175.54807072959247",
         "3.0089390561129687",
         "1.5915700483091786",
         "278.44969528056487",
         "13.668796605970517",
         "13.94646104298278",
         "242.9606546513068",
         "66.74002353524092",
         "50.909821627647716",
         "593.6596246748421",
         "11.905850984764028",
         "75.51177691068996",
         "4500.153060200669",
         "28.018367397497833",
         "7.22922519509476",
         "124.64482348569305",
         "7.75047751765143",
         "11.086249845162888",
         "18.677876873529048",
         "3.1770382757339277",
         "1.1946036169949212",
         "21.550327635327637"
        ],
        [
         "std",
         "278.30912474497154",
         "15.01118472014203",
         "4.988538129238801",
         "160.0788252166423",
         "326.629827953816",
         "956.185280859411",
         "100.39447884405494",
         "348.8342538387787",
         "1081.2553674005924",
         "45.06271430088667",
         "44.45362951129641",
         "559.2458744046809",
         "72.3683639323358",
         "38.99376967096422",
         "550.7620465532602",
         "92.27530834266145",
         "65.8596029880665",
         "547.0439968075203",
         "90.79579055865831",
         "59.994475907332934",
         "587.5588471736924",
         "34.8170800183673",
         "81.78939938236546",
         "1191.6946271357585",
         "22.068055074210115",
         "29.041309784323243",
         "572.8858003636602",
         "10.278626125361845",
         "16.050951010578196",
         "949.4961558343953",
         "46.4257117646934",
         "37.46192249546837",
         "655.5871315345278",
         "23.66205766077344",
         "17.854804049618174",
         "496.9317064263993",
         "58.32776878639467",
         "27.80236417812555",
         "499.8182985167378",
         "62.22058313172407",
         "68.62953276127713",
         "627.7138201853622",
         "12.30908309224461",
         "4.531848589182981",
         "231.2619886200918",
         "35.28974148227261",
         "43.47989216076316",
         "460.5420487253052",
         "9.188472741270528",
         "4.334421098546969",
         "204.38646590962477",
         "11.866306992512811",
         "16.467678980812178",
         "439.11419220215384",
         "7.471265250345211",
         "1.870552457646101",
         "271.8679016568768",
         "18.73403938909238",
         "8.432116951859784",
         "503.5151342995266",
         "53.51265687995169",
         "58.59060434498998",
         "467.45152788289454",
         "94.03374958562793",
         "99.83403724847277",
         "673.2800270621705",
         "29.590148477107594",
         "198.81599763812932",
         "3153.970419954816",
         "74.23964843398176",
         "25.042132439681847",
         "207.68114671519402",
         "13.591135203189944",
         "18.003257383642584",
         "25.88184178430845",
         "8.029508624834552",
         "4.2850667435627745",
         "60.06260123985038"
        ],
        [
         "min",
         "1.0",
         "1966.0",
         "1.0",
         "-1.0",
         "-1.0",
         "-1.0",
         "-1.0",
         "-1.0",
         "-1.0",
         "-1.0",
         "-1.0",
         "-1.0",
         "-1.0",
         "-1.0",
         "-1.0",
         "-1.0",
         "-1.0",
         "-1.0",
         "-1.0",
         "-1.0",
         "-1.0",
         "-1.0",
         "-1.0",
         "-1.0",
         "-1.0",
         "-1.0",
         "-1.0",
         "-1.0",
         "-1.0",
         "-1.0",
         "-1.0",
         "-1.0",
         "-1.0",
         "-1.0",
         "-1.0",
         "-1.0",
         "-1.0",
         "-1.0",
         "-1.0",
         "-1.0",
         "-1.0",
         "-1.0",
         "-1.0",
         "-1.0",
         "-1.0",
         "-1.0",
         "-1.0",
         "-1.0",
         "-1.0",
         "-1.0",
         "-1.0",
         "-1.0",
         "-1.0",
         "-1.0",
         "-1.0",
         "-1.0",
         "-1.0",
         "-1.0",
         "-1.0",
         "-1.0",
         "-1.0",
         "-1.0",
         "-1.0",
         "-1.0",
         "-1.0",
         "-1.0",
         "-1.0",
         "-1.0",
         "-1.0",
         "-1.0",
         "-1.0",
         "-1.0",
         "-1.0",
         "-1.0",
         "-1.0",
         "-1.0",
         "-1.0",
         "-1.0"
        ],
        [
         "25%",
         "78.0",
         "1978.0",
         "6.0",
         "10.4",
         "9.459999999999999",
         "800.0",
         "1.77",
         "2.0",
         "750.0",
         "0.0",
         "0.0",
         "0.0",
         "0.0",
         "0.0",
         "0.0",
         "0.0",
         "0.0",
         "0.0",
         "0.0",
         "0.0",
         "0.0",
         "0.53",
         "0.6",
         "696.8900000000001",
         "0.0",
         "0.0",
         "0.0",
         "0.0",
         "0.0",
         "0.0",
         "0.3",
         "0.17",
         "384.62",
         "0.2",
         "0.1",
         "258.2625",
         "6.7325",
         "1.33",
         "212.915",
         "0.01",
         "0.0",
         "0.0",
         "0.23",
         "0.06",
         "103.45",
         "0.03",
         "0.0",
         "0.0",
         "0.0",
         "0.0",
         "0.0",
         "0.0",
         "0.0",
         "0.0",
         "0.0",
         "0.0",
         "0.0",
         "0.0",
         "0.0",
         "0.0",
         "0.0",
         "0.0",
         "0.0",
         "7.95",
         "0.73",
         "199.3625",
         "0.14",
         "0.4525",
         "2000.0",
         "0.0",
         "0.0",
         "0.0",
         "0.31",
         "1.6",
         "2.52",
         "0.0",
         "0.06",
         "0.0"
        ],
        [
         "50%",
         "156.0",
         "1991.0",
         "10.0",
         "66.8",
         "95.84",
         "1333.21",
         "36.8",
         "42.7",
         "1347.4499999999998",
         "2.05",
         "1.2",
         "544.925",
         "0.0",
         "0.0",
         "0.0",
         "2.935",
         "1.84",
         "558.7550000000001",
         "0.48",
         "0.3",
         "400.0",
         "5.13",
         "6.1",
         "1159.065",
         "0.0",
         "0.0",
         "0.0",
         "0.0",
         "0.0",
         "0.0",
         "5.0",
         "3.1",
         "613.685",
         "3.3",
         "2.0",
         "605.95",
         "21.115000000000002",
         "7.6",
         "400.0",
         "1.685",
         "1.5",
         "774.4100000000001",
         "1.6",
         "0.36",
         "230.77",
         "1.44",
         "0.75",
         "448.82",
         "0.0",
         "0.0",
         "0.0",
         "0.0",
         "0.0",
         "0.0",
         "0.0",
         "0.0",
         "0.0",
         "0.0",
         "0.0",
         "0.0",
         "0.0",
         "0.0",
         "0.0",
         "32.88",
         "13.2",
         "536.26",
         "1.73",
         "7.24",
         "4502.21",
         "0.05",
         "0.0",
         "0.0",
         "2.22",
         "4.74",
         "8.945",
         "0.39",
         "0.28",
         "1.2"
        ],
        [
         "75%",
         "241.0",
         "2005.0",
         "12.0",
         "191.39000000000001",
         "315.71500000000003",
         "2113.5175",
         "123.0",
         "215.1925",
         "2131.58",
         "20.9",
         "14.1",
         "962.25",
         "0.01",
         "0.0",
         "0.0",
         "30.4",
         "19.544999999999998",
         "932.3075",
         "16.5",
         "12.0",
         "870.955",
         "24.5",
         "33.3",
         "1863.64",
         "0.9",
         "0.6",
         "692.295",
         "3.2575",
         "4.1175",
         "1250.0",
         "28.6",
         "18.9",
         "880.7325",
         "11.5",
         "7.7",
         "881.54",
         "52.644999999999996",
         "19.395",
         "608.8425",
         "16.0",
         "14.0",
         "1085.0375",
         "6.5175",
         "1.5875000000000001",
         "380.0",
         "9.29",
         "6.0",
         "780.6700000000001",
         "0.0",
         "0.0",
         "0.0",
         "0.13",
         "0.08",
         "303.3075",
         "0.93",
         "0.3",
         "310.34",
         "0.08",
         "0.05",
         "454.245",
         "0.01",
         "0.01",
         "246.2875",
         "82.2",
         "52.4",
         "852.445",
         "9.0",
         "50.2",
         "6704.605",
         "10.0975",
         "2.0",
         "202.27",
         "8.79",
         "12.51",
         "23.57",
         "3.15",
         "0.88",
         "16.7625"
        ],
        [
         "max",
         "917.0",
         "2017.0",
         "20.0",
         "1154.23",
         "3215.01",
         "5653.83",
         "879.49",
         "4305.5",
         "5541.52",
         "334.8",
         "604.7",
         "6531.25",
         "835.0",
         "464.6",
         "10000.0",
         "836.7",
         "692.2",
         "5742.59",
         "1174.0",
         "826.82",
         "10000.0",
         "295.0",
         "1510.95",
         "21428.57",
         "261.0",
         "459.98",
         "9286.86",
         "137.7",
         "361.59",
         "14441.86",
         "665.2",
         "563.1",
         "58363.64",
         "480.89",
         "618.53",
         "12402.6",
         "698.55",
         "404.31",
         "18888.89",
         "899.04",
         "1688.11",
         "8500.0",
         "181.93",
         "74.9",
         "6625.0",
         "466.22",
         "787.38",
         "10000.0",
         "147.6",
         "83.0",
         "4166.67",
         "234.89",
         "450.33",
         "4600.0",
         "120.7",
         "28.7",
         "7000.0",
         "476.67",
         "222.67",
         "4282.05",
         "529.6",
         "940.8",
         "3884.06",
         "951.24",
         "1712.92",
         "25500.0",
         "342.41",
         "3252.9",
         "22062.3",
         "800.89",
         "376.61",
         "5000.0",
         "159.54",
         "200.06",
         "240.99",
         "111.61",
         "131.35",
         "1162.66"
        ]
       ],
       "shape": {
        "columns": 78,
        "rows": 8
       }
      },
      "text/html": [
       "<div>\n",
       "<style scoped>\n",
       "    .dataframe tbody tr th:only-of-type {\n",
       "        vertical-align: middle;\n",
       "    }\n",
       "\n",
       "    .dataframe tbody tr th {\n",
       "        vertical-align: top;\n",
       "    }\n",
       "\n",
       "    .dataframe thead th {\n",
       "        text-align: right;\n",
       "    }\n",
       "</style>\n",
       "<table border=\"1\" class=\"dataframe\">\n",
       "  <thead>\n",
       "    <tr style=\"text-align: right;\">\n",
       "      <th></th>\n",
       "      <th>Dist Code</th>\n",
       "      <th>Year</th>\n",
       "      <th>State Code</th>\n",
       "      <th>RICE AREA (1000 ha)</th>\n",
       "      <th>RICE PRODUCTION (1000 tons)</th>\n",
       "      <th>RICE YIELD (Kg per ha)</th>\n",
       "      <th>WHEAT AREA (1000 ha)</th>\n",
       "      <th>WHEAT PRODUCTION (1000 tons)</th>\n",
       "      <th>WHEAT YIELD (Kg per ha)</th>\n",
       "      <th>KHARIF SORGHUM AREA (1000 ha)</th>\n",
       "      <th>...</th>\n",
       "      <th>SUGARCANE YIELD (Kg per ha)</th>\n",
       "      <th>COTTON AREA (1000 ha)</th>\n",
       "      <th>COTTON PRODUCTION (1000 tons)</th>\n",
       "      <th>COTTON YIELD (Kg per ha)</th>\n",
       "      <th>FRUITS AREA (1000 ha)</th>\n",
       "      <th>VEGETABLES AREA (1000 ha)</th>\n",
       "      <th>FRUITS AND VEGETABLES AREA (1000 ha)</th>\n",
       "      <th>POTATOES AREA (1000 ha)</th>\n",
       "      <th>ONION AREA (1000 ha)</th>\n",
       "      <th>FODDER AREA (1000 ha)</th>\n",
       "    </tr>\n",
       "  </thead>\n",
       "  <tbody>\n",
       "    <tr>\n",
       "      <th>count</th>\n",
       "      <td>16146.000000</td>\n",
       "      <td>16146.000000</td>\n",
       "      <td>16146.000000</td>\n",
       "      <td>16146.000000</td>\n",
       "      <td>16146.000000</td>\n",
       "      <td>16146.000000</td>\n",
       "      <td>16146.000000</td>\n",
       "      <td>16146.000000</td>\n",
       "      <td>16146.000000</td>\n",
       "      <td>16146.000000</td>\n",
       "      <td>...</td>\n",
       "      <td>16146.00000</td>\n",
       "      <td>16146.000000</td>\n",
       "      <td>16146.000000</td>\n",
       "      <td>16146.000000</td>\n",
       "      <td>16146.000000</td>\n",
       "      <td>16146.000000</td>\n",
       "      <td>16146.000000</td>\n",
       "      <td>16146.000000</td>\n",
       "      <td>16146.000000</td>\n",
       "      <td>16146.000000</td>\n",
       "    </tr>\n",
       "    <tr>\n",
       "      <th>mean</th>\n",
       "      <td>269.769231</td>\n",
       "      <td>1991.496841</td>\n",
       "      <td>9.568562</td>\n",
       "      <td>128.593192</td>\n",
       "      <td>224.889565</td>\n",
       "      <td>1486.924784</td>\n",
       "      <td>77.057946</td>\n",
       "      <td>182.012746</td>\n",
       "      <td>1492.419859</td>\n",
       "      <td>22.632268</td>\n",
       "      <td>...</td>\n",
       "      <td>4500.15306</td>\n",
       "      <td>28.018367</td>\n",
       "      <td>7.229225</td>\n",
       "      <td>124.644823</td>\n",
       "      <td>7.750478</td>\n",
       "      <td>11.086250</td>\n",
       "      <td>18.677877</td>\n",
       "      <td>3.177038</td>\n",
       "      <td>1.194604</td>\n",
       "      <td>21.550328</td>\n",
       "    </tr>\n",
       "    <tr>\n",
       "      <th>std</th>\n",
       "      <td>278.309125</td>\n",
       "      <td>15.011185</td>\n",
       "      <td>4.988538</td>\n",
       "      <td>160.078825</td>\n",
       "      <td>326.629828</td>\n",
       "      <td>956.185281</td>\n",
       "      <td>100.394479</td>\n",
       "      <td>348.834254</td>\n",
       "      <td>1081.255367</td>\n",
       "      <td>45.062714</td>\n",
       "      <td>...</td>\n",
       "      <td>3153.97042</td>\n",
       "      <td>74.239648</td>\n",
       "      <td>25.042132</td>\n",
       "      <td>207.681147</td>\n",
       "      <td>13.591135</td>\n",
       "      <td>18.003257</td>\n",
       "      <td>25.881842</td>\n",
       "      <td>8.029509</td>\n",
       "      <td>4.285067</td>\n",
       "      <td>60.062601</td>\n",
       "    </tr>\n",
       "    <tr>\n",
       "      <th>min</th>\n",
       "      <td>1.000000</td>\n",
       "      <td>1966.000000</td>\n",
       "      <td>1.000000</td>\n",
       "      <td>-1.000000</td>\n",
       "      <td>-1.000000</td>\n",
       "      <td>-1.000000</td>\n",
       "      <td>-1.000000</td>\n",
       "      <td>-1.000000</td>\n",
       "      <td>-1.000000</td>\n",
       "      <td>-1.000000</td>\n",
       "      <td>...</td>\n",
       "      <td>-1.00000</td>\n",
       "      <td>-1.000000</td>\n",
       "      <td>-1.000000</td>\n",
       "      <td>-1.000000</td>\n",
       "      <td>-1.000000</td>\n",
       "      <td>-1.000000</td>\n",
       "      <td>-1.000000</td>\n",
       "      <td>-1.000000</td>\n",
       "      <td>-1.000000</td>\n",
       "      <td>-1.000000</td>\n",
       "    </tr>\n",
       "    <tr>\n",
       "      <th>25%</th>\n",
       "      <td>78.000000</td>\n",
       "      <td>1978.000000</td>\n",
       "      <td>6.000000</td>\n",
       "      <td>10.400000</td>\n",
       "      <td>9.460000</td>\n",
       "      <td>800.000000</td>\n",
       "      <td>1.770000</td>\n",
       "      <td>2.000000</td>\n",
       "      <td>750.000000</td>\n",
       "      <td>0.000000</td>\n",
       "      <td>...</td>\n",
       "      <td>2000.00000</td>\n",
       "      <td>0.000000</td>\n",
       "      <td>0.000000</td>\n",
       "      <td>0.000000</td>\n",
       "      <td>0.310000</td>\n",
       "      <td>1.600000</td>\n",
       "      <td>2.520000</td>\n",
       "      <td>0.000000</td>\n",
       "      <td>0.060000</td>\n",
       "      <td>0.000000</td>\n",
       "    </tr>\n",
       "    <tr>\n",
       "      <th>50%</th>\n",
       "      <td>156.000000</td>\n",
       "      <td>1991.000000</td>\n",
       "      <td>10.000000</td>\n",
       "      <td>66.800000</td>\n",
       "      <td>95.840000</td>\n",
       "      <td>1333.210000</td>\n",
       "      <td>36.800000</td>\n",
       "      <td>42.700000</td>\n",
       "      <td>1347.450000</td>\n",
       "      <td>2.050000</td>\n",
       "      <td>...</td>\n",
       "      <td>4502.21000</td>\n",
       "      <td>0.050000</td>\n",
       "      <td>0.000000</td>\n",
       "      <td>0.000000</td>\n",
       "      <td>2.220000</td>\n",
       "      <td>4.740000</td>\n",
       "      <td>8.945000</td>\n",
       "      <td>0.390000</td>\n",
       "      <td>0.280000</td>\n",
       "      <td>1.200000</td>\n",
       "    </tr>\n",
       "    <tr>\n",
       "      <th>75%</th>\n",
       "      <td>241.000000</td>\n",
       "      <td>2005.000000</td>\n",
       "      <td>12.000000</td>\n",
       "      <td>191.390000</td>\n",
       "      <td>315.715000</td>\n",
       "      <td>2113.517500</td>\n",
       "      <td>123.000000</td>\n",
       "      <td>215.192500</td>\n",
       "      <td>2131.580000</td>\n",
       "      <td>20.900000</td>\n",
       "      <td>...</td>\n",
       "      <td>6704.60500</td>\n",
       "      <td>10.097500</td>\n",
       "      <td>2.000000</td>\n",
       "      <td>202.270000</td>\n",
       "      <td>8.790000</td>\n",
       "      <td>12.510000</td>\n",
       "      <td>23.570000</td>\n",
       "      <td>3.150000</td>\n",
       "      <td>0.880000</td>\n",
       "      <td>16.762500</td>\n",
       "    </tr>\n",
       "    <tr>\n",
       "      <th>max</th>\n",
       "      <td>917.000000</td>\n",
       "      <td>2017.000000</td>\n",
       "      <td>20.000000</td>\n",
       "      <td>1154.230000</td>\n",
       "      <td>3215.010000</td>\n",
       "      <td>5653.830000</td>\n",
       "      <td>879.490000</td>\n",
       "      <td>4305.500000</td>\n",
       "      <td>5541.520000</td>\n",
       "      <td>334.800000</td>\n",
       "      <td>...</td>\n",
       "      <td>22062.30000</td>\n",
       "      <td>800.890000</td>\n",
       "      <td>376.610000</td>\n",
       "      <td>5000.000000</td>\n",
       "      <td>159.540000</td>\n",
       "      <td>200.060000</td>\n",
       "      <td>240.990000</td>\n",
       "      <td>111.610000</td>\n",
       "      <td>131.350000</td>\n",
       "      <td>1162.660000</td>\n",
       "    </tr>\n",
       "  </tbody>\n",
       "</table>\n",
       "<p>8 rows × 78 columns</p>\n",
       "</div>"
      ],
      "text/plain": [
       "          Dist Code          Year    State Code  RICE AREA (1000 ha)  \\\n",
       "count  16146.000000  16146.000000  16146.000000         16146.000000   \n",
       "mean     269.769231   1991.496841      9.568562           128.593192   \n",
       "std      278.309125     15.011185      4.988538           160.078825   \n",
       "min        1.000000   1966.000000      1.000000            -1.000000   \n",
       "25%       78.000000   1978.000000      6.000000            10.400000   \n",
       "50%      156.000000   1991.000000     10.000000            66.800000   \n",
       "75%      241.000000   2005.000000     12.000000           191.390000   \n",
       "max      917.000000   2017.000000     20.000000          1154.230000   \n",
       "\n",
       "       RICE PRODUCTION (1000 tons)  RICE YIELD (Kg per ha)  \\\n",
       "count                 16146.000000            16146.000000   \n",
       "mean                    224.889565             1486.924784   \n",
       "std                     326.629828              956.185281   \n",
       "min                      -1.000000               -1.000000   \n",
       "25%                       9.460000              800.000000   \n",
       "50%                      95.840000             1333.210000   \n",
       "75%                     315.715000             2113.517500   \n",
       "max                    3215.010000             5653.830000   \n",
       "\n",
       "       WHEAT AREA (1000 ha)  WHEAT PRODUCTION (1000 tons)  \\\n",
       "count          16146.000000                  16146.000000   \n",
       "mean              77.057946                    182.012746   \n",
       "std              100.394479                    348.834254   \n",
       "min               -1.000000                     -1.000000   \n",
       "25%                1.770000                      2.000000   \n",
       "50%               36.800000                     42.700000   \n",
       "75%              123.000000                    215.192500   \n",
       "max              879.490000                   4305.500000   \n",
       "\n",
       "       WHEAT YIELD (Kg per ha)  KHARIF SORGHUM AREA (1000 ha)  ...  \\\n",
       "count             16146.000000                   16146.000000  ...   \n",
       "mean               1492.419859                      22.632268  ...   \n",
       "std                1081.255367                      45.062714  ...   \n",
       "min                  -1.000000                      -1.000000  ...   \n",
       "25%                 750.000000                       0.000000  ...   \n",
       "50%                1347.450000                       2.050000  ...   \n",
       "75%                2131.580000                      20.900000  ...   \n",
       "max                5541.520000                     334.800000  ...   \n",
       "\n",
       "       SUGARCANE YIELD (Kg per ha)  COTTON AREA (1000 ha)  \\\n",
       "count                  16146.00000           16146.000000   \n",
       "mean                    4500.15306              28.018367   \n",
       "std                     3153.97042              74.239648   \n",
       "min                       -1.00000              -1.000000   \n",
       "25%                     2000.00000               0.000000   \n",
       "50%                     4502.21000               0.050000   \n",
       "75%                     6704.60500              10.097500   \n",
       "max                    22062.30000             800.890000   \n",
       "\n",
       "       COTTON PRODUCTION (1000 tons)  COTTON YIELD (Kg per ha)  \\\n",
       "count                   16146.000000              16146.000000   \n",
       "mean                        7.229225                124.644823   \n",
       "std                        25.042132                207.681147   \n",
       "min                        -1.000000                 -1.000000   \n",
       "25%                         0.000000                  0.000000   \n",
       "50%                         0.000000                  0.000000   \n",
       "75%                         2.000000                202.270000   \n",
       "max                       376.610000               5000.000000   \n",
       "\n",
       "       FRUITS AREA (1000 ha)  VEGETABLES AREA (1000 ha)  \\\n",
       "count           16146.000000               16146.000000   \n",
       "mean                7.750478                  11.086250   \n",
       "std                13.591135                  18.003257   \n",
       "min                -1.000000                  -1.000000   \n",
       "25%                 0.310000                   1.600000   \n",
       "50%                 2.220000                   4.740000   \n",
       "75%                 8.790000                  12.510000   \n",
       "max               159.540000                 200.060000   \n",
       "\n",
       "       FRUITS AND VEGETABLES AREA (1000 ha)  POTATOES AREA (1000 ha)  \\\n",
       "count                          16146.000000             16146.000000   \n",
       "mean                              18.677877                 3.177038   \n",
       "std                               25.881842                 8.029509   \n",
       "min                               -1.000000                -1.000000   \n",
       "25%                                2.520000                 0.000000   \n",
       "50%                                8.945000                 0.390000   \n",
       "75%                               23.570000                 3.150000   \n",
       "max                              240.990000               111.610000   \n",
       "\n",
       "       ONION AREA (1000 ha)  FODDER AREA (1000 ha)  \n",
       "count          16146.000000           16146.000000  \n",
       "mean               1.194604              21.550328  \n",
       "std                4.285067              60.062601  \n",
       "min               -1.000000              -1.000000  \n",
       "25%                0.060000               0.000000  \n",
       "50%                0.280000               1.200000  \n",
       "75%                0.880000              16.762500  \n",
       "max              131.350000            1162.660000  \n",
       "\n",
       "[8 rows x 78 columns]"
      ]
     },
     "execution_count": 8,
     "metadata": {},
     "output_type": "execute_result"
    }
   ],
   "source": [
    "# Statistical methods\n",
    "df.describe()"
   ]
  },
  {
   "cell_type": "code",
   "execution_count": 9,
   "id": "e749eeff",
   "metadata": {},
   "outputs": [
    {
     "data": {
      "text/plain": [
       "Index(['Dist Code', 'Year', 'State Code', 'State Name', 'Dist Name',\n",
       "       'RICE AREA (1000 ha)', 'RICE PRODUCTION (1000 tons)',\n",
       "       'RICE YIELD (Kg per ha)', 'WHEAT AREA (1000 ha)',\n",
       "       'WHEAT PRODUCTION (1000 tons)', 'WHEAT YIELD (Kg per ha)',\n",
       "       'KHARIF SORGHUM AREA (1000 ha)',\n",
       "       'KHARIF SORGHUM PRODUCTION (1000 tons)',\n",
       "       'KHARIF SORGHUM YIELD (Kg per ha)', 'RABI SORGHUM AREA (1000 ha)',\n",
       "       'RABI SORGHUM PRODUCTION (1000 tons)', 'RABI SORGHUM YIELD (Kg per ha)',\n",
       "       'SORGHUM AREA (1000 ha)', 'SORGHUM PRODUCTION (1000 tons)',\n",
       "       'SORGHUM YIELD (Kg per ha)', 'PEARL MILLET AREA (1000 ha)',\n",
       "       'PEARL MILLET PRODUCTION (1000 tons)', 'PEARL MILLET YIELD (Kg per ha)',\n",
       "       'MAIZE AREA (1000 ha)', 'MAIZE PRODUCTION (1000 tons)',\n",
       "       'MAIZE YIELD (Kg per ha)', 'FINGER MILLET AREA (1000 ha)',\n",
       "       'FINGER MILLET PRODUCTION (1000 tons)',\n",
       "       'FINGER MILLET YIELD (Kg per ha)', 'BARLEY AREA (1000 ha)',\n",
       "       'BARLEY PRODUCTION (1000 tons)', 'BARLEY YIELD (Kg per ha)',\n",
       "       'CHICKPEA AREA (1000 ha)', 'CHICKPEA PRODUCTION (1000 tons)',\n",
       "       'CHICKPEA YIELD (Kg per ha)', 'PIGEONPEA AREA (1000 ha)',\n",
       "       'PIGEONPEA PRODUCTION (1000 tons)', 'PIGEONPEA YIELD (Kg per ha)',\n",
       "       'MINOR PULSES AREA (1000 ha)', 'MINOR PULSES PRODUCTION (1000 tons)',\n",
       "       'MINOR PULSES YIELD (Kg per ha)', 'GROUNDNUT AREA (1000 ha)',\n",
       "       'GROUNDNUT PRODUCTION (1000 tons)', 'GROUNDNUT YIELD (Kg per ha)',\n",
       "       'SESAMUM AREA (1000 ha)', 'SESAMUM PRODUCTION (1000 tons)',\n",
       "       'SESAMUM YIELD (Kg per ha)', 'RAPESEED AND MUSTARD AREA (1000 ha)',\n",
       "       'RAPESEED AND MUSTARD PRODUCTION (1000 tons)',\n",
       "       'RAPESEED AND MUSTARD YIELD (Kg per ha)', 'SAFFLOWER AREA (1000 ha)',\n",
       "       'SAFFLOWER PRODUCTION (1000 tons)', 'SAFFLOWER YIELD (Kg per ha)',\n",
       "       'CASTOR AREA (1000 ha)', 'CASTOR PRODUCTION (1000 tons)',\n",
       "       'CASTOR YIELD (Kg per ha)', 'LINSEED AREA (1000 ha)',\n",
       "       'LINSEED PRODUCTION (1000 tons)', 'LINSEED YIELD (Kg per ha)',\n",
       "       'SUNFLOWER AREA (1000 ha)', 'SUNFLOWER PRODUCTION (1000 tons)',\n",
       "       'SUNFLOWER YIELD (Kg per ha)', 'SOYABEAN AREA (1000 ha)',\n",
       "       'SOYABEAN PRODUCTION (1000 tons)', 'SOYABEAN YIELD (Kg per ha)',\n",
       "       'OILSEEDS AREA (1000 ha)', 'OILSEEDS PRODUCTION (1000 tons)',\n",
       "       'OILSEEDS YIELD (Kg per ha)', 'SUGARCANE AREA (1000 ha)',\n",
       "       'SUGARCANE PRODUCTION (1000 tons)', 'SUGARCANE YIELD (Kg per ha)',\n",
       "       'COTTON AREA (1000 ha)', 'COTTON PRODUCTION (1000 tons)',\n",
       "       'COTTON YIELD (Kg per ha)', 'FRUITS AREA (1000 ha)',\n",
       "       'VEGETABLES AREA (1000 ha)', 'FRUITS AND VEGETABLES AREA (1000 ha)',\n",
       "       'POTATOES AREA (1000 ha)', 'ONION AREA (1000 ha)',\n",
       "       'FODDER AREA (1000 ha)'],\n",
       "      dtype='object')"
      ]
     },
     "execution_count": 9,
     "metadata": {},
     "output_type": "execute_result"
    }
   ],
   "source": [
    "# All the columns in dataset\n",
    "df.columns"
   ]
  },
  {
   "cell_type": "markdown",
   "id": "f3df4958",
   "metadata": {},
   "source": [
    "## Exploratory Data Analysis (EDA):"
   ]
  },
  {
   "cell_type": "markdown",
   "id": "abdbd83c",
   "metadata": {},
   "source": [
    "### `Top 7 RICE PRODUCTION State`\n"
   ]
  },
  {
   "cell_type": "code",
   "execution_count": 10,
   "id": "5f07e2fe",
   "metadata": {},
   "outputs": [
    {
     "data": {
      "application/vnd.microsoft.datawrangler.viewer.v0+json": {
       "columns": [
        {
         "name": "index",
         "rawType": "int64",
         "type": "integer"
        },
        {
         "name": "State Name",
         "rawType": "object",
         "type": "string"
        },
        {
         "name": "RICE PRODUCTION (1000 tons)",
         "rawType": "float64",
         "type": "float"
        }
       ],
       "ref": "6444ef13-1480-4878-9aba-9fbb959dddc3",
       "rows": [
        [
         "0",
         "West Bengal",
         "544232.26"
        ],
        [
         "1",
         "Uttar Pradesh",
         "445597.62"
        ],
        [
         "2",
         "Punjab",
         "335040.1"
        ],
        [
         "3",
         "Andhra Pradesh",
         "315185.4"
        ],
        [
         "4",
         "Tamil Nadu",
         "291201.51"
        ],
        [
         "5",
         "Orissa",
         "282532.93"
        ],
        [
         "6",
         "Bihar",
         "231759.0"
        ]
       ],
       "shape": {
        "columns": 2,
        "rows": 7
       }
      },
      "text/html": [
       "<div>\n",
       "<style scoped>\n",
       "    .dataframe tbody tr th:only-of-type {\n",
       "        vertical-align: middle;\n",
       "    }\n",
       "\n",
       "    .dataframe tbody tr th {\n",
       "        vertical-align: top;\n",
       "    }\n",
       "\n",
       "    .dataframe thead th {\n",
       "        text-align: right;\n",
       "    }\n",
       "</style>\n",
       "<table border=\"1\" class=\"dataframe\">\n",
       "  <thead>\n",
       "    <tr style=\"text-align: right;\">\n",
       "      <th></th>\n",
       "      <th>State Name</th>\n",
       "      <th>RICE PRODUCTION (1000 tons)</th>\n",
       "    </tr>\n",
       "  </thead>\n",
       "  <tbody>\n",
       "    <tr>\n",
       "      <th>0</th>\n",
       "      <td>West Bengal</td>\n",
       "      <td>544232.26</td>\n",
       "    </tr>\n",
       "    <tr>\n",
       "      <th>1</th>\n",
       "      <td>Uttar Pradesh</td>\n",
       "      <td>445597.62</td>\n",
       "    </tr>\n",
       "    <tr>\n",
       "      <th>2</th>\n",
       "      <td>Punjab</td>\n",
       "      <td>335040.10</td>\n",
       "    </tr>\n",
       "    <tr>\n",
       "      <th>3</th>\n",
       "      <td>Andhra Pradesh</td>\n",
       "      <td>315185.40</td>\n",
       "    </tr>\n",
       "    <tr>\n",
       "      <th>4</th>\n",
       "      <td>Tamil Nadu</td>\n",
       "      <td>291201.51</td>\n",
       "    </tr>\n",
       "    <tr>\n",
       "      <th>5</th>\n",
       "      <td>Orissa</td>\n",
       "      <td>282532.93</td>\n",
       "    </tr>\n",
       "    <tr>\n",
       "      <th>6</th>\n",
       "      <td>Bihar</td>\n",
       "      <td>231759.00</td>\n",
       "    </tr>\n",
       "  </tbody>\n",
       "</table>\n",
       "</div>"
      ],
      "text/plain": [
       "       State Name  RICE PRODUCTION (1000 tons)\n",
       "0     West Bengal                    544232.26\n",
       "1   Uttar Pradesh                    445597.62\n",
       "2          Punjab                    335040.10\n",
       "3  Andhra Pradesh                    315185.40\n",
       "4      Tamil Nadu                    291201.51\n",
       "5          Orissa                    282532.93\n",
       "6           Bihar                    231759.00"
      ]
     },
     "execution_count": 10,
     "metadata": {},
     "output_type": "execute_result"
    }
   ],
   "source": [
    "# i) Top 7 RICE PRODUCTION States Data(Bar_plot)\n",
    "\n",
    "rice_state = df.groupby('State Name')['RICE PRODUCTION (1000 tons)'].sum().sort_values(ascending=False).reset_index().head(7)\n",
    "rice_state"
   ]
  },
  {
   "cell_type": "code",
   "execution_count": null,
   "id": "ad91727a",
   "metadata": {},
   "outputs": [
    {
     "data": {
      "application/vnd.plotly.v1+json": {
       "config": {
        "plotlyServerURL": "https://plot.ly"
       },
       "data": [
        {
         "alignmentgroup": "True",
         "hovertemplate": "State Name=%{x}<br>RICE PRODUCTION (1000 tons)=%{marker.color}<extra></extra>",
         "legendgroup": "",
         "marker": {
          "color": [
           544232.26,
           445597.62,
           335040.1,
           315185.4,
           291201.51,
           282532.93,
           231759
          ],
          "coloraxis": "coloraxis",
          "pattern": {
           "shape": ""
          }
         },
         "name": "",
         "offsetgroup": "",
         "orientation": "v",
         "showlegend": false,
         "textposition": "auto",
         "type": "bar",
         "x": [
          "West Bengal",
          "Uttar Pradesh",
          "Punjab",
          "Andhra Pradesh",
          "Tamil Nadu",
          "Orissa",
          "Bihar"
         ],
         "xaxis": "x",
         "y": [
          544232.26,
          445597.62,
          335040.1,
          315185.4,
          291201.51,
          282532.93,
          231759
         ],
         "yaxis": "y"
        }
       ],
       "layout": {
        "barmode": "relative",
        "coloraxis": {
         "colorbar": {
          "title": {
           "text": "RICE PRODUCTION (1000 tons)"
          }
         },
         "colorscale": [
          [
           0,
           "#440154"
          ],
          [
           0.1111111111111111,
           "#482878"
          ],
          [
           0.2222222222222222,
           "#3e4989"
          ],
          [
           0.3333333333333333,
           "#31688e"
          ],
          [
           0.4444444444444444,
           "#26828e"
          ],
          [
           0.5555555555555556,
           "#1f9e89"
          ],
          [
           0.6666666666666666,
           "#35b779"
          ],
          [
           0.7777777777777778,
           "#6ece58"
          ],
          [
           0.8888888888888888,
           "#b5de2b"
          ],
          [
           1,
           "#fde725"
          ]
         ]
        },
        "height": 600,
        "legend": {
         "tracegroupgap": 0
        },
        "template": {
         "data": {
          "bar": [
           {
            "error_x": {
             "color": "#2a3f5f"
            },
            "error_y": {
             "color": "#2a3f5f"
            },
            "marker": {
             "line": {
              "color": "#E5ECF6",
              "width": 0.5
             },
             "pattern": {
              "fillmode": "overlay",
              "size": 10,
              "solidity": 0.2
             }
            },
            "type": "bar"
           }
          ],
          "barpolar": [
           {
            "marker": {
             "line": {
              "color": "#E5ECF6",
              "width": 0.5
             },
             "pattern": {
              "fillmode": "overlay",
              "size": 10,
              "solidity": 0.2
             }
            },
            "type": "barpolar"
           }
          ],
          "carpet": [
           {
            "aaxis": {
             "endlinecolor": "#2a3f5f",
             "gridcolor": "white",
             "linecolor": "white",
             "minorgridcolor": "white",
             "startlinecolor": "#2a3f5f"
            },
            "baxis": {
             "endlinecolor": "#2a3f5f",
             "gridcolor": "white",
             "linecolor": "white",
             "minorgridcolor": "white",
             "startlinecolor": "#2a3f5f"
            },
            "type": "carpet"
           }
          ],
          "choropleth": [
           {
            "colorbar": {
             "outlinewidth": 0,
             "ticks": ""
            },
            "type": "choropleth"
           }
          ],
          "contour": [
           {
            "colorbar": {
             "outlinewidth": 0,
             "ticks": ""
            },
            "colorscale": [
             [
              0,
              "#0d0887"
             ],
             [
              0.1111111111111111,
              "#46039f"
             ],
             [
              0.2222222222222222,
              "#7201a8"
             ],
             [
              0.3333333333333333,
              "#9c179e"
             ],
             [
              0.4444444444444444,
              "#bd3786"
             ],
             [
              0.5555555555555556,
              "#d8576b"
             ],
             [
              0.6666666666666666,
              "#ed7953"
             ],
             [
              0.7777777777777778,
              "#fb9f3a"
             ],
             [
              0.8888888888888888,
              "#fdca26"
             ],
             [
              1,
              "#f0f921"
             ]
            ],
            "type": "contour"
           }
          ],
          "contourcarpet": [
           {
            "colorbar": {
             "outlinewidth": 0,
             "ticks": ""
            },
            "type": "contourcarpet"
           }
          ],
          "heatmap": [
           {
            "colorbar": {
             "outlinewidth": 0,
             "ticks": ""
            },
            "colorscale": [
             [
              0,
              "#0d0887"
             ],
             [
              0.1111111111111111,
              "#46039f"
             ],
             [
              0.2222222222222222,
              "#7201a8"
             ],
             [
              0.3333333333333333,
              "#9c179e"
             ],
             [
              0.4444444444444444,
              "#bd3786"
             ],
             [
              0.5555555555555556,
              "#d8576b"
             ],
             [
              0.6666666666666666,
              "#ed7953"
             ],
             [
              0.7777777777777778,
              "#fb9f3a"
             ],
             [
              0.8888888888888888,
              "#fdca26"
             ],
             [
              1,
              "#f0f921"
             ]
            ],
            "type": "heatmap"
           }
          ],
          "heatmapgl": [
           {
            "colorbar": {
             "outlinewidth": 0,
             "ticks": ""
            },
            "colorscale": [
             [
              0,
              "#0d0887"
             ],
             [
              0.1111111111111111,
              "#46039f"
             ],
             [
              0.2222222222222222,
              "#7201a8"
             ],
             [
              0.3333333333333333,
              "#9c179e"
             ],
             [
              0.4444444444444444,
              "#bd3786"
             ],
             [
              0.5555555555555556,
              "#d8576b"
             ],
             [
              0.6666666666666666,
              "#ed7953"
             ],
             [
              0.7777777777777778,
              "#fb9f3a"
             ],
             [
              0.8888888888888888,
              "#fdca26"
             ],
             [
              1,
              "#f0f921"
             ]
            ],
            "type": "heatmapgl"
           }
          ],
          "histogram": [
           {
            "marker": {
             "pattern": {
              "fillmode": "overlay",
              "size": 10,
              "solidity": 0.2
             }
            },
            "type": "histogram"
           }
          ],
          "histogram2d": [
           {
            "colorbar": {
             "outlinewidth": 0,
             "ticks": ""
            },
            "colorscale": [
             [
              0,
              "#0d0887"
             ],
             [
              0.1111111111111111,
              "#46039f"
             ],
             [
              0.2222222222222222,
              "#7201a8"
             ],
             [
              0.3333333333333333,
              "#9c179e"
             ],
             [
              0.4444444444444444,
              "#bd3786"
             ],
             [
              0.5555555555555556,
              "#d8576b"
             ],
             [
              0.6666666666666666,
              "#ed7953"
             ],
             [
              0.7777777777777778,
              "#fb9f3a"
             ],
             [
              0.8888888888888888,
              "#fdca26"
             ],
             [
              1,
              "#f0f921"
             ]
            ],
            "type": "histogram2d"
           }
          ],
          "histogram2dcontour": [
           {
            "colorbar": {
             "outlinewidth": 0,
             "ticks": ""
            },
            "colorscale": [
             [
              0,
              "#0d0887"
             ],
             [
              0.1111111111111111,
              "#46039f"
             ],
             [
              0.2222222222222222,
              "#7201a8"
             ],
             [
              0.3333333333333333,
              "#9c179e"
             ],
             [
              0.4444444444444444,
              "#bd3786"
             ],
             [
              0.5555555555555556,
              "#d8576b"
             ],
             [
              0.6666666666666666,
              "#ed7953"
             ],
             [
              0.7777777777777778,
              "#fb9f3a"
             ],
             [
              0.8888888888888888,
              "#fdca26"
             ],
             [
              1,
              "#f0f921"
             ]
            ],
            "type": "histogram2dcontour"
           }
          ],
          "mesh3d": [
           {
            "colorbar": {
             "outlinewidth": 0,
             "ticks": ""
            },
            "type": "mesh3d"
           }
          ],
          "parcoords": [
           {
            "line": {
             "colorbar": {
              "outlinewidth": 0,
              "ticks": ""
             }
            },
            "type": "parcoords"
           }
          ],
          "pie": [
           {
            "automargin": true,
            "type": "pie"
           }
          ],
          "scatter": [
           {
            "fillpattern": {
             "fillmode": "overlay",
             "size": 10,
             "solidity": 0.2
            },
            "type": "scatter"
           }
          ],
          "scatter3d": [
           {
            "line": {
             "colorbar": {
              "outlinewidth": 0,
              "ticks": ""
             }
            },
            "marker": {
             "colorbar": {
              "outlinewidth": 0,
              "ticks": ""
             }
            },
            "type": "scatter3d"
           }
          ],
          "scattercarpet": [
           {
            "marker": {
             "colorbar": {
              "outlinewidth": 0,
              "ticks": ""
             }
            },
            "type": "scattercarpet"
           }
          ],
          "scattergeo": [
           {
            "marker": {
             "colorbar": {
              "outlinewidth": 0,
              "ticks": ""
             }
            },
            "type": "scattergeo"
           }
          ],
          "scattergl": [
           {
            "marker": {
             "colorbar": {
              "outlinewidth": 0,
              "ticks": ""
             }
            },
            "type": "scattergl"
           }
          ],
          "scattermapbox": [
           {
            "marker": {
             "colorbar": {
              "outlinewidth": 0,
              "ticks": ""
             }
            },
            "type": "scattermapbox"
           }
          ],
          "scatterpolar": [
           {
            "marker": {
             "colorbar": {
              "outlinewidth": 0,
              "ticks": ""
             }
            },
            "type": "scatterpolar"
           }
          ],
          "scatterpolargl": [
           {
            "marker": {
             "colorbar": {
              "outlinewidth": 0,
              "ticks": ""
             }
            },
            "type": "scatterpolargl"
           }
          ],
          "scatterternary": [
           {
            "marker": {
             "colorbar": {
              "outlinewidth": 0,
              "ticks": ""
             }
            },
            "type": "scatterternary"
           }
          ],
          "surface": [
           {
            "colorbar": {
             "outlinewidth": 0,
             "ticks": ""
            },
            "colorscale": [
             [
              0,
              "#0d0887"
             ],
             [
              0.1111111111111111,
              "#46039f"
             ],
             [
              0.2222222222222222,
              "#7201a8"
             ],
             [
              0.3333333333333333,
              "#9c179e"
             ],
             [
              0.4444444444444444,
              "#bd3786"
             ],
             [
              0.5555555555555556,
              "#d8576b"
             ],
             [
              0.6666666666666666,
              "#ed7953"
             ],
             [
              0.7777777777777778,
              "#fb9f3a"
             ],
             [
              0.8888888888888888,
              "#fdca26"
             ],
             [
              1,
              "#f0f921"
             ]
            ],
            "type": "surface"
           }
          ],
          "table": [
           {
            "cells": {
             "fill": {
              "color": "#EBF0F8"
             },
             "line": {
              "color": "white"
             }
            },
            "header": {
             "fill": {
              "color": "#C8D4E3"
             },
             "line": {
              "color": "white"
             }
            },
            "type": "table"
           }
          ]
         },
         "layout": {
          "annotationdefaults": {
           "arrowcolor": "#2a3f5f",
           "arrowhead": 0,
           "arrowwidth": 1
          },
          "autotypenumbers": "strict",
          "coloraxis": {
           "colorbar": {
            "outlinewidth": 0,
            "ticks": ""
           }
          },
          "colorscale": {
           "diverging": [
            [
             0,
             "#8e0152"
            ],
            [
             0.1,
             "#c51b7d"
            ],
            [
             0.2,
             "#de77ae"
            ],
            [
             0.3,
             "#f1b6da"
            ],
            [
             0.4,
             "#fde0ef"
            ],
            [
             0.5,
             "#f7f7f7"
            ],
            [
             0.6,
             "#e6f5d0"
            ],
            [
             0.7,
             "#b8e186"
            ],
            [
             0.8,
             "#7fbc41"
            ],
            [
             0.9,
             "#4d9221"
            ],
            [
             1,
             "#276419"
            ]
           ],
           "sequential": [
            [
             0,
             "#0d0887"
            ],
            [
             0.1111111111111111,
             "#46039f"
            ],
            [
             0.2222222222222222,
             "#7201a8"
            ],
            [
             0.3333333333333333,
             "#9c179e"
            ],
            [
             0.4444444444444444,
             "#bd3786"
            ],
            [
             0.5555555555555556,
             "#d8576b"
            ],
            [
             0.6666666666666666,
             "#ed7953"
            ],
            [
             0.7777777777777778,
             "#fb9f3a"
            ],
            [
             0.8888888888888888,
             "#fdca26"
            ],
            [
             1,
             "#f0f921"
            ]
           ],
           "sequentialminus": [
            [
             0,
             "#0d0887"
            ],
            [
             0.1111111111111111,
             "#46039f"
            ],
            [
             0.2222222222222222,
             "#7201a8"
            ],
            [
             0.3333333333333333,
             "#9c179e"
            ],
            [
             0.4444444444444444,
             "#bd3786"
            ],
            [
             0.5555555555555556,
             "#d8576b"
            ],
            [
             0.6666666666666666,
             "#ed7953"
            ],
            [
             0.7777777777777778,
             "#fb9f3a"
            ],
            [
             0.8888888888888888,
             "#fdca26"
            ],
            [
             1,
             "#f0f921"
            ]
           ]
          },
          "colorway": [
           "#636efa",
           "#EF553B",
           "#00cc96",
           "#ab63fa",
           "#FFA15A",
           "#19d3f3",
           "#FF6692",
           "#B6E880",
           "#FF97FF",
           "#FECB52"
          ],
          "font": {
           "color": "#2a3f5f"
          },
          "geo": {
           "bgcolor": "white",
           "lakecolor": "white",
           "landcolor": "#E5ECF6",
           "showlakes": true,
           "showland": true,
           "subunitcolor": "white"
          },
          "hoverlabel": {
           "align": "left"
          },
          "hovermode": "closest",
          "mapbox": {
           "style": "light"
          },
          "paper_bgcolor": "white",
          "plot_bgcolor": "#E5ECF6",
          "polar": {
           "angularaxis": {
            "gridcolor": "white",
            "linecolor": "white",
            "ticks": ""
           },
           "bgcolor": "#E5ECF6",
           "radialaxis": {
            "gridcolor": "white",
            "linecolor": "white",
            "ticks": ""
           }
          },
          "scene": {
           "xaxis": {
            "backgroundcolor": "#E5ECF6",
            "gridcolor": "white",
            "gridwidth": 2,
            "linecolor": "white",
            "showbackground": true,
            "ticks": "",
            "zerolinecolor": "white"
           },
           "yaxis": {
            "backgroundcolor": "#E5ECF6",
            "gridcolor": "white",
            "gridwidth": 2,
            "linecolor": "white",
            "showbackground": true,
            "ticks": "",
            "zerolinecolor": "white"
           },
           "zaxis": {
            "backgroundcolor": "#E5ECF6",
            "gridcolor": "white",
            "gridwidth": 2,
            "linecolor": "white",
            "showbackground": true,
            "ticks": "",
            "zerolinecolor": "white"
           }
          },
          "shapedefaults": {
           "line": {
            "color": "#2a3f5f"
           }
          },
          "ternary": {
           "aaxis": {
            "gridcolor": "white",
            "linecolor": "white",
            "ticks": ""
           },
           "baxis": {
            "gridcolor": "white",
            "linecolor": "white",
            "ticks": ""
           },
           "bgcolor": "#E5ECF6",
           "caxis": {
            "gridcolor": "white",
            "linecolor": "white",
            "ticks": ""
           }
          },
          "title": {
           "x": 0.05
          },
          "xaxis": {
           "automargin": true,
           "gridcolor": "white",
           "linecolor": "white",
           "ticks": "",
           "title": {
            "standoff": 15
           },
           "zerolinecolor": "white",
           "zerolinewidth": 2
          },
          "yaxis": {
           "automargin": true,
           "gridcolor": "white",
           "linecolor": "white",
           "ticks": "",
           "title": {
            "standoff": 15
           },
           "zerolinecolor": "white",
           "zerolinewidth": 2
          }
         }
        },
        "title": {
         "text": "Top 7 RICE PRODUCTION State"
        },
        "width": 800,
        "xaxis": {
         "anchor": "y",
         "domain": [
          0,
          1
         ],
         "title": {
          "text": "State Names"
         }
        },
        "yaxis": {
         "anchor": "x",
         "domain": [
          0,
          1
         ],
         "title": {
          "text": "Rice Production"
         }
        }
       }
      }
     },
     "metadata": {},
     "output_type": "display_data"
    }
   ],
   "source": [
    "# Bar Chart\n",
    "fig = px.bar(rice_state,x='State Name',y = 'RICE PRODUCTION (1000 tons)',title='Top 7 RICE PRODUCTION State',labels={'State Name': 'State Name', 'Rice Production': 'RICE PRODUCTION (1000 tons)'},color='RICE PRODUCTION (1000 tons)',color_continuous_scale='Viridis')\n",
    "\n",
    "fig.update_layout(xaxis_title = 'State Names', yaxis_title = 'Rice Production')\n",
    "fig.update_layout(height = 600, width = 800)\n",
    "fig.show()"
   ]
  },
  {
   "cell_type": "markdown",
   "id": "6cfa0611",
   "metadata": {},
   "source": [
    "### `Top 5 Wheat Producing States`"
   ]
  },
  {
   "cell_type": "code",
   "execution_count": 12,
   "id": "ad133656",
   "metadata": {},
   "outputs": [
    {
     "data": {
      "application/vnd.microsoft.datawrangler.viewer.v0+json": {
       "columns": [
        {
         "name": "index",
         "rawType": "int64",
         "type": "integer"
        },
        {
         "name": "State Name",
         "rawType": "object",
         "type": "string"
        },
        {
         "name": "WHEAT PRODUCTION (1000 tons)",
         "rawType": "float64",
         "type": "float"
        }
       ],
       "ref": "8cb3ea83-53cb-44f6-8699-a8e4fa30cf89",
       "rows": [
        [
         "0",
         "Uttar Pradesh",
         "970210.07"
        ],
        [
         "1",
         "Punjab",
         "593848.9"
        ],
        [
         "2",
         "Haryana",
         "348429.6"
        ],
        [
         "3",
         "Madhya Pradesh",
         "338644.25"
        ],
        [
         "4",
         "Rajasthan",
         "265994.99"
        ]
       ],
       "shape": {
        "columns": 2,
        "rows": 5
       }
      },
      "text/html": [
       "<div>\n",
       "<style scoped>\n",
       "    .dataframe tbody tr th:only-of-type {\n",
       "        vertical-align: middle;\n",
       "    }\n",
       "\n",
       "    .dataframe tbody tr th {\n",
       "        vertical-align: top;\n",
       "    }\n",
       "\n",
       "    .dataframe thead th {\n",
       "        text-align: right;\n",
       "    }\n",
       "</style>\n",
       "<table border=\"1\" class=\"dataframe\">\n",
       "  <thead>\n",
       "    <tr style=\"text-align: right;\">\n",
       "      <th></th>\n",
       "      <th>State Name</th>\n",
       "      <th>WHEAT PRODUCTION (1000 tons)</th>\n",
       "    </tr>\n",
       "  </thead>\n",
       "  <tbody>\n",
       "    <tr>\n",
       "      <th>0</th>\n",
       "      <td>Uttar Pradesh</td>\n",
       "      <td>970210.07</td>\n",
       "    </tr>\n",
       "    <tr>\n",
       "      <th>1</th>\n",
       "      <td>Punjab</td>\n",
       "      <td>593848.90</td>\n",
       "    </tr>\n",
       "    <tr>\n",
       "      <th>2</th>\n",
       "      <td>Haryana</td>\n",
       "      <td>348429.60</td>\n",
       "    </tr>\n",
       "    <tr>\n",
       "      <th>3</th>\n",
       "      <td>Madhya Pradesh</td>\n",
       "      <td>338644.25</td>\n",
       "    </tr>\n",
       "    <tr>\n",
       "      <th>4</th>\n",
       "      <td>Rajasthan</td>\n",
       "      <td>265994.99</td>\n",
       "    </tr>\n",
       "  </tbody>\n",
       "</table>\n",
       "</div>"
      ],
      "text/plain": [
       "       State Name  WHEAT PRODUCTION (1000 tons)\n",
       "0   Uttar Pradesh                     970210.07\n",
       "1          Punjab                     593848.90\n",
       "2         Haryana                     348429.60\n",
       "3  Madhya Pradesh                     338644.25\n",
       "4       Rajasthan                     265994.99"
      ]
     },
     "execution_count": 12,
     "metadata": {},
     "output_type": "execute_result"
    }
   ],
   "source": [
    "# ii) Top 5 Wheat Producing States\n",
    "wheat_state = df.groupby('State Name')['WHEAT PRODUCTION (1000 tons)'].sum().sort_values(ascending=False).reset_index().head(5)\n",
    "wheat_state"
   ]
  },
  {
   "cell_type": "code",
   "execution_count": 13,
   "id": "d2b37cda",
   "metadata": {},
   "outputs": [
    {
     "data": {
      "application/vnd.plotly.v1+json": {
       "config": {
        "plotlyServerURL": "https://plot.ly"
       },
       "data": [
        {
         "alignmentgroup": "True",
         "hovertemplate": "State Name=%{x}<br>WHEAT PRODUCTION (1000 tons)=%{marker.color}<extra></extra>",
         "legendgroup": "",
         "marker": {
          "color": [
           970210.07,
           593848.9,
           348429.6,
           338644.25,
           265994.99
          ],
          "coloraxis": "coloraxis",
          "pattern": {
           "shape": ""
          }
         },
         "name": "",
         "offsetgroup": "",
         "orientation": "v",
         "showlegend": false,
         "textposition": "auto",
         "type": "bar",
         "x": [
          "Uttar Pradesh",
          "Punjab",
          "Haryana",
          "Madhya Pradesh",
          "Rajasthan"
         ],
         "xaxis": "x",
         "y": [
          970210.07,
          593848.9,
          348429.6,
          338644.25,
          265994.99
         ],
         "yaxis": "y"
        }
       ],
       "layout": {
        "barmode": "relative",
        "coloraxis": {
         "colorbar": {
          "title": {
           "text": "WHEAT PRODUCTION (1000 tons)"
          }
         },
         "colorscale": [
          [
           0,
           "#440154"
          ],
          [
           0.1111111111111111,
           "#482878"
          ],
          [
           0.2222222222222222,
           "#3e4989"
          ],
          [
           0.3333333333333333,
           "#31688e"
          ],
          [
           0.4444444444444444,
           "#26828e"
          ],
          [
           0.5555555555555556,
           "#1f9e89"
          ],
          [
           0.6666666666666666,
           "#35b779"
          ],
          [
           0.7777777777777778,
           "#6ece58"
          ],
          [
           0.8888888888888888,
           "#b5de2b"
          ],
          [
           1,
           "#fde725"
          ]
         ]
        },
        "height": 600,
        "legend": {
         "tracegroupgap": 0
        },
        "template": {
         "data": {
          "bar": [
           {
            "error_x": {
             "color": "#2a3f5f"
            },
            "error_y": {
             "color": "#2a3f5f"
            },
            "marker": {
             "line": {
              "color": "#E5ECF6",
              "width": 0.5
             },
             "pattern": {
              "fillmode": "overlay",
              "size": 10,
              "solidity": 0.2
             }
            },
            "type": "bar"
           }
          ],
          "barpolar": [
           {
            "marker": {
             "line": {
              "color": "#E5ECF6",
              "width": 0.5
             },
             "pattern": {
              "fillmode": "overlay",
              "size": 10,
              "solidity": 0.2
             }
            },
            "type": "barpolar"
           }
          ],
          "carpet": [
           {
            "aaxis": {
             "endlinecolor": "#2a3f5f",
             "gridcolor": "white",
             "linecolor": "white",
             "minorgridcolor": "white",
             "startlinecolor": "#2a3f5f"
            },
            "baxis": {
             "endlinecolor": "#2a3f5f",
             "gridcolor": "white",
             "linecolor": "white",
             "minorgridcolor": "white",
             "startlinecolor": "#2a3f5f"
            },
            "type": "carpet"
           }
          ],
          "choropleth": [
           {
            "colorbar": {
             "outlinewidth": 0,
             "ticks": ""
            },
            "type": "choropleth"
           }
          ],
          "contour": [
           {
            "colorbar": {
             "outlinewidth": 0,
             "ticks": ""
            },
            "colorscale": [
             [
              0,
              "#0d0887"
             ],
             [
              0.1111111111111111,
              "#46039f"
             ],
             [
              0.2222222222222222,
              "#7201a8"
             ],
             [
              0.3333333333333333,
              "#9c179e"
             ],
             [
              0.4444444444444444,
              "#bd3786"
             ],
             [
              0.5555555555555556,
              "#d8576b"
             ],
             [
              0.6666666666666666,
              "#ed7953"
             ],
             [
              0.7777777777777778,
              "#fb9f3a"
             ],
             [
              0.8888888888888888,
              "#fdca26"
             ],
             [
              1,
              "#f0f921"
             ]
            ],
            "type": "contour"
           }
          ],
          "contourcarpet": [
           {
            "colorbar": {
             "outlinewidth": 0,
             "ticks": ""
            },
            "type": "contourcarpet"
           }
          ],
          "heatmap": [
           {
            "colorbar": {
             "outlinewidth": 0,
             "ticks": ""
            },
            "colorscale": [
             [
              0,
              "#0d0887"
             ],
             [
              0.1111111111111111,
              "#46039f"
             ],
             [
              0.2222222222222222,
              "#7201a8"
             ],
             [
              0.3333333333333333,
              "#9c179e"
             ],
             [
              0.4444444444444444,
              "#bd3786"
             ],
             [
              0.5555555555555556,
              "#d8576b"
             ],
             [
              0.6666666666666666,
              "#ed7953"
             ],
             [
              0.7777777777777778,
              "#fb9f3a"
             ],
             [
              0.8888888888888888,
              "#fdca26"
             ],
             [
              1,
              "#f0f921"
             ]
            ],
            "type": "heatmap"
           }
          ],
          "heatmapgl": [
           {
            "colorbar": {
             "outlinewidth": 0,
             "ticks": ""
            },
            "colorscale": [
             [
              0,
              "#0d0887"
             ],
             [
              0.1111111111111111,
              "#46039f"
             ],
             [
              0.2222222222222222,
              "#7201a8"
             ],
             [
              0.3333333333333333,
              "#9c179e"
             ],
             [
              0.4444444444444444,
              "#bd3786"
             ],
             [
              0.5555555555555556,
              "#d8576b"
             ],
             [
              0.6666666666666666,
              "#ed7953"
             ],
             [
              0.7777777777777778,
              "#fb9f3a"
             ],
             [
              0.8888888888888888,
              "#fdca26"
             ],
             [
              1,
              "#f0f921"
             ]
            ],
            "type": "heatmapgl"
           }
          ],
          "histogram": [
           {
            "marker": {
             "pattern": {
              "fillmode": "overlay",
              "size": 10,
              "solidity": 0.2
             }
            },
            "type": "histogram"
           }
          ],
          "histogram2d": [
           {
            "colorbar": {
             "outlinewidth": 0,
             "ticks": ""
            },
            "colorscale": [
             [
              0,
              "#0d0887"
             ],
             [
              0.1111111111111111,
              "#46039f"
             ],
             [
              0.2222222222222222,
              "#7201a8"
             ],
             [
              0.3333333333333333,
              "#9c179e"
             ],
             [
              0.4444444444444444,
              "#bd3786"
             ],
             [
              0.5555555555555556,
              "#d8576b"
             ],
             [
              0.6666666666666666,
              "#ed7953"
             ],
             [
              0.7777777777777778,
              "#fb9f3a"
             ],
             [
              0.8888888888888888,
              "#fdca26"
             ],
             [
              1,
              "#f0f921"
             ]
            ],
            "type": "histogram2d"
           }
          ],
          "histogram2dcontour": [
           {
            "colorbar": {
             "outlinewidth": 0,
             "ticks": ""
            },
            "colorscale": [
             [
              0,
              "#0d0887"
             ],
             [
              0.1111111111111111,
              "#46039f"
             ],
             [
              0.2222222222222222,
              "#7201a8"
             ],
             [
              0.3333333333333333,
              "#9c179e"
             ],
             [
              0.4444444444444444,
              "#bd3786"
             ],
             [
              0.5555555555555556,
              "#d8576b"
             ],
             [
              0.6666666666666666,
              "#ed7953"
             ],
             [
              0.7777777777777778,
              "#fb9f3a"
             ],
             [
              0.8888888888888888,
              "#fdca26"
             ],
             [
              1,
              "#f0f921"
             ]
            ],
            "type": "histogram2dcontour"
           }
          ],
          "mesh3d": [
           {
            "colorbar": {
             "outlinewidth": 0,
             "ticks": ""
            },
            "type": "mesh3d"
           }
          ],
          "parcoords": [
           {
            "line": {
             "colorbar": {
              "outlinewidth": 0,
              "ticks": ""
             }
            },
            "type": "parcoords"
           }
          ],
          "pie": [
           {
            "automargin": true,
            "type": "pie"
           }
          ],
          "scatter": [
           {
            "fillpattern": {
             "fillmode": "overlay",
             "size": 10,
             "solidity": 0.2
            },
            "type": "scatter"
           }
          ],
          "scatter3d": [
           {
            "line": {
             "colorbar": {
              "outlinewidth": 0,
              "ticks": ""
             }
            },
            "marker": {
             "colorbar": {
              "outlinewidth": 0,
              "ticks": ""
             }
            },
            "type": "scatter3d"
           }
          ],
          "scattercarpet": [
           {
            "marker": {
             "colorbar": {
              "outlinewidth": 0,
              "ticks": ""
             }
            },
            "type": "scattercarpet"
           }
          ],
          "scattergeo": [
           {
            "marker": {
             "colorbar": {
              "outlinewidth": 0,
              "ticks": ""
             }
            },
            "type": "scattergeo"
           }
          ],
          "scattergl": [
           {
            "marker": {
             "colorbar": {
              "outlinewidth": 0,
              "ticks": ""
             }
            },
            "type": "scattergl"
           }
          ],
          "scattermapbox": [
           {
            "marker": {
             "colorbar": {
              "outlinewidth": 0,
              "ticks": ""
             }
            },
            "type": "scattermapbox"
           }
          ],
          "scatterpolar": [
           {
            "marker": {
             "colorbar": {
              "outlinewidth": 0,
              "ticks": ""
             }
            },
            "type": "scatterpolar"
           }
          ],
          "scatterpolargl": [
           {
            "marker": {
             "colorbar": {
              "outlinewidth": 0,
              "ticks": ""
             }
            },
            "type": "scatterpolargl"
           }
          ],
          "scatterternary": [
           {
            "marker": {
             "colorbar": {
              "outlinewidth": 0,
              "ticks": ""
             }
            },
            "type": "scatterternary"
           }
          ],
          "surface": [
           {
            "colorbar": {
             "outlinewidth": 0,
             "ticks": ""
            },
            "colorscale": [
             [
              0,
              "#0d0887"
             ],
             [
              0.1111111111111111,
              "#46039f"
             ],
             [
              0.2222222222222222,
              "#7201a8"
             ],
             [
              0.3333333333333333,
              "#9c179e"
             ],
             [
              0.4444444444444444,
              "#bd3786"
             ],
             [
              0.5555555555555556,
              "#d8576b"
             ],
             [
              0.6666666666666666,
              "#ed7953"
             ],
             [
              0.7777777777777778,
              "#fb9f3a"
             ],
             [
              0.8888888888888888,
              "#fdca26"
             ],
             [
              1,
              "#f0f921"
             ]
            ],
            "type": "surface"
           }
          ],
          "table": [
           {
            "cells": {
             "fill": {
              "color": "#EBF0F8"
             },
             "line": {
              "color": "white"
             }
            },
            "header": {
             "fill": {
              "color": "#C8D4E3"
             },
             "line": {
              "color": "white"
             }
            },
            "type": "table"
           }
          ]
         },
         "layout": {
          "annotationdefaults": {
           "arrowcolor": "#2a3f5f",
           "arrowhead": 0,
           "arrowwidth": 1
          },
          "autotypenumbers": "strict",
          "coloraxis": {
           "colorbar": {
            "outlinewidth": 0,
            "ticks": ""
           }
          },
          "colorscale": {
           "diverging": [
            [
             0,
             "#8e0152"
            ],
            [
             0.1,
             "#c51b7d"
            ],
            [
             0.2,
             "#de77ae"
            ],
            [
             0.3,
             "#f1b6da"
            ],
            [
             0.4,
             "#fde0ef"
            ],
            [
             0.5,
             "#f7f7f7"
            ],
            [
             0.6,
             "#e6f5d0"
            ],
            [
             0.7,
             "#b8e186"
            ],
            [
             0.8,
             "#7fbc41"
            ],
            [
             0.9,
             "#4d9221"
            ],
            [
             1,
             "#276419"
            ]
           ],
           "sequential": [
            [
             0,
             "#0d0887"
            ],
            [
             0.1111111111111111,
             "#46039f"
            ],
            [
             0.2222222222222222,
             "#7201a8"
            ],
            [
             0.3333333333333333,
             "#9c179e"
            ],
            [
             0.4444444444444444,
             "#bd3786"
            ],
            [
             0.5555555555555556,
             "#d8576b"
            ],
            [
             0.6666666666666666,
             "#ed7953"
            ],
            [
             0.7777777777777778,
             "#fb9f3a"
            ],
            [
             0.8888888888888888,
             "#fdca26"
            ],
            [
             1,
             "#f0f921"
            ]
           ],
           "sequentialminus": [
            [
             0,
             "#0d0887"
            ],
            [
             0.1111111111111111,
             "#46039f"
            ],
            [
             0.2222222222222222,
             "#7201a8"
            ],
            [
             0.3333333333333333,
             "#9c179e"
            ],
            [
             0.4444444444444444,
             "#bd3786"
            ],
            [
             0.5555555555555556,
             "#d8576b"
            ],
            [
             0.6666666666666666,
             "#ed7953"
            ],
            [
             0.7777777777777778,
             "#fb9f3a"
            ],
            [
             0.8888888888888888,
             "#fdca26"
            ],
            [
             1,
             "#f0f921"
            ]
           ]
          },
          "colorway": [
           "#636efa",
           "#EF553B",
           "#00cc96",
           "#ab63fa",
           "#FFA15A",
           "#19d3f3",
           "#FF6692",
           "#B6E880",
           "#FF97FF",
           "#FECB52"
          ],
          "font": {
           "color": "#2a3f5f"
          },
          "geo": {
           "bgcolor": "white",
           "lakecolor": "white",
           "landcolor": "#E5ECF6",
           "showlakes": true,
           "showland": true,
           "subunitcolor": "white"
          },
          "hoverlabel": {
           "align": "left"
          },
          "hovermode": "closest",
          "mapbox": {
           "style": "light"
          },
          "paper_bgcolor": "white",
          "plot_bgcolor": "#E5ECF6",
          "polar": {
           "angularaxis": {
            "gridcolor": "white",
            "linecolor": "white",
            "ticks": ""
           },
           "bgcolor": "#E5ECF6",
           "radialaxis": {
            "gridcolor": "white",
            "linecolor": "white",
            "ticks": ""
           }
          },
          "scene": {
           "xaxis": {
            "backgroundcolor": "#E5ECF6",
            "gridcolor": "white",
            "gridwidth": 2,
            "linecolor": "white",
            "showbackground": true,
            "ticks": "",
            "zerolinecolor": "white"
           },
           "yaxis": {
            "backgroundcolor": "#E5ECF6",
            "gridcolor": "white",
            "gridwidth": 2,
            "linecolor": "white",
            "showbackground": true,
            "ticks": "",
            "zerolinecolor": "white"
           },
           "zaxis": {
            "backgroundcolor": "#E5ECF6",
            "gridcolor": "white",
            "gridwidth": 2,
            "linecolor": "white",
            "showbackground": true,
            "ticks": "",
            "zerolinecolor": "white"
           }
          },
          "shapedefaults": {
           "line": {
            "color": "#2a3f5f"
           }
          },
          "ternary": {
           "aaxis": {
            "gridcolor": "white",
            "linecolor": "white",
            "ticks": ""
           },
           "baxis": {
            "gridcolor": "white",
            "linecolor": "white",
            "ticks": ""
           },
           "bgcolor": "#E5ECF6",
           "caxis": {
            "gridcolor": "white",
            "linecolor": "white",
            "ticks": ""
           }
          },
          "title": {
           "x": 0.05
          },
          "xaxis": {
           "automargin": true,
           "gridcolor": "white",
           "linecolor": "white",
           "ticks": "",
           "title": {
            "standoff": 15
           },
           "zerolinecolor": "white",
           "zerolinewidth": 2
          },
          "yaxis": {
           "automargin": true,
           "gridcolor": "white",
           "linecolor": "white",
           "ticks": "",
           "title": {
            "standoff": 15
           },
           "zerolinecolor": "white",
           "zerolinewidth": 2
          }
         }
        },
        "title": {
         "text": "Top 5 Wheat Producing States"
        },
        "width": 800,
        "xaxis": {
         "anchor": "y",
         "domain": [
          0,
          1
         ],
         "title": {
          "text": "State Name"
         }
        },
        "yaxis": {
         "anchor": "x",
         "domain": [
          0,
          1
         ],
         "title": {
          "text": "Wheat Production"
         }
        }
       }
      }
     },
     "metadata": {},
     "output_type": "display_data"
    }
   ],
   "source": [
    "# Bar Chart\n",
    "fig = px.bar(wheat_state,\n",
    "                x = 'State Name',y = 'WHEAT PRODUCTION (1000 tons)',\n",
    "                title='Top 5 Wheat Producing States',\n",
    "                labels={'State Name':'State Name','Wheat Production':'WHEAT PRODUCTION (1000 tons)'},\n",
    "                color='WHEAT PRODUCTION (1000 tons)',color_continuous_scale='viridis')\n",
    "\n",
    "fig.update_layout(xaxis_title = 'State Name',yaxis_title = 'Wheat Production')\n",
    "fig.update_layout(height = 600, width = 800)\n",
    "fig.show()"
   ]
  },
  {
   "cell_type": "code",
   "execution_count": 14,
   "id": "ae293bbf",
   "metadata": {},
   "outputs": [
    {
     "data": {
      "application/vnd.plotly.v1+json": {
       "config": {
        "plotlyServerURL": "https://plot.ly"
       },
       "data": [
        {
         "customdata": [
          [
           970210.07
          ],
          [
           593848.9
          ],
          [
           348429.6
          ],
          [
           338644.25
          ],
          [
           265994.99
          ]
         ],
         "domain": {
          "x": [
           0,
           1
          ],
          "y": [
           0,
           1
          ]
         },
         "hole": 0.2,
         "hovertemplate": "State Name=%{label}<br>WHEAT PRODUCTION (1000 tons)=%{customdata[0]}<extra></extra>",
         "labels": [
          "Uttar Pradesh",
          "Punjab",
          "Haryana",
          "Madhya Pradesh",
          "Rajasthan"
         ],
         "legendgroup": "",
         "marker": {
          "colors": [
           "rgb(251, 230, 197)",
           "rgb(245, 186, 152)",
           "rgb(238, 138, 130)",
           "rgb(220, 113, 118)",
           "rgb(200, 88, 108)"
          ]
         },
         "name": "",
         "showlegend": true,
         "textinfo": "percent+label",
         "type": "pie",
         "values": [
          970210.07,
          593848.9,
          348429.6,
          338644.25,
          265994.99
         ]
        }
       ],
       "layout": {
        "height": 600,
        "legend": {
         "tracegroupgap": 0
        },
        "piecolorway": [
         "rgb(251, 230, 197)",
         "rgb(245, 186, 152)",
         "rgb(238, 138, 130)",
         "rgb(220, 113, 118)",
         "rgb(200, 88, 108)",
         "rgb(156, 63, 93)",
         "rgb(112, 40, 74)"
        ],
        "template": {
         "data": {
          "bar": [
           {
            "error_x": {
             "color": "#2a3f5f"
            },
            "error_y": {
             "color": "#2a3f5f"
            },
            "marker": {
             "line": {
              "color": "#E5ECF6",
              "width": 0.5
             },
             "pattern": {
              "fillmode": "overlay",
              "size": 10,
              "solidity": 0.2
             }
            },
            "type": "bar"
           }
          ],
          "barpolar": [
           {
            "marker": {
             "line": {
              "color": "#E5ECF6",
              "width": 0.5
             },
             "pattern": {
              "fillmode": "overlay",
              "size": 10,
              "solidity": 0.2
             }
            },
            "type": "barpolar"
           }
          ],
          "carpet": [
           {
            "aaxis": {
             "endlinecolor": "#2a3f5f",
             "gridcolor": "white",
             "linecolor": "white",
             "minorgridcolor": "white",
             "startlinecolor": "#2a3f5f"
            },
            "baxis": {
             "endlinecolor": "#2a3f5f",
             "gridcolor": "white",
             "linecolor": "white",
             "minorgridcolor": "white",
             "startlinecolor": "#2a3f5f"
            },
            "type": "carpet"
           }
          ],
          "choropleth": [
           {
            "colorbar": {
             "outlinewidth": 0,
             "ticks": ""
            },
            "type": "choropleth"
           }
          ],
          "contour": [
           {
            "colorbar": {
             "outlinewidth": 0,
             "ticks": ""
            },
            "colorscale": [
             [
              0,
              "#0d0887"
             ],
             [
              0.1111111111111111,
              "#46039f"
             ],
             [
              0.2222222222222222,
              "#7201a8"
             ],
             [
              0.3333333333333333,
              "#9c179e"
             ],
             [
              0.4444444444444444,
              "#bd3786"
             ],
             [
              0.5555555555555556,
              "#d8576b"
             ],
             [
              0.6666666666666666,
              "#ed7953"
             ],
             [
              0.7777777777777778,
              "#fb9f3a"
             ],
             [
              0.8888888888888888,
              "#fdca26"
             ],
             [
              1,
              "#f0f921"
             ]
            ],
            "type": "contour"
           }
          ],
          "contourcarpet": [
           {
            "colorbar": {
             "outlinewidth": 0,
             "ticks": ""
            },
            "type": "contourcarpet"
           }
          ],
          "heatmap": [
           {
            "colorbar": {
             "outlinewidth": 0,
             "ticks": ""
            },
            "colorscale": [
             [
              0,
              "#0d0887"
             ],
             [
              0.1111111111111111,
              "#46039f"
             ],
             [
              0.2222222222222222,
              "#7201a8"
             ],
             [
              0.3333333333333333,
              "#9c179e"
             ],
             [
              0.4444444444444444,
              "#bd3786"
             ],
             [
              0.5555555555555556,
              "#d8576b"
             ],
             [
              0.6666666666666666,
              "#ed7953"
             ],
             [
              0.7777777777777778,
              "#fb9f3a"
             ],
             [
              0.8888888888888888,
              "#fdca26"
             ],
             [
              1,
              "#f0f921"
             ]
            ],
            "type": "heatmap"
           }
          ],
          "heatmapgl": [
           {
            "colorbar": {
             "outlinewidth": 0,
             "ticks": ""
            },
            "colorscale": [
             [
              0,
              "#0d0887"
             ],
             [
              0.1111111111111111,
              "#46039f"
             ],
             [
              0.2222222222222222,
              "#7201a8"
             ],
             [
              0.3333333333333333,
              "#9c179e"
             ],
             [
              0.4444444444444444,
              "#bd3786"
             ],
             [
              0.5555555555555556,
              "#d8576b"
             ],
             [
              0.6666666666666666,
              "#ed7953"
             ],
             [
              0.7777777777777778,
              "#fb9f3a"
             ],
             [
              0.8888888888888888,
              "#fdca26"
             ],
             [
              1,
              "#f0f921"
             ]
            ],
            "type": "heatmapgl"
           }
          ],
          "histogram": [
           {
            "marker": {
             "pattern": {
              "fillmode": "overlay",
              "size": 10,
              "solidity": 0.2
             }
            },
            "type": "histogram"
           }
          ],
          "histogram2d": [
           {
            "colorbar": {
             "outlinewidth": 0,
             "ticks": ""
            },
            "colorscale": [
             [
              0,
              "#0d0887"
             ],
             [
              0.1111111111111111,
              "#46039f"
             ],
             [
              0.2222222222222222,
              "#7201a8"
             ],
             [
              0.3333333333333333,
              "#9c179e"
             ],
             [
              0.4444444444444444,
              "#bd3786"
             ],
             [
              0.5555555555555556,
              "#d8576b"
             ],
             [
              0.6666666666666666,
              "#ed7953"
             ],
             [
              0.7777777777777778,
              "#fb9f3a"
             ],
             [
              0.8888888888888888,
              "#fdca26"
             ],
             [
              1,
              "#f0f921"
             ]
            ],
            "type": "histogram2d"
           }
          ],
          "histogram2dcontour": [
           {
            "colorbar": {
             "outlinewidth": 0,
             "ticks": ""
            },
            "colorscale": [
             [
              0,
              "#0d0887"
             ],
             [
              0.1111111111111111,
              "#46039f"
             ],
             [
              0.2222222222222222,
              "#7201a8"
             ],
             [
              0.3333333333333333,
              "#9c179e"
             ],
             [
              0.4444444444444444,
              "#bd3786"
             ],
             [
              0.5555555555555556,
              "#d8576b"
             ],
             [
              0.6666666666666666,
              "#ed7953"
             ],
             [
              0.7777777777777778,
              "#fb9f3a"
             ],
             [
              0.8888888888888888,
              "#fdca26"
             ],
             [
              1,
              "#f0f921"
             ]
            ],
            "type": "histogram2dcontour"
           }
          ],
          "mesh3d": [
           {
            "colorbar": {
             "outlinewidth": 0,
             "ticks": ""
            },
            "type": "mesh3d"
           }
          ],
          "parcoords": [
           {
            "line": {
             "colorbar": {
              "outlinewidth": 0,
              "ticks": ""
             }
            },
            "type": "parcoords"
           }
          ],
          "pie": [
           {
            "automargin": true,
            "type": "pie"
           }
          ],
          "scatter": [
           {
            "fillpattern": {
             "fillmode": "overlay",
             "size": 10,
             "solidity": 0.2
            },
            "type": "scatter"
           }
          ],
          "scatter3d": [
           {
            "line": {
             "colorbar": {
              "outlinewidth": 0,
              "ticks": ""
             }
            },
            "marker": {
             "colorbar": {
              "outlinewidth": 0,
              "ticks": ""
             }
            },
            "type": "scatter3d"
           }
          ],
          "scattercarpet": [
           {
            "marker": {
             "colorbar": {
              "outlinewidth": 0,
              "ticks": ""
             }
            },
            "type": "scattercarpet"
           }
          ],
          "scattergeo": [
           {
            "marker": {
             "colorbar": {
              "outlinewidth": 0,
              "ticks": ""
             }
            },
            "type": "scattergeo"
           }
          ],
          "scattergl": [
           {
            "marker": {
             "colorbar": {
              "outlinewidth": 0,
              "ticks": ""
             }
            },
            "type": "scattergl"
           }
          ],
          "scattermapbox": [
           {
            "marker": {
             "colorbar": {
              "outlinewidth": 0,
              "ticks": ""
             }
            },
            "type": "scattermapbox"
           }
          ],
          "scatterpolar": [
           {
            "marker": {
             "colorbar": {
              "outlinewidth": 0,
              "ticks": ""
             }
            },
            "type": "scatterpolar"
           }
          ],
          "scatterpolargl": [
           {
            "marker": {
             "colorbar": {
              "outlinewidth": 0,
              "ticks": ""
             }
            },
            "type": "scatterpolargl"
           }
          ],
          "scatterternary": [
           {
            "marker": {
             "colorbar": {
              "outlinewidth": 0,
              "ticks": ""
             }
            },
            "type": "scatterternary"
           }
          ],
          "surface": [
           {
            "colorbar": {
             "outlinewidth": 0,
             "ticks": ""
            },
            "colorscale": [
             [
              0,
              "#0d0887"
             ],
             [
              0.1111111111111111,
              "#46039f"
             ],
             [
              0.2222222222222222,
              "#7201a8"
             ],
             [
              0.3333333333333333,
              "#9c179e"
             ],
             [
              0.4444444444444444,
              "#bd3786"
             ],
             [
              0.5555555555555556,
              "#d8576b"
             ],
             [
              0.6666666666666666,
              "#ed7953"
             ],
             [
              0.7777777777777778,
              "#fb9f3a"
             ],
             [
              0.8888888888888888,
              "#fdca26"
             ],
             [
              1,
              "#f0f921"
             ]
            ],
            "type": "surface"
           }
          ],
          "table": [
           {
            "cells": {
             "fill": {
              "color": "#EBF0F8"
             },
             "line": {
              "color": "white"
             }
            },
            "header": {
             "fill": {
              "color": "#C8D4E3"
             },
             "line": {
              "color": "white"
             }
            },
            "type": "table"
           }
          ]
         },
         "layout": {
          "annotationdefaults": {
           "arrowcolor": "#2a3f5f",
           "arrowhead": 0,
           "arrowwidth": 1
          },
          "autotypenumbers": "strict",
          "coloraxis": {
           "colorbar": {
            "outlinewidth": 0,
            "ticks": ""
           }
          },
          "colorscale": {
           "diverging": [
            [
             0,
             "#8e0152"
            ],
            [
             0.1,
             "#c51b7d"
            ],
            [
             0.2,
             "#de77ae"
            ],
            [
             0.3,
             "#f1b6da"
            ],
            [
             0.4,
             "#fde0ef"
            ],
            [
             0.5,
             "#f7f7f7"
            ],
            [
             0.6,
             "#e6f5d0"
            ],
            [
             0.7,
             "#b8e186"
            ],
            [
             0.8,
             "#7fbc41"
            ],
            [
             0.9,
             "#4d9221"
            ],
            [
             1,
             "#276419"
            ]
           ],
           "sequential": [
            [
             0,
             "#0d0887"
            ],
            [
             0.1111111111111111,
             "#46039f"
            ],
            [
             0.2222222222222222,
             "#7201a8"
            ],
            [
             0.3333333333333333,
             "#9c179e"
            ],
            [
             0.4444444444444444,
             "#bd3786"
            ],
            [
             0.5555555555555556,
             "#d8576b"
            ],
            [
             0.6666666666666666,
             "#ed7953"
            ],
            [
             0.7777777777777778,
             "#fb9f3a"
            ],
            [
             0.8888888888888888,
             "#fdca26"
            ],
            [
             1,
             "#f0f921"
            ]
           ],
           "sequentialminus": [
            [
             0,
             "#0d0887"
            ],
            [
             0.1111111111111111,
             "#46039f"
            ],
            [
             0.2222222222222222,
             "#7201a8"
            ],
            [
             0.3333333333333333,
             "#9c179e"
            ],
            [
             0.4444444444444444,
             "#bd3786"
            ],
            [
             0.5555555555555556,
             "#d8576b"
            ],
            [
             0.6666666666666666,
             "#ed7953"
            ],
            [
             0.7777777777777778,
             "#fb9f3a"
            ],
            [
             0.8888888888888888,
             "#fdca26"
            ],
            [
             1,
             "#f0f921"
            ]
           ]
          },
          "colorway": [
           "#636efa",
           "#EF553B",
           "#00cc96",
           "#ab63fa",
           "#FFA15A",
           "#19d3f3",
           "#FF6692",
           "#B6E880",
           "#FF97FF",
           "#FECB52"
          ],
          "font": {
           "color": "#2a3f5f"
          },
          "geo": {
           "bgcolor": "white",
           "lakecolor": "white",
           "landcolor": "#E5ECF6",
           "showlakes": true,
           "showland": true,
           "subunitcolor": "white"
          },
          "hoverlabel": {
           "align": "left"
          },
          "hovermode": "closest",
          "mapbox": {
           "style": "light"
          },
          "paper_bgcolor": "white",
          "plot_bgcolor": "#E5ECF6",
          "polar": {
           "angularaxis": {
            "gridcolor": "white",
            "linecolor": "white",
            "ticks": ""
           },
           "bgcolor": "#E5ECF6",
           "radialaxis": {
            "gridcolor": "white",
            "linecolor": "white",
            "ticks": ""
           }
          },
          "scene": {
           "xaxis": {
            "backgroundcolor": "#E5ECF6",
            "gridcolor": "white",
            "gridwidth": 2,
            "linecolor": "white",
            "showbackground": true,
            "ticks": "",
            "zerolinecolor": "white"
           },
           "yaxis": {
            "backgroundcolor": "#E5ECF6",
            "gridcolor": "white",
            "gridwidth": 2,
            "linecolor": "white",
            "showbackground": true,
            "ticks": "",
            "zerolinecolor": "white"
           },
           "zaxis": {
            "backgroundcolor": "#E5ECF6",
            "gridcolor": "white",
            "gridwidth": 2,
            "linecolor": "white",
            "showbackground": true,
            "ticks": "",
            "zerolinecolor": "white"
           }
          },
          "shapedefaults": {
           "line": {
            "color": "#2a3f5f"
           }
          },
          "ternary": {
           "aaxis": {
            "gridcolor": "white",
            "linecolor": "white",
            "ticks": ""
           },
           "baxis": {
            "gridcolor": "white",
            "linecolor": "white",
            "ticks": ""
           },
           "bgcolor": "#E5ECF6",
           "caxis": {
            "gridcolor": "white",
            "linecolor": "white",
            "ticks": ""
           }
          },
          "title": {
           "x": 0.05
          },
          "xaxis": {
           "automargin": true,
           "gridcolor": "white",
           "linecolor": "white",
           "ticks": "",
           "title": {
            "standoff": 15
           },
           "zerolinecolor": "white",
           "zerolinewidth": 2
          },
          "yaxis": {
           "automargin": true,
           "gridcolor": "white",
           "linecolor": "white",
           "ticks": "",
           "title": {
            "standoff": 15
           },
           "zerolinecolor": "white",
           "zerolinewidth": 2
          }
         }
        },
        "title": {
         "text": "Top 5 Wheat Producing States"
        },
        "width": 800
       }
      }
     },
     "metadata": {},
     "output_type": "display_data"
    }
   ],
   "source": [
    "# Pie Chart\n",
    "fig = px.pie(wheat_state,names='State Name',values='WHEAT PRODUCTION (1000 tons)',\n",
    "                title='Top 5 Wheat Producing States',labels={'State Name':'State Name','Wheat Production':'WHEAT PRODUCTION (1000 tons)'},\n",
    "                color='WHEAT PRODUCTION (1000 tons)',color_discrete_sequence=px.colors.sequential.Burgyl,\n",
    "                hole=0.2)\n",
    "fig.update_layout(height = 600,width = 800)\n",
    "fig.update_traces(textinfo = 'percent+label')\n",
    "fig.show()"
   ]
  },
  {
   "cell_type": "markdown",
   "id": "2141d808",
   "metadata": {},
   "source": [
    "### `Oil Seed Production by Top 5 States`"
   ]
  },
  {
   "cell_type": "code",
   "execution_count": 15,
   "id": "9281effd",
   "metadata": {},
   "outputs": [
    {
     "data": {
      "application/vnd.microsoft.datawrangler.viewer.v0+json": {
       "columns": [
        {
         "name": "index",
         "rawType": "int64",
         "type": "integer"
        },
        {
         "name": "State Name",
         "rawType": "object",
         "type": "string"
        },
        {
         "name": "OILSEEDS PRODUCTION (1000 tons)",
         "rawType": "float64",
         "type": "float"
        }
       ],
       "ref": "d14d56cd-9b52-4ce2-90f5-d0c6807f5147",
       "rows": [
        [
         "0",
         "Madhya Pradesh",
         "153594.79"
        ],
        [
         "1",
         "Gujarat",
         "126224.01"
        ],
        [
         "2",
         "Rajasthan",
         "122726.86"
        ],
        [
         "3",
         "Maharashtra",
         "95567.91"
        ],
        [
         "4",
         "Andhra Pradesh",
         "76888.09"
        ]
       ],
       "shape": {
        "columns": 2,
        "rows": 5
       }
      },
      "text/html": [
       "<div>\n",
       "<style scoped>\n",
       "    .dataframe tbody tr th:only-of-type {\n",
       "        vertical-align: middle;\n",
       "    }\n",
       "\n",
       "    .dataframe tbody tr th {\n",
       "        vertical-align: top;\n",
       "    }\n",
       "\n",
       "    .dataframe thead th {\n",
       "        text-align: right;\n",
       "    }\n",
       "</style>\n",
       "<table border=\"1\" class=\"dataframe\">\n",
       "  <thead>\n",
       "    <tr style=\"text-align: right;\">\n",
       "      <th></th>\n",
       "      <th>State Name</th>\n",
       "      <th>OILSEEDS PRODUCTION (1000 tons)</th>\n",
       "    </tr>\n",
       "  </thead>\n",
       "  <tbody>\n",
       "    <tr>\n",
       "      <th>0</th>\n",
       "      <td>Madhya Pradesh</td>\n",
       "      <td>153594.79</td>\n",
       "    </tr>\n",
       "    <tr>\n",
       "      <th>1</th>\n",
       "      <td>Gujarat</td>\n",
       "      <td>126224.01</td>\n",
       "    </tr>\n",
       "    <tr>\n",
       "      <th>2</th>\n",
       "      <td>Rajasthan</td>\n",
       "      <td>122726.86</td>\n",
       "    </tr>\n",
       "    <tr>\n",
       "      <th>3</th>\n",
       "      <td>Maharashtra</td>\n",
       "      <td>95567.91</td>\n",
       "    </tr>\n",
       "    <tr>\n",
       "      <th>4</th>\n",
       "      <td>Andhra Pradesh</td>\n",
       "      <td>76888.09</td>\n",
       "    </tr>\n",
       "  </tbody>\n",
       "</table>\n",
       "</div>"
      ],
      "text/plain": [
       "       State Name  OILSEEDS PRODUCTION (1000 tons)\n",
       "0  Madhya Pradesh                        153594.79\n",
       "1         Gujarat                        126224.01\n",
       "2       Rajasthan                        122726.86\n",
       "3     Maharashtra                         95567.91\n",
       "4  Andhra Pradesh                         76888.09"
      ]
     },
     "execution_count": 15,
     "metadata": {},
     "output_type": "execute_result"
    }
   ],
   "source": [
    "# iii) Oil seed production by top 5 states\n",
    "\n",
    "oil_seed_states = df.groupby('State Name')['OILSEEDS PRODUCTION (1000 tons)'].sum().sort_values(ascending=False).reset_index().head(5)\n",
    "oil_seed_states"
   ]
  },
  {
   "cell_type": "code",
   "execution_count": null,
   "id": "4784457f",
   "metadata": {},
   "outputs": [
    {
     "data": {
      "application/vnd.plotly.v1+json": {
       "config": {
        "plotlyServerURL": "https://plot.ly"
       },
       "data": [
        {
         "alignmentgroup": "True",
         "hovertemplate": "State Name=%{x}<br>OILSEEDS PRODUCTION (1000 tons)=%{marker.color}<extra></extra>",
         "legendgroup": "",
         "marker": {
          "color": [
           153594.79,
           126224.01,
           122726.86,
           95567.91,
           76888.09
          ],
          "coloraxis": "coloraxis",
          "pattern": {
           "shape": ""
          }
         },
         "name": "",
         "offsetgroup": "",
         "orientation": "v",
         "showlegend": false,
         "textposition": "auto",
         "type": "bar",
         "x": [
          "Madhya Pradesh",
          "Gujarat",
          "Rajasthan",
          "Maharashtra",
          "Andhra Pradesh"
         ],
         "xaxis": "x",
         "y": [
          153594.79,
          126224.01,
          122726.86,
          95567.91,
          76888.09
         ],
         "yaxis": "y"
        }
       ],
       "layout": {
        "barmode": "relative",
        "coloraxis": {
         "colorbar": {
          "title": {
           "text": "OILSEEDS PRODUCTION (1000 tons)"
          }
         },
         "colorscale": [
          [
           0,
           "#440154"
          ],
          [
           0.1111111111111111,
           "#482878"
          ],
          [
           0.2222222222222222,
           "#3e4989"
          ],
          [
           0.3333333333333333,
           "#31688e"
          ],
          [
           0.4444444444444444,
           "#26828e"
          ],
          [
           0.5555555555555556,
           "#1f9e89"
          ],
          [
           0.6666666666666666,
           "#35b779"
          ],
          [
           0.7777777777777778,
           "#6ece58"
          ],
          [
           0.8888888888888888,
           "#b5de2b"
          ],
          [
           1,
           "#fde725"
          ]
         ]
        },
        "height": 600,
        "legend": {
         "tracegroupgap": 0
        },
        "template": {
         "data": {
          "bar": [
           {
            "error_x": {
             "color": "#2a3f5f"
            },
            "error_y": {
             "color": "#2a3f5f"
            },
            "marker": {
             "line": {
              "color": "#E5ECF6",
              "width": 0.5
             },
             "pattern": {
              "fillmode": "overlay",
              "size": 10,
              "solidity": 0.2
             }
            },
            "type": "bar"
           }
          ],
          "barpolar": [
           {
            "marker": {
             "line": {
              "color": "#E5ECF6",
              "width": 0.5
             },
             "pattern": {
              "fillmode": "overlay",
              "size": 10,
              "solidity": 0.2
             }
            },
            "type": "barpolar"
           }
          ],
          "carpet": [
           {
            "aaxis": {
             "endlinecolor": "#2a3f5f",
             "gridcolor": "white",
             "linecolor": "white",
             "minorgridcolor": "white",
             "startlinecolor": "#2a3f5f"
            },
            "baxis": {
             "endlinecolor": "#2a3f5f",
             "gridcolor": "white",
             "linecolor": "white",
             "minorgridcolor": "white",
             "startlinecolor": "#2a3f5f"
            },
            "type": "carpet"
           }
          ],
          "choropleth": [
           {
            "colorbar": {
             "outlinewidth": 0,
             "ticks": ""
            },
            "type": "choropleth"
           }
          ],
          "contour": [
           {
            "colorbar": {
             "outlinewidth": 0,
             "ticks": ""
            },
            "colorscale": [
             [
              0,
              "#0d0887"
             ],
             [
              0.1111111111111111,
              "#46039f"
             ],
             [
              0.2222222222222222,
              "#7201a8"
             ],
             [
              0.3333333333333333,
              "#9c179e"
             ],
             [
              0.4444444444444444,
              "#bd3786"
             ],
             [
              0.5555555555555556,
              "#d8576b"
             ],
             [
              0.6666666666666666,
              "#ed7953"
             ],
             [
              0.7777777777777778,
              "#fb9f3a"
             ],
             [
              0.8888888888888888,
              "#fdca26"
             ],
             [
              1,
              "#f0f921"
             ]
            ],
            "type": "contour"
           }
          ],
          "contourcarpet": [
           {
            "colorbar": {
             "outlinewidth": 0,
             "ticks": ""
            },
            "type": "contourcarpet"
           }
          ],
          "heatmap": [
           {
            "colorbar": {
             "outlinewidth": 0,
             "ticks": ""
            },
            "colorscale": [
             [
              0,
              "#0d0887"
             ],
             [
              0.1111111111111111,
              "#46039f"
             ],
             [
              0.2222222222222222,
              "#7201a8"
             ],
             [
              0.3333333333333333,
              "#9c179e"
             ],
             [
              0.4444444444444444,
              "#bd3786"
             ],
             [
              0.5555555555555556,
              "#d8576b"
             ],
             [
              0.6666666666666666,
              "#ed7953"
             ],
             [
              0.7777777777777778,
              "#fb9f3a"
             ],
             [
              0.8888888888888888,
              "#fdca26"
             ],
             [
              1,
              "#f0f921"
             ]
            ],
            "type": "heatmap"
           }
          ],
          "heatmapgl": [
           {
            "colorbar": {
             "outlinewidth": 0,
             "ticks": ""
            },
            "colorscale": [
             [
              0,
              "#0d0887"
             ],
             [
              0.1111111111111111,
              "#46039f"
             ],
             [
              0.2222222222222222,
              "#7201a8"
             ],
             [
              0.3333333333333333,
              "#9c179e"
             ],
             [
              0.4444444444444444,
              "#bd3786"
             ],
             [
              0.5555555555555556,
              "#d8576b"
             ],
             [
              0.6666666666666666,
              "#ed7953"
             ],
             [
              0.7777777777777778,
              "#fb9f3a"
             ],
             [
              0.8888888888888888,
              "#fdca26"
             ],
             [
              1,
              "#f0f921"
             ]
            ],
            "type": "heatmapgl"
           }
          ],
          "histogram": [
           {
            "marker": {
             "pattern": {
              "fillmode": "overlay",
              "size": 10,
              "solidity": 0.2
             }
            },
            "type": "histogram"
           }
          ],
          "histogram2d": [
           {
            "colorbar": {
             "outlinewidth": 0,
             "ticks": ""
            },
            "colorscale": [
             [
              0,
              "#0d0887"
             ],
             [
              0.1111111111111111,
              "#46039f"
             ],
             [
              0.2222222222222222,
              "#7201a8"
             ],
             [
              0.3333333333333333,
              "#9c179e"
             ],
             [
              0.4444444444444444,
              "#bd3786"
             ],
             [
              0.5555555555555556,
              "#d8576b"
             ],
             [
              0.6666666666666666,
              "#ed7953"
             ],
             [
              0.7777777777777778,
              "#fb9f3a"
             ],
             [
              0.8888888888888888,
              "#fdca26"
             ],
             [
              1,
              "#f0f921"
             ]
            ],
            "type": "histogram2d"
           }
          ],
          "histogram2dcontour": [
           {
            "colorbar": {
             "outlinewidth": 0,
             "ticks": ""
            },
            "colorscale": [
             [
              0,
              "#0d0887"
             ],
             [
              0.1111111111111111,
              "#46039f"
             ],
             [
              0.2222222222222222,
              "#7201a8"
             ],
             [
              0.3333333333333333,
              "#9c179e"
             ],
             [
              0.4444444444444444,
              "#bd3786"
             ],
             [
              0.5555555555555556,
              "#d8576b"
             ],
             [
              0.6666666666666666,
              "#ed7953"
             ],
             [
              0.7777777777777778,
              "#fb9f3a"
             ],
             [
              0.8888888888888888,
              "#fdca26"
             ],
             [
              1,
              "#f0f921"
             ]
            ],
            "type": "histogram2dcontour"
           }
          ],
          "mesh3d": [
           {
            "colorbar": {
             "outlinewidth": 0,
             "ticks": ""
            },
            "type": "mesh3d"
           }
          ],
          "parcoords": [
           {
            "line": {
             "colorbar": {
              "outlinewidth": 0,
              "ticks": ""
             }
            },
            "type": "parcoords"
           }
          ],
          "pie": [
           {
            "automargin": true,
            "type": "pie"
           }
          ],
          "scatter": [
           {
            "fillpattern": {
             "fillmode": "overlay",
             "size": 10,
             "solidity": 0.2
            },
            "type": "scatter"
           }
          ],
          "scatter3d": [
           {
            "line": {
             "colorbar": {
              "outlinewidth": 0,
              "ticks": ""
             }
            },
            "marker": {
             "colorbar": {
              "outlinewidth": 0,
              "ticks": ""
             }
            },
            "type": "scatter3d"
           }
          ],
          "scattercarpet": [
           {
            "marker": {
             "colorbar": {
              "outlinewidth": 0,
              "ticks": ""
             }
            },
            "type": "scattercarpet"
           }
          ],
          "scattergeo": [
           {
            "marker": {
             "colorbar": {
              "outlinewidth": 0,
              "ticks": ""
             }
            },
            "type": "scattergeo"
           }
          ],
          "scattergl": [
           {
            "marker": {
             "colorbar": {
              "outlinewidth": 0,
              "ticks": ""
             }
            },
            "type": "scattergl"
           }
          ],
          "scattermapbox": [
           {
            "marker": {
             "colorbar": {
              "outlinewidth": 0,
              "ticks": ""
             }
            },
            "type": "scattermapbox"
           }
          ],
          "scatterpolar": [
           {
            "marker": {
             "colorbar": {
              "outlinewidth": 0,
              "ticks": ""
             }
            },
            "type": "scatterpolar"
           }
          ],
          "scatterpolargl": [
           {
            "marker": {
             "colorbar": {
              "outlinewidth": 0,
              "ticks": ""
             }
            },
            "type": "scatterpolargl"
           }
          ],
          "scatterternary": [
           {
            "marker": {
             "colorbar": {
              "outlinewidth": 0,
              "ticks": ""
             }
            },
            "type": "scatterternary"
           }
          ],
          "surface": [
           {
            "colorbar": {
             "outlinewidth": 0,
             "ticks": ""
            },
            "colorscale": [
             [
              0,
              "#0d0887"
             ],
             [
              0.1111111111111111,
              "#46039f"
             ],
             [
              0.2222222222222222,
              "#7201a8"
             ],
             [
              0.3333333333333333,
              "#9c179e"
             ],
             [
              0.4444444444444444,
              "#bd3786"
             ],
             [
              0.5555555555555556,
              "#d8576b"
             ],
             [
              0.6666666666666666,
              "#ed7953"
             ],
             [
              0.7777777777777778,
              "#fb9f3a"
             ],
             [
              0.8888888888888888,
              "#fdca26"
             ],
             [
              1,
              "#f0f921"
             ]
            ],
            "type": "surface"
           }
          ],
          "table": [
           {
            "cells": {
             "fill": {
              "color": "#EBF0F8"
             },
             "line": {
              "color": "white"
             }
            },
            "header": {
             "fill": {
              "color": "#C8D4E3"
             },
             "line": {
              "color": "white"
             }
            },
            "type": "table"
           }
          ]
         },
         "layout": {
          "annotationdefaults": {
           "arrowcolor": "#2a3f5f",
           "arrowhead": 0,
           "arrowwidth": 1
          },
          "autotypenumbers": "strict",
          "coloraxis": {
           "colorbar": {
            "outlinewidth": 0,
            "ticks": ""
           }
          },
          "colorscale": {
           "diverging": [
            [
             0,
             "#8e0152"
            ],
            [
             0.1,
             "#c51b7d"
            ],
            [
             0.2,
             "#de77ae"
            ],
            [
             0.3,
             "#f1b6da"
            ],
            [
             0.4,
             "#fde0ef"
            ],
            [
             0.5,
             "#f7f7f7"
            ],
            [
             0.6,
             "#e6f5d0"
            ],
            [
             0.7,
             "#b8e186"
            ],
            [
             0.8,
             "#7fbc41"
            ],
            [
             0.9,
             "#4d9221"
            ],
            [
             1,
             "#276419"
            ]
           ],
           "sequential": [
            [
             0,
             "#0d0887"
            ],
            [
             0.1111111111111111,
             "#46039f"
            ],
            [
             0.2222222222222222,
             "#7201a8"
            ],
            [
             0.3333333333333333,
             "#9c179e"
            ],
            [
             0.4444444444444444,
             "#bd3786"
            ],
            [
             0.5555555555555556,
             "#d8576b"
            ],
            [
             0.6666666666666666,
             "#ed7953"
            ],
            [
             0.7777777777777778,
             "#fb9f3a"
            ],
            [
             0.8888888888888888,
             "#fdca26"
            ],
            [
             1,
             "#f0f921"
            ]
           ],
           "sequentialminus": [
            [
             0,
             "#0d0887"
            ],
            [
             0.1111111111111111,
             "#46039f"
            ],
            [
             0.2222222222222222,
             "#7201a8"
            ],
            [
             0.3333333333333333,
             "#9c179e"
            ],
            [
             0.4444444444444444,
             "#bd3786"
            ],
            [
             0.5555555555555556,
             "#d8576b"
            ],
            [
             0.6666666666666666,
             "#ed7953"
            ],
            [
             0.7777777777777778,
             "#fb9f3a"
            ],
            [
             0.8888888888888888,
             "#fdca26"
            ],
            [
             1,
             "#f0f921"
            ]
           ]
          },
          "colorway": [
           "#636efa",
           "#EF553B",
           "#00cc96",
           "#ab63fa",
           "#FFA15A",
           "#19d3f3",
           "#FF6692",
           "#B6E880",
           "#FF97FF",
           "#FECB52"
          ],
          "font": {
           "color": "#2a3f5f"
          },
          "geo": {
           "bgcolor": "white",
           "lakecolor": "white",
           "landcolor": "#E5ECF6",
           "showlakes": true,
           "showland": true,
           "subunitcolor": "white"
          },
          "hoverlabel": {
           "align": "left"
          },
          "hovermode": "closest",
          "mapbox": {
           "style": "light"
          },
          "paper_bgcolor": "white",
          "plot_bgcolor": "#E5ECF6",
          "polar": {
           "angularaxis": {
            "gridcolor": "white",
            "linecolor": "white",
            "ticks": ""
           },
           "bgcolor": "#E5ECF6",
           "radialaxis": {
            "gridcolor": "white",
            "linecolor": "white",
            "ticks": ""
           }
          },
          "scene": {
           "xaxis": {
            "backgroundcolor": "#E5ECF6",
            "gridcolor": "white",
            "gridwidth": 2,
            "linecolor": "white",
            "showbackground": true,
            "ticks": "",
            "zerolinecolor": "white"
           },
           "yaxis": {
            "backgroundcolor": "#E5ECF6",
            "gridcolor": "white",
            "gridwidth": 2,
            "linecolor": "white",
            "showbackground": true,
            "ticks": "",
            "zerolinecolor": "white"
           },
           "zaxis": {
            "backgroundcolor": "#E5ECF6",
            "gridcolor": "white",
            "gridwidth": 2,
            "linecolor": "white",
            "showbackground": true,
            "ticks": "",
            "zerolinecolor": "white"
           }
          },
          "shapedefaults": {
           "line": {
            "color": "#2a3f5f"
           }
          },
          "ternary": {
           "aaxis": {
            "gridcolor": "white",
            "linecolor": "white",
            "ticks": ""
           },
           "baxis": {
            "gridcolor": "white",
            "linecolor": "white",
            "ticks": ""
           },
           "bgcolor": "#E5ECF6",
           "caxis": {
            "gridcolor": "white",
            "linecolor": "white",
            "ticks": ""
           }
          },
          "title": {
           "x": 0.05
          },
          "xaxis": {
           "automargin": true,
           "gridcolor": "white",
           "linecolor": "white",
           "ticks": "",
           "title": {
            "standoff": 15
           },
           "zerolinecolor": "white",
           "zerolinewidth": 2
          },
          "yaxis": {
           "automargin": true,
           "gridcolor": "white",
           "linecolor": "white",
           "ticks": "",
           "title": {
            "standoff": 15
           },
           "zerolinecolor": "white",
           "zerolinewidth": 2
          }
         }
        },
        "title": {
         "text": "Top 5 Oil Seed Producing States"
        },
        "width": 800,
        "xaxis": {
         "anchor": "y",
         "domain": [
          0,
          1
         ],
         "title": {
          "text": "State Name"
         }
        },
        "yaxis": {
         "anchor": "x",
         "domain": [
          0,
          1
         ],
         "title": {
          "text": "Oil Seed Production"
         }
        }
       }
      }
     },
     "metadata": {},
     "output_type": "display_data"
    }
   ],
   "source": [
    "# Bar Chart\n",
    "fig = px.bar(oil_seed_states,x='State Name',y='OILSEEDS PRODUCTION (1000 tons)',\n",
    "                title='Top 5 Oil Seed Producing States',labels={'State Name':'State Name','Oil Seed Production':'OILSEEDS PRODUCTION (1000 tons)'},\n",
    "                color='OILSEEDS PRODUCTION (1000 tons)',color_continuous_scale='Viridis',\n",
    "                )\n",
    "\n",
    "fig.update_layout(xaxis_title = 'State Name', yaxis_title = 'Oil Seed Production')\n",
    "fig.update_layout(height = 600,width = 800)\n",
    "fig.show()"
   ]
  },
  {
   "cell_type": "markdown",
   "id": "301720c7",
   "metadata": {},
   "source": [
    "### `Top 7 SUNFLOWER PRODUCTION  State`"
   ]
  },
  {
   "cell_type": "code",
   "execution_count": 17,
   "id": "d7ddd5f6",
   "metadata": {},
   "outputs": [
    {
     "data": {
      "application/vnd.microsoft.datawrangler.viewer.v0+json": {
       "columns": [
        {
         "name": "index",
         "rawType": "int64",
         "type": "integer"
        },
        {
         "name": "State Name",
         "rawType": "object",
         "type": "string"
        },
        {
         "name": "SUNFLOWER PRODUCTION (1000 tons)",
         "rawType": "float64",
         "type": "float"
        }
       ],
       "ref": "72375919-685e-43de-86fa-0635e82922f5",
       "rows": [
        [
         "0",
         "Karnataka",
         "10785.87"
        ],
        [
         "1",
         "Maharashtra",
         "5599.46"
        ],
        [
         "2",
         "Andhra Pradesh",
         "4447.78"
        ],
        [
         "3",
         "Telangana",
         "1401.06"
        ],
        [
         "4",
         "Punjab",
         "1081.86"
        ],
        [
         "5",
         "Tamil Nadu",
         "762.38"
        ],
        [
         "6",
         "Uttar Pradesh",
         "552.66"
        ]
       ],
       "shape": {
        "columns": 2,
        "rows": 7
       }
      },
      "text/html": [
       "<div>\n",
       "<style scoped>\n",
       "    .dataframe tbody tr th:only-of-type {\n",
       "        vertical-align: middle;\n",
       "    }\n",
       "\n",
       "    .dataframe tbody tr th {\n",
       "        vertical-align: top;\n",
       "    }\n",
       "\n",
       "    .dataframe thead th {\n",
       "        text-align: right;\n",
       "    }\n",
       "</style>\n",
       "<table border=\"1\" class=\"dataframe\">\n",
       "  <thead>\n",
       "    <tr style=\"text-align: right;\">\n",
       "      <th></th>\n",
       "      <th>State Name</th>\n",
       "      <th>SUNFLOWER PRODUCTION (1000 tons)</th>\n",
       "    </tr>\n",
       "  </thead>\n",
       "  <tbody>\n",
       "    <tr>\n",
       "      <th>0</th>\n",
       "      <td>Karnataka</td>\n",
       "      <td>10785.87</td>\n",
       "    </tr>\n",
       "    <tr>\n",
       "      <th>1</th>\n",
       "      <td>Maharashtra</td>\n",
       "      <td>5599.46</td>\n",
       "    </tr>\n",
       "    <tr>\n",
       "      <th>2</th>\n",
       "      <td>Andhra Pradesh</td>\n",
       "      <td>4447.78</td>\n",
       "    </tr>\n",
       "    <tr>\n",
       "      <th>3</th>\n",
       "      <td>Telangana</td>\n",
       "      <td>1401.06</td>\n",
       "    </tr>\n",
       "    <tr>\n",
       "      <th>4</th>\n",
       "      <td>Punjab</td>\n",
       "      <td>1081.86</td>\n",
       "    </tr>\n",
       "    <tr>\n",
       "      <th>5</th>\n",
       "      <td>Tamil Nadu</td>\n",
       "      <td>762.38</td>\n",
       "    </tr>\n",
       "    <tr>\n",
       "      <th>6</th>\n",
       "      <td>Uttar Pradesh</td>\n",
       "      <td>552.66</td>\n",
       "    </tr>\n",
       "  </tbody>\n",
       "</table>\n",
       "</div>"
      ],
      "text/plain": [
       "       State Name  SUNFLOWER PRODUCTION (1000 tons)\n",
       "0       Karnataka                          10785.87\n",
       "1     Maharashtra                           5599.46\n",
       "2  Andhra Pradesh                           4447.78\n",
       "3       Telangana                           1401.06\n",
       "4          Punjab                           1081.86\n",
       "5      Tamil Nadu                            762.38\n",
       "6   Uttar Pradesh                            552.66"
      ]
     },
     "execution_count": 17,
     "metadata": {},
     "output_type": "execute_result"
    }
   ],
   "source": [
    "# Top 7 SUNFLOWER PRODUCTION  State\n",
    "\n",
    "sunflower_state = df.groupby('State Name')['SUNFLOWER PRODUCTION (1000 tons)'].sum().sort_values(ascending=False).reset_index().head(7)\n",
    "sunflower_state"
   ]
  },
  {
   "cell_type": "code",
   "execution_count": 18,
   "id": "88b8580d",
   "metadata": {},
   "outputs": [
    {
     "data": {
      "application/vnd.plotly.v1+json": {
       "config": {
        "plotlyServerURL": "https://plot.ly"
       },
       "data": [
        {
         "alignmentgroup": "True",
         "hovertemplate": "State Name=%{x}<br>Sunflower Production=%{y}<extra></extra>",
         "legendgroup": "Karnataka",
         "marker": {
          "color": "rgb(251, 230, 197)",
          "pattern": {
           "shape": ""
          }
         },
         "name": "Karnataka",
         "offsetgroup": "Karnataka",
         "orientation": "v",
         "showlegend": true,
         "textposition": "auto",
         "type": "bar",
         "x": [
          "Karnataka"
         ],
         "xaxis": "x",
         "y": [
          10785.87
         ],
         "yaxis": "y"
        },
        {
         "alignmentgroup": "True",
         "hovertemplate": "State Name=%{x}<br>Sunflower Production=%{y}<extra></extra>",
         "legendgroup": "Maharashtra",
         "marker": {
          "color": "rgb(245, 186, 152)",
          "pattern": {
           "shape": ""
          }
         },
         "name": "Maharashtra",
         "offsetgroup": "Maharashtra",
         "orientation": "v",
         "showlegend": true,
         "textposition": "auto",
         "type": "bar",
         "x": [
          "Maharashtra"
         ],
         "xaxis": "x",
         "y": [
          5599.46
         ],
         "yaxis": "y"
        },
        {
         "alignmentgroup": "True",
         "hovertemplate": "State Name=%{x}<br>Sunflower Production=%{y}<extra></extra>",
         "legendgroup": "Andhra Pradesh",
         "marker": {
          "color": "rgb(238, 138, 130)",
          "pattern": {
           "shape": ""
          }
         },
         "name": "Andhra Pradesh",
         "offsetgroup": "Andhra Pradesh",
         "orientation": "v",
         "showlegend": true,
         "textposition": "auto",
         "type": "bar",
         "x": [
          "Andhra Pradesh"
         ],
         "xaxis": "x",
         "y": [
          4447.78
         ],
         "yaxis": "y"
        },
        {
         "alignmentgroup": "True",
         "hovertemplate": "State Name=%{x}<br>Sunflower Production=%{y}<extra></extra>",
         "legendgroup": "Telangana",
         "marker": {
          "color": "rgb(220, 113, 118)",
          "pattern": {
           "shape": ""
          }
         },
         "name": "Telangana",
         "offsetgroup": "Telangana",
         "orientation": "v",
         "showlegend": true,
         "textposition": "auto",
         "type": "bar",
         "x": [
          "Telangana"
         ],
         "xaxis": "x",
         "y": [
          1401.06
         ],
         "yaxis": "y"
        },
        {
         "alignmentgroup": "True",
         "hovertemplate": "State Name=%{x}<br>Sunflower Production=%{y}<extra></extra>",
         "legendgroup": "Punjab",
         "marker": {
          "color": "rgb(200, 88, 108)",
          "pattern": {
           "shape": ""
          }
         },
         "name": "Punjab",
         "offsetgroup": "Punjab",
         "orientation": "v",
         "showlegend": true,
         "textposition": "auto",
         "type": "bar",
         "x": [
          "Punjab"
         ],
         "xaxis": "x",
         "y": [
          1081.86
         ],
         "yaxis": "y"
        },
        {
         "alignmentgroup": "True",
         "hovertemplate": "State Name=%{x}<br>Sunflower Production=%{y}<extra></extra>",
         "legendgroup": "Tamil Nadu",
         "marker": {
          "color": "rgb(156, 63, 93)",
          "pattern": {
           "shape": ""
          }
         },
         "name": "Tamil Nadu",
         "offsetgroup": "Tamil Nadu",
         "orientation": "v",
         "showlegend": true,
         "textposition": "auto",
         "type": "bar",
         "x": [
          "Tamil Nadu"
         ],
         "xaxis": "x",
         "y": [
          762.38
         ],
         "yaxis": "y"
        },
        {
         "alignmentgroup": "True",
         "hovertemplate": "State Name=%{x}<br>Sunflower Production=%{y}<extra></extra>",
         "legendgroup": "Uttar Pradesh",
         "marker": {
          "color": "rgb(112, 40, 74)",
          "pattern": {
           "shape": ""
          }
         },
         "name": "Uttar Pradesh",
         "offsetgroup": "Uttar Pradesh",
         "orientation": "v",
         "showlegend": true,
         "textposition": "auto",
         "type": "bar",
         "x": [
          "Uttar Pradesh"
         ],
         "xaxis": "x",
         "y": [
          552.66
         ],
         "yaxis": "y"
        }
       ],
       "layout": {
        "barmode": "relative",
        "height": 500,
        "legend": {
         "title": {
          "text": "State Name"
         },
         "tracegroupgap": 0
        },
        "template": {
         "data": {
          "bar": [
           {
            "error_x": {
             "color": "#2a3f5f"
            },
            "error_y": {
             "color": "#2a3f5f"
            },
            "marker": {
             "line": {
              "color": "#E5ECF6",
              "width": 0.5
             },
             "pattern": {
              "fillmode": "overlay",
              "size": 10,
              "solidity": 0.2
             }
            },
            "type": "bar"
           }
          ],
          "barpolar": [
           {
            "marker": {
             "line": {
              "color": "#E5ECF6",
              "width": 0.5
             },
             "pattern": {
              "fillmode": "overlay",
              "size": 10,
              "solidity": 0.2
             }
            },
            "type": "barpolar"
           }
          ],
          "carpet": [
           {
            "aaxis": {
             "endlinecolor": "#2a3f5f",
             "gridcolor": "white",
             "linecolor": "white",
             "minorgridcolor": "white",
             "startlinecolor": "#2a3f5f"
            },
            "baxis": {
             "endlinecolor": "#2a3f5f",
             "gridcolor": "white",
             "linecolor": "white",
             "minorgridcolor": "white",
             "startlinecolor": "#2a3f5f"
            },
            "type": "carpet"
           }
          ],
          "choropleth": [
           {
            "colorbar": {
             "outlinewidth": 0,
             "ticks": ""
            },
            "type": "choropleth"
           }
          ],
          "contour": [
           {
            "colorbar": {
             "outlinewidth": 0,
             "ticks": ""
            },
            "colorscale": [
             [
              0,
              "#0d0887"
             ],
             [
              0.1111111111111111,
              "#46039f"
             ],
             [
              0.2222222222222222,
              "#7201a8"
             ],
             [
              0.3333333333333333,
              "#9c179e"
             ],
             [
              0.4444444444444444,
              "#bd3786"
             ],
             [
              0.5555555555555556,
              "#d8576b"
             ],
             [
              0.6666666666666666,
              "#ed7953"
             ],
             [
              0.7777777777777778,
              "#fb9f3a"
             ],
             [
              0.8888888888888888,
              "#fdca26"
             ],
             [
              1,
              "#f0f921"
             ]
            ],
            "type": "contour"
           }
          ],
          "contourcarpet": [
           {
            "colorbar": {
             "outlinewidth": 0,
             "ticks": ""
            },
            "type": "contourcarpet"
           }
          ],
          "heatmap": [
           {
            "colorbar": {
             "outlinewidth": 0,
             "ticks": ""
            },
            "colorscale": [
             [
              0,
              "#0d0887"
             ],
             [
              0.1111111111111111,
              "#46039f"
             ],
             [
              0.2222222222222222,
              "#7201a8"
             ],
             [
              0.3333333333333333,
              "#9c179e"
             ],
             [
              0.4444444444444444,
              "#bd3786"
             ],
             [
              0.5555555555555556,
              "#d8576b"
             ],
             [
              0.6666666666666666,
              "#ed7953"
             ],
             [
              0.7777777777777778,
              "#fb9f3a"
             ],
             [
              0.8888888888888888,
              "#fdca26"
             ],
             [
              1,
              "#f0f921"
             ]
            ],
            "type": "heatmap"
           }
          ],
          "heatmapgl": [
           {
            "colorbar": {
             "outlinewidth": 0,
             "ticks": ""
            },
            "colorscale": [
             [
              0,
              "#0d0887"
             ],
             [
              0.1111111111111111,
              "#46039f"
             ],
             [
              0.2222222222222222,
              "#7201a8"
             ],
             [
              0.3333333333333333,
              "#9c179e"
             ],
             [
              0.4444444444444444,
              "#bd3786"
             ],
             [
              0.5555555555555556,
              "#d8576b"
             ],
             [
              0.6666666666666666,
              "#ed7953"
             ],
             [
              0.7777777777777778,
              "#fb9f3a"
             ],
             [
              0.8888888888888888,
              "#fdca26"
             ],
             [
              1,
              "#f0f921"
             ]
            ],
            "type": "heatmapgl"
           }
          ],
          "histogram": [
           {
            "marker": {
             "pattern": {
              "fillmode": "overlay",
              "size": 10,
              "solidity": 0.2
             }
            },
            "type": "histogram"
           }
          ],
          "histogram2d": [
           {
            "colorbar": {
             "outlinewidth": 0,
             "ticks": ""
            },
            "colorscale": [
             [
              0,
              "#0d0887"
             ],
             [
              0.1111111111111111,
              "#46039f"
             ],
             [
              0.2222222222222222,
              "#7201a8"
             ],
             [
              0.3333333333333333,
              "#9c179e"
             ],
             [
              0.4444444444444444,
              "#bd3786"
             ],
             [
              0.5555555555555556,
              "#d8576b"
             ],
             [
              0.6666666666666666,
              "#ed7953"
             ],
             [
              0.7777777777777778,
              "#fb9f3a"
             ],
             [
              0.8888888888888888,
              "#fdca26"
             ],
             [
              1,
              "#f0f921"
             ]
            ],
            "type": "histogram2d"
           }
          ],
          "histogram2dcontour": [
           {
            "colorbar": {
             "outlinewidth": 0,
             "ticks": ""
            },
            "colorscale": [
             [
              0,
              "#0d0887"
             ],
             [
              0.1111111111111111,
              "#46039f"
             ],
             [
              0.2222222222222222,
              "#7201a8"
             ],
             [
              0.3333333333333333,
              "#9c179e"
             ],
             [
              0.4444444444444444,
              "#bd3786"
             ],
             [
              0.5555555555555556,
              "#d8576b"
             ],
             [
              0.6666666666666666,
              "#ed7953"
             ],
             [
              0.7777777777777778,
              "#fb9f3a"
             ],
             [
              0.8888888888888888,
              "#fdca26"
             ],
             [
              1,
              "#f0f921"
             ]
            ],
            "type": "histogram2dcontour"
           }
          ],
          "mesh3d": [
           {
            "colorbar": {
             "outlinewidth": 0,
             "ticks": ""
            },
            "type": "mesh3d"
           }
          ],
          "parcoords": [
           {
            "line": {
             "colorbar": {
              "outlinewidth": 0,
              "ticks": ""
             }
            },
            "type": "parcoords"
           }
          ],
          "pie": [
           {
            "automargin": true,
            "type": "pie"
           }
          ],
          "scatter": [
           {
            "fillpattern": {
             "fillmode": "overlay",
             "size": 10,
             "solidity": 0.2
            },
            "type": "scatter"
           }
          ],
          "scatter3d": [
           {
            "line": {
             "colorbar": {
              "outlinewidth": 0,
              "ticks": ""
             }
            },
            "marker": {
             "colorbar": {
              "outlinewidth": 0,
              "ticks": ""
             }
            },
            "type": "scatter3d"
           }
          ],
          "scattercarpet": [
           {
            "marker": {
             "colorbar": {
              "outlinewidth": 0,
              "ticks": ""
             }
            },
            "type": "scattercarpet"
           }
          ],
          "scattergeo": [
           {
            "marker": {
             "colorbar": {
              "outlinewidth": 0,
              "ticks": ""
             }
            },
            "type": "scattergeo"
           }
          ],
          "scattergl": [
           {
            "marker": {
             "colorbar": {
              "outlinewidth": 0,
              "ticks": ""
             }
            },
            "type": "scattergl"
           }
          ],
          "scattermapbox": [
           {
            "marker": {
             "colorbar": {
              "outlinewidth": 0,
              "ticks": ""
             }
            },
            "type": "scattermapbox"
           }
          ],
          "scatterpolar": [
           {
            "marker": {
             "colorbar": {
              "outlinewidth": 0,
              "ticks": ""
             }
            },
            "type": "scatterpolar"
           }
          ],
          "scatterpolargl": [
           {
            "marker": {
             "colorbar": {
              "outlinewidth": 0,
              "ticks": ""
             }
            },
            "type": "scatterpolargl"
           }
          ],
          "scatterternary": [
           {
            "marker": {
             "colorbar": {
              "outlinewidth": 0,
              "ticks": ""
             }
            },
            "type": "scatterternary"
           }
          ],
          "surface": [
           {
            "colorbar": {
             "outlinewidth": 0,
             "ticks": ""
            },
            "colorscale": [
             [
              0,
              "#0d0887"
             ],
             [
              0.1111111111111111,
              "#46039f"
             ],
             [
              0.2222222222222222,
              "#7201a8"
             ],
             [
              0.3333333333333333,
              "#9c179e"
             ],
             [
              0.4444444444444444,
              "#bd3786"
             ],
             [
              0.5555555555555556,
              "#d8576b"
             ],
             [
              0.6666666666666666,
              "#ed7953"
             ],
             [
              0.7777777777777778,
              "#fb9f3a"
             ],
             [
              0.8888888888888888,
              "#fdca26"
             ],
             [
              1,
              "#f0f921"
             ]
            ],
            "type": "surface"
           }
          ],
          "table": [
           {
            "cells": {
             "fill": {
              "color": "#EBF0F8"
             },
             "line": {
              "color": "white"
             }
            },
            "header": {
             "fill": {
              "color": "#C8D4E3"
             },
             "line": {
              "color": "white"
             }
            },
            "type": "table"
           }
          ]
         },
         "layout": {
          "annotationdefaults": {
           "arrowcolor": "#2a3f5f",
           "arrowhead": 0,
           "arrowwidth": 1
          },
          "autotypenumbers": "strict",
          "coloraxis": {
           "colorbar": {
            "outlinewidth": 0,
            "ticks": ""
           }
          },
          "colorscale": {
           "diverging": [
            [
             0,
             "#8e0152"
            ],
            [
             0.1,
             "#c51b7d"
            ],
            [
             0.2,
             "#de77ae"
            ],
            [
             0.3,
             "#f1b6da"
            ],
            [
             0.4,
             "#fde0ef"
            ],
            [
             0.5,
             "#f7f7f7"
            ],
            [
             0.6,
             "#e6f5d0"
            ],
            [
             0.7,
             "#b8e186"
            ],
            [
             0.8,
             "#7fbc41"
            ],
            [
             0.9,
             "#4d9221"
            ],
            [
             1,
             "#276419"
            ]
           ],
           "sequential": [
            [
             0,
             "#0d0887"
            ],
            [
             0.1111111111111111,
             "#46039f"
            ],
            [
             0.2222222222222222,
             "#7201a8"
            ],
            [
             0.3333333333333333,
             "#9c179e"
            ],
            [
             0.4444444444444444,
             "#bd3786"
            ],
            [
             0.5555555555555556,
             "#d8576b"
            ],
            [
             0.6666666666666666,
             "#ed7953"
            ],
            [
             0.7777777777777778,
             "#fb9f3a"
            ],
            [
             0.8888888888888888,
             "#fdca26"
            ],
            [
             1,
             "#f0f921"
            ]
           ],
           "sequentialminus": [
            [
             0,
             "#0d0887"
            ],
            [
             0.1111111111111111,
             "#46039f"
            ],
            [
             0.2222222222222222,
             "#7201a8"
            ],
            [
             0.3333333333333333,
             "#9c179e"
            ],
            [
             0.4444444444444444,
             "#bd3786"
            ],
            [
             0.5555555555555556,
             "#d8576b"
            ],
            [
             0.6666666666666666,
             "#ed7953"
            ],
            [
             0.7777777777777778,
             "#fb9f3a"
            ],
            [
             0.8888888888888888,
             "#fdca26"
            ],
            [
             1,
             "#f0f921"
            ]
           ]
          },
          "colorway": [
           "#636efa",
           "#EF553B",
           "#00cc96",
           "#ab63fa",
           "#FFA15A",
           "#19d3f3",
           "#FF6692",
           "#B6E880",
           "#FF97FF",
           "#FECB52"
          ],
          "font": {
           "color": "#2a3f5f"
          },
          "geo": {
           "bgcolor": "white",
           "lakecolor": "white",
           "landcolor": "#E5ECF6",
           "showlakes": true,
           "showland": true,
           "subunitcolor": "white"
          },
          "hoverlabel": {
           "align": "left"
          },
          "hovermode": "closest",
          "mapbox": {
           "style": "light"
          },
          "paper_bgcolor": "white",
          "plot_bgcolor": "#E5ECF6",
          "polar": {
           "angularaxis": {
            "gridcolor": "white",
            "linecolor": "white",
            "ticks": ""
           },
           "bgcolor": "#E5ECF6",
           "radialaxis": {
            "gridcolor": "white",
            "linecolor": "white",
            "ticks": ""
           }
          },
          "scene": {
           "xaxis": {
            "backgroundcolor": "#E5ECF6",
            "gridcolor": "white",
            "gridwidth": 2,
            "linecolor": "white",
            "showbackground": true,
            "ticks": "",
            "zerolinecolor": "white"
           },
           "yaxis": {
            "backgroundcolor": "#E5ECF6",
            "gridcolor": "white",
            "gridwidth": 2,
            "linecolor": "white",
            "showbackground": true,
            "ticks": "",
            "zerolinecolor": "white"
           },
           "zaxis": {
            "backgroundcolor": "#E5ECF6",
            "gridcolor": "white",
            "gridwidth": 2,
            "linecolor": "white",
            "showbackground": true,
            "ticks": "",
            "zerolinecolor": "white"
           }
          },
          "shapedefaults": {
           "line": {
            "color": "#2a3f5f"
           }
          },
          "ternary": {
           "aaxis": {
            "gridcolor": "white",
            "linecolor": "white",
            "ticks": ""
           },
           "baxis": {
            "gridcolor": "white",
            "linecolor": "white",
            "ticks": ""
           },
           "bgcolor": "#E5ECF6",
           "caxis": {
            "gridcolor": "white",
            "linecolor": "white",
            "ticks": ""
           }
          },
          "title": {
           "x": 0.05
          },
          "xaxis": {
           "automargin": true,
           "gridcolor": "white",
           "linecolor": "white",
           "ticks": "",
           "title": {
            "standoff": 15
           },
           "zerolinecolor": "white",
           "zerolinewidth": 2
          },
          "yaxis": {
           "automargin": true,
           "gridcolor": "white",
           "linecolor": "white",
           "ticks": "",
           "title": {
            "standoff": 15
           },
           "zerolinecolor": "white",
           "zerolinewidth": 2
          }
         }
        },
        "title": {
         "text": "Top 7 SUNFLOWER PRODUCTION States"
        },
        "width": 800,
        "xaxis": {
         "anchor": "y",
         "categoryarray": [
          "Karnataka",
          "Maharashtra",
          "Andhra Pradesh",
          "Telangana",
          "Punjab",
          "Tamil Nadu",
          "Uttar Pradesh"
         ],
         "categoryorder": "array",
         "domain": [
          0,
          1
         ],
         "title": {
          "text": "State Name"
         }
        },
        "yaxis": {
         "anchor": "x",
         "domain": [
          0,
          1
         ],
         "title": {
          "text": "Sunflower Production"
         }
        }
       }
      }
     },
     "metadata": {},
     "output_type": "display_data"
    }
   ],
   "source": [
    "fig = px.bar(sunflower_state,x='State Name',y='SUNFLOWER PRODUCTION (1000 tons)',title='Top 7 SUNFLOWER PRODUCTION States',labels={'State Name':'State Name','SUNFLOWER PRODUCTION (1000 tons)':'Sunflower Production'},color='State Name',color_discrete_sequence=px.colors.sequential.Burgyl)\n",
    "\n",
    "fig.update_layout(height = 500,width = 800)\n",
    "\n",
    "fig.show()"
   ]
  },
  {
   "cell_type": "markdown",
   "id": "fab20593",
   "metadata": {},
   "source": [
    "### `India's SUGARCANE PRODUCTION From Last 50 Years`"
   ]
  },
  {
   "cell_type": "code",
   "execution_count": 19,
   "id": "54b73c91",
   "metadata": {},
   "outputs": [
    {
     "data": {
      "application/vnd.microsoft.datawrangler.viewer.v0+json": {
       "columns": [
        {
         "name": "index",
         "rawType": "int64",
         "type": "integer"
        },
        {
         "name": "Year",
         "rawType": "int64",
         "type": "integer"
        },
        {
         "name": "SUGARCANE PRODUCTION (1000 tons)",
         "rawType": "float64",
         "type": "float"
        }
       ],
       "ref": "97ff55df-45eb-4472-a709-b650be5875d5",
       "rows": [
        [
         "2",
         "1968",
         "12720.7"
        ],
        [
         "3",
         "1969",
         "13719.57"
        ],
        [
         "4",
         "1970",
         "12381.6"
        ],
        [
         "5",
         "1971",
         "11664.01"
        ],
        [
         "6",
         "1972",
         "12573.28"
        ],
        [
         "7",
         "1973",
         "14392.62"
        ],
        [
         "8",
         "1974",
         "14640.45"
        ],
        [
         "9",
         "1975",
         "14931.26"
        ],
        [
         "10",
         "1976",
         "15480.12"
        ],
        [
         "11",
         "1977",
         "18136.92"
        ],
        [
         "12",
         "1978",
         "15610.47"
        ],
        [
         "13",
         "1979",
         "12689.56"
        ],
        [
         "14",
         "1980",
         "15153.07"
        ],
        [
         "15",
         "1981",
         "18017.94"
        ],
        [
         "16",
         "1982",
         "18617.78"
        ],
        [
         "17",
         "1983",
         "17344.32"
        ],
        [
         "18",
         "1984",
         "17009.6"
        ],
        [
         "19",
         "1985",
         "16843.8"
        ],
        [
         "20",
         "1986",
         "17952.7"
        ],
        [
         "21",
         "1987",
         "19262.1"
        ],
        [
         "22",
         "1988",
         "20234.53"
        ],
        [
         "23",
         "1989",
         "22000.56"
        ],
        [
         "24",
         "1990",
         "24073.07"
        ],
        [
         "25",
         "1991",
         "25666.7"
        ],
        [
         "26",
         "1992",
         "23642.98"
        ],
        [
         "27",
         "1993",
         "24187.27"
        ],
        [
         "28",
         "1994",
         "28496.59"
        ],
        [
         "29",
         "1995",
         "29164.69"
        ],
        [
         "30",
         "1996",
         "27444.29"
        ],
        [
         "31",
         "1997",
         "27612.42"
        ],
        [
         "32",
         "1998",
         "29533.07"
        ],
        [
         "33",
         "1999",
         "30489.420000000002"
        ],
        [
         "34",
         "2000",
         "30147.27"
        ],
        [
         "35",
         "2001",
         "30095.87"
        ],
        [
         "36",
         "2002",
         "28905.09"
        ],
        [
         "37",
         "2003",
         "23810.49"
        ],
        [
         "38",
         "2004",
         "24070.93"
        ],
        [
         "39",
         "2005",
         "28225.44"
        ],
        [
         "40",
         "2006",
         "33956.8"
        ],
        [
         "41",
         "2007",
         "35457.94"
        ],
        [
         "42",
         "2008",
         "28864.829999999998"
        ],
        [
         "43",
         "2009",
         "29682.38"
        ],
        [
         "44",
         "2010",
         "34099.05"
        ],
        [
         "45",
         "2011",
         "38988.84"
        ],
        [
         "46",
         "2012",
         "35213.44"
        ],
        [
         "47",
         "2013",
         "36270.47"
        ],
        [
         "48",
         "2014",
         "38374.91"
        ],
        [
         "49",
         "2015",
         "33160.24"
        ],
        [
         "50",
         "2016",
         "32224.82"
        ],
        [
         "51",
         "2017",
         "37040.79"
        ]
       ],
       "shape": {
        "columns": 2,
        "rows": 50
       }
      },
      "text/html": [
       "<div>\n",
       "<style scoped>\n",
       "    .dataframe tbody tr th:only-of-type {\n",
       "        vertical-align: middle;\n",
       "    }\n",
       "\n",
       "    .dataframe tbody tr th {\n",
       "        vertical-align: top;\n",
       "    }\n",
       "\n",
       "    .dataframe thead th {\n",
       "        text-align: right;\n",
       "    }\n",
       "</style>\n",
       "<table border=\"1\" class=\"dataframe\">\n",
       "  <thead>\n",
       "    <tr style=\"text-align: right;\">\n",
       "      <th></th>\n",
       "      <th>Year</th>\n",
       "      <th>SUGARCANE PRODUCTION (1000 tons)</th>\n",
       "    </tr>\n",
       "  </thead>\n",
       "  <tbody>\n",
       "    <tr>\n",
       "      <th>2</th>\n",
       "      <td>1968</td>\n",
       "      <td>12720.70</td>\n",
       "    </tr>\n",
       "    <tr>\n",
       "      <th>3</th>\n",
       "      <td>1969</td>\n",
       "      <td>13719.57</td>\n",
       "    </tr>\n",
       "    <tr>\n",
       "      <th>4</th>\n",
       "      <td>1970</td>\n",
       "      <td>12381.60</td>\n",
       "    </tr>\n",
       "    <tr>\n",
       "      <th>5</th>\n",
       "      <td>1971</td>\n",
       "      <td>11664.01</td>\n",
       "    </tr>\n",
       "    <tr>\n",
       "      <th>6</th>\n",
       "      <td>1972</td>\n",
       "      <td>12573.28</td>\n",
       "    </tr>\n",
       "    <tr>\n",
       "      <th>7</th>\n",
       "      <td>1973</td>\n",
       "      <td>14392.62</td>\n",
       "    </tr>\n",
       "    <tr>\n",
       "      <th>8</th>\n",
       "      <td>1974</td>\n",
       "      <td>14640.45</td>\n",
       "    </tr>\n",
       "    <tr>\n",
       "      <th>9</th>\n",
       "      <td>1975</td>\n",
       "      <td>14931.26</td>\n",
       "    </tr>\n",
       "    <tr>\n",
       "      <th>10</th>\n",
       "      <td>1976</td>\n",
       "      <td>15480.12</td>\n",
       "    </tr>\n",
       "    <tr>\n",
       "      <th>11</th>\n",
       "      <td>1977</td>\n",
       "      <td>18136.92</td>\n",
       "    </tr>\n",
       "    <tr>\n",
       "      <th>12</th>\n",
       "      <td>1978</td>\n",
       "      <td>15610.47</td>\n",
       "    </tr>\n",
       "    <tr>\n",
       "      <th>13</th>\n",
       "      <td>1979</td>\n",
       "      <td>12689.56</td>\n",
       "    </tr>\n",
       "    <tr>\n",
       "      <th>14</th>\n",
       "      <td>1980</td>\n",
       "      <td>15153.07</td>\n",
       "    </tr>\n",
       "    <tr>\n",
       "      <th>15</th>\n",
       "      <td>1981</td>\n",
       "      <td>18017.94</td>\n",
       "    </tr>\n",
       "    <tr>\n",
       "      <th>16</th>\n",
       "      <td>1982</td>\n",
       "      <td>18617.78</td>\n",
       "    </tr>\n",
       "    <tr>\n",
       "      <th>17</th>\n",
       "      <td>1983</td>\n",
       "      <td>17344.32</td>\n",
       "    </tr>\n",
       "    <tr>\n",
       "      <th>18</th>\n",
       "      <td>1984</td>\n",
       "      <td>17009.60</td>\n",
       "    </tr>\n",
       "    <tr>\n",
       "      <th>19</th>\n",
       "      <td>1985</td>\n",
       "      <td>16843.80</td>\n",
       "    </tr>\n",
       "    <tr>\n",
       "      <th>20</th>\n",
       "      <td>1986</td>\n",
       "      <td>17952.70</td>\n",
       "    </tr>\n",
       "    <tr>\n",
       "      <th>21</th>\n",
       "      <td>1987</td>\n",
       "      <td>19262.10</td>\n",
       "    </tr>\n",
       "    <tr>\n",
       "      <th>22</th>\n",
       "      <td>1988</td>\n",
       "      <td>20234.53</td>\n",
       "    </tr>\n",
       "    <tr>\n",
       "      <th>23</th>\n",
       "      <td>1989</td>\n",
       "      <td>22000.56</td>\n",
       "    </tr>\n",
       "    <tr>\n",
       "      <th>24</th>\n",
       "      <td>1990</td>\n",
       "      <td>24073.07</td>\n",
       "    </tr>\n",
       "    <tr>\n",
       "      <th>25</th>\n",
       "      <td>1991</td>\n",
       "      <td>25666.70</td>\n",
       "    </tr>\n",
       "    <tr>\n",
       "      <th>26</th>\n",
       "      <td>1992</td>\n",
       "      <td>23642.98</td>\n",
       "    </tr>\n",
       "    <tr>\n",
       "      <th>27</th>\n",
       "      <td>1993</td>\n",
       "      <td>24187.27</td>\n",
       "    </tr>\n",
       "    <tr>\n",
       "      <th>28</th>\n",
       "      <td>1994</td>\n",
       "      <td>28496.59</td>\n",
       "    </tr>\n",
       "    <tr>\n",
       "      <th>29</th>\n",
       "      <td>1995</td>\n",
       "      <td>29164.69</td>\n",
       "    </tr>\n",
       "    <tr>\n",
       "      <th>30</th>\n",
       "      <td>1996</td>\n",
       "      <td>27444.29</td>\n",
       "    </tr>\n",
       "    <tr>\n",
       "      <th>31</th>\n",
       "      <td>1997</td>\n",
       "      <td>27612.42</td>\n",
       "    </tr>\n",
       "    <tr>\n",
       "      <th>32</th>\n",
       "      <td>1998</td>\n",
       "      <td>29533.07</td>\n",
       "    </tr>\n",
       "    <tr>\n",
       "      <th>33</th>\n",
       "      <td>1999</td>\n",
       "      <td>30489.42</td>\n",
       "    </tr>\n",
       "    <tr>\n",
       "      <th>34</th>\n",
       "      <td>2000</td>\n",
       "      <td>30147.27</td>\n",
       "    </tr>\n",
       "    <tr>\n",
       "      <th>35</th>\n",
       "      <td>2001</td>\n",
       "      <td>30095.87</td>\n",
       "    </tr>\n",
       "    <tr>\n",
       "      <th>36</th>\n",
       "      <td>2002</td>\n",
       "      <td>28905.09</td>\n",
       "    </tr>\n",
       "    <tr>\n",
       "      <th>37</th>\n",
       "      <td>2003</td>\n",
       "      <td>23810.49</td>\n",
       "    </tr>\n",
       "    <tr>\n",
       "      <th>38</th>\n",
       "      <td>2004</td>\n",
       "      <td>24070.93</td>\n",
       "    </tr>\n",
       "    <tr>\n",
       "      <th>39</th>\n",
       "      <td>2005</td>\n",
       "      <td>28225.44</td>\n",
       "    </tr>\n",
       "    <tr>\n",
       "      <th>40</th>\n",
       "      <td>2006</td>\n",
       "      <td>33956.80</td>\n",
       "    </tr>\n",
       "    <tr>\n",
       "      <th>41</th>\n",
       "      <td>2007</td>\n",
       "      <td>35457.94</td>\n",
       "    </tr>\n",
       "    <tr>\n",
       "      <th>42</th>\n",
       "      <td>2008</td>\n",
       "      <td>28864.83</td>\n",
       "    </tr>\n",
       "    <tr>\n",
       "      <th>43</th>\n",
       "      <td>2009</td>\n",
       "      <td>29682.38</td>\n",
       "    </tr>\n",
       "    <tr>\n",
       "      <th>44</th>\n",
       "      <td>2010</td>\n",
       "      <td>34099.05</td>\n",
       "    </tr>\n",
       "    <tr>\n",
       "      <th>45</th>\n",
       "      <td>2011</td>\n",
       "      <td>38988.84</td>\n",
       "    </tr>\n",
       "    <tr>\n",
       "      <th>46</th>\n",
       "      <td>2012</td>\n",
       "      <td>35213.44</td>\n",
       "    </tr>\n",
       "    <tr>\n",
       "      <th>47</th>\n",
       "      <td>2013</td>\n",
       "      <td>36270.47</td>\n",
       "    </tr>\n",
       "    <tr>\n",
       "      <th>48</th>\n",
       "      <td>2014</td>\n",
       "      <td>38374.91</td>\n",
       "    </tr>\n",
       "    <tr>\n",
       "      <th>49</th>\n",
       "      <td>2015</td>\n",
       "      <td>33160.24</td>\n",
       "    </tr>\n",
       "    <tr>\n",
       "      <th>50</th>\n",
       "      <td>2016</td>\n",
       "      <td>32224.82</td>\n",
       "    </tr>\n",
       "    <tr>\n",
       "      <th>51</th>\n",
       "      <td>2017</td>\n",
       "      <td>37040.79</td>\n",
       "    </tr>\n",
       "  </tbody>\n",
       "</table>\n",
       "</div>"
      ],
      "text/plain": [
       "    Year  SUGARCANE PRODUCTION (1000 tons)\n",
       "2   1968                          12720.70\n",
       "3   1969                          13719.57\n",
       "4   1970                          12381.60\n",
       "5   1971                          11664.01\n",
       "6   1972                          12573.28\n",
       "7   1973                          14392.62\n",
       "8   1974                          14640.45\n",
       "9   1975                          14931.26\n",
       "10  1976                          15480.12\n",
       "11  1977                          18136.92\n",
       "12  1978                          15610.47\n",
       "13  1979                          12689.56\n",
       "14  1980                          15153.07\n",
       "15  1981                          18017.94\n",
       "16  1982                          18617.78\n",
       "17  1983                          17344.32\n",
       "18  1984                          17009.60\n",
       "19  1985                          16843.80\n",
       "20  1986                          17952.70\n",
       "21  1987                          19262.10\n",
       "22  1988                          20234.53\n",
       "23  1989                          22000.56\n",
       "24  1990                          24073.07\n",
       "25  1991                          25666.70\n",
       "26  1992                          23642.98\n",
       "27  1993                          24187.27\n",
       "28  1994                          28496.59\n",
       "29  1995                          29164.69\n",
       "30  1996                          27444.29\n",
       "31  1997                          27612.42\n",
       "32  1998                          29533.07\n",
       "33  1999                          30489.42\n",
       "34  2000                          30147.27\n",
       "35  2001                          30095.87\n",
       "36  2002                          28905.09\n",
       "37  2003                          23810.49\n",
       "38  2004                          24070.93\n",
       "39  2005                          28225.44\n",
       "40  2006                          33956.80\n",
       "41  2007                          35457.94\n",
       "42  2008                          28864.83\n",
       "43  2009                          29682.38\n",
       "44  2010                          34099.05\n",
       "45  2011                          38988.84\n",
       "46  2012                          35213.44\n",
       "47  2013                          36270.47\n",
       "48  2014                          38374.91\n",
       "49  2015                          33160.24\n",
       "50  2016                          32224.82\n",
       "51  2017                          37040.79"
      ]
     },
     "execution_count": 19,
     "metadata": {},
     "output_type": "execute_result"
    }
   ],
   "source": [
    "# India's SUGARCANE PRODUCTION From Last 50 Years\n",
    "\n",
    "sugarcane = df.groupby('Year')['SUGARCANE PRODUCTION (1000 tons)'].sum().reset_index().sort_values(by='Year', ascending=False).head(50).sort_values(by='Year')\n",
    "sugarcane"
   ]
  },
  {
   "cell_type": "code",
   "execution_count": 20,
   "id": "57f7dbf4",
   "metadata": {},
   "outputs": [
    {
     "data": {
      "application/vnd.plotly.v1+json": {
       "config": {
        "plotlyServerURL": "https://plot.ly"
       },
       "data": [
        {
         "hovertemplate": "Year=%{x}<br>SUGARCANE PRODUCTION (1000 tons)=%{y}<extra></extra>",
         "legendgroup": "",
         "line": {
          "color": "#636efa",
          "dash": "solid",
          "shape": "linear"
         },
         "marker": {
          "symbol": "circle"
         },
         "mode": "lines+markers",
         "name": "",
         "orientation": "v",
         "showlegend": false,
         "type": "scatter",
         "x": [
          1968,
          1969,
          1970,
          1971,
          1972,
          1973,
          1974,
          1975,
          1976,
          1977,
          1978,
          1979,
          1980,
          1981,
          1982,
          1983,
          1984,
          1985,
          1986,
          1987,
          1988,
          1989,
          1990,
          1991,
          1992,
          1993,
          1994,
          1995,
          1996,
          1997,
          1998,
          1999,
          2000,
          2001,
          2002,
          2003,
          2004,
          2005,
          2006,
          2007,
          2008,
          2009,
          2010,
          2011,
          2012,
          2013,
          2014,
          2015,
          2016,
          2017
         ],
         "xaxis": "x",
         "y": [
          12720.7,
          13719.57,
          12381.6,
          11664.01,
          12573.28,
          14392.62,
          14640.45,
          14931.26,
          15480.12,
          18136.92,
          15610.47,
          12689.56,
          15153.07,
          18017.94,
          18617.78,
          17344.32,
          17009.6,
          16843.8,
          17952.7,
          19262.1,
          20234.53,
          22000.56,
          24073.07,
          25666.7,
          23642.98,
          24187.27,
          28496.59,
          29164.69,
          27444.29,
          27612.42,
          29533.07,
          30489.420000000002,
          30147.27,
          30095.87,
          28905.09,
          23810.49,
          24070.93,
          28225.44,
          33956.8,
          35457.94,
          28864.829999999998,
          29682.38,
          34099.05,
          38988.84,
          35213.44,
          36270.47,
          38374.91,
          33160.24,
          32224.82,
          37040.79
         ],
         "yaxis": "y"
        }
       ],
       "layout": {
        "height": 600,
        "legend": {
         "tracegroupgap": 0
        },
        "template": {
         "data": {
          "bar": [
           {
            "error_x": {
             "color": "#2a3f5f"
            },
            "error_y": {
             "color": "#2a3f5f"
            },
            "marker": {
             "line": {
              "color": "#E5ECF6",
              "width": 0.5
             },
             "pattern": {
              "fillmode": "overlay",
              "size": 10,
              "solidity": 0.2
             }
            },
            "type": "bar"
           }
          ],
          "barpolar": [
           {
            "marker": {
             "line": {
              "color": "#E5ECF6",
              "width": 0.5
             },
             "pattern": {
              "fillmode": "overlay",
              "size": 10,
              "solidity": 0.2
             }
            },
            "type": "barpolar"
           }
          ],
          "carpet": [
           {
            "aaxis": {
             "endlinecolor": "#2a3f5f",
             "gridcolor": "white",
             "linecolor": "white",
             "minorgridcolor": "white",
             "startlinecolor": "#2a3f5f"
            },
            "baxis": {
             "endlinecolor": "#2a3f5f",
             "gridcolor": "white",
             "linecolor": "white",
             "minorgridcolor": "white",
             "startlinecolor": "#2a3f5f"
            },
            "type": "carpet"
           }
          ],
          "choropleth": [
           {
            "colorbar": {
             "outlinewidth": 0,
             "ticks": ""
            },
            "type": "choropleth"
           }
          ],
          "contour": [
           {
            "colorbar": {
             "outlinewidth": 0,
             "ticks": ""
            },
            "colorscale": [
             [
              0,
              "#0d0887"
             ],
             [
              0.1111111111111111,
              "#46039f"
             ],
             [
              0.2222222222222222,
              "#7201a8"
             ],
             [
              0.3333333333333333,
              "#9c179e"
             ],
             [
              0.4444444444444444,
              "#bd3786"
             ],
             [
              0.5555555555555556,
              "#d8576b"
             ],
             [
              0.6666666666666666,
              "#ed7953"
             ],
             [
              0.7777777777777778,
              "#fb9f3a"
             ],
             [
              0.8888888888888888,
              "#fdca26"
             ],
             [
              1,
              "#f0f921"
             ]
            ],
            "type": "contour"
           }
          ],
          "contourcarpet": [
           {
            "colorbar": {
             "outlinewidth": 0,
             "ticks": ""
            },
            "type": "contourcarpet"
           }
          ],
          "heatmap": [
           {
            "colorbar": {
             "outlinewidth": 0,
             "ticks": ""
            },
            "colorscale": [
             [
              0,
              "#0d0887"
             ],
             [
              0.1111111111111111,
              "#46039f"
             ],
             [
              0.2222222222222222,
              "#7201a8"
             ],
             [
              0.3333333333333333,
              "#9c179e"
             ],
             [
              0.4444444444444444,
              "#bd3786"
             ],
             [
              0.5555555555555556,
              "#d8576b"
             ],
             [
              0.6666666666666666,
              "#ed7953"
             ],
             [
              0.7777777777777778,
              "#fb9f3a"
             ],
             [
              0.8888888888888888,
              "#fdca26"
             ],
             [
              1,
              "#f0f921"
             ]
            ],
            "type": "heatmap"
           }
          ],
          "heatmapgl": [
           {
            "colorbar": {
             "outlinewidth": 0,
             "ticks": ""
            },
            "colorscale": [
             [
              0,
              "#0d0887"
             ],
             [
              0.1111111111111111,
              "#46039f"
             ],
             [
              0.2222222222222222,
              "#7201a8"
             ],
             [
              0.3333333333333333,
              "#9c179e"
             ],
             [
              0.4444444444444444,
              "#bd3786"
             ],
             [
              0.5555555555555556,
              "#d8576b"
             ],
             [
              0.6666666666666666,
              "#ed7953"
             ],
             [
              0.7777777777777778,
              "#fb9f3a"
             ],
             [
              0.8888888888888888,
              "#fdca26"
             ],
             [
              1,
              "#f0f921"
             ]
            ],
            "type": "heatmapgl"
           }
          ],
          "histogram": [
           {
            "marker": {
             "pattern": {
              "fillmode": "overlay",
              "size": 10,
              "solidity": 0.2
             }
            },
            "type": "histogram"
           }
          ],
          "histogram2d": [
           {
            "colorbar": {
             "outlinewidth": 0,
             "ticks": ""
            },
            "colorscale": [
             [
              0,
              "#0d0887"
             ],
             [
              0.1111111111111111,
              "#46039f"
             ],
             [
              0.2222222222222222,
              "#7201a8"
             ],
             [
              0.3333333333333333,
              "#9c179e"
             ],
             [
              0.4444444444444444,
              "#bd3786"
             ],
             [
              0.5555555555555556,
              "#d8576b"
             ],
             [
              0.6666666666666666,
              "#ed7953"
             ],
             [
              0.7777777777777778,
              "#fb9f3a"
             ],
             [
              0.8888888888888888,
              "#fdca26"
             ],
             [
              1,
              "#f0f921"
             ]
            ],
            "type": "histogram2d"
           }
          ],
          "histogram2dcontour": [
           {
            "colorbar": {
             "outlinewidth": 0,
             "ticks": ""
            },
            "colorscale": [
             [
              0,
              "#0d0887"
             ],
             [
              0.1111111111111111,
              "#46039f"
             ],
             [
              0.2222222222222222,
              "#7201a8"
             ],
             [
              0.3333333333333333,
              "#9c179e"
             ],
             [
              0.4444444444444444,
              "#bd3786"
             ],
             [
              0.5555555555555556,
              "#d8576b"
             ],
             [
              0.6666666666666666,
              "#ed7953"
             ],
             [
              0.7777777777777778,
              "#fb9f3a"
             ],
             [
              0.8888888888888888,
              "#fdca26"
             ],
             [
              1,
              "#f0f921"
             ]
            ],
            "type": "histogram2dcontour"
           }
          ],
          "mesh3d": [
           {
            "colorbar": {
             "outlinewidth": 0,
             "ticks": ""
            },
            "type": "mesh3d"
           }
          ],
          "parcoords": [
           {
            "line": {
             "colorbar": {
              "outlinewidth": 0,
              "ticks": ""
             }
            },
            "type": "parcoords"
           }
          ],
          "pie": [
           {
            "automargin": true,
            "type": "pie"
           }
          ],
          "scatter": [
           {
            "fillpattern": {
             "fillmode": "overlay",
             "size": 10,
             "solidity": 0.2
            },
            "type": "scatter"
           }
          ],
          "scatter3d": [
           {
            "line": {
             "colorbar": {
              "outlinewidth": 0,
              "ticks": ""
             }
            },
            "marker": {
             "colorbar": {
              "outlinewidth": 0,
              "ticks": ""
             }
            },
            "type": "scatter3d"
           }
          ],
          "scattercarpet": [
           {
            "marker": {
             "colorbar": {
              "outlinewidth": 0,
              "ticks": ""
             }
            },
            "type": "scattercarpet"
           }
          ],
          "scattergeo": [
           {
            "marker": {
             "colorbar": {
              "outlinewidth": 0,
              "ticks": ""
             }
            },
            "type": "scattergeo"
           }
          ],
          "scattergl": [
           {
            "marker": {
             "colorbar": {
              "outlinewidth": 0,
              "ticks": ""
             }
            },
            "type": "scattergl"
           }
          ],
          "scattermapbox": [
           {
            "marker": {
             "colorbar": {
              "outlinewidth": 0,
              "ticks": ""
             }
            },
            "type": "scattermapbox"
           }
          ],
          "scatterpolar": [
           {
            "marker": {
             "colorbar": {
              "outlinewidth": 0,
              "ticks": ""
             }
            },
            "type": "scatterpolar"
           }
          ],
          "scatterpolargl": [
           {
            "marker": {
             "colorbar": {
              "outlinewidth": 0,
              "ticks": ""
             }
            },
            "type": "scatterpolargl"
           }
          ],
          "scatterternary": [
           {
            "marker": {
             "colorbar": {
              "outlinewidth": 0,
              "ticks": ""
             }
            },
            "type": "scatterternary"
           }
          ],
          "surface": [
           {
            "colorbar": {
             "outlinewidth": 0,
             "ticks": ""
            },
            "colorscale": [
             [
              0,
              "#0d0887"
             ],
             [
              0.1111111111111111,
              "#46039f"
             ],
             [
              0.2222222222222222,
              "#7201a8"
             ],
             [
              0.3333333333333333,
              "#9c179e"
             ],
             [
              0.4444444444444444,
              "#bd3786"
             ],
             [
              0.5555555555555556,
              "#d8576b"
             ],
             [
              0.6666666666666666,
              "#ed7953"
             ],
             [
              0.7777777777777778,
              "#fb9f3a"
             ],
             [
              0.8888888888888888,
              "#fdca26"
             ],
             [
              1,
              "#f0f921"
             ]
            ],
            "type": "surface"
           }
          ],
          "table": [
           {
            "cells": {
             "fill": {
              "color": "#EBF0F8"
             },
             "line": {
              "color": "white"
             }
            },
            "header": {
             "fill": {
              "color": "#C8D4E3"
             },
             "line": {
              "color": "white"
             }
            },
            "type": "table"
           }
          ]
         },
         "layout": {
          "annotationdefaults": {
           "arrowcolor": "#2a3f5f",
           "arrowhead": 0,
           "arrowwidth": 1
          },
          "autotypenumbers": "strict",
          "coloraxis": {
           "colorbar": {
            "outlinewidth": 0,
            "ticks": ""
           }
          },
          "colorscale": {
           "diverging": [
            [
             0,
             "#8e0152"
            ],
            [
             0.1,
             "#c51b7d"
            ],
            [
             0.2,
             "#de77ae"
            ],
            [
             0.3,
             "#f1b6da"
            ],
            [
             0.4,
             "#fde0ef"
            ],
            [
             0.5,
             "#f7f7f7"
            ],
            [
             0.6,
             "#e6f5d0"
            ],
            [
             0.7,
             "#b8e186"
            ],
            [
             0.8,
             "#7fbc41"
            ],
            [
             0.9,
             "#4d9221"
            ],
            [
             1,
             "#276419"
            ]
           ],
           "sequential": [
            [
             0,
             "#0d0887"
            ],
            [
             0.1111111111111111,
             "#46039f"
            ],
            [
             0.2222222222222222,
             "#7201a8"
            ],
            [
             0.3333333333333333,
             "#9c179e"
            ],
            [
             0.4444444444444444,
             "#bd3786"
            ],
            [
             0.5555555555555556,
             "#d8576b"
            ],
            [
             0.6666666666666666,
             "#ed7953"
            ],
            [
             0.7777777777777778,
             "#fb9f3a"
            ],
            [
             0.8888888888888888,
             "#fdca26"
            ],
            [
             1,
             "#f0f921"
            ]
           ],
           "sequentialminus": [
            [
             0,
             "#0d0887"
            ],
            [
             0.1111111111111111,
             "#46039f"
            ],
            [
             0.2222222222222222,
             "#7201a8"
            ],
            [
             0.3333333333333333,
             "#9c179e"
            ],
            [
             0.4444444444444444,
             "#bd3786"
            ],
            [
             0.5555555555555556,
             "#d8576b"
            ],
            [
             0.6666666666666666,
             "#ed7953"
            ],
            [
             0.7777777777777778,
             "#fb9f3a"
            ],
            [
             0.8888888888888888,
             "#fdca26"
            ],
            [
             1,
             "#f0f921"
            ]
           ]
          },
          "colorway": [
           "#636efa",
           "#EF553B",
           "#00cc96",
           "#ab63fa",
           "#FFA15A",
           "#19d3f3",
           "#FF6692",
           "#B6E880",
           "#FF97FF",
           "#FECB52"
          ],
          "font": {
           "color": "#2a3f5f"
          },
          "geo": {
           "bgcolor": "white",
           "lakecolor": "white",
           "landcolor": "#E5ECF6",
           "showlakes": true,
           "showland": true,
           "subunitcolor": "white"
          },
          "hoverlabel": {
           "align": "left"
          },
          "hovermode": "closest",
          "mapbox": {
           "style": "light"
          },
          "paper_bgcolor": "white",
          "plot_bgcolor": "#E5ECF6",
          "polar": {
           "angularaxis": {
            "gridcolor": "white",
            "linecolor": "white",
            "ticks": ""
           },
           "bgcolor": "#E5ECF6",
           "radialaxis": {
            "gridcolor": "white",
            "linecolor": "white",
            "ticks": ""
           }
          },
          "scene": {
           "xaxis": {
            "backgroundcolor": "#E5ECF6",
            "gridcolor": "white",
            "gridwidth": 2,
            "linecolor": "white",
            "showbackground": true,
            "ticks": "",
            "zerolinecolor": "white"
           },
           "yaxis": {
            "backgroundcolor": "#E5ECF6",
            "gridcolor": "white",
            "gridwidth": 2,
            "linecolor": "white",
            "showbackground": true,
            "ticks": "",
            "zerolinecolor": "white"
           },
           "zaxis": {
            "backgroundcolor": "#E5ECF6",
            "gridcolor": "white",
            "gridwidth": 2,
            "linecolor": "white",
            "showbackground": true,
            "ticks": "",
            "zerolinecolor": "white"
           }
          },
          "shapedefaults": {
           "line": {
            "color": "#2a3f5f"
           }
          },
          "ternary": {
           "aaxis": {
            "gridcolor": "white",
            "linecolor": "white",
            "ticks": ""
           },
           "baxis": {
            "gridcolor": "white",
            "linecolor": "white",
            "ticks": ""
           },
           "bgcolor": "#E5ECF6",
           "caxis": {
            "gridcolor": "white",
            "linecolor": "white",
            "ticks": ""
           }
          },
          "title": {
           "x": 0.05
          },
          "xaxis": {
           "automargin": true,
           "gridcolor": "white",
           "linecolor": "white",
           "ticks": "",
           "title": {
            "standoff": 15
           },
           "zerolinecolor": "white",
           "zerolinewidth": 2
          },
          "yaxis": {
           "automargin": true,
           "gridcolor": "white",
           "linecolor": "white",
           "ticks": "",
           "title": {
            "standoff": 15
           },
           "zerolinecolor": "white",
           "zerolinewidth": 2
          }
         }
        },
        "title": {
         "text": "SUGARCANE PRODUCTION From Last 50 Years"
        },
        "width": 800,
        "xaxis": {
         "anchor": "y",
         "domain": [
          0,
          1
         ],
         "title": {
          "text": "Years"
         }
        },
        "yaxis": {
         "anchor": "x",
         "domain": [
          0,
          1
         ],
         "title": {
          "text": "Sugarcane Production"
         }
        }
       }
      }
     },
     "metadata": {},
     "output_type": "display_data"
    }
   ],
   "source": [
    "# Line PLot\n",
    "fig = px.line(sugarcane,x = 'Year',y='SUGARCANE PRODUCTION (1000 tons)',title='SUGARCANE PRODUCTION From Last 50 Years',\n",
    "                labels={'Year':'Year','Sugarcane Production':'SUGARCANE PRODUCTION (1000 tons)'},\n",
    "                line_shape=\"linear\",markers=True)\n",
    "\n",
    "fig.update_layout(height = 600, width = 800)\n",
    "# fig.update_traces(marker=dict(size=20))\n",
    "fig.update_layout(xaxis_title = 'Years',yaxis_title = 'Sugarcane Production')\n",
    "fig.show()\n"
   ]
  },
  {
   "cell_type": "markdown",
   "id": "085b0355",
   "metadata": {},
   "source": [
    "### `Rice Production Vs Wheat Production (Last 50y)`"
   ]
  },
  {
   "cell_type": "code",
   "execution_count": 21,
   "id": "b393b3e8",
   "metadata": {},
   "outputs": [
    {
     "data": {
      "application/vnd.microsoft.datawrangler.viewer.v0+json": {
       "columns": [
        {
         "name": "index",
         "rawType": "int64",
         "type": "integer"
        },
        {
         "name": "index",
         "rawType": "int64",
         "type": "integer"
        },
        {
         "name": "Year",
         "rawType": "int64",
         "type": "integer"
        },
        {
         "name": "WHEAT PRODUCTION (1000 tons)",
         "rawType": "float64",
         "type": "float"
        },
        {
         "name": "RICE PRODUCTION (1000 tons)",
         "rawType": "float64",
         "type": "float"
        }
       ],
       "ref": "5d16ad31-6104-4972-96d0-0c60c3989944",
       "rows": [
        [
         "49",
         "2",
         "1968",
         "17375.67",
         "34701.52"
        ],
        [
         "48",
         "3",
         "1969",
         "19232.36",
         "35836.01"
        ],
        [
         "47",
         "4",
         "1970",
         "22677.88",
         "39324.12"
        ],
        [
         "46",
         "5",
         "1971",
         "25280.89",
         "39946.79"
        ],
        [
         "45",
         "6",
         "1972",
         "22879.56",
         "37925.93"
        ],
        [
         "44",
         "7",
         "1973",
         "20833.39",
         "42026.94"
        ],
        [
         "43",
         "8",
         "1974",
         "23052.96",
         "37690.51"
        ],
        [
         "42",
         "9",
         "1975",
         "27150.41",
         "46144.36"
        ],
        [
         "41",
         "10",
         "1976",
         "27580.73",
         "40226.45"
        ],
        [
         "40",
         "11",
         "1977",
         "30003.66",
         "50439.41"
        ],
        [
         "39",
         "12",
         "1978",
         "34078.29",
         "50868.020000000004"
        ],
        [
         "38",
         "13",
         "1979",
         "30742.0",
         "40560.64"
        ],
        [
         "37",
         "14",
         "1980",
         "35659.06",
         "52796.25"
        ],
        [
         "36",
         "15",
         "1981",
         "37154.29",
         "52486.37"
        ],
        [
         "35",
         "16",
         "1982",
         "42402.18",
         "45081.34"
        ],
        [
         "34",
         "17",
         "1983",
         "44859.22",
         "57766.5"
        ],
        [
         "33",
         "18",
         "1984",
         "43846.97",
         "56451.83"
        ],
        [
         "32",
         "19",
         "1985",
         "46811.090000000004",
         "62289.85"
        ],
        [
         "31",
         "20",
         "1986",
         "43499.94",
         "58592.01"
        ],
        [
         "30",
         "21",
         "1987",
         "45504.65",
         "54890.34"
        ],
        [
         "29",
         "22",
         "1988",
         "53682.89",
         "68923.09"
        ],
        [
         "28",
         "23",
         "1989",
         "52123.31",
         "73530.86"
        ],
        [
         "27",
         "24",
         "1990",
         "54449.14",
         "71613.37"
        ],
        [
         "26",
         "25",
         "1991",
         "55378.51",
         "71858.31"
        ],
        [
         "25",
         "26",
         "1992",
         "56665.3",
         "70205.91"
        ],
        [
         "24",
         "27",
         "1993",
         "59400.67",
         "77179.69"
        ],
        [
         "23",
         "28",
         "1994",
         "65462.3",
         "79273.91"
        ],
        [
         "22",
         "29",
         "1995",
         "61157.13",
         "72615.41"
        ],
        [
         "21",
         "30",
         "1996",
         "68631.56",
         "78120.14"
        ],
        [
         "20",
         "31",
         "1997",
         "65085.19",
         "80504.09"
        ],
        [
         "19",
         "32",
         "1998",
         "70057.41",
         "82394.23"
        ],
        [
         "18",
         "33",
         "1999",
         "76209.47",
         "86527.07"
        ],
        [
         "17",
         "34",
         "2000",
         "69617.04",
         "83476.59"
        ],
        [
         "16",
         "35",
         "2001",
         "72186.1",
         "91556.12"
        ],
        [
         "15",
         "36",
         "2002",
         "65404.659999999996",
         "69917.86"
        ],
        [
         "14",
         "37",
         "2003",
         "72317.08",
         "84971.15"
        ],
        [
         "13",
         "38",
         "2004",
         "69013.36",
         "80951.64"
        ],
        [
         "12",
         "39",
         "2005",
         "68379.02",
         "87315.59"
        ],
        [
         "11",
         "40",
         "2006",
         "77709.5",
         "89984.14"
        ],
        [
         "10",
         "41",
         "2007",
         "80126.73",
         "93002.77"
        ],
        [
         "9",
         "42",
         "2008",
         "81613.21",
         "95226.84"
        ],
        [
         "8",
         "43",
         "2009",
         "81022.42",
         "88070.69"
        ],
        [
         "7",
         "44",
         "2010",
         "93438.55",
         "94300.23"
        ],
        [
         "6",
         "45",
         "2011",
         "100269.99",
         "102216.27"
        ],
        [
         "5",
         "46",
         "2012",
         "97177.86",
         "104237.62"
        ],
        [
         "4",
         "47",
         "2013",
         "102506.18",
         "109552.42"
        ],
        [
         "3",
         "48",
         "2014",
         "84866.58",
         "112551.62"
        ],
        [
         "2",
         "49",
         "2015",
         "93824.98",
         "98820.51"
        ],
        [
         "1",
         "50",
         "2016",
         "112962.82",
         "117614.1"
        ],
        [
         "0",
         "51",
         "2017",
         "110418.21",
         "114319.61"
        ]
       ],
       "shape": {
        "columns": 4,
        "rows": 50
       }
      },
      "text/html": [
       "<div>\n",
       "<style scoped>\n",
       "    .dataframe tbody tr th:only-of-type {\n",
       "        vertical-align: middle;\n",
       "    }\n",
       "\n",
       "    .dataframe tbody tr th {\n",
       "        vertical-align: top;\n",
       "    }\n",
       "\n",
       "    .dataframe thead th {\n",
       "        text-align: right;\n",
       "    }\n",
       "</style>\n",
       "<table border=\"1\" class=\"dataframe\">\n",
       "  <thead>\n",
       "    <tr style=\"text-align: right;\">\n",
       "      <th></th>\n",
       "      <th>index</th>\n",
       "      <th>Year</th>\n",
       "      <th>WHEAT PRODUCTION (1000 tons)</th>\n",
       "      <th>RICE PRODUCTION (1000 tons)</th>\n",
       "    </tr>\n",
       "  </thead>\n",
       "  <tbody>\n",
       "    <tr>\n",
       "      <th>49</th>\n",
       "      <td>2</td>\n",
       "      <td>1968</td>\n",
       "      <td>17375.67</td>\n",
       "      <td>34701.52</td>\n",
       "    </tr>\n",
       "    <tr>\n",
       "      <th>48</th>\n",
       "      <td>3</td>\n",
       "      <td>1969</td>\n",
       "      <td>19232.36</td>\n",
       "      <td>35836.01</td>\n",
       "    </tr>\n",
       "    <tr>\n",
       "      <th>47</th>\n",
       "      <td>4</td>\n",
       "      <td>1970</td>\n",
       "      <td>22677.88</td>\n",
       "      <td>39324.12</td>\n",
       "    </tr>\n",
       "    <tr>\n",
       "      <th>46</th>\n",
       "      <td>5</td>\n",
       "      <td>1971</td>\n",
       "      <td>25280.89</td>\n",
       "      <td>39946.79</td>\n",
       "    </tr>\n",
       "    <tr>\n",
       "      <th>45</th>\n",
       "      <td>6</td>\n",
       "      <td>1972</td>\n",
       "      <td>22879.56</td>\n",
       "      <td>37925.93</td>\n",
       "    </tr>\n",
       "    <tr>\n",
       "      <th>44</th>\n",
       "      <td>7</td>\n",
       "      <td>1973</td>\n",
       "      <td>20833.39</td>\n",
       "      <td>42026.94</td>\n",
       "    </tr>\n",
       "    <tr>\n",
       "      <th>43</th>\n",
       "      <td>8</td>\n",
       "      <td>1974</td>\n",
       "      <td>23052.96</td>\n",
       "      <td>37690.51</td>\n",
       "    </tr>\n",
       "    <tr>\n",
       "      <th>42</th>\n",
       "      <td>9</td>\n",
       "      <td>1975</td>\n",
       "      <td>27150.41</td>\n",
       "      <td>46144.36</td>\n",
       "    </tr>\n",
       "    <tr>\n",
       "      <th>41</th>\n",
       "      <td>10</td>\n",
       "      <td>1976</td>\n",
       "      <td>27580.73</td>\n",
       "      <td>40226.45</td>\n",
       "    </tr>\n",
       "    <tr>\n",
       "      <th>40</th>\n",
       "      <td>11</td>\n",
       "      <td>1977</td>\n",
       "      <td>30003.66</td>\n",
       "      <td>50439.41</td>\n",
       "    </tr>\n",
       "    <tr>\n",
       "      <th>39</th>\n",
       "      <td>12</td>\n",
       "      <td>1978</td>\n",
       "      <td>34078.29</td>\n",
       "      <td>50868.02</td>\n",
       "    </tr>\n",
       "    <tr>\n",
       "      <th>38</th>\n",
       "      <td>13</td>\n",
       "      <td>1979</td>\n",
       "      <td>30742.00</td>\n",
       "      <td>40560.64</td>\n",
       "    </tr>\n",
       "    <tr>\n",
       "      <th>37</th>\n",
       "      <td>14</td>\n",
       "      <td>1980</td>\n",
       "      <td>35659.06</td>\n",
       "      <td>52796.25</td>\n",
       "    </tr>\n",
       "    <tr>\n",
       "      <th>36</th>\n",
       "      <td>15</td>\n",
       "      <td>1981</td>\n",
       "      <td>37154.29</td>\n",
       "      <td>52486.37</td>\n",
       "    </tr>\n",
       "    <tr>\n",
       "      <th>35</th>\n",
       "      <td>16</td>\n",
       "      <td>1982</td>\n",
       "      <td>42402.18</td>\n",
       "      <td>45081.34</td>\n",
       "    </tr>\n",
       "    <tr>\n",
       "      <th>34</th>\n",
       "      <td>17</td>\n",
       "      <td>1983</td>\n",
       "      <td>44859.22</td>\n",
       "      <td>57766.50</td>\n",
       "    </tr>\n",
       "    <tr>\n",
       "      <th>33</th>\n",
       "      <td>18</td>\n",
       "      <td>1984</td>\n",
       "      <td>43846.97</td>\n",
       "      <td>56451.83</td>\n",
       "    </tr>\n",
       "    <tr>\n",
       "      <th>32</th>\n",
       "      <td>19</td>\n",
       "      <td>1985</td>\n",
       "      <td>46811.09</td>\n",
       "      <td>62289.85</td>\n",
       "    </tr>\n",
       "    <tr>\n",
       "      <th>31</th>\n",
       "      <td>20</td>\n",
       "      <td>1986</td>\n",
       "      <td>43499.94</td>\n",
       "      <td>58592.01</td>\n",
       "    </tr>\n",
       "    <tr>\n",
       "      <th>30</th>\n",
       "      <td>21</td>\n",
       "      <td>1987</td>\n",
       "      <td>45504.65</td>\n",
       "      <td>54890.34</td>\n",
       "    </tr>\n",
       "    <tr>\n",
       "      <th>29</th>\n",
       "      <td>22</td>\n",
       "      <td>1988</td>\n",
       "      <td>53682.89</td>\n",
       "      <td>68923.09</td>\n",
       "    </tr>\n",
       "    <tr>\n",
       "      <th>28</th>\n",
       "      <td>23</td>\n",
       "      <td>1989</td>\n",
       "      <td>52123.31</td>\n",
       "      <td>73530.86</td>\n",
       "    </tr>\n",
       "    <tr>\n",
       "      <th>27</th>\n",
       "      <td>24</td>\n",
       "      <td>1990</td>\n",
       "      <td>54449.14</td>\n",
       "      <td>71613.37</td>\n",
       "    </tr>\n",
       "    <tr>\n",
       "      <th>26</th>\n",
       "      <td>25</td>\n",
       "      <td>1991</td>\n",
       "      <td>55378.51</td>\n",
       "      <td>71858.31</td>\n",
       "    </tr>\n",
       "    <tr>\n",
       "      <th>25</th>\n",
       "      <td>26</td>\n",
       "      <td>1992</td>\n",
       "      <td>56665.30</td>\n",
       "      <td>70205.91</td>\n",
       "    </tr>\n",
       "    <tr>\n",
       "      <th>24</th>\n",
       "      <td>27</td>\n",
       "      <td>1993</td>\n",
       "      <td>59400.67</td>\n",
       "      <td>77179.69</td>\n",
       "    </tr>\n",
       "    <tr>\n",
       "      <th>23</th>\n",
       "      <td>28</td>\n",
       "      <td>1994</td>\n",
       "      <td>65462.30</td>\n",
       "      <td>79273.91</td>\n",
       "    </tr>\n",
       "    <tr>\n",
       "      <th>22</th>\n",
       "      <td>29</td>\n",
       "      <td>1995</td>\n",
       "      <td>61157.13</td>\n",
       "      <td>72615.41</td>\n",
       "    </tr>\n",
       "    <tr>\n",
       "      <th>21</th>\n",
       "      <td>30</td>\n",
       "      <td>1996</td>\n",
       "      <td>68631.56</td>\n",
       "      <td>78120.14</td>\n",
       "    </tr>\n",
       "    <tr>\n",
       "      <th>20</th>\n",
       "      <td>31</td>\n",
       "      <td>1997</td>\n",
       "      <td>65085.19</td>\n",
       "      <td>80504.09</td>\n",
       "    </tr>\n",
       "    <tr>\n",
       "      <th>19</th>\n",
       "      <td>32</td>\n",
       "      <td>1998</td>\n",
       "      <td>70057.41</td>\n",
       "      <td>82394.23</td>\n",
       "    </tr>\n",
       "    <tr>\n",
       "      <th>18</th>\n",
       "      <td>33</td>\n",
       "      <td>1999</td>\n",
       "      <td>76209.47</td>\n",
       "      <td>86527.07</td>\n",
       "    </tr>\n",
       "    <tr>\n",
       "      <th>17</th>\n",
       "      <td>34</td>\n",
       "      <td>2000</td>\n",
       "      <td>69617.04</td>\n",
       "      <td>83476.59</td>\n",
       "    </tr>\n",
       "    <tr>\n",
       "      <th>16</th>\n",
       "      <td>35</td>\n",
       "      <td>2001</td>\n",
       "      <td>72186.10</td>\n",
       "      <td>91556.12</td>\n",
       "    </tr>\n",
       "    <tr>\n",
       "      <th>15</th>\n",
       "      <td>36</td>\n",
       "      <td>2002</td>\n",
       "      <td>65404.66</td>\n",
       "      <td>69917.86</td>\n",
       "    </tr>\n",
       "    <tr>\n",
       "      <th>14</th>\n",
       "      <td>37</td>\n",
       "      <td>2003</td>\n",
       "      <td>72317.08</td>\n",
       "      <td>84971.15</td>\n",
       "    </tr>\n",
       "    <tr>\n",
       "      <th>13</th>\n",
       "      <td>38</td>\n",
       "      <td>2004</td>\n",
       "      <td>69013.36</td>\n",
       "      <td>80951.64</td>\n",
       "    </tr>\n",
       "    <tr>\n",
       "      <th>12</th>\n",
       "      <td>39</td>\n",
       "      <td>2005</td>\n",
       "      <td>68379.02</td>\n",
       "      <td>87315.59</td>\n",
       "    </tr>\n",
       "    <tr>\n",
       "      <th>11</th>\n",
       "      <td>40</td>\n",
       "      <td>2006</td>\n",
       "      <td>77709.50</td>\n",
       "      <td>89984.14</td>\n",
       "    </tr>\n",
       "    <tr>\n",
       "      <th>10</th>\n",
       "      <td>41</td>\n",
       "      <td>2007</td>\n",
       "      <td>80126.73</td>\n",
       "      <td>93002.77</td>\n",
       "    </tr>\n",
       "    <tr>\n",
       "      <th>9</th>\n",
       "      <td>42</td>\n",
       "      <td>2008</td>\n",
       "      <td>81613.21</td>\n",
       "      <td>95226.84</td>\n",
       "    </tr>\n",
       "    <tr>\n",
       "      <th>8</th>\n",
       "      <td>43</td>\n",
       "      <td>2009</td>\n",
       "      <td>81022.42</td>\n",
       "      <td>88070.69</td>\n",
       "    </tr>\n",
       "    <tr>\n",
       "      <th>7</th>\n",
       "      <td>44</td>\n",
       "      <td>2010</td>\n",
       "      <td>93438.55</td>\n",
       "      <td>94300.23</td>\n",
       "    </tr>\n",
       "    <tr>\n",
       "      <th>6</th>\n",
       "      <td>45</td>\n",
       "      <td>2011</td>\n",
       "      <td>100269.99</td>\n",
       "      <td>102216.27</td>\n",
       "    </tr>\n",
       "    <tr>\n",
       "      <th>5</th>\n",
       "      <td>46</td>\n",
       "      <td>2012</td>\n",
       "      <td>97177.86</td>\n",
       "      <td>104237.62</td>\n",
       "    </tr>\n",
       "    <tr>\n",
       "      <th>4</th>\n",
       "      <td>47</td>\n",
       "      <td>2013</td>\n",
       "      <td>102506.18</td>\n",
       "      <td>109552.42</td>\n",
       "    </tr>\n",
       "    <tr>\n",
       "      <th>3</th>\n",
       "      <td>48</td>\n",
       "      <td>2014</td>\n",
       "      <td>84866.58</td>\n",
       "      <td>112551.62</td>\n",
       "    </tr>\n",
       "    <tr>\n",
       "      <th>2</th>\n",
       "      <td>49</td>\n",
       "      <td>2015</td>\n",
       "      <td>93824.98</td>\n",
       "      <td>98820.51</td>\n",
       "    </tr>\n",
       "    <tr>\n",
       "      <th>1</th>\n",
       "      <td>50</td>\n",
       "      <td>2016</td>\n",
       "      <td>112962.82</td>\n",
       "      <td>117614.10</td>\n",
       "    </tr>\n",
       "    <tr>\n",
       "      <th>0</th>\n",
       "      <td>51</td>\n",
       "      <td>2017</td>\n",
       "      <td>110418.21</td>\n",
       "      <td>114319.61</td>\n",
       "    </tr>\n",
       "  </tbody>\n",
       "</table>\n",
       "</div>"
      ],
      "text/plain": [
       "    index  Year  WHEAT PRODUCTION (1000 tons)  RICE PRODUCTION (1000 tons)\n",
       "49      2  1968                      17375.67                     34701.52\n",
       "48      3  1969                      19232.36                     35836.01\n",
       "47      4  1970                      22677.88                     39324.12\n",
       "46      5  1971                      25280.89                     39946.79\n",
       "45      6  1972                      22879.56                     37925.93\n",
       "44      7  1973                      20833.39                     42026.94\n",
       "43      8  1974                      23052.96                     37690.51\n",
       "42      9  1975                      27150.41                     46144.36\n",
       "41     10  1976                      27580.73                     40226.45\n",
       "40     11  1977                      30003.66                     50439.41\n",
       "39     12  1978                      34078.29                     50868.02\n",
       "38     13  1979                      30742.00                     40560.64\n",
       "37     14  1980                      35659.06                     52796.25\n",
       "36     15  1981                      37154.29                     52486.37\n",
       "35     16  1982                      42402.18                     45081.34\n",
       "34     17  1983                      44859.22                     57766.50\n",
       "33     18  1984                      43846.97                     56451.83\n",
       "32     19  1985                      46811.09                     62289.85\n",
       "31     20  1986                      43499.94                     58592.01\n",
       "30     21  1987                      45504.65                     54890.34\n",
       "29     22  1988                      53682.89                     68923.09\n",
       "28     23  1989                      52123.31                     73530.86\n",
       "27     24  1990                      54449.14                     71613.37\n",
       "26     25  1991                      55378.51                     71858.31\n",
       "25     26  1992                      56665.30                     70205.91\n",
       "24     27  1993                      59400.67                     77179.69\n",
       "23     28  1994                      65462.30                     79273.91\n",
       "22     29  1995                      61157.13                     72615.41\n",
       "21     30  1996                      68631.56                     78120.14\n",
       "20     31  1997                      65085.19                     80504.09\n",
       "19     32  1998                      70057.41                     82394.23\n",
       "18     33  1999                      76209.47                     86527.07\n",
       "17     34  2000                      69617.04                     83476.59\n",
       "16     35  2001                      72186.10                     91556.12\n",
       "15     36  2002                      65404.66                     69917.86\n",
       "14     37  2003                      72317.08                     84971.15\n",
       "13     38  2004                      69013.36                     80951.64\n",
       "12     39  2005                      68379.02                     87315.59\n",
       "11     40  2006                      77709.50                     89984.14\n",
       "10     41  2007                      80126.73                     93002.77\n",
       "9      42  2008                      81613.21                     95226.84\n",
       "8      43  2009                      81022.42                     88070.69\n",
       "7      44  2010                      93438.55                     94300.23\n",
       "6      45  2011                     100269.99                    102216.27\n",
       "5      46  2012                      97177.86                    104237.62\n",
       "4      47  2013                     102506.18                    109552.42\n",
       "3      48  2014                      84866.58                    112551.62\n",
       "2      49  2015                      93824.98                     98820.51\n",
       "1      50  2016                     112962.82                    117614.10\n",
       "0      51  2017                     110418.21                    114319.61"
      ]
     },
     "execution_count": 21,
     "metadata": {},
     "output_type": "execute_result"
    }
   ],
   "source": [
    "# Rice Production Vs Wheat Production (Last 50y)\n",
    "wheat = df.groupby('Year')['WHEAT PRODUCTION (1000 tons)'].sum().reset_index()\n",
    "rice = df.groupby('Year')['RICE PRODUCTION (1000 tons)'].sum().reset_index()\n",
    "\n",
    "wheat_vs_rice = pd.merge(wheat,rice,on='Year').sort_values(by='Year',ascending=False).reset_index().head(50).sort_values(by='Year')\n",
    "wheat_vs_rice"
   ]
  },
  {
   "cell_type": "code",
   "execution_count": 22,
   "id": "bab9686e",
   "metadata": {},
   "outputs": [
    {
     "data": {
      "application/vnd.plotly.v1+json": {
       "config": {
        "plotlyServerURL": "https://plot.ly"
       },
       "data": [
        {
         "hovertemplate": "variable=WHEAT PRODUCTION (1000 tons)<br>Year=%{x}<br>value=%{y}<extra></extra>",
         "legendgroup": "WHEAT PRODUCTION (1000 tons)",
         "line": {
          "color": "#636efa",
          "dash": "solid",
          "shape": "linear"
         },
         "marker": {
          "symbol": "circle"
         },
         "mode": "lines+markers",
         "name": "WHEAT PRODUCTION (1000 tons)",
         "orientation": "v",
         "showlegend": true,
         "type": "scatter",
         "x": [
          1968,
          1969,
          1970,
          1971,
          1972,
          1973,
          1974,
          1975,
          1976,
          1977,
          1978,
          1979,
          1980,
          1981,
          1982,
          1983,
          1984,
          1985,
          1986,
          1987,
          1988,
          1989,
          1990,
          1991,
          1992,
          1993,
          1994,
          1995,
          1996,
          1997,
          1998,
          1999,
          2000,
          2001,
          2002,
          2003,
          2004,
          2005,
          2006,
          2007,
          2008,
          2009,
          2010,
          2011,
          2012,
          2013,
          2014,
          2015,
          2016,
          2017
         ],
         "xaxis": "x",
         "y": [
          17375.67,
          19232.36,
          22677.88,
          25280.89,
          22879.56,
          20833.39,
          23052.96,
          27150.41,
          27580.73,
          30003.66,
          34078.29,
          30742,
          35659.06,
          37154.29,
          42402.18,
          44859.22,
          43846.97,
          46811.090000000004,
          43499.94,
          45504.65,
          53682.89,
          52123.31,
          54449.14,
          55378.51,
          56665.3,
          59400.67,
          65462.3,
          61157.13,
          68631.56,
          65085.19,
          70057.41,
          76209.47,
          69617.04,
          72186.1,
          65404.659999999996,
          72317.08,
          69013.36,
          68379.02,
          77709.5,
          80126.73,
          81613.21,
          81022.42,
          93438.55,
          100269.99,
          97177.86,
          102506.18,
          84866.58,
          93824.98,
          112962.82,
          110418.21
         ],
         "yaxis": "y"
        },
        {
         "hovertemplate": "variable=RICE PRODUCTION (1000 tons)<br>Year=%{x}<br>value=%{y}<extra></extra>",
         "legendgroup": "RICE PRODUCTION (1000 tons)",
         "line": {
          "color": "#EF553B",
          "dash": "solid",
          "shape": "linear"
         },
         "marker": {
          "symbol": "circle"
         },
         "mode": "lines+markers",
         "name": "RICE PRODUCTION (1000 tons)",
         "orientation": "v",
         "showlegend": true,
         "type": "scatter",
         "x": [
          1968,
          1969,
          1970,
          1971,
          1972,
          1973,
          1974,
          1975,
          1976,
          1977,
          1978,
          1979,
          1980,
          1981,
          1982,
          1983,
          1984,
          1985,
          1986,
          1987,
          1988,
          1989,
          1990,
          1991,
          1992,
          1993,
          1994,
          1995,
          1996,
          1997,
          1998,
          1999,
          2000,
          2001,
          2002,
          2003,
          2004,
          2005,
          2006,
          2007,
          2008,
          2009,
          2010,
          2011,
          2012,
          2013,
          2014,
          2015,
          2016,
          2017
         ],
         "xaxis": "x",
         "y": [
          34701.52,
          35836.01,
          39324.12,
          39946.79,
          37925.93,
          42026.94,
          37690.51,
          46144.36,
          40226.45,
          50439.41,
          50868.020000000004,
          40560.64,
          52796.25,
          52486.37,
          45081.34,
          57766.5,
          56451.83,
          62289.85,
          58592.01,
          54890.34,
          68923.09,
          73530.86,
          71613.37,
          71858.31,
          70205.91,
          77179.69,
          79273.91,
          72615.41,
          78120.14,
          80504.09,
          82394.23,
          86527.07,
          83476.59,
          91556.12,
          69917.86,
          84971.15,
          80951.64,
          87315.59,
          89984.14,
          93002.77,
          95226.84,
          88070.69,
          94300.23,
          102216.27,
          104237.62,
          109552.42,
          112551.62,
          98820.51,
          117614.1,
          114319.61
         ],
         "yaxis": "y"
        }
       ],
       "layout": {
        "height": 500,
        "legend": {
         "title": {
          "text": "variable"
         },
         "tracegroupgap": 0
        },
        "template": {
         "data": {
          "bar": [
           {
            "error_x": {
             "color": "#2a3f5f"
            },
            "error_y": {
             "color": "#2a3f5f"
            },
            "marker": {
             "line": {
              "color": "#E5ECF6",
              "width": 0.5
             },
             "pattern": {
              "fillmode": "overlay",
              "size": 10,
              "solidity": 0.2
             }
            },
            "type": "bar"
           }
          ],
          "barpolar": [
           {
            "marker": {
             "line": {
              "color": "#E5ECF6",
              "width": 0.5
             },
             "pattern": {
              "fillmode": "overlay",
              "size": 10,
              "solidity": 0.2
             }
            },
            "type": "barpolar"
           }
          ],
          "carpet": [
           {
            "aaxis": {
             "endlinecolor": "#2a3f5f",
             "gridcolor": "white",
             "linecolor": "white",
             "minorgridcolor": "white",
             "startlinecolor": "#2a3f5f"
            },
            "baxis": {
             "endlinecolor": "#2a3f5f",
             "gridcolor": "white",
             "linecolor": "white",
             "minorgridcolor": "white",
             "startlinecolor": "#2a3f5f"
            },
            "type": "carpet"
           }
          ],
          "choropleth": [
           {
            "colorbar": {
             "outlinewidth": 0,
             "ticks": ""
            },
            "type": "choropleth"
           }
          ],
          "contour": [
           {
            "colorbar": {
             "outlinewidth": 0,
             "ticks": ""
            },
            "colorscale": [
             [
              0,
              "#0d0887"
             ],
             [
              0.1111111111111111,
              "#46039f"
             ],
             [
              0.2222222222222222,
              "#7201a8"
             ],
             [
              0.3333333333333333,
              "#9c179e"
             ],
             [
              0.4444444444444444,
              "#bd3786"
             ],
             [
              0.5555555555555556,
              "#d8576b"
             ],
             [
              0.6666666666666666,
              "#ed7953"
             ],
             [
              0.7777777777777778,
              "#fb9f3a"
             ],
             [
              0.8888888888888888,
              "#fdca26"
             ],
             [
              1,
              "#f0f921"
             ]
            ],
            "type": "contour"
           }
          ],
          "contourcarpet": [
           {
            "colorbar": {
             "outlinewidth": 0,
             "ticks": ""
            },
            "type": "contourcarpet"
           }
          ],
          "heatmap": [
           {
            "colorbar": {
             "outlinewidth": 0,
             "ticks": ""
            },
            "colorscale": [
             [
              0,
              "#0d0887"
             ],
             [
              0.1111111111111111,
              "#46039f"
             ],
             [
              0.2222222222222222,
              "#7201a8"
             ],
             [
              0.3333333333333333,
              "#9c179e"
             ],
             [
              0.4444444444444444,
              "#bd3786"
             ],
             [
              0.5555555555555556,
              "#d8576b"
             ],
             [
              0.6666666666666666,
              "#ed7953"
             ],
             [
              0.7777777777777778,
              "#fb9f3a"
             ],
             [
              0.8888888888888888,
              "#fdca26"
             ],
             [
              1,
              "#f0f921"
             ]
            ],
            "type": "heatmap"
           }
          ],
          "heatmapgl": [
           {
            "colorbar": {
             "outlinewidth": 0,
             "ticks": ""
            },
            "colorscale": [
             [
              0,
              "#0d0887"
             ],
             [
              0.1111111111111111,
              "#46039f"
             ],
             [
              0.2222222222222222,
              "#7201a8"
             ],
             [
              0.3333333333333333,
              "#9c179e"
             ],
             [
              0.4444444444444444,
              "#bd3786"
             ],
             [
              0.5555555555555556,
              "#d8576b"
             ],
             [
              0.6666666666666666,
              "#ed7953"
             ],
             [
              0.7777777777777778,
              "#fb9f3a"
             ],
             [
              0.8888888888888888,
              "#fdca26"
             ],
             [
              1,
              "#f0f921"
             ]
            ],
            "type": "heatmapgl"
           }
          ],
          "histogram": [
           {
            "marker": {
             "pattern": {
              "fillmode": "overlay",
              "size": 10,
              "solidity": 0.2
             }
            },
            "type": "histogram"
           }
          ],
          "histogram2d": [
           {
            "colorbar": {
             "outlinewidth": 0,
             "ticks": ""
            },
            "colorscale": [
             [
              0,
              "#0d0887"
             ],
             [
              0.1111111111111111,
              "#46039f"
             ],
             [
              0.2222222222222222,
              "#7201a8"
             ],
             [
              0.3333333333333333,
              "#9c179e"
             ],
             [
              0.4444444444444444,
              "#bd3786"
             ],
             [
              0.5555555555555556,
              "#d8576b"
             ],
             [
              0.6666666666666666,
              "#ed7953"
             ],
             [
              0.7777777777777778,
              "#fb9f3a"
             ],
             [
              0.8888888888888888,
              "#fdca26"
             ],
             [
              1,
              "#f0f921"
             ]
            ],
            "type": "histogram2d"
           }
          ],
          "histogram2dcontour": [
           {
            "colorbar": {
             "outlinewidth": 0,
             "ticks": ""
            },
            "colorscale": [
             [
              0,
              "#0d0887"
             ],
             [
              0.1111111111111111,
              "#46039f"
             ],
             [
              0.2222222222222222,
              "#7201a8"
             ],
             [
              0.3333333333333333,
              "#9c179e"
             ],
             [
              0.4444444444444444,
              "#bd3786"
             ],
             [
              0.5555555555555556,
              "#d8576b"
             ],
             [
              0.6666666666666666,
              "#ed7953"
             ],
             [
              0.7777777777777778,
              "#fb9f3a"
             ],
             [
              0.8888888888888888,
              "#fdca26"
             ],
             [
              1,
              "#f0f921"
             ]
            ],
            "type": "histogram2dcontour"
           }
          ],
          "mesh3d": [
           {
            "colorbar": {
             "outlinewidth": 0,
             "ticks": ""
            },
            "type": "mesh3d"
           }
          ],
          "parcoords": [
           {
            "line": {
             "colorbar": {
              "outlinewidth": 0,
              "ticks": ""
             }
            },
            "type": "parcoords"
           }
          ],
          "pie": [
           {
            "automargin": true,
            "type": "pie"
           }
          ],
          "scatter": [
           {
            "fillpattern": {
             "fillmode": "overlay",
             "size": 10,
             "solidity": 0.2
            },
            "type": "scatter"
           }
          ],
          "scatter3d": [
           {
            "line": {
             "colorbar": {
              "outlinewidth": 0,
              "ticks": ""
             }
            },
            "marker": {
             "colorbar": {
              "outlinewidth": 0,
              "ticks": ""
             }
            },
            "type": "scatter3d"
           }
          ],
          "scattercarpet": [
           {
            "marker": {
             "colorbar": {
              "outlinewidth": 0,
              "ticks": ""
             }
            },
            "type": "scattercarpet"
           }
          ],
          "scattergeo": [
           {
            "marker": {
             "colorbar": {
              "outlinewidth": 0,
              "ticks": ""
             }
            },
            "type": "scattergeo"
           }
          ],
          "scattergl": [
           {
            "marker": {
             "colorbar": {
              "outlinewidth": 0,
              "ticks": ""
             }
            },
            "type": "scattergl"
           }
          ],
          "scattermapbox": [
           {
            "marker": {
             "colorbar": {
              "outlinewidth": 0,
              "ticks": ""
             }
            },
            "type": "scattermapbox"
           }
          ],
          "scatterpolar": [
           {
            "marker": {
             "colorbar": {
              "outlinewidth": 0,
              "ticks": ""
             }
            },
            "type": "scatterpolar"
           }
          ],
          "scatterpolargl": [
           {
            "marker": {
             "colorbar": {
              "outlinewidth": 0,
              "ticks": ""
             }
            },
            "type": "scatterpolargl"
           }
          ],
          "scatterternary": [
           {
            "marker": {
             "colorbar": {
              "outlinewidth": 0,
              "ticks": ""
             }
            },
            "type": "scatterternary"
           }
          ],
          "surface": [
           {
            "colorbar": {
             "outlinewidth": 0,
             "ticks": ""
            },
            "colorscale": [
             [
              0,
              "#0d0887"
             ],
             [
              0.1111111111111111,
              "#46039f"
             ],
             [
              0.2222222222222222,
              "#7201a8"
             ],
             [
              0.3333333333333333,
              "#9c179e"
             ],
             [
              0.4444444444444444,
              "#bd3786"
             ],
             [
              0.5555555555555556,
              "#d8576b"
             ],
             [
              0.6666666666666666,
              "#ed7953"
             ],
             [
              0.7777777777777778,
              "#fb9f3a"
             ],
             [
              0.8888888888888888,
              "#fdca26"
             ],
             [
              1,
              "#f0f921"
             ]
            ],
            "type": "surface"
           }
          ],
          "table": [
           {
            "cells": {
             "fill": {
              "color": "#EBF0F8"
             },
             "line": {
              "color": "white"
             }
            },
            "header": {
             "fill": {
              "color": "#C8D4E3"
             },
             "line": {
              "color": "white"
             }
            },
            "type": "table"
           }
          ]
         },
         "layout": {
          "annotationdefaults": {
           "arrowcolor": "#2a3f5f",
           "arrowhead": 0,
           "arrowwidth": 1
          },
          "autotypenumbers": "strict",
          "coloraxis": {
           "colorbar": {
            "outlinewidth": 0,
            "ticks": ""
           }
          },
          "colorscale": {
           "diverging": [
            [
             0,
             "#8e0152"
            ],
            [
             0.1,
             "#c51b7d"
            ],
            [
             0.2,
             "#de77ae"
            ],
            [
             0.3,
             "#f1b6da"
            ],
            [
             0.4,
             "#fde0ef"
            ],
            [
             0.5,
             "#f7f7f7"
            ],
            [
             0.6,
             "#e6f5d0"
            ],
            [
             0.7,
             "#b8e186"
            ],
            [
             0.8,
             "#7fbc41"
            ],
            [
             0.9,
             "#4d9221"
            ],
            [
             1,
             "#276419"
            ]
           ],
           "sequential": [
            [
             0,
             "#0d0887"
            ],
            [
             0.1111111111111111,
             "#46039f"
            ],
            [
             0.2222222222222222,
             "#7201a8"
            ],
            [
             0.3333333333333333,
             "#9c179e"
            ],
            [
             0.4444444444444444,
             "#bd3786"
            ],
            [
             0.5555555555555556,
             "#d8576b"
            ],
            [
             0.6666666666666666,
             "#ed7953"
            ],
            [
             0.7777777777777778,
             "#fb9f3a"
            ],
            [
             0.8888888888888888,
             "#fdca26"
            ],
            [
             1,
             "#f0f921"
            ]
           ],
           "sequentialminus": [
            [
             0,
             "#0d0887"
            ],
            [
             0.1111111111111111,
             "#46039f"
            ],
            [
             0.2222222222222222,
             "#7201a8"
            ],
            [
             0.3333333333333333,
             "#9c179e"
            ],
            [
             0.4444444444444444,
             "#bd3786"
            ],
            [
             0.5555555555555556,
             "#d8576b"
            ],
            [
             0.6666666666666666,
             "#ed7953"
            ],
            [
             0.7777777777777778,
             "#fb9f3a"
            ],
            [
             0.8888888888888888,
             "#fdca26"
            ],
            [
             1,
             "#f0f921"
            ]
           ]
          },
          "colorway": [
           "#636efa",
           "#EF553B",
           "#00cc96",
           "#ab63fa",
           "#FFA15A",
           "#19d3f3",
           "#FF6692",
           "#B6E880",
           "#FF97FF",
           "#FECB52"
          ],
          "font": {
           "color": "#2a3f5f"
          },
          "geo": {
           "bgcolor": "white",
           "lakecolor": "white",
           "landcolor": "#E5ECF6",
           "showlakes": true,
           "showland": true,
           "subunitcolor": "white"
          },
          "hoverlabel": {
           "align": "left"
          },
          "hovermode": "closest",
          "mapbox": {
           "style": "light"
          },
          "paper_bgcolor": "white",
          "plot_bgcolor": "#E5ECF6",
          "polar": {
           "angularaxis": {
            "gridcolor": "white",
            "linecolor": "white",
            "ticks": ""
           },
           "bgcolor": "#E5ECF6",
           "radialaxis": {
            "gridcolor": "white",
            "linecolor": "white",
            "ticks": ""
           }
          },
          "scene": {
           "xaxis": {
            "backgroundcolor": "#E5ECF6",
            "gridcolor": "white",
            "gridwidth": 2,
            "linecolor": "white",
            "showbackground": true,
            "ticks": "",
            "zerolinecolor": "white"
           },
           "yaxis": {
            "backgroundcolor": "#E5ECF6",
            "gridcolor": "white",
            "gridwidth": 2,
            "linecolor": "white",
            "showbackground": true,
            "ticks": "",
            "zerolinecolor": "white"
           },
           "zaxis": {
            "backgroundcolor": "#E5ECF6",
            "gridcolor": "white",
            "gridwidth": 2,
            "linecolor": "white",
            "showbackground": true,
            "ticks": "",
            "zerolinecolor": "white"
           }
          },
          "shapedefaults": {
           "line": {
            "color": "#2a3f5f"
           }
          },
          "ternary": {
           "aaxis": {
            "gridcolor": "white",
            "linecolor": "white",
            "ticks": ""
           },
           "baxis": {
            "gridcolor": "white",
            "linecolor": "white",
            "ticks": ""
           },
           "bgcolor": "#E5ECF6",
           "caxis": {
            "gridcolor": "white",
            "linecolor": "white",
            "ticks": ""
           }
          },
          "title": {
           "x": 0.05
          },
          "xaxis": {
           "automargin": true,
           "gridcolor": "white",
           "linecolor": "white",
           "ticks": "",
           "title": {
            "standoff": 15
           },
           "zerolinecolor": "white",
           "zerolinewidth": 2
          },
          "yaxis": {
           "automargin": true,
           "gridcolor": "white",
           "linecolor": "white",
           "ticks": "",
           "title": {
            "standoff": 15
           },
           "zerolinecolor": "white",
           "zerolinewidth": 2
          }
         }
        },
        "title": {
         "text": "Rice Production Vs Wheat Production From Last 50 Years"
        },
        "width": 1200,
        "xaxis": {
         "anchor": "y",
         "domain": [
          0,
          1
         ],
         "title": {
          "text": "Years"
         }
        },
        "yaxis": {
         "anchor": "x",
         "domain": [
          0,
          1
         ],
         "title": {
          "text": "Rice Production Vs Wheat Production"
         }
        }
       }
      }
     },
     "metadata": {},
     "output_type": "display_data"
    }
   ],
   "source": [
    "# Line PLot\n",
    "fig = px.line(wheat_vs_rice,x = 'Year',y=['WHEAT PRODUCTION (1000 tons)','RICE PRODUCTION (1000 tons)'],title='Rice Production Vs Wheat Production From Last 50 Years',\n",
    "                labels={'Value':'Production of 1000 tons','Variable':'Crop Type'},\n",
    "                line_shape=\"linear\",markers=True)\n",
    "\n",
    "fig.update_layout(height = 500, width = 1200)\n",
    "# fig.update_traces(marker=dict(size=20))\n",
    "fig.update_layout(xaxis_title = 'Years',yaxis_title = 'Rice Production Vs Wheat Production')\n",
    "fig.show()\n"
   ]
  },
  {
   "cell_type": "markdown",
   "id": "d523cd78",
   "metadata": {},
   "source": [
    "### `Rice Production By West Bengal Districts`"
   ]
  },
  {
   "cell_type": "code",
   "execution_count": 23,
   "id": "8df44b42",
   "metadata": {},
   "outputs": [
    {
     "data": {
      "application/vnd.microsoft.datawrangler.viewer.v0+json": {
       "columns": [
        {
         "name": "index",
         "rawType": "int64",
         "type": "integer"
        },
        {
         "name": "Dist Name",
         "rawType": "object",
         "type": "string"
        },
        {
         "name": "RICE PRODUCTION (1000 tons)",
         "rawType": "float64",
         "type": "float"
        }
       ],
       "ref": "24818ae0-1de9-4f4c-8c4c-a8a0cb7cdebd",
       "rows": [
        [
         "0",
         "Midnapur",
         "98868.28"
        ],
        [
         "1",
         "Burdwan",
         "71422.15"
        ],
        [
         "2",
         "24 Parganas",
         "63011.99"
        ],
        [
         "3",
         "Birbhum",
         "42213.81"
        ],
        [
         "4",
         "Bankura",
         "40165.2"
        ],
        [
         "5",
         "Murshidabad",
         "37261.24"
        ],
        [
         "6",
         "West Dinajpur",
         "35224.87"
        ],
        [
         "7",
         "Hooghly",
         "30962.21"
        ],
        [
         "8",
         "Nadia",
         "28016.3"
        ],
        [
         "9",
         "Purulia",
         "23147.5"
        ],
        [
         "10",
         "Malda",
         "22497.83"
        ],
        [
         "11",
         "Cooch Behar",
         "20949.15"
        ],
        [
         "12",
         "Jalpaiguri",
         "17372.0"
        ],
        [
         "13",
         "Howrah",
         "10264.53"
        ],
        [
         "14",
         "Darjeeling",
         "2855.2"
        ]
       ],
       "shape": {
        "columns": 2,
        "rows": 15
       }
      },
      "text/html": [
       "<div>\n",
       "<style scoped>\n",
       "    .dataframe tbody tr th:only-of-type {\n",
       "        vertical-align: middle;\n",
       "    }\n",
       "\n",
       "    .dataframe tbody tr th {\n",
       "        vertical-align: top;\n",
       "    }\n",
       "\n",
       "    .dataframe thead th {\n",
       "        text-align: right;\n",
       "    }\n",
       "</style>\n",
       "<table border=\"1\" class=\"dataframe\">\n",
       "  <thead>\n",
       "    <tr style=\"text-align: right;\">\n",
       "      <th></th>\n",
       "      <th>Dist Name</th>\n",
       "      <th>RICE PRODUCTION (1000 tons)</th>\n",
       "    </tr>\n",
       "  </thead>\n",
       "  <tbody>\n",
       "    <tr>\n",
       "      <th>0</th>\n",
       "      <td>Midnapur</td>\n",
       "      <td>98868.28</td>\n",
       "    </tr>\n",
       "    <tr>\n",
       "      <th>1</th>\n",
       "      <td>Burdwan</td>\n",
       "      <td>71422.15</td>\n",
       "    </tr>\n",
       "    <tr>\n",
       "      <th>2</th>\n",
       "      <td>24 Parganas</td>\n",
       "      <td>63011.99</td>\n",
       "    </tr>\n",
       "    <tr>\n",
       "      <th>3</th>\n",
       "      <td>Birbhum</td>\n",
       "      <td>42213.81</td>\n",
       "    </tr>\n",
       "    <tr>\n",
       "      <th>4</th>\n",
       "      <td>Bankura</td>\n",
       "      <td>40165.20</td>\n",
       "    </tr>\n",
       "    <tr>\n",
       "      <th>5</th>\n",
       "      <td>Murshidabad</td>\n",
       "      <td>37261.24</td>\n",
       "    </tr>\n",
       "    <tr>\n",
       "      <th>6</th>\n",
       "      <td>West Dinajpur</td>\n",
       "      <td>35224.87</td>\n",
       "    </tr>\n",
       "    <tr>\n",
       "      <th>7</th>\n",
       "      <td>Hooghly</td>\n",
       "      <td>30962.21</td>\n",
       "    </tr>\n",
       "    <tr>\n",
       "      <th>8</th>\n",
       "      <td>Nadia</td>\n",
       "      <td>28016.30</td>\n",
       "    </tr>\n",
       "    <tr>\n",
       "      <th>9</th>\n",
       "      <td>Purulia</td>\n",
       "      <td>23147.50</td>\n",
       "    </tr>\n",
       "    <tr>\n",
       "      <th>10</th>\n",
       "      <td>Malda</td>\n",
       "      <td>22497.83</td>\n",
       "    </tr>\n",
       "    <tr>\n",
       "      <th>11</th>\n",
       "      <td>Cooch Behar</td>\n",
       "      <td>20949.15</td>\n",
       "    </tr>\n",
       "    <tr>\n",
       "      <th>12</th>\n",
       "      <td>Jalpaiguri</td>\n",
       "      <td>17372.00</td>\n",
       "    </tr>\n",
       "    <tr>\n",
       "      <th>13</th>\n",
       "      <td>Howrah</td>\n",
       "      <td>10264.53</td>\n",
       "    </tr>\n",
       "    <tr>\n",
       "      <th>14</th>\n",
       "      <td>Darjeeling</td>\n",
       "      <td>2855.20</td>\n",
       "    </tr>\n",
       "  </tbody>\n",
       "</table>\n",
       "</div>"
      ],
      "text/plain": [
       "        Dist Name  RICE PRODUCTION (1000 tons)\n",
       "0        Midnapur                     98868.28\n",
       "1         Burdwan                     71422.15\n",
       "2     24 Parganas                     63011.99\n",
       "3         Birbhum                     42213.81\n",
       "4         Bankura                     40165.20\n",
       "5     Murshidabad                     37261.24\n",
       "6   West Dinajpur                     35224.87\n",
       "7         Hooghly                     30962.21\n",
       "8           Nadia                     28016.30\n",
       "9         Purulia                     23147.50\n",
       "10          Malda                     22497.83\n",
       "11    Cooch Behar                     20949.15\n",
       "12     Jalpaiguri                     17372.00\n",
       "13         Howrah                     10264.53\n",
       "14     Darjeeling                      2855.20"
      ]
     },
     "execution_count": 23,
     "metadata": {},
     "output_type": "execute_result"
    }
   ],
   "source": [
    "# Rice Production By West Bengal Districts\n",
    "west_bengal = df[df['State Name'] == 'West Bengal']\n",
    "district_rice = west_bengal.groupby(west_bengal['Dist Name'])['RICE PRODUCTION (1000 tons)'].sum().sort_values(ascending=False).reset_index()\n",
    "district_rice\n"
   ]
  },
  {
   "cell_type": "markdown",
   "id": "5381daef",
   "metadata": {},
   "source": [
    "### `Top 10 Wheat Production Years From UP`"
   ]
  },
  {
   "cell_type": "code",
   "execution_count": 24,
   "id": "c7db19ee",
   "metadata": {},
   "outputs": [
    {
     "data": {
      "application/vnd.microsoft.datawrangler.viewer.v0+json": {
       "columns": [
        {
         "name": "index",
         "rawType": "int64",
         "type": "integer"
        },
        {
         "name": "Year",
         "rawType": "int32",
         "type": "integer"
        },
        {
         "name": "WHEAT PRODUCTION (1000 tons)",
         "rawType": "float64",
         "type": "float"
        }
       ],
       "ref": "2550fe83-755f-4830-864a-84f2877663fa",
       "rows": [
        [
         "42",
         "2008",
         "29110.93"
        ],
        [
         "43",
         "2009",
         "27910.8"
        ],
        [
         "44",
         "2010",
         "30602.91"
        ],
        [
         "45",
         "2011",
         "32271.69"
        ],
        [
         "46",
         "2012",
         "29041.28"
        ],
        [
         "47",
         "2013",
         "31611.63"
        ],
        [
         "48",
         "2014",
         "20146.36"
        ],
        [
         "49",
         "2015",
         "27010.39"
        ],
        [
         "50",
         "2016",
         "35120.9"
        ],
        [
         "51",
         "2017",
         "35798.6"
        ]
       ],
       "shape": {
        "columns": 2,
        "rows": 10
       }
      },
      "text/html": [
       "<div>\n",
       "<style scoped>\n",
       "    .dataframe tbody tr th:only-of-type {\n",
       "        vertical-align: middle;\n",
       "    }\n",
       "\n",
       "    .dataframe tbody tr th {\n",
       "        vertical-align: top;\n",
       "    }\n",
       "\n",
       "    .dataframe thead th {\n",
       "        text-align: right;\n",
       "    }\n",
       "</style>\n",
       "<table border=\"1\" class=\"dataframe\">\n",
       "  <thead>\n",
       "    <tr style=\"text-align: right;\">\n",
       "      <th></th>\n",
       "      <th>Year</th>\n",
       "      <th>WHEAT PRODUCTION (1000 tons)</th>\n",
       "    </tr>\n",
       "  </thead>\n",
       "  <tbody>\n",
       "    <tr>\n",
       "      <th>42</th>\n",
       "      <td>2008</td>\n",
       "      <td>29110.93</td>\n",
       "    </tr>\n",
       "    <tr>\n",
       "      <th>43</th>\n",
       "      <td>2009</td>\n",
       "      <td>27910.80</td>\n",
       "    </tr>\n",
       "    <tr>\n",
       "      <th>44</th>\n",
       "      <td>2010</td>\n",
       "      <td>30602.91</td>\n",
       "    </tr>\n",
       "    <tr>\n",
       "      <th>45</th>\n",
       "      <td>2011</td>\n",
       "      <td>32271.69</td>\n",
       "    </tr>\n",
       "    <tr>\n",
       "      <th>46</th>\n",
       "      <td>2012</td>\n",
       "      <td>29041.28</td>\n",
       "    </tr>\n",
       "    <tr>\n",
       "      <th>47</th>\n",
       "      <td>2013</td>\n",
       "      <td>31611.63</td>\n",
       "    </tr>\n",
       "    <tr>\n",
       "      <th>48</th>\n",
       "      <td>2014</td>\n",
       "      <td>20146.36</td>\n",
       "    </tr>\n",
       "    <tr>\n",
       "      <th>49</th>\n",
       "      <td>2015</td>\n",
       "      <td>27010.39</td>\n",
       "    </tr>\n",
       "    <tr>\n",
       "      <th>50</th>\n",
       "      <td>2016</td>\n",
       "      <td>35120.90</td>\n",
       "    </tr>\n",
       "    <tr>\n",
       "      <th>51</th>\n",
       "      <td>2017</td>\n",
       "      <td>35798.60</td>\n",
       "    </tr>\n",
       "  </tbody>\n",
       "</table>\n",
       "</div>"
      ],
      "text/plain": [
       "    Year  WHEAT PRODUCTION (1000 tons)\n",
       "42  2008                      29110.93\n",
       "43  2009                      27910.80\n",
       "44  2010                      30602.91\n",
       "45  2011                      32271.69\n",
       "46  2012                      29041.28\n",
       "47  2013                      31611.63\n",
       "48  2014                      20146.36\n",
       "49  2015                      27010.39\n",
       "50  2016                      35120.90\n",
       "51  2017                      35798.60"
      ]
     },
     "execution_count": 24,
     "metadata": {},
     "output_type": "execute_result"
    }
   ],
   "source": [
    "# Top 10 Wheat Production Years From UP\n",
    "'''Uttar Pradesh, Year, State Name, WHEAT PRODUCTION (1000 tons)'''\n",
    "state = df[df['State Name'] == 'Uttar Pradesh']\n",
    "\n",
    "up_production = state.groupby(state['Year'].astype(int))['WHEAT PRODUCTION (1000 tons)'].sum().reset_index()\n",
    "up_production = up_production.sort_values(by='Year', ascending=False).head(10)\n",
    "up_production = up_production.sort_values(by='Year')\n",
    "up_production"
   ]
  },
  {
   "cell_type": "code",
   "execution_count": 25,
   "id": "80552436",
   "metadata": {},
   "outputs": [
    {
     "data": {
      "application/vnd.plotly.v1+json": {
       "config": {
        "plotlyServerURL": "https://plot.ly"
       },
       "data": [
        {
         "alignmentgroup": "True",
         "hovertemplate": "Year=%{x}<br>Wheat Production=%{marker.color}<extra></extra>",
         "legendgroup": "",
         "marker": {
          "color": [
           29110.93,
           27910.8,
           30602.91,
           32271.69,
           29041.28,
           31611.63,
           20146.36,
           27010.39,
           35120.9,
           35798.6
          ],
          "coloraxis": "coloraxis",
          "pattern": {
           "shape": ""
          }
         },
         "name": "",
         "offsetgroup": "",
         "orientation": "v",
         "showlegend": false,
         "textposition": "auto",
         "type": "bar",
         "x": [
          2008,
          2009,
          2010,
          2011,
          2012,
          2013,
          2014,
          2015,
          2016,
          2017
         ],
         "xaxis": "x",
         "y": [
          29110.93,
          27910.8,
          30602.91,
          32271.69,
          29041.28,
          31611.63,
          20146.36,
          27010.39,
          35120.9,
          35798.6
         ],
         "yaxis": "y"
        }
       ],
       "layout": {
        "barmode": "relative",
        "coloraxis": {
         "colorbar": {
          "title": {
           "text": "Wheat Production"
          }
         },
         "colorscale": [
          [
           0,
           "#0d0887"
          ],
          [
           0.1111111111111111,
           "#46039f"
          ],
          [
           0.2222222222222222,
           "#7201a8"
          ],
          [
           0.3333333333333333,
           "#9c179e"
          ],
          [
           0.4444444444444444,
           "#bd3786"
          ],
          [
           0.5555555555555556,
           "#d8576b"
          ],
          [
           0.6666666666666666,
           "#ed7953"
          ],
          [
           0.7777777777777778,
           "#fb9f3a"
          ],
          [
           0.8888888888888888,
           "#fdca26"
          ],
          [
           1,
           "#f0f921"
          ]
         ]
        },
        "height": 500,
        "legend": {
         "tracegroupgap": 0
        },
        "template": {
         "data": {
          "bar": [
           {
            "error_x": {
             "color": "#2a3f5f"
            },
            "error_y": {
             "color": "#2a3f5f"
            },
            "marker": {
             "line": {
              "color": "#E5ECF6",
              "width": 0.5
             },
             "pattern": {
              "fillmode": "overlay",
              "size": 10,
              "solidity": 0.2
             }
            },
            "type": "bar"
           }
          ],
          "barpolar": [
           {
            "marker": {
             "line": {
              "color": "#E5ECF6",
              "width": 0.5
             },
             "pattern": {
              "fillmode": "overlay",
              "size": 10,
              "solidity": 0.2
             }
            },
            "type": "barpolar"
           }
          ],
          "carpet": [
           {
            "aaxis": {
             "endlinecolor": "#2a3f5f",
             "gridcolor": "white",
             "linecolor": "white",
             "minorgridcolor": "white",
             "startlinecolor": "#2a3f5f"
            },
            "baxis": {
             "endlinecolor": "#2a3f5f",
             "gridcolor": "white",
             "linecolor": "white",
             "minorgridcolor": "white",
             "startlinecolor": "#2a3f5f"
            },
            "type": "carpet"
           }
          ],
          "choropleth": [
           {
            "colorbar": {
             "outlinewidth": 0,
             "ticks": ""
            },
            "type": "choropleth"
           }
          ],
          "contour": [
           {
            "colorbar": {
             "outlinewidth": 0,
             "ticks": ""
            },
            "colorscale": [
             [
              0,
              "#0d0887"
             ],
             [
              0.1111111111111111,
              "#46039f"
             ],
             [
              0.2222222222222222,
              "#7201a8"
             ],
             [
              0.3333333333333333,
              "#9c179e"
             ],
             [
              0.4444444444444444,
              "#bd3786"
             ],
             [
              0.5555555555555556,
              "#d8576b"
             ],
             [
              0.6666666666666666,
              "#ed7953"
             ],
             [
              0.7777777777777778,
              "#fb9f3a"
             ],
             [
              0.8888888888888888,
              "#fdca26"
             ],
             [
              1,
              "#f0f921"
             ]
            ],
            "type": "contour"
           }
          ],
          "contourcarpet": [
           {
            "colorbar": {
             "outlinewidth": 0,
             "ticks": ""
            },
            "type": "contourcarpet"
           }
          ],
          "heatmap": [
           {
            "colorbar": {
             "outlinewidth": 0,
             "ticks": ""
            },
            "colorscale": [
             [
              0,
              "#0d0887"
             ],
             [
              0.1111111111111111,
              "#46039f"
             ],
             [
              0.2222222222222222,
              "#7201a8"
             ],
             [
              0.3333333333333333,
              "#9c179e"
             ],
             [
              0.4444444444444444,
              "#bd3786"
             ],
             [
              0.5555555555555556,
              "#d8576b"
             ],
             [
              0.6666666666666666,
              "#ed7953"
             ],
             [
              0.7777777777777778,
              "#fb9f3a"
             ],
             [
              0.8888888888888888,
              "#fdca26"
             ],
             [
              1,
              "#f0f921"
             ]
            ],
            "type": "heatmap"
           }
          ],
          "heatmapgl": [
           {
            "colorbar": {
             "outlinewidth": 0,
             "ticks": ""
            },
            "colorscale": [
             [
              0,
              "#0d0887"
             ],
             [
              0.1111111111111111,
              "#46039f"
             ],
             [
              0.2222222222222222,
              "#7201a8"
             ],
             [
              0.3333333333333333,
              "#9c179e"
             ],
             [
              0.4444444444444444,
              "#bd3786"
             ],
             [
              0.5555555555555556,
              "#d8576b"
             ],
             [
              0.6666666666666666,
              "#ed7953"
             ],
             [
              0.7777777777777778,
              "#fb9f3a"
             ],
             [
              0.8888888888888888,
              "#fdca26"
             ],
             [
              1,
              "#f0f921"
             ]
            ],
            "type": "heatmapgl"
           }
          ],
          "histogram": [
           {
            "marker": {
             "pattern": {
              "fillmode": "overlay",
              "size": 10,
              "solidity": 0.2
             }
            },
            "type": "histogram"
           }
          ],
          "histogram2d": [
           {
            "colorbar": {
             "outlinewidth": 0,
             "ticks": ""
            },
            "colorscale": [
             [
              0,
              "#0d0887"
             ],
             [
              0.1111111111111111,
              "#46039f"
             ],
             [
              0.2222222222222222,
              "#7201a8"
             ],
             [
              0.3333333333333333,
              "#9c179e"
             ],
             [
              0.4444444444444444,
              "#bd3786"
             ],
             [
              0.5555555555555556,
              "#d8576b"
             ],
             [
              0.6666666666666666,
              "#ed7953"
             ],
             [
              0.7777777777777778,
              "#fb9f3a"
             ],
             [
              0.8888888888888888,
              "#fdca26"
             ],
             [
              1,
              "#f0f921"
             ]
            ],
            "type": "histogram2d"
           }
          ],
          "histogram2dcontour": [
           {
            "colorbar": {
             "outlinewidth": 0,
             "ticks": ""
            },
            "colorscale": [
             [
              0,
              "#0d0887"
             ],
             [
              0.1111111111111111,
              "#46039f"
             ],
             [
              0.2222222222222222,
              "#7201a8"
             ],
             [
              0.3333333333333333,
              "#9c179e"
             ],
             [
              0.4444444444444444,
              "#bd3786"
             ],
             [
              0.5555555555555556,
              "#d8576b"
             ],
             [
              0.6666666666666666,
              "#ed7953"
             ],
             [
              0.7777777777777778,
              "#fb9f3a"
             ],
             [
              0.8888888888888888,
              "#fdca26"
             ],
             [
              1,
              "#f0f921"
             ]
            ],
            "type": "histogram2dcontour"
           }
          ],
          "mesh3d": [
           {
            "colorbar": {
             "outlinewidth": 0,
             "ticks": ""
            },
            "type": "mesh3d"
           }
          ],
          "parcoords": [
           {
            "line": {
             "colorbar": {
              "outlinewidth": 0,
              "ticks": ""
             }
            },
            "type": "parcoords"
           }
          ],
          "pie": [
           {
            "automargin": true,
            "type": "pie"
           }
          ],
          "scatter": [
           {
            "fillpattern": {
             "fillmode": "overlay",
             "size": 10,
             "solidity": 0.2
            },
            "type": "scatter"
           }
          ],
          "scatter3d": [
           {
            "line": {
             "colorbar": {
              "outlinewidth": 0,
              "ticks": ""
             }
            },
            "marker": {
             "colorbar": {
              "outlinewidth": 0,
              "ticks": ""
             }
            },
            "type": "scatter3d"
           }
          ],
          "scattercarpet": [
           {
            "marker": {
             "colorbar": {
              "outlinewidth": 0,
              "ticks": ""
             }
            },
            "type": "scattercarpet"
           }
          ],
          "scattergeo": [
           {
            "marker": {
             "colorbar": {
              "outlinewidth": 0,
              "ticks": ""
             }
            },
            "type": "scattergeo"
           }
          ],
          "scattergl": [
           {
            "marker": {
             "colorbar": {
              "outlinewidth": 0,
              "ticks": ""
             }
            },
            "type": "scattergl"
           }
          ],
          "scattermapbox": [
           {
            "marker": {
             "colorbar": {
              "outlinewidth": 0,
              "ticks": ""
             }
            },
            "type": "scattermapbox"
           }
          ],
          "scatterpolar": [
           {
            "marker": {
             "colorbar": {
              "outlinewidth": 0,
              "ticks": ""
             }
            },
            "type": "scatterpolar"
           }
          ],
          "scatterpolargl": [
           {
            "marker": {
             "colorbar": {
              "outlinewidth": 0,
              "ticks": ""
             }
            },
            "type": "scatterpolargl"
           }
          ],
          "scatterternary": [
           {
            "marker": {
             "colorbar": {
              "outlinewidth": 0,
              "ticks": ""
             }
            },
            "type": "scatterternary"
           }
          ],
          "surface": [
           {
            "colorbar": {
             "outlinewidth": 0,
             "ticks": ""
            },
            "colorscale": [
             [
              0,
              "#0d0887"
             ],
             [
              0.1111111111111111,
              "#46039f"
             ],
             [
              0.2222222222222222,
              "#7201a8"
             ],
             [
              0.3333333333333333,
              "#9c179e"
             ],
             [
              0.4444444444444444,
              "#bd3786"
             ],
             [
              0.5555555555555556,
              "#d8576b"
             ],
             [
              0.6666666666666666,
              "#ed7953"
             ],
             [
              0.7777777777777778,
              "#fb9f3a"
             ],
             [
              0.8888888888888888,
              "#fdca26"
             ],
             [
              1,
              "#f0f921"
             ]
            ],
            "type": "surface"
           }
          ],
          "table": [
           {
            "cells": {
             "fill": {
              "color": "#EBF0F8"
             },
             "line": {
              "color": "white"
             }
            },
            "header": {
             "fill": {
              "color": "#C8D4E3"
             },
             "line": {
              "color": "white"
             }
            },
            "type": "table"
           }
          ]
         },
         "layout": {
          "annotationdefaults": {
           "arrowcolor": "#2a3f5f",
           "arrowhead": 0,
           "arrowwidth": 1
          },
          "autotypenumbers": "strict",
          "coloraxis": {
           "colorbar": {
            "outlinewidth": 0,
            "ticks": ""
           }
          },
          "colorscale": {
           "diverging": [
            [
             0,
             "#8e0152"
            ],
            [
             0.1,
             "#c51b7d"
            ],
            [
             0.2,
             "#de77ae"
            ],
            [
             0.3,
             "#f1b6da"
            ],
            [
             0.4,
             "#fde0ef"
            ],
            [
             0.5,
             "#f7f7f7"
            ],
            [
             0.6,
             "#e6f5d0"
            ],
            [
             0.7,
             "#b8e186"
            ],
            [
             0.8,
             "#7fbc41"
            ],
            [
             0.9,
             "#4d9221"
            ],
            [
             1,
             "#276419"
            ]
           ],
           "sequential": [
            [
             0,
             "#0d0887"
            ],
            [
             0.1111111111111111,
             "#46039f"
            ],
            [
             0.2222222222222222,
             "#7201a8"
            ],
            [
             0.3333333333333333,
             "#9c179e"
            ],
            [
             0.4444444444444444,
             "#bd3786"
            ],
            [
             0.5555555555555556,
             "#d8576b"
            ],
            [
             0.6666666666666666,
             "#ed7953"
            ],
            [
             0.7777777777777778,
             "#fb9f3a"
            ],
            [
             0.8888888888888888,
             "#fdca26"
            ],
            [
             1,
             "#f0f921"
            ]
           ],
           "sequentialminus": [
            [
             0,
             "#0d0887"
            ],
            [
             0.1111111111111111,
             "#46039f"
            ],
            [
             0.2222222222222222,
             "#7201a8"
            ],
            [
             0.3333333333333333,
             "#9c179e"
            ],
            [
             0.4444444444444444,
             "#bd3786"
            ],
            [
             0.5555555555555556,
             "#d8576b"
            ],
            [
             0.6666666666666666,
             "#ed7953"
            ],
            [
             0.7777777777777778,
             "#fb9f3a"
            ],
            [
             0.8888888888888888,
             "#fdca26"
            ],
            [
             1,
             "#f0f921"
            ]
           ]
          },
          "colorway": [
           "#636efa",
           "#EF553B",
           "#00cc96",
           "#ab63fa",
           "#FFA15A",
           "#19d3f3",
           "#FF6692",
           "#B6E880",
           "#FF97FF",
           "#FECB52"
          ],
          "font": {
           "color": "#2a3f5f"
          },
          "geo": {
           "bgcolor": "white",
           "lakecolor": "white",
           "landcolor": "#E5ECF6",
           "showlakes": true,
           "showland": true,
           "subunitcolor": "white"
          },
          "hoverlabel": {
           "align": "left"
          },
          "hovermode": "closest",
          "mapbox": {
           "style": "light"
          },
          "paper_bgcolor": "white",
          "plot_bgcolor": "#E5ECF6",
          "polar": {
           "angularaxis": {
            "gridcolor": "white",
            "linecolor": "white",
            "ticks": ""
           },
           "bgcolor": "#E5ECF6",
           "radialaxis": {
            "gridcolor": "white",
            "linecolor": "white",
            "ticks": ""
           }
          },
          "scene": {
           "xaxis": {
            "backgroundcolor": "#E5ECF6",
            "gridcolor": "white",
            "gridwidth": 2,
            "linecolor": "white",
            "showbackground": true,
            "ticks": "",
            "zerolinecolor": "white"
           },
           "yaxis": {
            "backgroundcolor": "#E5ECF6",
            "gridcolor": "white",
            "gridwidth": 2,
            "linecolor": "white",
            "showbackground": true,
            "ticks": "",
            "zerolinecolor": "white"
           },
           "zaxis": {
            "backgroundcolor": "#E5ECF6",
            "gridcolor": "white",
            "gridwidth": 2,
            "linecolor": "white",
            "showbackground": true,
            "ticks": "",
            "zerolinecolor": "white"
           }
          },
          "shapedefaults": {
           "line": {
            "color": "#2a3f5f"
           }
          },
          "ternary": {
           "aaxis": {
            "gridcolor": "white",
            "linecolor": "white",
            "ticks": ""
           },
           "baxis": {
            "gridcolor": "white",
            "linecolor": "white",
            "ticks": ""
           },
           "bgcolor": "#E5ECF6",
           "caxis": {
            "gridcolor": "white",
            "linecolor": "white",
            "ticks": ""
           }
          },
          "title": {
           "x": 0.05
          },
          "xaxis": {
           "automargin": true,
           "gridcolor": "white",
           "linecolor": "white",
           "ticks": "",
           "title": {
            "standoff": 15
           },
           "zerolinecolor": "white",
           "zerolinewidth": 2
          },
          "yaxis": {
           "automargin": true,
           "gridcolor": "white",
           "linecolor": "white",
           "ticks": "",
           "title": {
            "standoff": 15
           },
           "zerolinecolor": "white",
           "zerolinewidth": 2
          }
         }
        },
        "title": {
         "text": "Top 10 Wheat Production Years From UP"
        },
        "width": 800,
        "xaxis": {
         "anchor": "y",
         "domain": [
          0,
          1
         ],
         "title": {
          "text": "Year"
         }
        },
        "yaxis": {
         "anchor": "x",
         "domain": [
          0,
          1
         ],
         "title": {
          "text": "Wheat Production"
         }
        }
       }
      }
     },
     "metadata": {},
     "output_type": "display_data"
    }
   ],
   "source": [
    "fig = px.bar(up_production,x='Year',y='WHEAT PRODUCTION (1000 tons)',title='Top 10 Wheat Production Years From UP',labels={'Year':'Year','WHEAT PRODUCTION (1000 tons)':'Wheat Production'},color='WHEAT PRODUCTION (1000 tons)',color_discrete_sequence='Viridis')\n",
    "\n",
    "fig.update_layout(height = 500,width = 800)\n",
    "\n",
    "fig.show()"
   ]
  },
  {
   "cell_type": "markdown",
   "id": "cf7f4751",
   "metadata": {},
   "source": [
    "### `Millet Production (Last 50y)`"
   ]
  },
  {
   "cell_type": "code",
   "execution_count": 26,
   "id": "9d39d893",
   "metadata": {},
   "outputs": [
    {
     "data": {
      "application/vnd.microsoft.datawrangler.viewer.v0+json": {
       "columns": [
        {
         "name": "index",
         "rawType": "int64",
         "type": "integer"
        },
        {
         "name": "Year",
         "rawType": "int64",
         "type": "integer"
        },
        {
         "name": "FINGER MILLET PRODUCTION (1000 tons)",
         "rawType": "float64",
         "type": "float"
        },
        {
         "name": "PEARL MILLET PRODUCTION (1000 tons)",
         "rawType": "float64",
         "type": "float"
        },
        {
         "name": "Total Millet Production (1000 tons)",
         "rawType": "float64",
         "type": "float"
        }
       ],
       "ref": "b19ff33a-971e-4c89-8e5a-1e3b6901359e",
       "rows": [
        [
         "2",
         "1968",
         "1528.89",
         "3853.45",
         "5382.34"
        ],
        [
         "3",
         "1969",
         "1659.85",
         "5516.42",
         "7176.27"
        ],
        [
         "4",
         "1970",
         "1879.32",
         "8018.16",
         "9897.48"
        ],
        [
         "5",
         "1971",
         "2006.8",
         "5250.84",
         "7257.64"
        ],
        [
         "6",
         "1972",
         "1695.74",
         "3935.34",
         "5631.08"
        ],
        [
         "7",
         "1973",
         "1879.76",
         "7266.05",
         "9145.81"
        ],
        [
         "8",
         "1974",
         "2027.0",
         "3388.46",
         "5415.46"
        ],
        [
         "9",
         "1975",
         "2652.48",
         "5625.08",
         "8277.56"
        ],
        [
         "10",
         "1976",
         "1981.01",
         "5631.29",
         "7612.3"
        ],
        [
         "11",
         "1977",
         "3000.37",
         "4722.99",
         "7723.36"
        ],
        [
         "12",
         "1978",
         "3123.91",
         "5510.36",
         "8634.27"
        ],
        [
         "13",
         "1979",
         "2716.87",
         "4535.74",
         "7252.61"
        ],
        [
         "14",
         "1980",
         "2445.12",
         "5363.72",
         "7808.84"
        ],
        [
         "15",
         "1981",
         "2873.61",
         "5360.47",
         "8234.08"
        ],
        [
         "16",
         "1982",
         "2573.18",
         "5110.5199999999995",
         "7683.699999999999"
        ],
        [
         "17",
         "1983",
         "2978.23",
         "7603.26",
         "10581.49"
        ],
        [
         "18",
         "1984",
         "2417.34",
         "6151.85",
         "8569.19"
        ],
        [
         "19",
         "1985",
         "2483.44",
         "3664.26",
         "6147.700000000001"
        ],
        [
         "20",
         "1986",
         "2637.91",
         "4461.36",
         "7099.2699999999995"
        ],
        [
         "21",
         "1987",
         "2283.46",
         "3355.98",
         "5639.4400000000005"
        ],
        [
         "22",
         "1988",
         "2370.99",
         "7671.55",
         "10042.54"
        ],
        [
         "23",
         "1989",
         "2731.7599999999998",
         "6730.7300000000005",
         "9462.49"
        ],
        [
         "24",
         "1990",
         "2080.87",
         "6998.45",
         "9079.32"
        ],
        [
         "25",
         "1991",
         "2353.91",
         "4665.81",
         "7019.72"
        ],
        [
         "26",
         "1992",
         "2487.13",
         "9082.92",
         "11570.05"
        ],
        [
         "27",
         "1993",
         "2592.15",
         "5197.32",
         "7789.469999999999"
        ],
        [
         "28",
         "1994",
         "2250.94",
         "7215.85",
         "9466.79"
        ],
        [
         "29",
         "1995",
         "2393.76",
         "5477.49",
         "7871.25"
        ],
        [
         "30",
         "1996",
         "2154.45",
         "7872.34",
         "10026.79"
        ],
        [
         "31",
         "1997",
         "1960.93",
         "7719.64",
         "9680.57"
        ],
        [
         "32",
         "1998",
         "2471.65",
         "7097.6",
         "9569.25"
        ],
        [
         "33",
         "1999",
         "2376.65",
         "5900.35",
         "8277.0"
        ],
        [
         "34",
         "2000",
         "2719.25",
         "6903.59",
         "9622.84"
        ],
        [
         "35",
         "2001",
         "2430.45",
         "8509.41",
         "10939.86"
        ],
        [
         "36",
         "2002",
         "1399.26",
         "4953.81",
         "6353.070000000001"
        ],
        [
         "37",
         "2003",
         "1959.68",
         "12165.07",
         "14124.75"
        ],
        [
         "38",
         "2004",
         "2398.41",
         "7925.63",
         "10324.04"
        ],
        [
         "39",
         "2005",
         "2413.4",
         "7148.42",
         "9561.82"
        ],
        [
         "40",
         "2006",
         "1398.54",
         "8382.21",
         "9780.75"
        ],
        [
         "41",
         "2007",
         "2165.25",
         "10060.64",
         "12225.89"
        ],
        [
         "42",
         "2008",
         "1981.27",
         "8998.39",
         "10979.66"
        ],
        [
         "43",
         "2009",
         "1889.29",
         "6597.51",
         "8486.8"
        ],
        [
         "44",
         "2010",
         "2281.21",
         "12376.91",
         "14658.119999999999"
        ],
        [
         "45",
         "2011",
         "2049.04",
         "12413.460000000001",
         "14462.5"
        ],
        [
         "46",
         "2012",
         "1645.51",
         "8820.76",
         "10466.27"
        ],
        [
         "47",
         "2013",
         "2137.59",
         "9930.81",
         "12068.4"
        ],
        [
         "48",
         "2014",
         "2132.44",
         "9413.04",
         "11545.480000000001"
        ],
        [
         "49",
         "2015",
         "1913.9199999999998",
         "7805.13",
         "9719.05"
        ],
        [
         "50",
         "2016",
         "1095.72",
         "9802.02",
         "10897.74"
        ],
        [
         "51",
         "2017",
         "2318.14",
         "9282.15",
         "11600.289999999999"
        ]
       ],
       "shape": {
        "columns": 4,
        "rows": 50
       }
      },
      "text/html": [
       "<div>\n",
       "<style scoped>\n",
       "    .dataframe tbody tr th:only-of-type {\n",
       "        vertical-align: middle;\n",
       "    }\n",
       "\n",
       "    .dataframe tbody tr th {\n",
       "        vertical-align: top;\n",
       "    }\n",
       "\n",
       "    .dataframe thead th {\n",
       "        text-align: right;\n",
       "    }\n",
       "</style>\n",
       "<table border=\"1\" class=\"dataframe\">\n",
       "  <thead>\n",
       "    <tr style=\"text-align: right;\">\n",
       "      <th></th>\n",
       "      <th>Year</th>\n",
       "      <th>FINGER MILLET PRODUCTION (1000 tons)</th>\n",
       "      <th>PEARL MILLET PRODUCTION (1000 tons)</th>\n",
       "      <th>Total Millet Production (1000 tons)</th>\n",
       "    </tr>\n",
       "  </thead>\n",
       "  <tbody>\n",
       "    <tr>\n",
       "      <th>2</th>\n",
       "      <td>1968</td>\n",
       "      <td>1528.89</td>\n",
       "      <td>3853.45</td>\n",
       "      <td>5382.34</td>\n",
       "    </tr>\n",
       "    <tr>\n",
       "      <th>3</th>\n",
       "      <td>1969</td>\n",
       "      <td>1659.85</td>\n",
       "      <td>5516.42</td>\n",
       "      <td>7176.27</td>\n",
       "    </tr>\n",
       "    <tr>\n",
       "      <th>4</th>\n",
       "      <td>1970</td>\n",
       "      <td>1879.32</td>\n",
       "      <td>8018.16</td>\n",
       "      <td>9897.48</td>\n",
       "    </tr>\n",
       "    <tr>\n",
       "      <th>5</th>\n",
       "      <td>1971</td>\n",
       "      <td>2006.80</td>\n",
       "      <td>5250.84</td>\n",
       "      <td>7257.64</td>\n",
       "    </tr>\n",
       "    <tr>\n",
       "      <th>6</th>\n",
       "      <td>1972</td>\n",
       "      <td>1695.74</td>\n",
       "      <td>3935.34</td>\n",
       "      <td>5631.08</td>\n",
       "    </tr>\n",
       "    <tr>\n",
       "      <th>7</th>\n",
       "      <td>1973</td>\n",
       "      <td>1879.76</td>\n",
       "      <td>7266.05</td>\n",
       "      <td>9145.81</td>\n",
       "    </tr>\n",
       "    <tr>\n",
       "      <th>8</th>\n",
       "      <td>1974</td>\n",
       "      <td>2027.00</td>\n",
       "      <td>3388.46</td>\n",
       "      <td>5415.46</td>\n",
       "    </tr>\n",
       "    <tr>\n",
       "      <th>9</th>\n",
       "      <td>1975</td>\n",
       "      <td>2652.48</td>\n",
       "      <td>5625.08</td>\n",
       "      <td>8277.56</td>\n",
       "    </tr>\n",
       "    <tr>\n",
       "      <th>10</th>\n",
       "      <td>1976</td>\n",
       "      <td>1981.01</td>\n",
       "      <td>5631.29</td>\n",
       "      <td>7612.30</td>\n",
       "    </tr>\n",
       "    <tr>\n",
       "      <th>11</th>\n",
       "      <td>1977</td>\n",
       "      <td>3000.37</td>\n",
       "      <td>4722.99</td>\n",
       "      <td>7723.36</td>\n",
       "    </tr>\n",
       "    <tr>\n",
       "      <th>12</th>\n",
       "      <td>1978</td>\n",
       "      <td>3123.91</td>\n",
       "      <td>5510.36</td>\n",
       "      <td>8634.27</td>\n",
       "    </tr>\n",
       "    <tr>\n",
       "      <th>13</th>\n",
       "      <td>1979</td>\n",
       "      <td>2716.87</td>\n",
       "      <td>4535.74</td>\n",
       "      <td>7252.61</td>\n",
       "    </tr>\n",
       "    <tr>\n",
       "      <th>14</th>\n",
       "      <td>1980</td>\n",
       "      <td>2445.12</td>\n",
       "      <td>5363.72</td>\n",
       "      <td>7808.84</td>\n",
       "    </tr>\n",
       "    <tr>\n",
       "      <th>15</th>\n",
       "      <td>1981</td>\n",
       "      <td>2873.61</td>\n",
       "      <td>5360.47</td>\n",
       "      <td>8234.08</td>\n",
       "    </tr>\n",
       "    <tr>\n",
       "      <th>16</th>\n",
       "      <td>1982</td>\n",
       "      <td>2573.18</td>\n",
       "      <td>5110.52</td>\n",
       "      <td>7683.70</td>\n",
       "    </tr>\n",
       "    <tr>\n",
       "      <th>17</th>\n",
       "      <td>1983</td>\n",
       "      <td>2978.23</td>\n",
       "      <td>7603.26</td>\n",
       "      <td>10581.49</td>\n",
       "    </tr>\n",
       "    <tr>\n",
       "      <th>18</th>\n",
       "      <td>1984</td>\n",
       "      <td>2417.34</td>\n",
       "      <td>6151.85</td>\n",
       "      <td>8569.19</td>\n",
       "    </tr>\n",
       "    <tr>\n",
       "      <th>19</th>\n",
       "      <td>1985</td>\n",
       "      <td>2483.44</td>\n",
       "      <td>3664.26</td>\n",
       "      <td>6147.70</td>\n",
       "    </tr>\n",
       "    <tr>\n",
       "      <th>20</th>\n",
       "      <td>1986</td>\n",
       "      <td>2637.91</td>\n",
       "      <td>4461.36</td>\n",
       "      <td>7099.27</td>\n",
       "    </tr>\n",
       "    <tr>\n",
       "      <th>21</th>\n",
       "      <td>1987</td>\n",
       "      <td>2283.46</td>\n",
       "      <td>3355.98</td>\n",
       "      <td>5639.44</td>\n",
       "    </tr>\n",
       "    <tr>\n",
       "      <th>22</th>\n",
       "      <td>1988</td>\n",
       "      <td>2370.99</td>\n",
       "      <td>7671.55</td>\n",
       "      <td>10042.54</td>\n",
       "    </tr>\n",
       "    <tr>\n",
       "      <th>23</th>\n",
       "      <td>1989</td>\n",
       "      <td>2731.76</td>\n",
       "      <td>6730.73</td>\n",
       "      <td>9462.49</td>\n",
       "    </tr>\n",
       "    <tr>\n",
       "      <th>24</th>\n",
       "      <td>1990</td>\n",
       "      <td>2080.87</td>\n",
       "      <td>6998.45</td>\n",
       "      <td>9079.32</td>\n",
       "    </tr>\n",
       "    <tr>\n",
       "      <th>25</th>\n",
       "      <td>1991</td>\n",
       "      <td>2353.91</td>\n",
       "      <td>4665.81</td>\n",
       "      <td>7019.72</td>\n",
       "    </tr>\n",
       "    <tr>\n",
       "      <th>26</th>\n",
       "      <td>1992</td>\n",
       "      <td>2487.13</td>\n",
       "      <td>9082.92</td>\n",
       "      <td>11570.05</td>\n",
       "    </tr>\n",
       "    <tr>\n",
       "      <th>27</th>\n",
       "      <td>1993</td>\n",
       "      <td>2592.15</td>\n",
       "      <td>5197.32</td>\n",
       "      <td>7789.47</td>\n",
       "    </tr>\n",
       "    <tr>\n",
       "      <th>28</th>\n",
       "      <td>1994</td>\n",
       "      <td>2250.94</td>\n",
       "      <td>7215.85</td>\n",
       "      <td>9466.79</td>\n",
       "    </tr>\n",
       "    <tr>\n",
       "      <th>29</th>\n",
       "      <td>1995</td>\n",
       "      <td>2393.76</td>\n",
       "      <td>5477.49</td>\n",
       "      <td>7871.25</td>\n",
       "    </tr>\n",
       "    <tr>\n",
       "      <th>30</th>\n",
       "      <td>1996</td>\n",
       "      <td>2154.45</td>\n",
       "      <td>7872.34</td>\n",
       "      <td>10026.79</td>\n",
       "    </tr>\n",
       "    <tr>\n",
       "      <th>31</th>\n",
       "      <td>1997</td>\n",
       "      <td>1960.93</td>\n",
       "      <td>7719.64</td>\n",
       "      <td>9680.57</td>\n",
       "    </tr>\n",
       "    <tr>\n",
       "      <th>32</th>\n",
       "      <td>1998</td>\n",
       "      <td>2471.65</td>\n",
       "      <td>7097.60</td>\n",
       "      <td>9569.25</td>\n",
       "    </tr>\n",
       "    <tr>\n",
       "      <th>33</th>\n",
       "      <td>1999</td>\n",
       "      <td>2376.65</td>\n",
       "      <td>5900.35</td>\n",
       "      <td>8277.00</td>\n",
       "    </tr>\n",
       "    <tr>\n",
       "      <th>34</th>\n",
       "      <td>2000</td>\n",
       "      <td>2719.25</td>\n",
       "      <td>6903.59</td>\n",
       "      <td>9622.84</td>\n",
       "    </tr>\n",
       "    <tr>\n",
       "      <th>35</th>\n",
       "      <td>2001</td>\n",
       "      <td>2430.45</td>\n",
       "      <td>8509.41</td>\n",
       "      <td>10939.86</td>\n",
       "    </tr>\n",
       "    <tr>\n",
       "      <th>36</th>\n",
       "      <td>2002</td>\n",
       "      <td>1399.26</td>\n",
       "      <td>4953.81</td>\n",
       "      <td>6353.07</td>\n",
       "    </tr>\n",
       "    <tr>\n",
       "      <th>37</th>\n",
       "      <td>2003</td>\n",
       "      <td>1959.68</td>\n",
       "      <td>12165.07</td>\n",
       "      <td>14124.75</td>\n",
       "    </tr>\n",
       "    <tr>\n",
       "      <th>38</th>\n",
       "      <td>2004</td>\n",
       "      <td>2398.41</td>\n",
       "      <td>7925.63</td>\n",
       "      <td>10324.04</td>\n",
       "    </tr>\n",
       "    <tr>\n",
       "      <th>39</th>\n",
       "      <td>2005</td>\n",
       "      <td>2413.40</td>\n",
       "      <td>7148.42</td>\n",
       "      <td>9561.82</td>\n",
       "    </tr>\n",
       "    <tr>\n",
       "      <th>40</th>\n",
       "      <td>2006</td>\n",
       "      <td>1398.54</td>\n",
       "      <td>8382.21</td>\n",
       "      <td>9780.75</td>\n",
       "    </tr>\n",
       "    <tr>\n",
       "      <th>41</th>\n",
       "      <td>2007</td>\n",
       "      <td>2165.25</td>\n",
       "      <td>10060.64</td>\n",
       "      <td>12225.89</td>\n",
       "    </tr>\n",
       "    <tr>\n",
       "      <th>42</th>\n",
       "      <td>2008</td>\n",
       "      <td>1981.27</td>\n",
       "      <td>8998.39</td>\n",
       "      <td>10979.66</td>\n",
       "    </tr>\n",
       "    <tr>\n",
       "      <th>43</th>\n",
       "      <td>2009</td>\n",
       "      <td>1889.29</td>\n",
       "      <td>6597.51</td>\n",
       "      <td>8486.80</td>\n",
       "    </tr>\n",
       "    <tr>\n",
       "      <th>44</th>\n",
       "      <td>2010</td>\n",
       "      <td>2281.21</td>\n",
       "      <td>12376.91</td>\n",
       "      <td>14658.12</td>\n",
       "    </tr>\n",
       "    <tr>\n",
       "      <th>45</th>\n",
       "      <td>2011</td>\n",
       "      <td>2049.04</td>\n",
       "      <td>12413.46</td>\n",
       "      <td>14462.50</td>\n",
       "    </tr>\n",
       "    <tr>\n",
       "      <th>46</th>\n",
       "      <td>2012</td>\n",
       "      <td>1645.51</td>\n",
       "      <td>8820.76</td>\n",
       "      <td>10466.27</td>\n",
       "    </tr>\n",
       "    <tr>\n",
       "      <th>47</th>\n",
       "      <td>2013</td>\n",
       "      <td>2137.59</td>\n",
       "      <td>9930.81</td>\n",
       "      <td>12068.40</td>\n",
       "    </tr>\n",
       "    <tr>\n",
       "      <th>48</th>\n",
       "      <td>2014</td>\n",
       "      <td>2132.44</td>\n",
       "      <td>9413.04</td>\n",
       "      <td>11545.48</td>\n",
       "    </tr>\n",
       "    <tr>\n",
       "      <th>49</th>\n",
       "      <td>2015</td>\n",
       "      <td>1913.92</td>\n",
       "      <td>7805.13</td>\n",
       "      <td>9719.05</td>\n",
       "    </tr>\n",
       "    <tr>\n",
       "      <th>50</th>\n",
       "      <td>2016</td>\n",
       "      <td>1095.72</td>\n",
       "      <td>9802.02</td>\n",
       "      <td>10897.74</td>\n",
       "    </tr>\n",
       "    <tr>\n",
       "      <th>51</th>\n",
       "      <td>2017</td>\n",
       "      <td>2318.14</td>\n",
       "      <td>9282.15</td>\n",
       "      <td>11600.29</td>\n",
       "    </tr>\n",
       "  </tbody>\n",
       "</table>\n",
       "</div>"
      ],
      "text/plain": [
       "    Year  FINGER MILLET PRODUCTION (1000 tons)  \\\n",
       "2   1968                               1528.89   \n",
       "3   1969                               1659.85   \n",
       "4   1970                               1879.32   \n",
       "5   1971                               2006.80   \n",
       "6   1972                               1695.74   \n",
       "7   1973                               1879.76   \n",
       "8   1974                               2027.00   \n",
       "9   1975                               2652.48   \n",
       "10  1976                               1981.01   \n",
       "11  1977                               3000.37   \n",
       "12  1978                               3123.91   \n",
       "13  1979                               2716.87   \n",
       "14  1980                               2445.12   \n",
       "15  1981                               2873.61   \n",
       "16  1982                               2573.18   \n",
       "17  1983                               2978.23   \n",
       "18  1984                               2417.34   \n",
       "19  1985                               2483.44   \n",
       "20  1986                               2637.91   \n",
       "21  1987                               2283.46   \n",
       "22  1988                               2370.99   \n",
       "23  1989                               2731.76   \n",
       "24  1990                               2080.87   \n",
       "25  1991                               2353.91   \n",
       "26  1992                               2487.13   \n",
       "27  1993                               2592.15   \n",
       "28  1994                               2250.94   \n",
       "29  1995                               2393.76   \n",
       "30  1996                               2154.45   \n",
       "31  1997                               1960.93   \n",
       "32  1998                               2471.65   \n",
       "33  1999                               2376.65   \n",
       "34  2000                               2719.25   \n",
       "35  2001                               2430.45   \n",
       "36  2002                               1399.26   \n",
       "37  2003                               1959.68   \n",
       "38  2004                               2398.41   \n",
       "39  2005                               2413.40   \n",
       "40  2006                               1398.54   \n",
       "41  2007                               2165.25   \n",
       "42  2008                               1981.27   \n",
       "43  2009                               1889.29   \n",
       "44  2010                               2281.21   \n",
       "45  2011                               2049.04   \n",
       "46  2012                               1645.51   \n",
       "47  2013                               2137.59   \n",
       "48  2014                               2132.44   \n",
       "49  2015                               1913.92   \n",
       "50  2016                               1095.72   \n",
       "51  2017                               2318.14   \n",
       "\n",
       "    PEARL MILLET PRODUCTION (1000 tons)  Total Millet Production (1000 tons)  \n",
       "2                               3853.45                              5382.34  \n",
       "3                               5516.42                              7176.27  \n",
       "4                               8018.16                              9897.48  \n",
       "5                               5250.84                              7257.64  \n",
       "6                               3935.34                              5631.08  \n",
       "7                               7266.05                              9145.81  \n",
       "8                               3388.46                              5415.46  \n",
       "9                               5625.08                              8277.56  \n",
       "10                              5631.29                              7612.30  \n",
       "11                              4722.99                              7723.36  \n",
       "12                              5510.36                              8634.27  \n",
       "13                              4535.74                              7252.61  \n",
       "14                              5363.72                              7808.84  \n",
       "15                              5360.47                              8234.08  \n",
       "16                              5110.52                              7683.70  \n",
       "17                              7603.26                             10581.49  \n",
       "18                              6151.85                              8569.19  \n",
       "19                              3664.26                              6147.70  \n",
       "20                              4461.36                              7099.27  \n",
       "21                              3355.98                              5639.44  \n",
       "22                              7671.55                             10042.54  \n",
       "23                              6730.73                              9462.49  \n",
       "24                              6998.45                              9079.32  \n",
       "25                              4665.81                              7019.72  \n",
       "26                              9082.92                             11570.05  \n",
       "27                              5197.32                              7789.47  \n",
       "28                              7215.85                              9466.79  \n",
       "29                              5477.49                              7871.25  \n",
       "30                              7872.34                             10026.79  \n",
       "31                              7719.64                              9680.57  \n",
       "32                              7097.60                              9569.25  \n",
       "33                              5900.35                              8277.00  \n",
       "34                              6903.59                              9622.84  \n",
       "35                              8509.41                             10939.86  \n",
       "36                              4953.81                              6353.07  \n",
       "37                             12165.07                             14124.75  \n",
       "38                              7925.63                             10324.04  \n",
       "39                              7148.42                              9561.82  \n",
       "40                              8382.21                              9780.75  \n",
       "41                             10060.64                             12225.89  \n",
       "42                              8998.39                             10979.66  \n",
       "43                              6597.51                              8486.80  \n",
       "44                             12376.91                             14658.12  \n",
       "45                             12413.46                             14462.50  \n",
       "46                              8820.76                             10466.27  \n",
       "47                              9930.81                             12068.40  \n",
       "48                              9413.04                             11545.48  \n",
       "49                              7805.13                              9719.05  \n",
       "50                              9802.02                             10897.74  \n",
       "51                              9282.15                             11600.29  "
      ]
     },
     "execution_count": 26,
     "metadata": {},
     "output_type": "execute_result"
    }
   ],
   "source": [
    "### `Millet Production (Last 50y)`\n",
    "\n",
    "millet = df.groupby('Year')[[\n",
    "    'FINGER MILLET PRODUCTION (1000 tons)',\n",
    "    'PEARL MILLET PRODUCTION (1000 tons)'\n",
    "]].sum().reset_index()\n",
    "\n",
    "millet['Total Millet Production (1000 tons)'] = (\n",
    "    millet['FINGER MILLET PRODUCTION (1000 tons)'] + millet['PEARL MILLET PRODUCTION (1000 tons)']\n",
    ")\n",
    "\n",
    "millet_last_50 = millet.sort_values(by='Year', ascending=False).head(50).sort_values(by='Year')\n",
    "\n",
    "millet_last_50"
   ]
  },
  {
   "cell_type": "code",
   "execution_count": 27,
   "id": "88f09edb",
   "metadata": {},
   "outputs": [
    {
     "data": {
      "application/vnd.plotly.v1+json": {
       "config": {
        "plotlyServerURL": "https://plot.ly"
       },
       "data": [
        {
         "hovertemplate": "Year=%{x}<br>Production (1000 tons)=%{y}<extra></extra>",
         "legendgroup": "",
         "line": {
          "color": "#636efa",
          "dash": "solid"
         },
         "marker": {
          "symbol": "circle"
         },
         "mode": "lines+markers",
         "name": "",
         "orientation": "v",
         "showlegend": false,
         "type": "scatter",
         "x": [
          1968,
          1969,
          1970,
          1971,
          1972,
          1973,
          1974,
          1975,
          1976,
          1977,
          1978,
          1979,
          1980,
          1981,
          1982,
          1983,
          1984,
          1985,
          1986,
          1987,
          1988,
          1989,
          1990,
          1991,
          1992,
          1993,
          1994,
          1995,
          1996,
          1997,
          1998,
          1999,
          2000,
          2001,
          2002,
          2003,
          2004,
          2005,
          2006,
          2007,
          2008,
          2009,
          2010,
          2011,
          2012,
          2013,
          2014,
          2015,
          2016,
          2017
         ],
         "xaxis": "x",
         "y": [
          5382.34,
          7176.27,
          9897.48,
          7257.64,
          5631.08,
          9145.81,
          5415.46,
          8277.56,
          7612.3,
          7723.36,
          8634.27,
          7252.61,
          7808.84,
          8234.08,
          7683.699999999999,
          10581.49,
          8569.19,
          6147.700000000001,
          7099.2699999999995,
          5639.4400000000005,
          10042.54,
          9462.49,
          9079.32,
          7019.72,
          11570.05,
          7789.469999999999,
          9466.79,
          7871.25,
          10026.79,
          9680.57,
          9569.25,
          8277,
          9622.84,
          10939.86,
          6353.070000000001,
          14124.75,
          10324.04,
          9561.82,
          9780.75,
          12225.89,
          10979.66,
          8486.8,
          14658.119999999999,
          14462.5,
          10466.27,
          12068.4,
          11545.480000000001,
          9719.05,
          10897.74,
          11600.289999999999
         ],
         "yaxis": "y"
        }
       ],
       "layout": {
        "legend": {
         "tracegroupgap": 0
        },
        "template": {
         "data": {
          "bar": [
           {
            "error_x": {
             "color": "#2a3f5f"
            },
            "error_y": {
             "color": "#2a3f5f"
            },
            "marker": {
             "line": {
              "color": "#E5ECF6",
              "width": 0.5
             },
             "pattern": {
              "fillmode": "overlay",
              "size": 10,
              "solidity": 0.2
             }
            },
            "type": "bar"
           }
          ],
          "barpolar": [
           {
            "marker": {
             "line": {
              "color": "#E5ECF6",
              "width": 0.5
             },
             "pattern": {
              "fillmode": "overlay",
              "size": 10,
              "solidity": 0.2
             }
            },
            "type": "barpolar"
           }
          ],
          "carpet": [
           {
            "aaxis": {
             "endlinecolor": "#2a3f5f",
             "gridcolor": "white",
             "linecolor": "white",
             "minorgridcolor": "white",
             "startlinecolor": "#2a3f5f"
            },
            "baxis": {
             "endlinecolor": "#2a3f5f",
             "gridcolor": "white",
             "linecolor": "white",
             "minorgridcolor": "white",
             "startlinecolor": "#2a3f5f"
            },
            "type": "carpet"
           }
          ],
          "choropleth": [
           {
            "colorbar": {
             "outlinewidth": 0,
             "ticks": ""
            },
            "type": "choropleth"
           }
          ],
          "contour": [
           {
            "colorbar": {
             "outlinewidth": 0,
             "ticks": ""
            },
            "colorscale": [
             [
              0,
              "#0d0887"
             ],
             [
              0.1111111111111111,
              "#46039f"
             ],
             [
              0.2222222222222222,
              "#7201a8"
             ],
             [
              0.3333333333333333,
              "#9c179e"
             ],
             [
              0.4444444444444444,
              "#bd3786"
             ],
             [
              0.5555555555555556,
              "#d8576b"
             ],
             [
              0.6666666666666666,
              "#ed7953"
             ],
             [
              0.7777777777777778,
              "#fb9f3a"
             ],
             [
              0.8888888888888888,
              "#fdca26"
             ],
             [
              1,
              "#f0f921"
             ]
            ],
            "type": "contour"
           }
          ],
          "contourcarpet": [
           {
            "colorbar": {
             "outlinewidth": 0,
             "ticks": ""
            },
            "type": "contourcarpet"
           }
          ],
          "heatmap": [
           {
            "colorbar": {
             "outlinewidth": 0,
             "ticks": ""
            },
            "colorscale": [
             [
              0,
              "#0d0887"
             ],
             [
              0.1111111111111111,
              "#46039f"
             ],
             [
              0.2222222222222222,
              "#7201a8"
             ],
             [
              0.3333333333333333,
              "#9c179e"
             ],
             [
              0.4444444444444444,
              "#bd3786"
             ],
             [
              0.5555555555555556,
              "#d8576b"
             ],
             [
              0.6666666666666666,
              "#ed7953"
             ],
             [
              0.7777777777777778,
              "#fb9f3a"
             ],
             [
              0.8888888888888888,
              "#fdca26"
             ],
             [
              1,
              "#f0f921"
             ]
            ],
            "type": "heatmap"
           }
          ],
          "heatmapgl": [
           {
            "colorbar": {
             "outlinewidth": 0,
             "ticks": ""
            },
            "colorscale": [
             [
              0,
              "#0d0887"
             ],
             [
              0.1111111111111111,
              "#46039f"
             ],
             [
              0.2222222222222222,
              "#7201a8"
             ],
             [
              0.3333333333333333,
              "#9c179e"
             ],
             [
              0.4444444444444444,
              "#bd3786"
             ],
             [
              0.5555555555555556,
              "#d8576b"
             ],
             [
              0.6666666666666666,
              "#ed7953"
             ],
             [
              0.7777777777777778,
              "#fb9f3a"
             ],
             [
              0.8888888888888888,
              "#fdca26"
             ],
             [
              1,
              "#f0f921"
             ]
            ],
            "type": "heatmapgl"
           }
          ],
          "histogram": [
           {
            "marker": {
             "pattern": {
              "fillmode": "overlay",
              "size": 10,
              "solidity": 0.2
             }
            },
            "type": "histogram"
           }
          ],
          "histogram2d": [
           {
            "colorbar": {
             "outlinewidth": 0,
             "ticks": ""
            },
            "colorscale": [
             [
              0,
              "#0d0887"
             ],
             [
              0.1111111111111111,
              "#46039f"
             ],
             [
              0.2222222222222222,
              "#7201a8"
             ],
             [
              0.3333333333333333,
              "#9c179e"
             ],
             [
              0.4444444444444444,
              "#bd3786"
             ],
             [
              0.5555555555555556,
              "#d8576b"
             ],
             [
              0.6666666666666666,
              "#ed7953"
             ],
             [
              0.7777777777777778,
              "#fb9f3a"
             ],
             [
              0.8888888888888888,
              "#fdca26"
             ],
             [
              1,
              "#f0f921"
             ]
            ],
            "type": "histogram2d"
           }
          ],
          "histogram2dcontour": [
           {
            "colorbar": {
             "outlinewidth": 0,
             "ticks": ""
            },
            "colorscale": [
             [
              0,
              "#0d0887"
             ],
             [
              0.1111111111111111,
              "#46039f"
             ],
             [
              0.2222222222222222,
              "#7201a8"
             ],
             [
              0.3333333333333333,
              "#9c179e"
             ],
             [
              0.4444444444444444,
              "#bd3786"
             ],
             [
              0.5555555555555556,
              "#d8576b"
             ],
             [
              0.6666666666666666,
              "#ed7953"
             ],
             [
              0.7777777777777778,
              "#fb9f3a"
             ],
             [
              0.8888888888888888,
              "#fdca26"
             ],
             [
              1,
              "#f0f921"
             ]
            ],
            "type": "histogram2dcontour"
           }
          ],
          "mesh3d": [
           {
            "colorbar": {
             "outlinewidth": 0,
             "ticks": ""
            },
            "type": "mesh3d"
           }
          ],
          "parcoords": [
           {
            "line": {
             "colorbar": {
              "outlinewidth": 0,
              "ticks": ""
             }
            },
            "type": "parcoords"
           }
          ],
          "pie": [
           {
            "automargin": true,
            "type": "pie"
           }
          ],
          "scatter": [
           {
            "fillpattern": {
             "fillmode": "overlay",
             "size": 10,
             "solidity": 0.2
            },
            "type": "scatter"
           }
          ],
          "scatter3d": [
           {
            "line": {
             "colorbar": {
              "outlinewidth": 0,
              "ticks": ""
             }
            },
            "marker": {
             "colorbar": {
              "outlinewidth": 0,
              "ticks": ""
             }
            },
            "type": "scatter3d"
           }
          ],
          "scattercarpet": [
           {
            "marker": {
             "colorbar": {
              "outlinewidth": 0,
              "ticks": ""
             }
            },
            "type": "scattercarpet"
           }
          ],
          "scattergeo": [
           {
            "marker": {
             "colorbar": {
              "outlinewidth": 0,
              "ticks": ""
             }
            },
            "type": "scattergeo"
           }
          ],
          "scattergl": [
           {
            "marker": {
             "colorbar": {
              "outlinewidth": 0,
              "ticks": ""
             }
            },
            "type": "scattergl"
           }
          ],
          "scattermapbox": [
           {
            "marker": {
             "colorbar": {
              "outlinewidth": 0,
              "ticks": ""
             }
            },
            "type": "scattermapbox"
           }
          ],
          "scatterpolar": [
           {
            "marker": {
             "colorbar": {
              "outlinewidth": 0,
              "ticks": ""
             }
            },
            "type": "scatterpolar"
           }
          ],
          "scatterpolargl": [
           {
            "marker": {
             "colorbar": {
              "outlinewidth": 0,
              "ticks": ""
             }
            },
            "type": "scatterpolargl"
           }
          ],
          "scatterternary": [
           {
            "marker": {
             "colorbar": {
              "outlinewidth": 0,
              "ticks": ""
             }
            },
            "type": "scatterternary"
           }
          ],
          "surface": [
           {
            "colorbar": {
             "outlinewidth": 0,
             "ticks": ""
            },
            "colorscale": [
             [
              0,
              "#0d0887"
             ],
             [
              0.1111111111111111,
              "#46039f"
             ],
             [
              0.2222222222222222,
              "#7201a8"
             ],
             [
              0.3333333333333333,
              "#9c179e"
             ],
             [
              0.4444444444444444,
              "#bd3786"
             ],
             [
              0.5555555555555556,
              "#d8576b"
             ],
             [
              0.6666666666666666,
              "#ed7953"
             ],
             [
              0.7777777777777778,
              "#fb9f3a"
             ],
             [
              0.8888888888888888,
              "#fdca26"
             ],
             [
              1,
              "#f0f921"
             ]
            ],
            "type": "surface"
           }
          ],
          "table": [
           {
            "cells": {
             "fill": {
              "color": "#EBF0F8"
             },
             "line": {
              "color": "white"
             }
            },
            "header": {
             "fill": {
              "color": "#C8D4E3"
             },
             "line": {
              "color": "white"
             }
            },
            "type": "table"
           }
          ]
         },
         "layout": {
          "annotationdefaults": {
           "arrowcolor": "#2a3f5f",
           "arrowhead": 0,
           "arrowwidth": 1
          },
          "autotypenumbers": "strict",
          "coloraxis": {
           "colorbar": {
            "outlinewidth": 0,
            "ticks": ""
           }
          },
          "colorscale": {
           "diverging": [
            [
             0,
             "#8e0152"
            ],
            [
             0.1,
             "#c51b7d"
            ],
            [
             0.2,
             "#de77ae"
            ],
            [
             0.3,
             "#f1b6da"
            ],
            [
             0.4,
             "#fde0ef"
            ],
            [
             0.5,
             "#f7f7f7"
            ],
            [
             0.6,
             "#e6f5d0"
            ],
            [
             0.7,
             "#b8e186"
            ],
            [
             0.8,
             "#7fbc41"
            ],
            [
             0.9,
             "#4d9221"
            ],
            [
             1,
             "#276419"
            ]
           ],
           "sequential": [
            [
             0,
             "#0d0887"
            ],
            [
             0.1111111111111111,
             "#46039f"
            ],
            [
             0.2222222222222222,
             "#7201a8"
            ],
            [
             0.3333333333333333,
             "#9c179e"
            ],
            [
             0.4444444444444444,
             "#bd3786"
            ],
            [
             0.5555555555555556,
             "#d8576b"
            ],
            [
             0.6666666666666666,
             "#ed7953"
            ],
            [
             0.7777777777777778,
             "#fb9f3a"
            ],
            [
             0.8888888888888888,
             "#fdca26"
            ],
            [
             1,
             "#f0f921"
            ]
           ],
           "sequentialminus": [
            [
             0,
             "#0d0887"
            ],
            [
             0.1111111111111111,
             "#46039f"
            ],
            [
             0.2222222222222222,
             "#7201a8"
            ],
            [
             0.3333333333333333,
             "#9c179e"
            ],
            [
             0.4444444444444444,
             "#bd3786"
            ],
            [
             0.5555555555555556,
             "#d8576b"
            ],
            [
             0.6666666666666666,
             "#ed7953"
            ],
            [
             0.7777777777777778,
             "#fb9f3a"
            ],
            [
             0.8888888888888888,
             "#fdca26"
            ],
            [
             1,
             "#f0f921"
            ]
           ]
          },
          "colorway": [
           "#636efa",
           "#EF553B",
           "#00cc96",
           "#ab63fa",
           "#FFA15A",
           "#19d3f3",
           "#FF6692",
           "#B6E880",
           "#FF97FF",
           "#FECB52"
          ],
          "font": {
           "color": "#2a3f5f"
          },
          "geo": {
           "bgcolor": "white",
           "lakecolor": "white",
           "landcolor": "#E5ECF6",
           "showlakes": true,
           "showland": true,
           "subunitcolor": "white"
          },
          "hoverlabel": {
           "align": "left"
          },
          "hovermode": "closest",
          "mapbox": {
           "style": "light"
          },
          "paper_bgcolor": "white",
          "plot_bgcolor": "#E5ECF6",
          "polar": {
           "angularaxis": {
            "gridcolor": "white",
            "linecolor": "white",
            "ticks": ""
           },
           "bgcolor": "#E5ECF6",
           "radialaxis": {
            "gridcolor": "white",
            "linecolor": "white",
            "ticks": ""
           }
          },
          "scene": {
           "xaxis": {
            "backgroundcolor": "#E5ECF6",
            "gridcolor": "white",
            "gridwidth": 2,
            "linecolor": "white",
            "showbackground": true,
            "ticks": "",
            "zerolinecolor": "white"
           },
           "yaxis": {
            "backgroundcolor": "#E5ECF6",
            "gridcolor": "white",
            "gridwidth": 2,
            "linecolor": "white",
            "showbackground": true,
            "ticks": "",
            "zerolinecolor": "white"
           },
           "zaxis": {
            "backgroundcolor": "#E5ECF6",
            "gridcolor": "white",
            "gridwidth": 2,
            "linecolor": "white",
            "showbackground": true,
            "ticks": "",
            "zerolinecolor": "white"
           }
          },
          "shapedefaults": {
           "line": {
            "color": "#2a3f5f"
           }
          },
          "ternary": {
           "aaxis": {
            "gridcolor": "white",
            "linecolor": "white",
            "ticks": ""
           },
           "baxis": {
            "gridcolor": "white",
            "linecolor": "white",
            "ticks": ""
           },
           "bgcolor": "#E5ECF6",
           "caxis": {
            "gridcolor": "white",
            "linecolor": "white",
            "ticks": ""
           }
          },
          "title": {
           "x": 0.05
          },
          "xaxis": {
           "automargin": true,
           "gridcolor": "white",
           "linecolor": "white",
           "ticks": "",
           "title": {
            "standoff": 15
           },
           "zerolinecolor": "white",
           "zerolinewidth": 2
          },
          "yaxis": {
           "automargin": true,
           "gridcolor": "white",
           "linecolor": "white",
           "ticks": "",
           "title": {
            "standoff": 15
           },
           "zerolinecolor": "white",
           "zerolinewidth": 2
          }
         }
        },
        "title": {
         "text": "Millet Production in India (Last 50 Years)"
        },
        "xaxis": {
         "anchor": "y",
         "domain": [
          0,
          1
         ],
         "title": {
          "text": "Year"
         }
        },
        "yaxis": {
         "anchor": "x",
         "domain": [
          0,
          1
         ],
         "title": {
          "text": "Production (1000 tons)"
         }
        }
       }
      }
     },
     "metadata": {},
     "output_type": "display_data"
    }
   ],
   "source": [
    "fig = px.line(\n",
    "    millet_last_50,\n",
    "    x='Year',\n",
    "    y='Total Millet Production (1000 tons)',\n",
    "    title='Millet Production in India (Last 50 Years)',\n",
    "    labels={'Total Millet Production (1000 tons)': 'Production (1000 tons)'}\n",
    ")\n",
    "fig.update_traces(mode='lines+markers')\n",
    "fig.show()"
   ]
  },
  {
   "cell_type": "markdown",
   "id": "7e18b5d0",
   "metadata": {},
   "source": [
    "### `Sorghum Production (Kharif and Rabi) by Region`"
   ]
  },
  {
   "cell_type": "code",
   "execution_count": 28,
   "id": "271bc547",
   "metadata": {},
   "outputs": [
    {
     "data": {
      "application/vnd.microsoft.datawrangler.viewer.v0+json": {
       "columns": [
        {
         "name": "index",
         "rawType": "int64",
         "type": "integer"
        },
        {
         "name": "State Name",
         "rawType": "object",
         "type": "string"
        },
        {
         "name": "RABI SORGHUM PRODUCTION (1000 tons)",
         "rawType": "float64",
         "type": "float"
        },
        {
         "name": "KHARIF SORGHUM PRODUCTION (1000 tons)",
         "rawType": "float64",
         "type": "float"
        },
        {
         "name": "Total Sorghum Production",
         "rawType": "float64",
         "type": "float"
        }
       ],
       "ref": "d55e19b7-7f20-4d8b-97e5-3e501e1cd4d3",
       "rows": [
        [
         "0",
         "Andhra Pradesh",
         "11386.8",
         "6195.47",
         "17582.27"
        ],
        [
         "1",
         "Assam",
         "0.0",
         "0.0",
         "0.0"
        ],
        [
         "2",
         "Bihar",
         "0.0",
         "125.48",
         "125.48"
        ],
        [
         "3",
         "Chhattisgarh",
         "27.3",
         "464.22",
         "491.52000000000004"
        ],
        [
         "4",
         "Gujarat",
         "4333.6",
         "11373.12",
         "15706.720000000001"
        ],
        [
         "5",
         "Haryana",
         "0.0",
         "1726.0",
         "1726.0"
        ],
        [
         "6",
         "Himachal Pradesh",
         "-40.0",
         "-38.35",
         "-78.35"
        ],
        [
         "7",
         "Jharkhand",
         "0.0",
         "14.54",
         "14.54"
        ],
        [
         "8",
         "Karnataka",
         "42753.83",
         "35279.76",
         "78033.59"
        ],
        [
         "9",
         "Kerala",
         "0.0",
         "53.9",
         "53.9"
        ],
        [
         "10",
         "Madhya Pradesh",
         "116.69",
         "56642.83",
         "56759.520000000004"
        ],
        [
         "11",
         "Maharashtra",
         "85454.84",
         "116655.48",
         "202110.32"
        ],
        [
         "12",
         "Orissa",
         "0.0",
         "713.5",
         "713.5"
        ],
        [
         "13",
         "Punjab",
         "0.0",
         "51.300000000000004",
         "51.300000000000004"
        ],
        [
         "14",
         "Rajasthan",
         "0.0",
         "16850.58",
         "16850.58"
        ],
        [
         "15",
         "Tamil Nadu",
         "5532.34",
         "18108.4",
         "23640.74"
        ],
        [
         "16",
         "Telangana",
         "11949.33",
         "13837.1",
         "25786.43"
        ],
        [
         "17",
         "Uttar Pradesh",
         "0.0",
         "18346.3",
         "18346.3"
        ],
        [
         "18",
         "Uttarakhand",
         "0.0",
         "1.4000000000000001",
         "1.4000000000000001"
        ],
        [
         "19",
         "West Bengal",
         "0.02",
         "8.76",
         "8.78"
        ]
       ],
       "shape": {
        "columns": 4,
        "rows": 20
       }
      },
      "text/html": [
       "<div>\n",
       "<style scoped>\n",
       "    .dataframe tbody tr th:only-of-type {\n",
       "        vertical-align: middle;\n",
       "    }\n",
       "\n",
       "    .dataframe tbody tr th {\n",
       "        vertical-align: top;\n",
       "    }\n",
       "\n",
       "    .dataframe thead th {\n",
       "        text-align: right;\n",
       "    }\n",
       "</style>\n",
       "<table border=\"1\" class=\"dataframe\">\n",
       "  <thead>\n",
       "    <tr style=\"text-align: right;\">\n",
       "      <th></th>\n",
       "      <th>State Name</th>\n",
       "      <th>RABI SORGHUM PRODUCTION (1000 tons)</th>\n",
       "      <th>KHARIF SORGHUM PRODUCTION (1000 tons)</th>\n",
       "      <th>Total Sorghum Production</th>\n",
       "    </tr>\n",
       "  </thead>\n",
       "  <tbody>\n",
       "    <tr>\n",
       "      <th>0</th>\n",
       "      <td>Andhra Pradesh</td>\n",
       "      <td>11386.80</td>\n",
       "      <td>6195.47</td>\n",
       "      <td>17582.27</td>\n",
       "    </tr>\n",
       "    <tr>\n",
       "      <th>1</th>\n",
       "      <td>Assam</td>\n",
       "      <td>0.00</td>\n",
       "      <td>0.00</td>\n",
       "      <td>0.00</td>\n",
       "    </tr>\n",
       "    <tr>\n",
       "      <th>2</th>\n",
       "      <td>Bihar</td>\n",
       "      <td>0.00</td>\n",
       "      <td>125.48</td>\n",
       "      <td>125.48</td>\n",
       "    </tr>\n",
       "    <tr>\n",
       "      <th>3</th>\n",
       "      <td>Chhattisgarh</td>\n",
       "      <td>27.30</td>\n",
       "      <td>464.22</td>\n",
       "      <td>491.52</td>\n",
       "    </tr>\n",
       "    <tr>\n",
       "      <th>4</th>\n",
       "      <td>Gujarat</td>\n",
       "      <td>4333.60</td>\n",
       "      <td>11373.12</td>\n",
       "      <td>15706.72</td>\n",
       "    </tr>\n",
       "    <tr>\n",
       "      <th>5</th>\n",
       "      <td>Haryana</td>\n",
       "      <td>0.00</td>\n",
       "      <td>1726.00</td>\n",
       "      <td>1726.00</td>\n",
       "    </tr>\n",
       "    <tr>\n",
       "      <th>6</th>\n",
       "      <td>Himachal Pradesh</td>\n",
       "      <td>-40.00</td>\n",
       "      <td>-38.35</td>\n",
       "      <td>-78.35</td>\n",
       "    </tr>\n",
       "    <tr>\n",
       "      <th>7</th>\n",
       "      <td>Jharkhand</td>\n",
       "      <td>0.00</td>\n",
       "      <td>14.54</td>\n",
       "      <td>14.54</td>\n",
       "    </tr>\n",
       "    <tr>\n",
       "      <th>8</th>\n",
       "      <td>Karnataka</td>\n",
       "      <td>42753.83</td>\n",
       "      <td>35279.76</td>\n",
       "      <td>78033.59</td>\n",
       "    </tr>\n",
       "    <tr>\n",
       "      <th>9</th>\n",
       "      <td>Kerala</td>\n",
       "      <td>0.00</td>\n",
       "      <td>53.90</td>\n",
       "      <td>53.90</td>\n",
       "    </tr>\n",
       "    <tr>\n",
       "      <th>10</th>\n",
       "      <td>Madhya Pradesh</td>\n",
       "      <td>116.69</td>\n",
       "      <td>56642.83</td>\n",
       "      <td>56759.52</td>\n",
       "    </tr>\n",
       "    <tr>\n",
       "      <th>11</th>\n",
       "      <td>Maharashtra</td>\n",
       "      <td>85454.84</td>\n",
       "      <td>116655.48</td>\n",
       "      <td>202110.32</td>\n",
       "    </tr>\n",
       "    <tr>\n",
       "      <th>12</th>\n",
       "      <td>Orissa</td>\n",
       "      <td>0.00</td>\n",
       "      <td>713.50</td>\n",
       "      <td>713.50</td>\n",
       "    </tr>\n",
       "    <tr>\n",
       "      <th>13</th>\n",
       "      <td>Punjab</td>\n",
       "      <td>0.00</td>\n",
       "      <td>51.30</td>\n",
       "      <td>51.30</td>\n",
       "    </tr>\n",
       "    <tr>\n",
       "      <th>14</th>\n",
       "      <td>Rajasthan</td>\n",
       "      <td>0.00</td>\n",
       "      <td>16850.58</td>\n",
       "      <td>16850.58</td>\n",
       "    </tr>\n",
       "    <tr>\n",
       "      <th>15</th>\n",
       "      <td>Tamil Nadu</td>\n",
       "      <td>5532.34</td>\n",
       "      <td>18108.40</td>\n",
       "      <td>23640.74</td>\n",
       "    </tr>\n",
       "    <tr>\n",
       "      <th>16</th>\n",
       "      <td>Telangana</td>\n",
       "      <td>11949.33</td>\n",
       "      <td>13837.10</td>\n",
       "      <td>25786.43</td>\n",
       "    </tr>\n",
       "    <tr>\n",
       "      <th>17</th>\n",
       "      <td>Uttar Pradesh</td>\n",
       "      <td>0.00</td>\n",
       "      <td>18346.30</td>\n",
       "      <td>18346.30</td>\n",
       "    </tr>\n",
       "    <tr>\n",
       "      <th>18</th>\n",
       "      <td>Uttarakhand</td>\n",
       "      <td>0.00</td>\n",
       "      <td>1.40</td>\n",
       "      <td>1.40</td>\n",
       "    </tr>\n",
       "    <tr>\n",
       "      <th>19</th>\n",
       "      <td>West Bengal</td>\n",
       "      <td>0.02</td>\n",
       "      <td>8.76</td>\n",
       "      <td>8.78</td>\n",
       "    </tr>\n",
       "  </tbody>\n",
       "</table>\n",
       "</div>"
      ],
      "text/plain": [
       "          State Name  RABI SORGHUM PRODUCTION (1000 tons)  \\\n",
       "0     Andhra Pradesh                             11386.80   \n",
       "1              Assam                                 0.00   \n",
       "2              Bihar                                 0.00   \n",
       "3       Chhattisgarh                                27.30   \n",
       "4            Gujarat                              4333.60   \n",
       "5            Haryana                                 0.00   \n",
       "6   Himachal Pradesh                               -40.00   \n",
       "7          Jharkhand                                 0.00   \n",
       "8          Karnataka                             42753.83   \n",
       "9             Kerala                                 0.00   \n",
       "10    Madhya Pradesh                               116.69   \n",
       "11       Maharashtra                             85454.84   \n",
       "12            Orissa                                 0.00   \n",
       "13            Punjab                                 0.00   \n",
       "14         Rajasthan                                 0.00   \n",
       "15        Tamil Nadu                              5532.34   \n",
       "16         Telangana                             11949.33   \n",
       "17     Uttar Pradesh                                 0.00   \n",
       "18       Uttarakhand                                 0.00   \n",
       "19       West Bengal                                 0.02   \n",
       "\n",
       "    KHARIF SORGHUM PRODUCTION (1000 tons)  Total Sorghum Production  \n",
       "0                                 6195.47                  17582.27  \n",
       "1                                    0.00                      0.00  \n",
       "2                                  125.48                    125.48  \n",
       "3                                  464.22                    491.52  \n",
       "4                                11373.12                  15706.72  \n",
       "5                                 1726.00                   1726.00  \n",
       "6                                  -38.35                    -78.35  \n",
       "7                                   14.54                     14.54  \n",
       "8                                35279.76                  78033.59  \n",
       "9                                   53.90                     53.90  \n",
       "10                               56642.83                  56759.52  \n",
       "11                              116655.48                 202110.32  \n",
       "12                                 713.50                    713.50  \n",
       "13                                  51.30                     51.30  \n",
       "14                               16850.58                  16850.58  \n",
       "15                               18108.40                  23640.74  \n",
       "16                               13837.10                  25786.43  \n",
       "17                               18346.30                  18346.30  \n",
       "18                                   1.40                      1.40  \n",
       "19                                   8.76                      8.78  "
      ]
     },
     "execution_count": 28,
     "metadata": {},
     "output_type": "execute_result"
    }
   ],
   "source": [
    "# Sorghum Production (Kharif and Rabi) by Region\n",
    "'''State Name,RABI SORGHUM PRODUCTION (1000 tons),KHARIF SORGHUM PRODUCTION (1000 tons)'''\n",
    "\n",
    "sorghum = df.groupby('State Name')[['RABI SORGHUM PRODUCTION (1000 tons)','KHARIF SORGHUM PRODUCTION (1000 tons)']].sum().reset_index()\n",
    "\n",
    "sorghum['Total Sorghum Production'] = (sorghum['RABI SORGHUM PRODUCTION (1000 tons)'] + sorghum['KHARIF SORGHUM PRODUCTION (1000 tons)'])\n",
    "\n",
    "sorghum_production = sorghum.sort_values(by='State Name', ascending=False).sort_values(by='State Name')\n",
    "\n",
    "sorghum_production"
   ]
  },
  {
   "cell_type": "code",
   "execution_count": 29,
   "id": "3d6b17ae",
   "metadata": {},
   "outputs": [
    {
     "data": {
      "application/vnd.plotly.v1+json": {
       "config": {
        "plotlyServerURL": "https://plot.ly"
       },
       "data": [
        {
         "domain": {
          "x": [
           0,
           1
          ],
          "y": [
           0,
           1
          ]
         },
         "hovertemplate": "State Name=%{label}<br>Total Sorghum Production=%{value}<extra></extra>",
         "labels": [
          "Andhra Pradesh",
          "Assam",
          "Bihar",
          "Chhattisgarh",
          "Gujarat",
          "Haryana",
          "Himachal Pradesh",
          "Jharkhand",
          "Karnataka",
          "Kerala",
          "Madhya Pradesh",
          "Maharashtra",
          "Orissa",
          "Punjab",
          "Rajasthan",
          "Tamil Nadu",
          "Telangana",
          "Uttar Pradesh",
          "Uttarakhand",
          "West Bengal"
         ],
         "legendgroup": "",
         "name": "",
         "showlegend": true,
         "type": "pie",
         "values": [
          17582.27,
          0,
          125.48,
          491.52000000000004,
          15706.720000000001,
          1726,
          -78.35,
          14.54,
          78033.59,
          53.9,
          56759.520000000004,
          202110.32,
          713.5,
          51.300000000000004,
          16850.58,
          23640.74,
          25786.43,
          18346.3,
          1.4000000000000001,
          8.78
         ]
        }
       ],
       "layout": {
        "height": 600,
        "legend": {
         "tracegroupgap": 0
        },
        "piecolorway": [
         "#30123b",
         "#4145ab",
         "#4675ed",
         "#39a2fc",
         "#1bcfd4",
         "#24eca6",
         "#61fc6c",
         "#a4fc3b",
         "#d1e834",
         "#f3c63a",
         "#fe9b2d",
         "#f36315",
         "#d93806",
         "#b11901",
         "#7a0402"
        ],
        "template": {
         "data": {
          "pie": [
           {
            "automargin": true,
            "type": "pie"
           }
          ]
         },
         "layout": {
          "xaxis": {
           "showgrid": true,
           "title": {
            "standoff": 15
           }
          },
          "yaxis": {
           "showgrid": true,
           "title": {
            "standoff": 15
           }
          }
         }
        },
        "title": {
         "text": "Sorghum Production (Kharif and Rabi) by Region"
        },
        "width": 800,
        "xaxis": {
         "title": {
          "text": "State names"
         }
        },
        "yaxis": {
         "title": {
          "text": "Sorghum Production"
         }
        }
       }
      }
     },
     "metadata": {},
     "output_type": "display_data"
    }
   ],
   "source": [
    "fig = px.pie(sorghum_production, names='State Name', values='Total Sorghum Production',\n",
    "             title='Sorghum Production (Kharif and Rabi) by Region',\n",
    "             labels={'State Name': 'State Name', 'Total Sorghum Production (1000 tons)': 'Production (1000 tons)'},\n",
    "             color_discrete_sequence=px.colors.sequential.Turbo\n",
    "             )\n",
    "\n",
    "fig.update_layout(xaxis_title='State names', yaxis_title='Sorghum Production')\n",
    "fig.update_layout(height=600,width=800)\n",
    "fig.update_layout(template='gridon')\n",
    "fig.show()"
   ]
  },
  {
   "cell_type": "markdown",
   "id": "acff480d",
   "metadata": {},
   "source": [
    "### `Top 7 States for Groundnut Production`"
   ]
  },
  {
   "cell_type": "code",
   "execution_count": 30,
   "id": "fb1f6af9",
   "metadata": {},
   "outputs": [
    {
     "data": {
      "application/vnd.microsoft.datawrangler.viewer.v0+json": {
       "columns": [
        {
         "name": "index",
         "rawType": "int64",
         "type": "integer"
        },
        {
         "name": "State Name",
         "rawType": "object",
         "type": "string"
        },
        {
         "name": "GROUNDNUT PRODUCTION (1000 tons)",
         "rawType": "float64",
         "type": "float"
        }
       ],
       "ref": "4e5ce45c-ef91-4c69-b260-e67304b122ee",
       "rows": [
        [
         "0",
         "Gujarat",
         "98321.42"
        ],
        [
         "1",
         "Andhra Pradesh",
         "57844.81"
        ],
        [
         "2",
         "Tamil Nadu",
         "57662.42"
        ],
        [
         "3",
         "Karnataka",
         "36033.05"
        ],
        [
         "4",
         "Maharashtra",
         "29002.06"
        ],
        [
         "5",
         "Rajasthan",
         "17354.29"
        ],
        [
         "6",
         "Orissa",
         "16857.48"
        ]
       ],
       "shape": {
        "columns": 2,
        "rows": 7
       }
      },
      "text/html": [
       "<div>\n",
       "<style scoped>\n",
       "    .dataframe tbody tr th:only-of-type {\n",
       "        vertical-align: middle;\n",
       "    }\n",
       "\n",
       "    .dataframe tbody tr th {\n",
       "        vertical-align: top;\n",
       "    }\n",
       "\n",
       "    .dataframe thead th {\n",
       "        text-align: right;\n",
       "    }\n",
       "</style>\n",
       "<table border=\"1\" class=\"dataframe\">\n",
       "  <thead>\n",
       "    <tr style=\"text-align: right;\">\n",
       "      <th></th>\n",
       "      <th>State Name</th>\n",
       "      <th>GROUNDNUT PRODUCTION (1000 tons)</th>\n",
       "    </tr>\n",
       "  </thead>\n",
       "  <tbody>\n",
       "    <tr>\n",
       "      <th>0</th>\n",
       "      <td>Gujarat</td>\n",
       "      <td>98321.42</td>\n",
       "    </tr>\n",
       "    <tr>\n",
       "      <th>1</th>\n",
       "      <td>Andhra Pradesh</td>\n",
       "      <td>57844.81</td>\n",
       "    </tr>\n",
       "    <tr>\n",
       "      <th>2</th>\n",
       "      <td>Tamil Nadu</td>\n",
       "      <td>57662.42</td>\n",
       "    </tr>\n",
       "    <tr>\n",
       "      <th>3</th>\n",
       "      <td>Karnataka</td>\n",
       "      <td>36033.05</td>\n",
       "    </tr>\n",
       "    <tr>\n",
       "      <th>4</th>\n",
       "      <td>Maharashtra</td>\n",
       "      <td>29002.06</td>\n",
       "    </tr>\n",
       "    <tr>\n",
       "      <th>5</th>\n",
       "      <td>Rajasthan</td>\n",
       "      <td>17354.29</td>\n",
       "    </tr>\n",
       "    <tr>\n",
       "      <th>6</th>\n",
       "      <td>Orissa</td>\n",
       "      <td>16857.48</td>\n",
       "    </tr>\n",
       "  </tbody>\n",
       "</table>\n",
       "</div>"
      ],
      "text/plain": [
       "       State Name  GROUNDNUT PRODUCTION (1000 tons)\n",
       "0         Gujarat                          98321.42\n",
       "1  Andhra Pradesh                          57844.81\n",
       "2      Tamil Nadu                          57662.42\n",
       "3       Karnataka                          36033.05\n",
       "4     Maharashtra                          29002.06\n",
       "5       Rajasthan                          17354.29\n",
       "6          Orissa                          16857.48"
      ]
     },
     "execution_count": 30,
     "metadata": {},
     "output_type": "execute_result"
    }
   ],
   "source": [
    "# GROUNDNUT PRODUCTION (1000 tons)\n",
    "\n",
    "groundnut = df.groupby('State Name')['GROUNDNUT PRODUCTION (1000 tons)'].sum().sort_values(ascending=False).reset_index().head(7)\n",
    "groundnut"
   ]
  },
  {
   "cell_type": "code",
   "execution_count": 31,
   "id": "6a5c0a98",
   "metadata": {},
   "outputs": [
    {
     "data": {
      "application/vnd.plotly.v1+json": {
       "config": {
        "plotlyServerURL": "https://plot.ly"
       },
       "data": [
        {
         "alignmentgroup": "True",
         "hovertemplate": "State Name=%{x}<br>Groundnut Production=%{y}<extra></extra>",
         "legendgroup": "Gujarat",
         "marker": {
          "color": "rgb(251, 230, 197)",
          "pattern": {
           "shape": ""
          }
         },
         "name": "Gujarat",
         "offsetgroup": "Gujarat",
         "orientation": "v",
         "showlegend": true,
         "textposition": "auto",
         "type": "bar",
         "x": [
          "Gujarat"
         ],
         "xaxis": "x",
         "y": [
          98321.42
         ],
         "yaxis": "y"
        },
        {
         "alignmentgroup": "True",
         "hovertemplate": "State Name=%{x}<br>Groundnut Production=%{y}<extra></extra>",
         "legendgroup": "Andhra Pradesh",
         "marker": {
          "color": "rgb(245, 186, 152)",
          "pattern": {
           "shape": ""
          }
         },
         "name": "Andhra Pradesh",
         "offsetgroup": "Andhra Pradesh",
         "orientation": "v",
         "showlegend": true,
         "textposition": "auto",
         "type": "bar",
         "x": [
          "Andhra Pradesh"
         ],
         "xaxis": "x",
         "y": [
          57844.81
         ],
         "yaxis": "y"
        },
        {
         "alignmentgroup": "True",
         "hovertemplate": "State Name=%{x}<br>Groundnut Production=%{y}<extra></extra>",
         "legendgroup": "Tamil Nadu",
         "marker": {
          "color": "rgb(238, 138, 130)",
          "pattern": {
           "shape": ""
          }
         },
         "name": "Tamil Nadu",
         "offsetgroup": "Tamil Nadu",
         "orientation": "v",
         "showlegend": true,
         "textposition": "auto",
         "type": "bar",
         "x": [
          "Tamil Nadu"
         ],
         "xaxis": "x",
         "y": [
          57662.42
         ],
         "yaxis": "y"
        },
        {
         "alignmentgroup": "True",
         "hovertemplate": "State Name=%{x}<br>Groundnut Production=%{y}<extra></extra>",
         "legendgroup": "Karnataka",
         "marker": {
          "color": "rgb(220, 113, 118)",
          "pattern": {
           "shape": ""
          }
         },
         "name": "Karnataka",
         "offsetgroup": "Karnataka",
         "orientation": "v",
         "showlegend": true,
         "textposition": "auto",
         "type": "bar",
         "x": [
          "Karnataka"
         ],
         "xaxis": "x",
         "y": [
          36033.05
         ],
         "yaxis": "y"
        },
        {
         "alignmentgroup": "True",
         "hovertemplate": "State Name=%{x}<br>Groundnut Production=%{y}<extra></extra>",
         "legendgroup": "Maharashtra",
         "marker": {
          "color": "rgb(200, 88, 108)",
          "pattern": {
           "shape": ""
          }
         },
         "name": "Maharashtra",
         "offsetgroup": "Maharashtra",
         "orientation": "v",
         "showlegend": true,
         "textposition": "auto",
         "type": "bar",
         "x": [
          "Maharashtra"
         ],
         "xaxis": "x",
         "y": [
          29002.06
         ],
         "yaxis": "y"
        },
        {
         "alignmentgroup": "True",
         "hovertemplate": "State Name=%{x}<br>Groundnut Production=%{y}<extra></extra>",
         "legendgroup": "Rajasthan",
         "marker": {
          "color": "rgb(156, 63, 93)",
          "pattern": {
           "shape": ""
          }
         },
         "name": "Rajasthan",
         "offsetgroup": "Rajasthan",
         "orientation": "v",
         "showlegend": true,
         "textposition": "auto",
         "type": "bar",
         "x": [
          "Rajasthan"
         ],
         "xaxis": "x",
         "y": [
          17354.29
         ],
         "yaxis": "y"
        },
        {
         "alignmentgroup": "True",
         "hovertemplate": "State Name=%{x}<br>Groundnut Production=%{y}<extra></extra>",
         "legendgroup": "Orissa",
         "marker": {
          "color": "rgb(112, 40, 74)",
          "pattern": {
           "shape": ""
          }
         },
         "name": "Orissa",
         "offsetgroup": "Orissa",
         "orientation": "v",
         "showlegend": true,
         "textposition": "auto",
         "type": "bar",
         "x": [
          "Orissa"
         ],
         "xaxis": "x",
         "y": [
          16857.48
         ],
         "yaxis": "y"
        }
       ],
       "layout": {
        "barmode": "relative",
        "height": 500,
        "legend": {
         "title": {
          "text": "State Name"
         },
         "tracegroupgap": 0
        },
        "template": {
         "data": {
          "bar": [
           {
            "error_x": {
             "color": "#2a3f5f"
            },
            "error_y": {
             "color": "#2a3f5f"
            },
            "marker": {
             "line": {
              "color": "#E5ECF6",
              "width": 0.5
             },
             "pattern": {
              "fillmode": "overlay",
              "size": 10,
              "solidity": 0.2
             }
            },
            "type": "bar"
           }
          ],
          "barpolar": [
           {
            "marker": {
             "line": {
              "color": "#E5ECF6",
              "width": 0.5
             },
             "pattern": {
              "fillmode": "overlay",
              "size": 10,
              "solidity": 0.2
             }
            },
            "type": "barpolar"
           }
          ],
          "carpet": [
           {
            "aaxis": {
             "endlinecolor": "#2a3f5f",
             "gridcolor": "white",
             "linecolor": "white",
             "minorgridcolor": "white",
             "startlinecolor": "#2a3f5f"
            },
            "baxis": {
             "endlinecolor": "#2a3f5f",
             "gridcolor": "white",
             "linecolor": "white",
             "minorgridcolor": "white",
             "startlinecolor": "#2a3f5f"
            },
            "type": "carpet"
           }
          ],
          "choropleth": [
           {
            "colorbar": {
             "outlinewidth": 0,
             "ticks": ""
            },
            "type": "choropleth"
           }
          ],
          "contour": [
           {
            "colorbar": {
             "outlinewidth": 0,
             "ticks": ""
            },
            "colorscale": [
             [
              0,
              "#0d0887"
             ],
             [
              0.1111111111111111,
              "#46039f"
             ],
             [
              0.2222222222222222,
              "#7201a8"
             ],
             [
              0.3333333333333333,
              "#9c179e"
             ],
             [
              0.4444444444444444,
              "#bd3786"
             ],
             [
              0.5555555555555556,
              "#d8576b"
             ],
             [
              0.6666666666666666,
              "#ed7953"
             ],
             [
              0.7777777777777778,
              "#fb9f3a"
             ],
             [
              0.8888888888888888,
              "#fdca26"
             ],
             [
              1,
              "#f0f921"
             ]
            ],
            "type": "contour"
           }
          ],
          "contourcarpet": [
           {
            "colorbar": {
             "outlinewidth": 0,
             "ticks": ""
            },
            "type": "contourcarpet"
           }
          ],
          "heatmap": [
           {
            "colorbar": {
             "outlinewidth": 0,
             "ticks": ""
            },
            "colorscale": [
             [
              0,
              "#0d0887"
             ],
             [
              0.1111111111111111,
              "#46039f"
             ],
             [
              0.2222222222222222,
              "#7201a8"
             ],
             [
              0.3333333333333333,
              "#9c179e"
             ],
             [
              0.4444444444444444,
              "#bd3786"
             ],
             [
              0.5555555555555556,
              "#d8576b"
             ],
             [
              0.6666666666666666,
              "#ed7953"
             ],
             [
              0.7777777777777778,
              "#fb9f3a"
             ],
             [
              0.8888888888888888,
              "#fdca26"
             ],
             [
              1,
              "#f0f921"
             ]
            ],
            "type": "heatmap"
           }
          ],
          "heatmapgl": [
           {
            "colorbar": {
             "outlinewidth": 0,
             "ticks": ""
            },
            "colorscale": [
             [
              0,
              "#0d0887"
             ],
             [
              0.1111111111111111,
              "#46039f"
             ],
             [
              0.2222222222222222,
              "#7201a8"
             ],
             [
              0.3333333333333333,
              "#9c179e"
             ],
             [
              0.4444444444444444,
              "#bd3786"
             ],
             [
              0.5555555555555556,
              "#d8576b"
             ],
             [
              0.6666666666666666,
              "#ed7953"
             ],
             [
              0.7777777777777778,
              "#fb9f3a"
             ],
             [
              0.8888888888888888,
              "#fdca26"
             ],
             [
              1,
              "#f0f921"
             ]
            ],
            "type": "heatmapgl"
           }
          ],
          "histogram": [
           {
            "marker": {
             "pattern": {
              "fillmode": "overlay",
              "size": 10,
              "solidity": 0.2
             }
            },
            "type": "histogram"
           }
          ],
          "histogram2d": [
           {
            "colorbar": {
             "outlinewidth": 0,
             "ticks": ""
            },
            "colorscale": [
             [
              0,
              "#0d0887"
             ],
             [
              0.1111111111111111,
              "#46039f"
             ],
             [
              0.2222222222222222,
              "#7201a8"
             ],
             [
              0.3333333333333333,
              "#9c179e"
             ],
             [
              0.4444444444444444,
              "#bd3786"
             ],
             [
              0.5555555555555556,
              "#d8576b"
             ],
             [
              0.6666666666666666,
              "#ed7953"
             ],
             [
              0.7777777777777778,
              "#fb9f3a"
             ],
             [
              0.8888888888888888,
              "#fdca26"
             ],
             [
              1,
              "#f0f921"
             ]
            ],
            "type": "histogram2d"
           }
          ],
          "histogram2dcontour": [
           {
            "colorbar": {
             "outlinewidth": 0,
             "ticks": ""
            },
            "colorscale": [
             [
              0,
              "#0d0887"
             ],
             [
              0.1111111111111111,
              "#46039f"
             ],
             [
              0.2222222222222222,
              "#7201a8"
             ],
             [
              0.3333333333333333,
              "#9c179e"
             ],
             [
              0.4444444444444444,
              "#bd3786"
             ],
             [
              0.5555555555555556,
              "#d8576b"
             ],
             [
              0.6666666666666666,
              "#ed7953"
             ],
             [
              0.7777777777777778,
              "#fb9f3a"
             ],
             [
              0.8888888888888888,
              "#fdca26"
             ],
             [
              1,
              "#f0f921"
             ]
            ],
            "type": "histogram2dcontour"
           }
          ],
          "mesh3d": [
           {
            "colorbar": {
             "outlinewidth": 0,
             "ticks": ""
            },
            "type": "mesh3d"
           }
          ],
          "parcoords": [
           {
            "line": {
             "colorbar": {
              "outlinewidth": 0,
              "ticks": ""
             }
            },
            "type": "parcoords"
           }
          ],
          "pie": [
           {
            "automargin": true,
            "type": "pie"
           }
          ],
          "scatter": [
           {
            "fillpattern": {
             "fillmode": "overlay",
             "size": 10,
             "solidity": 0.2
            },
            "type": "scatter"
           }
          ],
          "scatter3d": [
           {
            "line": {
             "colorbar": {
              "outlinewidth": 0,
              "ticks": ""
             }
            },
            "marker": {
             "colorbar": {
              "outlinewidth": 0,
              "ticks": ""
             }
            },
            "type": "scatter3d"
           }
          ],
          "scattercarpet": [
           {
            "marker": {
             "colorbar": {
              "outlinewidth": 0,
              "ticks": ""
             }
            },
            "type": "scattercarpet"
           }
          ],
          "scattergeo": [
           {
            "marker": {
             "colorbar": {
              "outlinewidth": 0,
              "ticks": ""
             }
            },
            "type": "scattergeo"
           }
          ],
          "scattergl": [
           {
            "marker": {
             "colorbar": {
              "outlinewidth": 0,
              "ticks": ""
             }
            },
            "type": "scattergl"
           }
          ],
          "scattermapbox": [
           {
            "marker": {
             "colorbar": {
              "outlinewidth": 0,
              "ticks": ""
             }
            },
            "type": "scattermapbox"
           }
          ],
          "scatterpolar": [
           {
            "marker": {
             "colorbar": {
              "outlinewidth": 0,
              "ticks": ""
             }
            },
            "type": "scatterpolar"
           }
          ],
          "scatterpolargl": [
           {
            "marker": {
             "colorbar": {
              "outlinewidth": 0,
              "ticks": ""
             }
            },
            "type": "scatterpolargl"
           }
          ],
          "scatterternary": [
           {
            "marker": {
             "colorbar": {
              "outlinewidth": 0,
              "ticks": ""
             }
            },
            "type": "scatterternary"
           }
          ],
          "surface": [
           {
            "colorbar": {
             "outlinewidth": 0,
             "ticks": ""
            },
            "colorscale": [
             [
              0,
              "#0d0887"
             ],
             [
              0.1111111111111111,
              "#46039f"
             ],
             [
              0.2222222222222222,
              "#7201a8"
             ],
             [
              0.3333333333333333,
              "#9c179e"
             ],
             [
              0.4444444444444444,
              "#bd3786"
             ],
             [
              0.5555555555555556,
              "#d8576b"
             ],
             [
              0.6666666666666666,
              "#ed7953"
             ],
             [
              0.7777777777777778,
              "#fb9f3a"
             ],
             [
              0.8888888888888888,
              "#fdca26"
             ],
             [
              1,
              "#f0f921"
             ]
            ],
            "type": "surface"
           }
          ],
          "table": [
           {
            "cells": {
             "fill": {
              "color": "#EBF0F8"
             },
             "line": {
              "color": "white"
             }
            },
            "header": {
             "fill": {
              "color": "#C8D4E3"
             },
             "line": {
              "color": "white"
             }
            },
            "type": "table"
           }
          ]
         },
         "layout": {
          "annotationdefaults": {
           "arrowcolor": "#2a3f5f",
           "arrowhead": 0,
           "arrowwidth": 1
          },
          "autotypenumbers": "strict",
          "coloraxis": {
           "colorbar": {
            "outlinewidth": 0,
            "ticks": ""
           }
          },
          "colorscale": {
           "diverging": [
            [
             0,
             "#8e0152"
            ],
            [
             0.1,
             "#c51b7d"
            ],
            [
             0.2,
             "#de77ae"
            ],
            [
             0.3,
             "#f1b6da"
            ],
            [
             0.4,
             "#fde0ef"
            ],
            [
             0.5,
             "#f7f7f7"
            ],
            [
             0.6,
             "#e6f5d0"
            ],
            [
             0.7,
             "#b8e186"
            ],
            [
             0.8,
             "#7fbc41"
            ],
            [
             0.9,
             "#4d9221"
            ],
            [
             1,
             "#276419"
            ]
           ],
           "sequential": [
            [
             0,
             "#0d0887"
            ],
            [
             0.1111111111111111,
             "#46039f"
            ],
            [
             0.2222222222222222,
             "#7201a8"
            ],
            [
             0.3333333333333333,
             "#9c179e"
            ],
            [
             0.4444444444444444,
             "#bd3786"
            ],
            [
             0.5555555555555556,
             "#d8576b"
            ],
            [
             0.6666666666666666,
             "#ed7953"
            ],
            [
             0.7777777777777778,
             "#fb9f3a"
            ],
            [
             0.8888888888888888,
             "#fdca26"
            ],
            [
             1,
             "#f0f921"
            ]
           ],
           "sequentialminus": [
            [
             0,
             "#0d0887"
            ],
            [
             0.1111111111111111,
             "#46039f"
            ],
            [
             0.2222222222222222,
             "#7201a8"
            ],
            [
             0.3333333333333333,
             "#9c179e"
            ],
            [
             0.4444444444444444,
             "#bd3786"
            ],
            [
             0.5555555555555556,
             "#d8576b"
            ],
            [
             0.6666666666666666,
             "#ed7953"
            ],
            [
             0.7777777777777778,
             "#fb9f3a"
            ],
            [
             0.8888888888888888,
             "#fdca26"
            ],
            [
             1,
             "#f0f921"
            ]
           ]
          },
          "colorway": [
           "#636efa",
           "#EF553B",
           "#00cc96",
           "#ab63fa",
           "#FFA15A",
           "#19d3f3",
           "#FF6692",
           "#B6E880",
           "#FF97FF",
           "#FECB52"
          ],
          "font": {
           "color": "#2a3f5f"
          },
          "geo": {
           "bgcolor": "white",
           "lakecolor": "white",
           "landcolor": "#E5ECF6",
           "showlakes": true,
           "showland": true,
           "subunitcolor": "white"
          },
          "hoverlabel": {
           "align": "left"
          },
          "hovermode": "closest",
          "mapbox": {
           "style": "light"
          },
          "paper_bgcolor": "white",
          "plot_bgcolor": "#E5ECF6",
          "polar": {
           "angularaxis": {
            "gridcolor": "white",
            "linecolor": "white",
            "ticks": ""
           },
           "bgcolor": "#E5ECF6",
           "radialaxis": {
            "gridcolor": "white",
            "linecolor": "white",
            "ticks": ""
           }
          },
          "scene": {
           "xaxis": {
            "backgroundcolor": "#E5ECF6",
            "gridcolor": "white",
            "gridwidth": 2,
            "linecolor": "white",
            "showbackground": true,
            "ticks": "",
            "zerolinecolor": "white"
           },
           "yaxis": {
            "backgroundcolor": "#E5ECF6",
            "gridcolor": "white",
            "gridwidth": 2,
            "linecolor": "white",
            "showbackground": true,
            "ticks": "",
            "zerolinecolor": "white"
           },
           "zaxis": {
            "backgroundcolor": "#E5ECF6",
            "gridcolor": "white",
            "gridwidth": 2,
            "linecolor": "white",
            "showbackground": true,
            "ticks": "",
            "zerolinecolor": "white"
           }
          },
          "shapedefaults": {
           "line": {
            "color": "#2a3f5f"
           }
          },
          "ternary": {
           "aaxis": {
            "gridcolor": "white",
            "linecolor": "white",
            "ticks": ""
           },
           "baxis": {
            "gridcolor": "white",
            "linecolor": "white",
            "ticks": ""
           },
           "bgcolor": "#E5ECF6",
           "caxis": {
            "gridcolor": "white",
            "linecolor": "white",
            "ticks": ""
           }
          },
          "title": {
           "x": 0.05
          },
          "xaxis": {
           "automargin": true,
           "gridcolor": "white",
           "linecolor": "white",
           "ticks": "",
           "title": {
            "standoff": 15
           },
           "zerolinecolor": "white",
           "zerolinewidth": 2
          },
          "yaxis": {
           "automargin": true,
           "gridcolor": "white",
           "linecolor": "white",
           "ticks": "",
           "title": {
            "standoff": 15
           },
           "zerolinecolor": "white",
           "zerolinewidth": 2
          }
         }
        },
        "title": {
         "text": "Top 7 States for Groundnut Production"
        },
        "width": 800,
        "xaxis": {
         "anchor": "y",
         "categoryarray": [
          "Gujarat",
          "Andhra Pradesh",
          "Tamil Nadu",
          "Karnataka",
          "Maharashtra",
          "Rajasthan",
          "Orissa"
         ],
         "categoryorder": "array",
         "domain": [
          0,
          1
         ],
         "title": {
          "text": "State Name"
         }
        },
        "yaxis": {
         "anchor": "x",
         "domain": [
          0,
          1
         ],
         "title": {
          "text": "Groundnut Production"
         }
        }
       }
      }
     },
     "metadata": {},
     "output_type": "display_data"
    }
   ],
   "source": [
    "# Bar Plot\n",
    "\n",
    "fig = px.bar(groundnut,x='State Name',y='GROUNDNUT PRODUCTION (1000 tons)',title='Top 7 States for Groundnut Production',labels={'State Name':'State Name','GROUNDNUT PRODUCTION (1000 tons)':'Groundnut Production'},color='State Name',color_discrete_sequence=px.colors.sequential.Burgyl)\n",
    "\n",
    "fig.update_layout(height = 500,width = 800)\n",
    "\n",
    "fig.show()"
   ]
  },
  {
   "cell_type": "markdown",
   "id": "6c044a15",
   "metadata": {},
   "source": [
    "### `Soybean Production by Top 5 States and Yield Efficiency`"
   ]
  },
  {
   "cell_type": "code",
   "execution_count": 32,
   "id": "f54eecea",
   "metadata": {},
   "outputs": [
    {
     "data": {
      "application/vnd.microsoft.datawrangler.viewer.v0+json": {
       "columns": [
        {
         "name": "index",
         "rawType": "int64",
         "type": "integer"
        },
        {
         "name": "State Name",
         "rawType": "object",
         "type": "string"
        },
        {
         "name": "SOYABEAN PRODUCTION (1000 tons)",
         "rawType": "float64",
         "type": "float"
        },
        {
         "name": "SOYABEAN YIELD (Kg per ha)",
         "rawType": "float64",
         "type": "float"
        }
       ],
       "ref": "7479ec46-b201-4e70-a6eb-9ddce2595edb",
       "rows": [
        [
         "0",
         "Andhra Pradesh",
         "24.28",
         "146.17236013986013"
        ],
        [
         "1",
         "Assam",
         "0.0",
         "0.0"
        ],
        [
         "2",
         "Bihar",
         "2.7399999999999998",
         "12.54791958041958"
        ],
        [
         "3",
         "Chhattisgarh",
         "1287.53",
         "520.0101602564102"
        ],
        [
         "4",
         "Gujarat",
         "602.63",
         "120.05386752136752"
        ],
        [
         "5",
         "Haryana",
         "0.0",
         "0.0"
        ],
        [
         "6",
         "Himachal Pradesh",
         "-20.55",
         "362.0524230769231"
        ],
        [
         "7",
         "Jharkhand",
         "2.76",
         "33.3316"
        ],
        [
         "8",
         "Karnataka",
         "2873.98",
         "204.22397773279354"
        ],
        [
         "9",
         "Kerala",
         "0.02",
         "5.813953488372093"
        ],
        [
         "10",
         "Madhya Pradesh",
         "136006.52",
         "603.5183212058212"
        ],
        [
         "11",
         "Maharashtra",
         "58643.93",
         "571.9129080118694"
        ],
        [
         "12",
         "Orissa",
         "9.41",
         "51.98158284023669"
        ],
        [
         "13",
         "Punjab",
         "0.0",
         "0.0"
        ],
        [
         "14",
         "Rajasthan",
         "21174.99",
         "299.25957100591717"
        ],
        [
         "15",
         "Tamil Nadu",
         "10.0",
         "5.299775641025641"
        ],
        [
         "16",
         "Telangana",
         "3022.13",
         "254.76660256410258"
        ],
        [
         "17",
         "Uttar Pradesh",
         "544.46",
         "142.89214882943145"
        ],
        [
         "18",
         "Uttarakhand",
         "975.61",
         "611.9078365384615"
        ],
        [
         "19",
         "West Bengal",
         "19.12",
         "82.25485788113696"
        ]
       ],
       "shape": {
        "columns": 3,
        "rows": 20
       }
      },
      "text/html": [
       "<div>\n",
       "<style scoped>\n",
       "    .dataframe tbody tr th:only-of-type {\n",
       "        vertical-align: middle;\n",
       "    }\n",
       "\n",
       "    .dataframe tbody tr th {\n",
       "        vertical-align: top;\n",
       "    }\n",
       "\n",
       "    .dataframe thead th {\n",
       "        text-align: right;\n",
       "    }\n",
       "</style>\n",
       "<table border=\"1\" class=\"dataframe\">\n",
       "  <thead>\n",
       "    <tr style=\"text-align: right;\">\n",
       "      <th></th>\n",
       "      <th>State Name</th>\n",
       "      <th>SOYABEAN PRODUCTION (1000 tons)</th>\n",
       "      <th>SOYABEAN YIELD (Kg per ha)</th>\n",
       "    </tr>\n",
       "  </thead>\n",
       "  <tbody>\n",
       "    <tr>\n",
       "      <th>0</th>\n",
       "      <td>Andhra Pradesh</td>\n",
       "      <td>24.28</td>\n",
       "      <td>146.172360</td>\n",
       "    </tr>\n",
       "    <tr>\n",
       "      <th>1</th>\n",
       "      <td>Assam</td>\n",
       "      <td>0.00</td>\n",
       "      <td>0.000000</td>\n",
       "    </tr>\n",
       "    <tr>\n",
       "      <th>2</th>\n",
       "      <td>Bihar</td>\n",
       "      <td>2.74</td>\n",
       "      <td>12.547920</td>\n",
       "    </tr>\n",
       "    <tr>\n",
       "      <th>3</th>\n",
       "      <td>Chhattisgarh</td>\n",
       "      <td>1287.53</td>\n",
       "      <td>520.010160</td>\n",
       "    </tr>\n",
       "    <tr>\n",
       "      <th>4</th>\n",
       "      <td>Gujarat</td>\n",
       "      <td>602.63</td>\n",
       "      <td>120.053868</td>\n",
       "    </tr>\n",
       "    <tr>\n",
       "      <th>5</th>\n",
       "      <td>Haryana</td>\n",
       "      <td>0.00</td>\n",
       "      <td>0.000000</td>\n",
       "    </tr>\n",
       "    <tr>\n",
       "      <th>6</th>\n",
       "      <td>Himachal Pradesh</td>\n",
       "      <td>-20.55</td>\n",
       "      <td>362.052423</td>\n",
       "    </tr>\n",
       "    <tr>\n",
       "      <th>7</th>\n",
       "      <td>Jharkhand</td>\n",
       "      <td>2.76</td>\n",
       "      <td>33.331600</td>\n",
       "    </tr>\n",
       "    <tr>\n",
       "      <th>8</th>\n",
       "      <td>Karnataka</td>\n",
       "      <td>2873.98</td>\n",
       "      <td>204.223978</td>\n",
       "    </tr>\n",
       "    <tr>\n",
       "      <th>9</th>\n",
       "      <td>Kerala</td>\n",
       "      <td>0.02</td>\n",
       "      <td>5.813953</td>\n",
       "    </tr>\n",
       "    <tr>\n",
       "      <th>10</th>\n",
       "      <td>Madhya Pradesh</td>\n",
       "      <td>136006.52</td>\n",
       "      <td>603.518321</td>\n",
       "    </tr>\n",
       "    <tr>\n",
       "      <th>11</th>\n",
       "      <td>Maharashtra</td>\n",
       "      <td>58643.93</td>\n",
       "      <td>571.912908</td>\n",
       "    </tr>\n",
       "    <tr>\n",
       "      <th>12</th>\n",
       "      <td>Orissa</td>\n",
       "      <td>9.41</td>\n",
       "      <td>51.981583</td>\n",
       "    </tr>\n",
       "    <tr>\n",
       "      <th>13</th>\n",
       "      <td>Punjab</td>\n",
       "      <td>0.00</td>\n",
       "      <td>0.000000</td>\n",
       "    </tr>\n",
       "    <tr>\n",
       "      <th>14</th>\n",
       "      <td>Rajasthan</td>\n",
       "      <td>21174.99</td>\n",
       "      <td>299.259571</td>\n",
       "    </tr>\n",
       "    <tr>\n",
       "      <th>15</th>\n",
       "      <td>Tamil Nadu</td>\n",
       "      <td>10.00</td>\n",
       "      <td>5.299776</td>\n",
       "    </tr>\n",
       "    <tr>\n",
       "      <th>16</th>\n",
       "      <td>Telangana</td>\n",
       "      <td>3022.13</td>\n",
       "      <td>254.766603</td>\n",
       "    </tr>\n",
       "    <tr>\n",
       "      <th>17</th>\n",
       "      <td>Uttar Pradesh</td>\n",
       "      <td>544.46</td>\n",
       "      <td>142.892149</td>\n",
       "    </tr>\n",
       "    <tr>\n",
       "      <th>18</th>\n",
       "      <td>Uttarakhand</td>\n",
       "      <td>975.61</td>\n",
       "      <td>611.907837</td>\n",
       "    </tr>\n",
       "    <tr>\n",
       "      <th>19</th>\n",
       "      <td>West Bengal</td>\n",
       "      <td>19.12</td>\n",
       "      <td>82.254858</td>\n",
       "    </tr>\n",
       "  </tbody>\n",
       "</table>\n",
       "</div>"
      ],
      "text/plain": [
       "          State Name  SOYABEAN PRODUCTION (1000 tons)  \\\n",
       "0     Andhra Pradesh                            24.28   \n",
       "1              Assam                             0.00   \n",
       "2              Bihar                             2.74   \n",
       "3       Chhattisgarh                          1287.53   \n",
       "4            Gujarat                           602.63   \n",
       "5            Haryana                             0.00   \n",
       "6   Himachal Pradesh                           -20.55   \n",
       "7          Jharkhand                             2.76   \n",
       "8          Karnataka                          2873.98   \n",
       "9             Kerala                             0.02   \n",
       "10    Madhya Pradesh                        136006.52   \n",
       "11       Maharashtra                         58643.93   \n",
       "12            Orissa                             9.41   \n",
       "13            Punjab                             0.00   \n",
       "14         Rajasthan                         21174.99   \n",
       "15        Tamil Nadu                            10.00   \n",
       "16         Telangana                          3022.13   \n",
       "17     Uttar Pradesh                           544.46   \n",
       "18       Uttarakhand                           975.61   \n",
       "19       West Bengal                            19.12   \n",
       "\n",
       "    SOYABEAN YIELD (Kg per ha)  \n",
       "0                   146.172360  \n",
       "1                     0.000000  \n",
       "2                    12.547920  \n",
       "3                   520.010160  \n",
       "4                   120.053868  \n",
       "5                     0.000000  \n",
       "6                   362.052423  \n",
       "7                    33.331600  \n",
       "8                   204.223978  \n",
       "9                     5.813953  \n",
       "10                  603.518321  \n",
       "11                  571.912908  \n",
       "12                   51.981583  \n",
       "13                    0.000000  \n",
       "14                  299.259571  \n",
       "15                    5.299776  \n",
       "16                  254.766603  \n",
       "17                  142.892149  \n",
       "18                  611.907837  \n",
       "19                   82.254858  "
      ]
     },
     "execution_count": 32,
     "metadata": {},
     "output_type": "execute_result"
    }
   ],
   "source": [
    "# SOYABEAN YIELD (Kg per ha), SOYABEAN PRODUCTION (1000 tons)\n",
    "soyabeen = df.groupby('State Name')[['SOYABEAN PRODUCTION (1000 tons)','SOYABEAN YIELD (Kg per ha)']].agg({'SOYABEAN PRODUCTION (1000 tons)':'sum','SOYABEAN YIELD (Kg per ha)':'mean'}).reset_index()\n",
    "soyabeen\n"
   ]
  },
  {
   "cell_type": "code",
   "execution_count": 33,
   "id": "9c24379d",
   "metadata": {},
   "outputs": [
    {
     "data": {
      "application/vnd.microsoft.datawrangler.viewer.v0+json": {
       "columns": [
        {
         "name": "index",
         "rawType": "int64",
         "type": "integer"
        },
        {
         "name": "State Name",
         "rawType": "object",
         "type": "string"
        },
        {
         "name": "SOYABEAN PRODUCTION (1000 tons)",
         "rawType": "float64",
         "type": "float"
        },
        {
         "name": "SOYABEAN YIELD (Kg per ha)",
         "rawType": "float64",
         "type": "float"
        }
       ],
       "ref": "d03e7a36-0da5-43cd-9c0e-9efb9f61d04b",
       "rows": [
        [
         "10",
         "Madhya Pradesh",
         "136006.52",
         "603.5183212058212"
        ],
        [
         "11",
         "Maharashtra",
         "58643.93",
         "571.9129080118694"
        ],
        [
         "14",
         "Rajasthan",
         "21174.99",
         "299.25957100591717"
        ],
        [
         "16",
         "Telangana",
         "3022.13",
         "254.76660256410258"
        ],
        [
         "8",
         "Karnataka",
         "2873.98",
         "204.22397773279354"
        ]
       ],
       "shape": {
        "columns": 3,
        "rows": 5
       }
      },
      "text/html": [
       "<div>\n",
       "<style scoped>\n",
       "    .dataframe tbody tr th:only-of-type {\n",
       "        vertical-align: middle;\n",
       "    }\n",
       "\n",
       "    .dataframe tbody tr th {\n",
       "        vertical-align: top;\n",
       "    }\n",
       "\n",
       "    .dataframe thead th {\n",
       "        text-align: right;\n",
       "    }\n",
       "</style>\n",
       "<table border=\"1\" class=\"dataframe\">\n",
       "  <thead>\n",
       "    <tr style=\"text-align: right;\">\n",
       "      <th></th>\n",
       "      <th>State Name</th>\n",
       "      <th>SOYABEAN PRODUCTION (1000 tons)</th>\n",
       "      <th>SOYABEAN YIELD (Kg per ha)</th>\n",
       "    </tr>\n",
       "  </thead>\n",
       "  <tbody>\n",
       "    <tr>\n",
       "      <th>10</th>\n",
       "      <td>Madhya Pradesh</td>\n",
       "      <td>136006.52</td>\n",
       "      <td>603.518321</td>\n",
       "    </tr>\n",
       "    <tr>\n",
       "      <th>11</th>\n",
       "      <td>Maharashtra</td>\n",
       "      <td>58643.93</td>\n",
       "      <td>571.912908</td>\n",
       "    </tr>\n",
       "    <tr>\n",
       "      <th>14</th>\n",
       "      <td>Rajasthan</td>\n",
       "      <td>21174.99</td>\n",
       "      <td>299.259571</td>\n",
       "    </tr>\n",
       "    <tr>\n",
       "      <th>16</th>\n",
       "      <td>Telangana</td>\n",
       "      <td>3022.13</td>\n",
       "      <td>254.766603</td>\n",
       "    </tr>\n",
       "    <tr>\n",
       "      <th>8</th>\n",
       "      <td>Karnataka</td>\n",
       "      <td>2873.98</td>\n",
       "      <td>204.223978</td>\n",
       "    </tr>\n",
       "  </tbody>\n",
       "</table>\n",
       "</div>"
      ],
      "text/plain": [
       "        State Name  SOYABEAN PRODUCTION (1000 tons)  \\\n",
       "10  Madhya Pradesh                        136006.52   \n",
       "11     Maharashtra                         58643.93   \n",
       "14       Rajasthan                         21174.99   \n",
       "16       Telangana                          3022.13   \n",
       "8        Karnataka                          2873.98   \n",
       "\n",
       "    SOYABEAN YIELD (Kg per ha)  \n",
       "10                  603.518321  \n",
       "11                  571.912908  \n",
       "14                  299.259571  \n",
       "16                  254.766603  \n",
       "8                   204.223978  "
      ]
     },
     "execution_count": 33,
     "metadata": {},
     "output_type": "execute_result"
    }
   ],
   "source": [
    "top5_states = soyabeen.sort_values(by='SOYABEAN PRODUCTION (1000 tons)',ascending=False).head(5)\n",
    "top5_states"
   ]
  },
  {
   "cell_type": "code",
   "execution_count": 34,
   "id": "5860340b",
   "metadata": {},
   "outputs": [
    {
     "data": {
      "application/vnd.plotly.v1+json": {
       "config": {
        "plotlyServerURL": "https://plot.ly"
       },
       "data": [
        {
         "alignmentgroup": "True",
         "hovertemplate": "State Name=%{x}<br>Production (1000 tons)=%{y}<br>Yields (kg per ha)=%{marker.color}<extra></extra>",
         "legendgroup": "",
         "marker": {
          "color": [
           603.5183212058212,
           571.9129080118694,
           299.25957100591717,
           254.76660256410258,
           204.22397773279354
          ],
          "coloraxis": "coloraxis",
          "pattern": {
           "shape": ""
          }
         },
         "name": "",
         "offsetgroup": "",
         "orientation": "v",
         "showlegend": false,
         "text": [
          603.5183212058212,
          571.9129080118694,
          299.25957100591717,
          254.76660256410258,
          204.22397773279354
         ],
         "textposition": "outside",
         "texttemplate": "%{text:.2f}",
         "type": "bar",
         "x": [
          "Madhya Pradesh",
          "Maharashtra",
          "Rajasthan",
          "Telangana",
          "Karnataka"
         ],
         "xaxis": "x",
         "y": [
          136006.52,
          58643.93,
          21174.99,
          3022.13,
          2873.98
         ],
         "yaxis": "y"
        }
       ],
       "layout": {
        "barmode": "relative",
        "coloraxis": {
         "colorbar": {
          "title": {
           "text": "Yields (kg per ha)"
          }
         },
         "colorscale": [
          [
           0,
           "#0d0887"
          ],
          [
           0.1111111111111111,
           "#46039f"
          ],
          [
           0.2222222222222222,
           "#7201a8"
          ],
          [
           0.3333333333333333,
           "#9c179e"
          ],
          [
           0.4444444444444444,
           "#bd3786"
          ],
          [
           0.5555555555555556,
           "#d8576b"
          ],
          [
           0.6666666666666666,
           "#ed7953"
          ],
          [
           0.7777777777777778,
           "#fb9f3a"
          ],
          [
           0.8888888888888888,
           "#fdca26"
          ],
          [
           1,
           "#f0f921"
          ]
         ]
        },
        "height": 600,
        "legend": {
         "tracegroupgap": 0
        },
        "template": {
         "data": {
          "bar": [
           {
            "error_x": {
             "color": "#2a3f5f"
            },
            "error_y": {
             "color": "#2a3f5f"
            },
            "marker": {
             "line": {
              "color": "#E5ECF6",
              "width": 0.5
             },
             "pattern": {
              "fillmode": "overlay",
              "size": 10,
              "solidity": 0.2
             }
            },
            "type": "bar"
           }
          ],
          "barpolar": [
           {
            "marker": {
             "line": {
              "color": "#E5ECF6",
              "width": 0.5
             },
             "pattern": {
              "fillmode": "overlay",
              "size": 10,
              "solidity": 0.2
             }
            },
            "type": "barpolar"
           }
          ],
          "carpet": [
           {
            "aaxis": {
             "endlinecolor": "#2a3f5f",
             "gridcolor": "white",
             "linecolor": "white",
             "minorgridcolor": "white",
             "startlinecolor": "#2a3f5f"
            },
            "baxis": {
             "endlinecolor": "#2a3f5f",
             "gridcolor": "white",
             "linecolor": "white",
             "minorgridcolor": "white",
             "startlinecolor": "#2a3f5f"
            },
            "type": "carpet"
           }
          ],
          "choropleth": [
           {
            "colorbar": {
             "outlinewidth": 0,
             "ticks": ""
            },
            "type": "choropleth"
           }
          ],
          "contour": [
           {
            "colorbar": {
             "outlinewidth": 0,
             "ticks": ""
            },
            "colorscale": [
             [
              0,
              "#0d0887"
             ],
             [
              0.1111111111111111,
              "#46039f"
             ],
             [
              0.2222222222222222,
              "#7201a8"
             ],
             [
              0.3333333333333333,
              "#9c179e"
             ],
             [
              0.4444444444444444,
              "#bd3786"
             ],
             [
              0.5555555555555556,
              "#d8576b"
             ],
             [
              0.6666666666666666,
              "#ed7953"
             ],
             [
              0.7777777777777778,
              "#fb9f3a"
             ],
             [
              0.8888888888888888,
              "#fdca26"
             ],
             [
              1,
              "#f0f921"
             ]
            ],
            "type": "contour"
           }
          ],
          "contourcarpet": [
           {
            "colorbar": {
             "outlinewidth": 0,
             "ticks": ""
            },
            "type": "contourcarpet"
           }
          ],
          "heatmap": [
           {
            "colorbar": {
             "outlinewidth": 0,
             "ticks": ""
            },
            "colorscale": [
             [
              0,
              "#0d0887"
             ],
             [
              0.1111111111111111,
              "#46039f"
             ],
             [
              0.2222222222222222,
              "#7201a8"
             ],
             [
              0.3333333333333333,
              "#9c179e"
             ],
             [
              0.4444444444444444,
              "#bd3786"
             ],
             [
              0.5555555555555556,
              "#d8576b"
             ],
             [
              0.6666666666666666,
              "#ed7953"
             ],
             [
              0.7777777777777778,
              "#fb9f3a"
             ],
             [
              0.8888888888888888,
              "#fdca26"
             ],
             [
              1,
              "#f0f921"
             ]
            ],
            "type": "heatmap"
           }
          ],
          "heatmapgl": [
           {
            "colorbar": {
             "outlinewidth": 0,
             "ticks": ""
            },
            "colorscale": [
             [
              0,
              "#0d0887"
             ],
             [
              0.1111111111111111,
              "#46039f"
             ],
             [
              0.2222222222222222,
              "#7201a8"
             ],
             [
              0.3333333333333333,
              "#9c179e"
             ],
             [
              0.4444444444444444,
              "#bd3786"
             ],
             [
              0.5555555555555556,
              "#d8576b"
             ],
             [
              0.6666666666666666,
              "#ed7953"
             ],
             [
              0.7777777777777778,
              "#fb9f3a"
             ],
             [
              0.8888888888888888,
              "#fdca26"
             ],
             [
              1,
              "#f0f921"
             ]
            ],
            "type": "heatmapgl"
           }
          ],
          "histogram": [
           {
            "marker": {
             "pattern": {
              "fillmode": "overlay",
              "size": 10,
              "solidity": 0.2
             }
            },
            "type": "histogram"
           }
          ],
          "histogram2d": [
           {
            "colorbar": {
             "outlinewidth": 0,
             "ticks": ""
            },
            "colorscale": [
             [
              0,
              "#0d0887"
             ],
             [
              0.1111111111111111,
              "#46039f"
             ],
             [
              0.2222222222222222,
              "#7201a8"
             ],
             [
              0.3333333333333333,
              "#9c179e"
             ],
             [
              0.4444444444444444,
              "#bd3786"
             ],
             [
              0.5555555555555556,
              "#d8576b"
             ],
             [
              0.6666666666666666,
              "#ed7953"
             ],
             [
              0.7777777777777778,
              "#fb9f3a"
             ],
             [
              0.8888888888888888,
              "#fdca26"
             ],
             [
              1,
              "#f0f921"
             ]
            ],
            "type": "histogram2d"
           }
          ],
          "histogram2dcontour": [
           {
            "colorbar": {
             "outlinewidth": 0,
             "ticks": ""
            },
            "colorscale": [
             [
              0,
              "#0d0887"
             ],
             [
              0.1111111111111111,
              "#46039f"
             ],
             [
              0.2222222222222222,
              "#7201a8"
             ],
             [
              0.3333333333333333,
              "#9c179e"
             ],
             [
              0.4444444444444444,
              "#bd3786"
             ],
             [
              0.5555555555555556,
              "#d8576b"
             ],
             [
              0.6666666666666666,
              "#ed7953"
             ],
             [
              0.7777777777777778,
              "#fb9f3a"
             ],
             [
              0.8888888888888888,
              "#fdca26"
             ],
             [
              1,
              "#f0f921"
             ]
            ],
            "type": "histogram2dcontour"
           }
          ],
          "mesh3d": [
           {
            "colorbar": {
             "outlinewidth": 0,
             "ticks": ""
            },
            "type": "mesh3d"
           }
          ],
          "parcoords": [
           {
            "line": {
             "colorbar": {
              "outlinewidth": 0,
              "ticks": ""
             }
            },
            "type": "parcoords"
           }
          ],
          "pie": [
           {
            "automargin": true,
            "type": "pie"
           }
          ],
          "scatter": [
           {
            "fillpattern": {
             "fillmode": "overlay",
             "size": 10,
             "solidity": 0.2
            },
            "type": "scatter"
           }
          ],
          "scatter3d": [
           {
            "line": {
             "colorbar": {
              "outlinewidth": 0,
              "ticks": ""
             }
            },
            "marker": {
             "colorbar": {
              "outlinewidth": 0,
              "ticks": ""
             }
            },
            "type": "scatter3d"
           }
          ],
          "scattercarpet": [
           {
            "marker": {
             "colorbar": {
              "outlinewidth": 0,
              "ticks": ""
             }
            },
            "type": "scattercarpet"
           }
          ],
          "scattergeo": [
           {
            "marker": {
             "colorbar": {
              "outlinewidth": 0,
              "ticks": ""
             }
            },
            "type": "scattergeo"
           }
          ],
          "scattergl": [
           {
            "marker": {
             "colorbar": {
              "outlinewidth": 0,
              "ticks": ""
             }
            },
            "type": "scattergl"
           }
          ],
          "scattermapbox": [
           {
            "marker": {
             "colorbar": {
              "outlinewidth": 0,
              "ticks": ""
             }
            },
            "type": "scattermapbox"
           }
          ],
          "scatterpolar": [
           {
            "marker": {
             "colorbar": {
              "outlinewidth": 0,
              "ticks": ""
             }
            },
            "type": "scatterpolar"
           }
          ],
          "scatterpolargl": [
           {
            "marker": {
             "colorbar": {
              "outlinewidth": 0,
              "ticks": ""
             }
            },
            "type": "scatterpolargl"
           }
          ],
          "scatterternary": [
           {
            "marker": {
             "colorbar": {
              "outlinewidth": 0,
              "ticks": ""
             }
            },
            "type": "scatterternary"
           }
          ],
          "surface": [
           {
            "colorbar": {
             "outlinewidth": 0,
             "ticks": ""
            },
            "colorscale": [
             [
              0,
              "#0d0887"
             ],
             [
              0.1111111111111111,
              "#46039f"
             ],
             [
              0.2222222222222222,
              "#7201a8"
             ],
             [
              0.3333333333333333,
              "#9c179e"
             ],
             [
              0.4444444444444444,
              "#bd3786"
             ],
             [
              0.5555555555555556,
              "#d8576b"
             ],
             [
              0.6666666666666666,
              "#ed7953"
             ],
             [
              0.7777777777777778,
              "#fb9f3a"
             ],
             [
              0.8888888888888888,
              "#fdca26"
             ],
             [
              1,
              "#f0f921"
             ]
            ],
            "type": "surface"
           }
          ],
          "table": [
           {
            "cells": {
             "fill": {
              "color": "#EBF0F8"
             },
             "line": {
              "color": "white"
             }
            },
            "header": {
             "fill": {
              "color": "#C8D4E3"
             },
             "line": {
              "color": "white"
             }
            },
            "type": "table"
           }
          ]
         },
         "layout": {
          "annotationdefaults": {
           "arrowcolor": "#2a3f5f",
           "arrowhead": 0,
           "arrowwidth": 1
          },
          "autotypenumbers": "strict",
          "coloraxis": {
           "colorbar": {
            "outlinewidth": 0,
            "ticks": ""
           }
          },
          "colorscale": {
           "diverging": [
            [
             0,
             "#8e0152"
            ],
            [
             0.1,
             "#c51b7d"
            ],
            [
             0.2,
             "#de77ae"
            ],
            [
             0.3,
             "#f1b6da"
            ],
            [
             0.4,
             "#fde0ef"
            ],
            [
             0.5,
             "#f7f7f7"
            ],
            [
             0.6,
             "#e6f5d0"
            ],
            [
             0.7,
             "#b8e186"
            ],
            [
             0.8,
             "#7fbc41"
            ],
            [
             0.9,
             "#4d9221"
            ],
            [
             1,
             "#276419"
            ]
           ],
           "sequential": [
            [
             0,
             "#0d0887"
            ],
            [
             0.1111111111111111,
             "#46039f"
            ],
            [
             0.2222222222222222,
             "#7201a8"
            ],
            [
             0.3333333333333333,
             "#9c179e"
            ],
            [
             0.4444444444444444,
             "#bd3786"
            ],
            [
             0.5555555555555556,
             "#d8576b"
            ],
            [
             0.6666666666666666,
             "#ed7953"
            ],
            [
             0.7777777777777778,
             "#fb9f3a"
            ],
            [
             0.8888888888888888,
             "#fdca26"
            ],
            [
             1,
             "#f0f921"
            ]
           ],
           "sequentialminus": [
            [
             0,
             "#0d0887"
            ],
            [
             0.1111111111111111,
             "#46039f"
            ],
            [
             0.2222222222222222,
             "#7201a8"
            ],
            [
             0.3333333333333333,
             "#9c179e"
            ],
            [
             0.4444444444444444,
             "#bd3786"
            ],
            [
             0.5555555555555556,
             "#d8576b"
            ],
            [
             0.6666666666666666,
             "#ed7953"
            ],
            [
             0.7777777777777778,
             "#fb9f3a"
            ],
            [
             0.8888888888888888,
             "#fdca26"
            ],
            [
             1,
             "#f0f921"
            ]
           ]
          },
          "colorway": [
           "#636efa",
           "#EF553B",
           "#00cc96",
           "#ab63fa",
           "#FFA15A",
           "#19d3f3",
           "#FF6692",
           "#B6E880",
           "#FF97FF",
           "#FECB52"
          ],
          "font": {
           "color": "#2a3f5f"
          },
          "geo": {
           "bgcolor": "white",
           "lakecolor": "white",
           "landcolor": "#E5ECF6",
           "showlakes": true,
           "showland": true,
           "subunitcolor": "white"
          },
          "hoverlabel": {
           "align": "left"
          },
          "hovermode": "closest",
          "mapbox": {
           "style": "light"
          },
          "paper_bgcolor": "white",
          "plot_bgcolor": "#E5ECF6",
          "polar": {
           "angularaxis": {
            "gridcolor": "white",
            "linecolor": "white",
            "ticks": ""
           },
           "bgcolor": "#E5ECF6",
           "radialaxis": {
            "gridcolor": "white",
            "linecolor": "white",
            "ticks": ""
           }
          },
          "scene": {
           "xaxis": {
            "backgroundcolor": "#E5ECF6",
            "gridcolor": "white",
            "gridwidth": 2,
            "linecolor": "white",
            "showbackground": true,
            "ticks": "",
            "zerolinecolor": "white"
           },
           "yaxis": {
            "backgroundcolor": "#E5ECF6",
            "gridcolor": "white",
            "gridwidth": 2,
            "linecolor": "white",
            "showbackground": true,
            "ticks": "",
            "zerolinecolor": "white"
           },
           "zaxis": {
            "backgroundcolor": "#E5ECF6",
            "gridcolor": "white",
            "gridwidth": 2,
            "linecolor": "white",
            "showbackground": true,
            "ticks": "",
            "zerolinecolor": "white"
           }
          },
          "shapedefaults": {
           "line": {
            "color": "#2a3f5f"
           }
          },
          "ternary": {
           "aaxis": {
            "gridcolor": "white",
            "linecolor": "white",
            "ticks": ""
           },
           "baxis": {
            "gridcolor": "white",
            "linecolor": "white",
            "ticks": ""
           },
           "bgcolor": "#E5ECF6",
           "caxis": {
            "gridcolor": "white",
            "linecolor": "white",
            "ticks": ""
           }
          },
          "title": {
           "x": 0.05
          },
          "xaxis": {
           "automargin": true,
           "gridcolor": "white",
           "linecolor": "white",
           "ticks": "",
           "title": {
            "standoff": 15
           },
           "zerolinecolor": "white",
           "zerolinewidth": 2
          },
          "yaxis": {
           "automargin": true,
           "gridcolor": "white",
           "linecolor": "white",
           "ticks": "",
           "title": {
            "standoff": 15
           },
           "zerolinecolor": "white",
           "zerolinewidth": 2
          }
         }
        },
        "title": {
         "text": "Soybean Production by Top 5 States and Yield Efficiency"
        },
        "uniformtext": {
         "minsize": 8,
         "mode": "hide"
        },
        "width": 800,
        "xaxis": {
         "anchor": "y",
         "domain": [
          0,
          1
         ],
         "title": {
          "text": "State Name"
         }
        },
        "yaxis": {
         "anchor": "x",
         "domain": [
          0,
          1
         ],
         "title": {
          "text": "Production (1000 tons)"
         }
        }
       }
      }
     },
     "metadata": {},
     "output_type": "display_data"
    }
   ],
   "source": [
    "fig = px.bar(top5_states,x = 'State Name',y = 'SOYABEAN PRODUCTION (1000 tons)',color='SOYABEAN YIELD (Kg per ha)',\n",
    "             title='Soybean Production by Top 5 States and Yield Efficiency',\n",
    "             labels={'SOYABEAN PRODUCTION (1000 tons)': 'Production (1000 tons)','SOYABEAN YIELD (Kg per ha)':'Yields (kg per ha)'},\n",
    "             text='SOYABEAN YIELD (Kg per ha)')\n",
    "\n",
    "fig.update_layout(height = 600,width = 800)\n",
    "fig.update_traces(texttemplate='%{text:.2f}',textposition = 'outside')\n",
    "fig.update_layout(uniformtext_minsize = 8,uniformtext_mode = 'hide')\n",
    "fig.show()"
   ]
  },
  {
   "cell_type": "markdown",
   "id": "0d8e75f2",
   "metadata": {},
   "source": [
    "### `Oilseed Production in Major States`"
   ]
  },
  {
   "cell_type": "code",
   "execution_count": 35,
   "id": "670798c9",
   "metadata": {},
   "outputs": [
    {
     "data": {
      "application/vnd.microsoft.datawrangler.viewer.v0+json": {
       "columns": [
        {
         "name": "index",
         "rawType": "int64",
         "type": "integer"
        },
        {
         "name": "State Name",
         "rawType": "object",
         "type": "string"
        },
        {
         "name": "OILSEEDS PRODUCTION (1000 tons)",
         "rawType": "float64",
         "type": "float"
        }
       ],
       "ref": "ea4f0c5b-eb8c-4349-bb60-7c731e93b8d6",
       "rows": [
        [
         "0",
         "Madhya Pradesh",
         "153594.79"
        ],
        [
         "1",
         "Gujarat",
         "126224.01"
        ],
        [
         "2",
         "Rajasthan",
         "122726.86"
        ],
        [
         "3",
         "Maharashtra",
         "95567.91"
        ],
        [
         "4",
         "Andhra Pradesh",
         "76888.09"
        ],
        [
         "5",
         "Tamil Nadu",
         "55275.03"
        ],
        [
         "6",
         "Karnataka",
         "52599.04"
        ],
        [
         "7",
         "Orissa",
         "28453.77"
        ],
        [
         "8",
         "Uttar Pradesh",
         "24015.98"
        ],
        [
         "9",
         "Haryana",
         "24006.6"
        ],
        [
         "10",
         "Telangana",
         "22178.32"
        ],
        [
         "11",
         "West Bengal",
         "15323.57"
        ],
        [
         "12",
         "Punjab",
         "7800.42"
        ],
        [
         "13",
         "Assam",
         "6995.43"
        ],
        [
         "14",
         "Chhattisgarh",
         "5611.58"
        ],
        [
         "15",
         "Bihar",
         "2599.92"
        ],
        [
         "16",
         "Kerala",
         "1192.77"
        ],
        [
         "17",
         "Jharkhand",
         "409.35"
        ],
        [
         "18",
         "Himachal Pradesh",
         "297.32"
        ],
        [
         "19",
         "Uttarakhand",
         "229.22"
        ]
       ],
       "shape": {
        "columns": 2,
        "rows": 20
       }
      },
      "text/html": [
       "<div>\n",
       "<style scoped>\n",
       "    .dataframe tbody tr th:only-of-type {\n",
       "        vertical-align: middle;\n",
       "    }\n",
       "\n",
       "    .dataframe tbody tr th {\n",
       "        vertical-align: top;\n",
       "    }\n",
       "\n",
       "    .dataframe thead th {\n",
       "        text-align: right;\n",
       "    }\n",
       "</style>\n",
       "<table border=\"1\" class=\"dataframe\">\n",
       "  <thead>\n",
       "    <tr style=\"text-align: right;\">\n",
       "      <th></th>\n",
       "      <th>State Name</th>\n",
       "      <th>OILSEEDS PRODUCTION (1000 tons)</th>\n",
       "    </tr>\n",
       "  </thead>\n",
       "  <tbody>\n",
       "    <tr>\n",
       "      <th>0</th>\n",
       "      <td>Madhya Pradesh</td>\n",
       "      <td>153594.79</td>\n",
       "    </tr>\n",
       "    <tr>\n",
       "      <th>1</th>\n",
       "      <td>Gujarat</td>\n",
       "      <td>126224.01</td>\n",
       "    </tr>\n",
       "    <tr>\n",
       "      <th>2</th>\n",
       "      <td>Rajasthan</td>\n",
       "      <td>122726.86</td>\n",
       "    </tr>\n",
       "    <tr>\n",
       "      <th>3</th>\n",
       "      <td>Maharashtra</td>\n",
       "      <td>95567.91</td>\n",
       "    </tr>\n",
       "    <tr>\n",
       "      <th>4</th>\n",
       "      <td>Andhra Pradesh</td>\n",
       "      <td>76888.09</td>\n",
       "    </tr>\n",
       "    <tr>\n",
       "      <th>5</th>\n",
       "      <td>Tamil Nadu</td>\n",
       "      <td>55275.03</td>\n",
       "    </tr>\n",
       "    <tr>\n",
       "      <th>6</th>\n",
       "      <td>Karnataka</td>\n",
       "      <td>52599.04</td>\n",
       "    </tr>\n",
       "    <tr>\n",
       "      <th>7</th>\n",
       "      <td>Orissa</td>\n",
       "      <td>28453.77</td>\n",
       "    </tr>\n",
       "    <tr>\n",
       "      <th>8</th>\n",
       "      <td>Uttar Pradesh</td>\n",
       "      <td>24015.98</td>\n",
       "    </tr>\n",
       "    <tr>\n",
       "      <th>9</th>\n",
       "      <td>Haryana</td>\n",
       "      <td>24006.60</td>\n",
       "    </tr>\n",
       "    <tr>\n",
       "      <th>10</th>\n",
       "      <td>Telangana</td>\n",
       "      <td>22178.32</td>\n",
       "    </tr>\n",
       "    <tr>\n",
       "      <th>11</th>\n",
       "      <td>West Bengal</td>\n",
       "      <td>15323.57</td>\n",
       "    </tr>\n",
       "    <tr>\n",
       "      <th>12</th>\n",
       "      <td>Punjab</td>\n",
       "      <td>7800.42</td>\n",
       "    </tr>\n",
       "    <tr>\n",
       "      <th>13</th>\n",
       "      <td>Assam</td>\n",
       "      <td>6995.43</td>\n",
       "    </tr>\n",
       "    <tr>\n",
       "      <th>14</th>\n",
       "      <td>Chhattisgarh</td>\n",
       "      <td>5611.58</td>\n",
       "    </tr>\n",
       "    <tr>\n",
       "      <th>15</th>\n",
       "      <td>Bihar</td>\n",
       "      <td>2599.92</td>\n",
       "    </tr>\n",
       "    <tr>\n",
       "      <th>16</th>\n",
       "      <td>Kerala</td>\n",
       "      <td>1192.77</td>\n",
       "    </tr>\n",
       "    <tr>\n",
       "      <th>17</th>\n",
       "      <td>Jharkhand</td>\n",
       "      <td>409.35</td>\n",
       "    </tr>\n",
       "    <tr>\n",
       "      <th>18</th>\n",
       "      <td>Himachal Pradesh</td>\n",
       "      <td>297.32</td>\n",
       "    </tr>\n",
       "    <tr>\n",
       "      <th>19</th>\n",
       "      <td>Uttarakhand</td>\n",
       "      <td>229.22</td>\n",
       "    </tr>\n",
       "  </tbody>\n",
       "</table>\n",
       "</div>"
      ],
      "text/plain": [
       "          State Name  OILSEEDS PRODUCTION (1000 tons)\n",
       "0     Madhya Pradesh                        153594.79\n",
       "1            Gujarat                        126224.01\n",
       "2          Rajasthan                        122726.86\n",
       "3        Maharashtra                         95567.91\n",
       "4     Andhra Pradesh                         76888.09\n",
       "5         Tamil Nadu                         55275.03\n",
       "6          Karnataka                         52599.04\n",
       "7             Orissa                         28453.77\n",
       "8      Uttar Pradesh                         24015.98\n",
       "9            Haryana                         24006.60\n",
       "10         Telangana                         22178.32\n",
       "11       West Bengal                         15323.57\n",
       "12            Punjab                          7800.42\n",
       "13             Assam                          6995.43\n",
       "14      Chhattisgarh                          5611.58\n",
       "15             Bihar                          2599.92\n",
       "16            Kerala                          1192.77\n",
       "17         Jharkhand                           409.35\n",
       "18  Himachal Pradesh                           297.32\n",
       "19       Uttarakhand                           229.22"
      ]
     },
     "execution_count": 35,
     "metadata": {},
     "output_type": "execute_result"
    }
   ],
   "source": [
    "# Oilseed Production in Major States\n",
    "oil_seed = df.groupby('State Name')['OILSEEDS PRODUCTION (1000 tons)'].sum().sort_values(ascending=False).reset_index()\n",
    "oil_seed"
   ]
  },
  {
   "cell_type": "code",
   "execution_count": 36,
   "id": "d420f7bd",
   "metadata": {},
   "outputs": [
    {
     "data": {
      "application/vnd.plotly.v1+json": {
       "config": {
        "plotlyServerURL": "https://plot.ly"
       },
       "data": [
        {
         "alignmentgroup": "True",
         "hovertemplate": "State Name=%{x}<br>Oilseed Production=%{marker.color}<extra></extra>",
         "legendgroup": "",
         "marker": {
          "color": [
           153594.79,
           126224.01,
           122726.86,
           95567.91,
           76888.09,
           55275.03,
           52599.04,
           28453.77,
           24015.98,
           24006.6,
           22178.32,
           15323.57,
           7800.42,
           6995.43,
           5611.58,
           2599.92,
           1192.77,
           409.35,
           297.32,
           229.22
          ],
          "coloraxis": "coloraxis",
          "pattern": {
           "shape": ""
          }
         },
         "name": "",
         "offsetgroup": "",
         "orientation": "v",
         "showlegend": false,
         "text": [
          153594.79,
          126224.01,
          122726.86,
          95567.91,
          76888.09,
          55275.03,
          52599.04,
          28453.77,
          24015.98,
          24006.6,
          22178.32,
          15323.57,
          7800.42,
          6995.43,
          5611.58,
          2599.92,
          1192.77,
          409.35,
          297.32,
          229.22
         ],
         "textposition": "auto",
         "type": "bar",
         "x": [
          "Madhya Pradesh",
          "Gujarat",
          "Rajasthan",
          "Maharashtra",
          "Andhra Pradesh",
          "Tamil Nadu",
          "Karnataka",
          "Orissa",
          "Uttar Pradesh",
          "Haryana",
          "Telangana",
          "West Bengal",
          "Punjab",
          "Assam",
          "Chhattisgarh",
          "Bihar",
          "Kerala",
          "Jharkhand",
          "Himachal Pradesh",
          "Uttarakhand"
         ],
         "xaxis": "x",
         "y": [
          153594.79,
          126224.01,
          122726.86,
          95567.91,
          76888.09,
          55275.03,
          52599.04,
          28453.77,
          24015.98,
          24006.6,
          22178.32,
          15323.57,
          7800.42,
          6995.43,
          5611.58,
          2599.92,
          1192.77,
          409.35,
          297.32,
          229.22
         ],
         "yaxis": "y"
        }
       ],
       "layout": {
        "barmode": "relative",
        "coloraxis": {
         "colorbar": {
          "title": {
           "text": "Oilseed Production"
          }
         },
         "colorscale": [
          [
           0,
           "#0d0887"
          ],
          [
           0.1111111111111111,
           "#46039f"
          ],
          [
           0.2222222222222222,
           "#7201a8"
          ],
          [
           0.3333333333333333,
           "#9c179e"
          ],
          [
           0.4444444444444444,
           "#bd3786"
          ],
          [
           0.5555555555555556,
           "#d8576b"
          ],
          [
           0.6666666666666666,
           "#ed7953"
          ],
          [
           0.7777777777777778,
           "#fb9f3a"
          ],
          [
           0.8888888888888888,
           "#fdca26"
          ],
          [
           1,
           "#f0f921"
          ]
         ]
        },
        "height": 600,
        "legend": {
         "tracegroupgap": 0
        },
        "template": {
         "data": {
          "bar": [
           {
            "error_x": {
             "color": "#2a3f5f"
            },
            "error_y": {
             "color": "#2a3f5f"
            },
            "marker": {
             "line": {
              "color": "#E5ECF6",
              "width": 0.5
             },
             "pattern": {
              "fillmode": "overlay",
              "size": 10,
              "solidity": 0.2
             }
            },
            "type": "bar"
           }
          ],
          "barpolar": [
           {
            "marker": {
             "line": {
              "color": "#E5ECF6",
              "width": 0.5
             },
             "pattern": {
              "fillmode": "overlay",
              "size": 10,
              "solidity": 0.2
             }
            },
            "type": "barpolar"
           }
          ],
          "carpet": [
           {
            "aaxis": {
             "endlinecolor": "#2a3f5f",
             "gridcolor": "white",
             "linecolor": "white",
             "minorgridcolor": "white",
             "startlinecolor": "#2a3f5f"
            },
            "baxis": {
             "endlinecolor": "#2a3f5f",
             "gridcolor": "white",
             "linecolor": "white",
             "minorgridcolor": "white",
             "startlinecolor": "#2a3f5f"
            },
            "type": "carpet"
           }
          ],
          "choropleth": [
           {
            "colorbar": {
             "outlinewidth": 0,
             "ticks": ""
            },
            "type": "choropleth"
           }
          ],
          "contour": [
           {
            "colorbar": {
             "outlinewidth": 0,
             "ticks": ""
            },
            "colorscale": [
             [
              0,
              "#0d0887"
             ],
             [
              0.1111111111111111,
              "#46039f"
             ],
             [
              0.2222222222222222,
              "#7201a8"
             ],
             [
              0.3333333333333333,
              "#9c179e"
             ],
             [
              0.4444444444444444,
              "#bd3786"
             ],
             [
              0.5555555555555556,
              "#d8576b"
             ],
             [
              0.6666666666666666,
              "#ed7953"
             ],
             [
              0.7777777777777778,
              "#fb9f3a"
             ],
             [
              0.8888888888888888,
              "#fdca26"
             ],
             [
              1,
              "#f0f921"
             ]
            ],
            "type": "contour"
           }
          ],
          "contourcarpet": [
           {
            "colorbar": {
             "outlinewidth": 0,
             "ticks": ""
            },
            "type": "contourcarpet"
           }
          ],
          "heatmap": [
           {
            "colorbar": {
             "outlinewidth": 0,
             "ticks": ""
            },
            "colorscale": [
             [
              0,
              "#0d0887"
             ],
             [
              0.1111111111111111,
              "#46039f"
             ],
             [
              0.2222222222222222,
              "#7201a8"
             ],
             [
              0.3333333333333333,
              "#9c179e"
             ],
             [
              0.4444444444444444,
              "#bd3786"
             ],
             [
              0.5555555555555556,
              "#d8576b"
             ],
             [
              0.6666666666666666,
              "#ed7953"
             ],
             [
              0.7777777777777778,
              "#fb9f3a"
             ],
             [
              0.8888888888888888,
              "#fdca26"
             ],
             [
              1,
              "#f0f921"
             ]
            ],
            "type": "heatmap"
           }
          ],
          "heatmapgl": [
           {
            "colorbar": {
             "outlinewidth": 0,
             "ticks": ""
            },
            "colorscale": [
             [
              0,
              "#0d0887"
             ],
             [
              0.1111111111111111,
              "#46039f"
             ],
             [
              0.2222222222222222,
              "#7201a8"
             ],
             [
              0.3333333333333333,
              "#9c179e"
             ],
             [
              0.4444444444444444,
              "#bd3786"
             ],
             [
              0.5555555555555556,
              "#d8576b"
             ],
             [
              0.6666666666666666,
              "#ed7953"
             ],
             [
              0.7777777777777778,
              "#fb9f3a"
             ],
             [
              0.8888888888888888,
              "#fdca26"
             ],
             [
              1,
              "#f0f921"
             ]
            ],
            "type": "heatmapgl"
           }
          ],
          "histogram": [
           {
            "marker": {
             "pattern": {
              "fillmode": "overlay",
              "size": 10,
              "solidity": 0.2
             }
            },
            "type": "histogram"
           }
          ],
          "histogram2d": [
           {
            "colorbar": {
             "outlinewidth": 0,
             "ticks": ""
            },
            "colorscale": [
             [
              0,
              "#0d0887"
             ],
             [
              0.1111111111111111,
              "#46039f"
             ],
             [
              0.2222222222222222,
              "#7201a8"
             ],
             [
              0.3333333333333333,
              "#9c179e"
             ],
             [
              0.4444444444444444,
              "#bd3786"
             ],
             [
              0.5555555555555556,
              "#d8576b"
             ],
             [
              0.6666666666666666,
              "#ed7953"
             ],
             [
              0.7777777777777778,
              "#fb9f3a"
             ],
             [
              0.8888888888888888,
              "#fdca26"
             ],
             [
              1,
              "#f0f921"
             ]
            ],
            "type": "histogram2d"
           }
          ],
          "histogram2dcontour": [
           {
            "colorbar": {
             "outlinewidth": 0,
             "ticks": ""
            },
            "colorscale": [
             [
              0,
              "#0d0887"
             ],
             [
              0.1111111111111111,
              "#46039f"
             ],
             [
              0.2222222222222222,
              "#7201a8"
             ],
             [
              0.3333333333333333,
              "#9c179e"
             ],
             [
              0.4444444444444444,
              "#bd3786"
             ],
             [
              0.5555555555555556,
              "#d8576b"
             ],
             [
              0.6666666666666666,
              "#ed7953"
             ],
             [
              0.7777777777777778,
              "#fb9f3a"
             ],
             [
              0.8888888888888888,
              "#fdca26"
             ],
             [
              1,
              "#f0f921"
             ]
            ],
            "type": "histogram2dcontour"
           }
          ],
          "mesh3d": [
           {
            "colorbar": {
             "outlinewidth": 0,
             "ticks": ""
            },
            "type": "mesh3d"
           }
          ],
          "parcoords": [
           {
            "line": {
             "colorbar": {
              "outlinewidth": 0,
              "ticks": ""
             }
            },
            "type": "parcoords"
           }
          ],
          "pie": [
           {
            "automargin": true,
            "type": "pie"
           }
          ],
          "scatter": [
           {
            "fillpattern": {
             "fillmode": "overlay",
             "size": 10,
             "solidity": 0.2
            },
            "type": "scatter"
           }
          ],
          "scatter3d": [
           {
            "line": {
             "colorbar": {
              "outlinewidth": 0,
              "ticks": ""
             }
            },
            "marker": {
             "colorbar": {
              "outlinewidth": 0,
              "ticks": ""
             }
            },
            "type": "scatter3d"
           }
          ],
          "scattercarpet": [
           {
            "marker": {
             "colorbar": {
              "outlinewidth": 0,
              "ticks": ""
             }
            },
            "type": "scattercarpet"
           }
          ],
          "scattergeo": [
           {
            "marker": {
             "colorbar": {
              "outlinewidth": 0,
              "ticks": ""
             }
            },
            "type": "scattergeo"
           }
          ],
          "scattergl": [
           {
            "marker": {
             "colorbar": {
              "outlinewidth": 0,
              "ticks": ""
             }
            },
            "type": "scattergl"
           }
          ],
          "scattermapbox": [
           {
            "marker": {
             "colorbar": {
              "outlinewidth": 0,
              "ticks": ""
             }
            },
            "type": "scattermapbox"
           }
          ],
          "scatterpolar": [
           {
            "marker": {
             "colorbar": {
              "outlinewidth": 0,
              "ticks": ""
             }
            },
            "type": "scatterpolar"
           }
          ],
          "scatterpolargl": [
           {
            "marker": {
             "colorbar": {
              "outlinewidth": 0,
              "ticks": ""
             }
            },
            "type": "scatterpolargl"
           }
          ],
          "scatterternary": [
           {
            "marker": {
             "colorbar": {
              "outlinewidth": 0,
              "ticks": ""
             }
            },
            "type": "scatterternary"
           }
          ],
          "surface": [
           {
            "colorbar": {
             "outlinewidth": 0,
             "ticks": ""
            },
            "colorscale": [
             [
              0,
              "#0d0887"
             ],
             [
              0.1111111111111111,
              "#46039f"
             ],
             [
              0.2222222222222222,
              "#7201a8"
             ],
             [
              0.3333333333333333,
              "#9c179e"
             ],
             [
              0.4444444444444444,
              "#bd3786"
             ],
             [
              0.5555555555555556,
              "#d8576b"
             ],
             [
              0.6666666666666666,
              "#ed7953"
             ],
             [
              0.7777777777777778,
              "#fb9f3a"
             ],
             [
              0.8888888888888888,
              "#fdca26"
             ],
             [
              1,
              "#f0f921"
             ]
            ],
            "type": "surface"
           }
          ],
          "table": [
           {
            "cells": {
             "fill": {
              "color": "#EBF0F8"
             },
             "line": {
              "color": "white"
             }
            },
            "header": {
             "fill": {
              "color": "#C8D4E3"
             },
             "line": {
              "color": "white"
             }
            },
            "type": "table"
           }
          ]
         },
         "layout": {
          "annotationdefaults": {
           "arrowcolor": "#2a3f5f",
           "arrowhead": 0,
           "arrowwidth": 1
          },
          "autotypenumbers": "strict",
          "coloraxis": {
           "colorbar": {
            "outlinewidth": 0,
            "ticks": ""
           }
          },
          "colorscale": {
           "diverging": [
            [
             0,
             "#8e0152"
            ],
            [
             0.1,
             "#c51b7d"
            ],
            [
             0.2,
             "#de77ae"
            ],
            [
             0.3,
             "#f1b6da"
            ],
            [
             0.4,
             "#fde0ef"
            ],
            [
             0.5,
             "#f7f7f7"
            ],
            [
             0.6,
             "#e6f5d0"
            ],
            [
             0.7,
             "#b8e186"
            ],
            [
             0.8,
             "#7fbc41"
            ],
            [
             0.9,
             "#4d9221"
            ],
            [
             1,
             "#276419"
            ]
           ],
           "sequential": [
            [
             0,
             "#0d0887"
            ],
            [
             0.1111111111111111,
             "#46039f"
            ],
            [
             0.2222222222222222,
             "#7201a8"
            ],
            [
             0.3333333333333333,
             "#9c179e"
            ],
            [
             0.4444444444444444,
             "#bd3786"
            ],
            [
             0.5555555555555556,
             "#d8576b"
            ],
            [
             0.6666666666666666,
             "#ed7953"
            ],
            [
             0.7777777777777778,
             "#fb9f3a"
            ],
            [
             0.8888888888888888,
             "#fdca26"
            ],
            [
             1,
             "#f0f921"
            ]
           ],
           "sequentialminus": [
            [
             0,
             "#0d0887"
            ],
            [
             0.1111111111111111,
             "#46039f"
            ],
            [
             0.2222222222222222,
             "#7201a8"
            ],
            [
             0.3333333333333333,
             "#9c179e"
            ],
            [
             0.4444444444444444,
             "#bd3786"
            ],
            [
             0.5555555555555556,
             "#d8576b"
            ],
            [
             0.6666666666666666,
             "#ed7953"
            ],
            [
             0.7777777777777778,
             "#fb9f3a"
            ],
            [
             0.8888888888888888,
             "#fdca26"
            ],
            [
             1,
             "#f0f921"
            ]
           ]
          },
          "colorway": [
           "#636efa",
           "#EF553B",
           "#00cc96",
           "#ab63fa",
           "#FFA15A",
           "#19d3f3",
           "#FF6692",
           "#B6E880",
           "#FF97FF",
           "#FECB52"
          ],
          "font": {
           "color": "#2a3f5f"
          },
          "geo": {
           "bgcolor": "white",
           "lakecolor": "white",
           "landcolor": "#E5ECF6",
           "showlakes": true,
           "showland": true,
           "subunitcolor": "white"
          },
          "hoverlabel": {
           "align": "left"
          },
          "hovermode": "closest",
          "mapbox": {
           "style": "light"
          },
          "paper_bgcolor": "white",
          "plot_bgcolor": "#E5ECF6",
          "polar": {
           "angularaxis": {
            "gridcolor": "white",
            "linecolor": "white",
            "ticks": ""
           },
           "bgcolor": "#E5ECF6",
           "radialaxis": {
            "gridcolor": "white",
            "linecolor": "white",
            "ticks": ""
           }
          },
          "scene": {
           "xaxis": {
            "backgroundcolor": "#E5ECF6",
            "gridcolor": "white",
            "gridwidth": 2,
            "linecolor": "white",
            "showbackground": true,
            "ticks": "",
            "zerolinecolor": "white"
           },
           "yaxis": {
            "backgroundcolor": "#E5ECF6",
            "gridcolor": "white",
            "gridwidth": 2,
            "linecolor": "white",
            "showbackground": true,
            "ticks": "",
            "zerolinecolor": "white"
           },
           "zaxis": {
            "backgroundcolor": "#E5ECF6",
            "gridcolor": "white",
            "gridwidth": 2,
            "linecolor": "white",
            "showbackground": true,
            "ticks": "",
            "zerolinecolor": "white"
           }
          },
          "shapedefaults": {
           "line": {
            "color": "#2a3f5f"
           }
          },
          "ternary": {
           "aaxis": {
            "gridcolor": "white",
            "linecolor": "white",
            "ticks": ""
           },
           "baxis": {
            "gridcolor": "white",
            "linecolor": "white",
            "ticks": ""
           },
           "bgcolor": "#E5ECF6",
           "caxis": {
            "gridcolor": "white",
            "linecolor": "white",
            "ticks": ""
           }
          },
          "title": {
           "x": 0.05
          },
          "xaxis": {
           "automargin": true,
           "gridcolor": "white",
           "linecolor": "white",
           "ticks": "",
           "title": {
            "standoff": 15
           },
           "zerolinecolor": "white",
           "zerolinewidth": 2
          },
          "yaxis": {
           "automargin": true,
           "gridcolor": "white",
           "linecolor": "white",
           "ticks": "",
           "title": {
            "standoff": 15
           },
           "zerolinecolor": "white",
           "zerolinewidth": 2
          }
         }
        },
        "title": {
         "text": "Oilseed Production in Major States"
        },
        "width": 800,
        "xaxis": {
         "anchor": "y",
         "domain": [
          0,
          1
         ],
         "title": {
          "text": "State Name"
         }
        },
        "yaxis": {
         "anchor": "x",
         "domain": [
          0,
          1
         ],
         "title": {
          "text": "Oilseed Production"
         }
        }
       }
      }
     },
     "metadata": {},
     "output_type": "display_data"
    }
   ],
   "source": [
    "fig = px.bar(oil_seed,x = 'State Name',y = 'OILSEEDS PRODUCTION (1000 tons)',color='OILSEEDS PRODUCTION (1000 tons)',\n",
    "             title='Oilseed Production in Major States',\n",
    "             labels={'State Name': 'State Name','OILSEEDS PRODUCTION (1000 tons)':'Oilseed Production'},\n",
    "             text='OILSEEDS PRODUCTION (1000 tons)')\n",
    "\n",
    "fig.update_layout(height = 600,width = 800)\n",
    "fig.show()"
   ]
  },
  {
   "cell_type": "markdown",
   "id": "3fce6a3a",
   "metadata": {},
   "source": [
    "### `Impact of Area Cultivated on Production (Rice, Wheat, Maize)`"
   ]
  },
  {
   "cell_type": "code",
   "execution_count": 37,
   "id": "d84e7a81",
   "metadata": {},
   "outputs": [
    {
     "data": {
      "application/vnd.microsoft.datawrangler.viewer.v0+json": {
       "columns": [
        {
         "name": "index",
         "rawType": "int64",
         "type": "integer"
        },
        {
         "name": "Year",
         "rawType": "int64",
         "type": "integer"
        },
        {
         "name": "Area",
         "rawType": "float64",
         "type": "float"
        },
        {
         "name": "Production",
         "rawType": "float64",
         "type": "float"
        },
        {
         "name": "Crop",
         "rawType": "object",
         "type": "string"
        }
       ],
       "ref": "83850f57-9c83-4b0d-adf7-97bf68a591bb",
       "rows": [
        [
         "0",
         "1966",
         "34042.82",
         "29133.23",
         "Rice"
        ],
        [
         "1",
         "1967",
         "35012.33",
         "35056.64",
         "Rice"
        ],
        [
         "2",
         "1968",
         "34638.05",
         "34701.52",
         "Rice"
        ],
        [
         "3",
         "1969",
         "35833.94",
         "35836.01",
         "Rice"
        ],
        [
         "4",
         "1970",
         "35909.69",
         "39324.12",
         "Rice"
        ],
        [
         "5",
         "1971",
         "36412.74",
         "39946.79",
         "Rice"
        ],
        [
         "6",
         "1972",
         "35554.91",
         "37925.93",
         "Rice"
        ],
        [
         "7",
         "1973",
         "36818.73",
         "42026.94",
         "Rice"
        ],
        [
         "8",
         "1974",
         "36511.17",
         "37690.51",
         "Rice"
        ],
        [
         "9",
         "1975",
         "38020.03",
         "46144.36",
         "Rice"
        ],
        [
         "10",
         "1976",
         "37113.58",
         "40226.45",
         "Rice"
        ],
        [
         "11",
         "1977",
         "38845.96",
         "50439.41",
         "Rice"
        ],
        [
         "12",
         "1978",
         "39323.88",
         "50868.020000000004",
         "Rice"
        ],
        [
         "13",
         "1979",
         "38122.01",
         "40560.64",
         "Rice"
        ],
        [
         "14",
         "1980",
         "38908.83",
         "52796.25",
         "Rice"
        ],
        [
         "15",
         "1981",
         "39464.47",
         "52486.37",
         "Rice"
        ],
        [
         "16",
         "1982",
         "36210.82",
         "45081.34",
         "Rice"
        ],
        [
         "17",
         "1983",
         "39743.74",
         "57766.5",
         "Rice"
        ],
        [
         "18",
         "1984",
         "39859.88",
         "56451.83",
         "Rice"
        ],
        [
         "19",
         "1985",
         "39722.14",
         "62289.85",
         "Rice"
        ],
        [
         "20",
         "1986",
         "39575.13",
         "58592.01",
         "Rice"
        ],
        [
         "21",
         "1987",
         "37277.02",
         "54890.34",
         "Rice"
        ],
        [
         "22",
         "1988",
         "40639.76",
         "68923.09",
         "Rice"
        ],
        [
         "23",
         "1989",
         "41780.98",
         "73530.86",
         "Rice"
        ],
        [
         "24",
         "1990",
         "41070.99",
         "71613.37",
         "Rice"
        ],
        [
         "25",
         "1991",
         "41021.6",
         "71858.31",
         "Rice"
        ],
        [
         "26",
         "1992",
         "40207.46",
         "70205.91",
         "Rice"
        ],
        [
         "27",
         "1993",
         "40936.31",
         "77179.69",
         "Rice"
        ],
        [
         "28",
         "1994",
         "41237.14",
         "79273.91",
         "Rice"
        ],
        [
         "29",
         "1995",
         "39824.7",
         "72615.41",
         "Rice"
        ],
        [
         "30",
         "1996",
         "40557.85",
         "78120.14",
         "Rice"
        ],
        [
         "31",
         "1997",
         "42355.99",
         "80504.09",
         "Rice"
        ],
        [
         "32",
         "1998",
         "42282.82",
         "82394.23",
         "Rice"
        ],
        [
         "33",
         "1999",
         "42322.26",
         "86527.07",
         "Rice"
        ],
        [
         "34",
         "2000",
         "43567.68",
         "83476.59",
         "Rice"
        ],
        [
         "35",
         "2001",
         "43489.09",
         "91556.12",
         "Rice"
        ],
        [
         "36",
         "2002",
         "39795.72",
         "69917.86",
         "Rice"
        ],
        [
         "37",
         "2003",
         "41149.31",
         "84971.15",
         "Rice"
        ],
        [
         "38",
         "2004",
         "40613.67",
         "80951.64",
         "Rice"
        ],
        [
         "39",
         "2005",
         "42579.31",
         "87315.59",
         "Rice"
        ],
        [
         "40",
         "2006",
         "41998.69",
         "89984.14",
         "Rice"
        ],
        [
         "41",
         "2007",
         "42448.85",
         "93002.77",
         "Rice"
        ],
        [
         "42",
         "2008",
         "43756.82",
         "95226.84",
         "Rice"
        ],
        [
         "43",
         "2009",
         "41438.76",
         "88070.69",
         "Rice"
        ],
        [
         "44",
         "2010",
         "41880.28",
         "94300.23",
         "Rice"
        ],
        [
         "45",
         "2011",
         "42182.73",
         "102216.27",
         "Rice"
        ],
        [
         "46",
         "2012",
         "40836.34",
         "104237.62",
         "Rice"
        ],
        [
         "47",
         "2013",
         "43081.16",
         "109552.42",
         "Rice"
        ],
        [
         "48",
         "2014",
         "42533.05",
         "112551.62",
         "Rice"
        ],
        [
         "49",
         "2015",
         "41814.24",
         "98820.51",
         "Rice"
        ]
       ],
       "shape": {
        "columns": 4,
        "rows": 156
       }
      },
      "text/html": [
       "<div>\n",
       "<style scoped>\n",
       "    .dataframe tbody tr th:only-of-type {\n",
       "        vertical-align: middle;\n",
       "    }\n",
       "\n",
       "    .dataframe tbody tr th {\n",
       "        vertical-align: top;\n",
       "    }\n",
       "\n",
       "    .dataframe thead th {\n",
       "        text-align: right;\n",
       "    }\n",
       "</style>\n",
       "<table border=\"1\" class=\"dataframe\">\n",
       "  <thead>\n",
       "    <tr style=\"text-align: right;\">\n",
       "      <th></th>\n",
       "      <th>Year</th>\n",
       "      <th>Area</th>\n",
       "      <th>Production</th>\n",
       "      <th>Crop</th>\n",
       "    </tr>\n",
       "  </thead>\n",
       "  <tbody>\n",
       "    <tr>\n",
       "      <th>0</th>\n",
       "      <td>1966</td>\n",
       "      <td>34042.82</td>\n",
       "      <td>29133.23</td>\n",
       "      <td>Rice</td>\n",
       "    </tr>\n",
       "    <tr>\n",
       "      <th>1</th>\n",
       "      <td>1967</td>\n",
       "      <td>35012.33</td>\n",
       "      <td>35056.64</td>\n",
       "      <td>Rice</td>\n",
       "    </tr>\n",
       "    <tr>\n",
       "      <th>2</th>\n",
       "      <td>1968</td>\n",
       "      <td>34638.05</td>\n",
       "      <td>34701.52</td>\n",
       "      <td>Rice</td>\n",
       "    </tr>\n",
       "    <tr>\n",
       "      <th>3</th>\n",
       "      <td>1969</td>\n",
       "      <td>35833.94</td>\n",
       "      <td>35836.01</td>\n",
       "      <td>Rice</td>\n",
       "    </tr>\n",
       "    <tr>\n",
       "      <th>4</th>\n",
       "      <td>1970</td>\n",
       "      <td>35909.69</td>\n",
       "      <td>39324.12</td>\n",
       "      <td>Rice</td>\n",
       "    </tr>\n",
       "    <tr>\n",
       "      <th>...</th>\n",
       "      <td>...</td>\n",
       "      <td>...</td>\n",
       "      <td>...</td>\n",
       "      <td>...</td>\n",
       "    </tr>\n",
       "    <tr>\n",
       "      <th>151</th>\n",
       "      <td>2013</td>\n",
       "      <td>8566.33</td>\n",
       "      <td>26302.00</td>\n",
       "      <td>Maize</td>\n",
       "    </tr>\n",
       "    <tr>\n",
       "      <th>152</th>\n",
       "      <td>2014</td>\n",
       "      <td>8710.72</td>\n",
       "      <td>24732.81</td>\n",
       "      <td>Maize</td>\n",
       "    </tr>\n",
       "    <tr>\n",
       "      <th>153</th>\n",
       "      <td>2015</td>\n",
       "      <td>8318.83</td>\n",
       "      <td>22118.14</td>\n",
       "      <td>Maize</td>\n",
       "    </tr>\n",
       "    <tr>\n",
       "      <th>154</th>\n",
       "      <td>2016</td>\n",
       "      <td>9055.87</td>\n",
       "      <td>27182.66</td>\n",
       "      <td>Maize</td>\n",
       "    </tr>\n",
       "    <tr>\n",
       "      <th>155</th>\n",
       "      <td>2017</td>\n",
       "      <td>9023.77</td>\n",
       "      <td>32725.03</td>\n",
       "      <td>Maize</td>\n",
       "    </tr>\n",
       "  </tbody>\n",
       "</table>\n",
       "<p>156 rows × 4 columns</p>\n",
       "</div>"
      ],
      "text/plain": [
       "     Year      Area  Production   Crop\n",
       "0    1966  34042.82    29133.23   Rice\n",
       "1    1967  35012.33    35056.64   Rice\n",
       "2    1968  34638.05    34701.52   Rice\n",
       "3    1969  35833.94    35836.01   Rice\n",
       "4    1970  35909.69    39324.12   Rice\n",
       "..    ...       ...         ...    ...\n",
       "151  2013   8566.33    26302.00  Maize\n",
       "152  2014   8710.72    24732.81  Maize\n",
       "153  2015   8318.83    22118.14  Maize\n",
       "154  2016   9055.87    27182.66  Maize\n",
       "155  2017   9023.77    32725.03  Maize\n",
       "\n",
       "[156 rows x 4 columns]"
      ]
     },
     "execution_count": 37,
     "metadata": {},
     "output_type": "execute_result"
    }
   ],
   "source": [
    "# Group by Year and sum area and production\n",
    "rice = df.groupby('Year')[['RICE AREA (1000 ha)', 'RICE PRODUCTION (1000 tons)']].sum().reset_index()\n",
    "wheat = df.groupby('Year')[['WHEAT AREA (1000 ha)', 'WHEAT PRODUCTION (1000 tons)']].sum().reset_index()\n",
    "maize = df.groupby('Year')[['MAIZE AREA (1000 ha)', 'MAIZE PRODUCTION (1000 tons)']].sum().reset_index()\n",
    "\n",
    "# Add crop names\n",
    "rice['Crop'] = 'Rice'\n",
    "rice.rename(columns={'RICE AREA (1000 ha)': 'Area', 'RICE PRODUCTION (1000 tons)': 'Production'}, inplace=True)\n",
    "\n",
    "wheat['Crop'] = 'Wheat'\n",
    "wheat.rename(columns={'WHEAT AREA (1000 ha)': 'Area', 'WHEAT PRODUCTION (1000 tons)': 'Production'}, inplace=True)\n",
    "\n",
    "maize['Crop'] = 'Maize'\n",
    "maize.rename(columns={'MAIZE AREA (1000 ha)': 'Area', 'MAIZE PRODUCTION (1000 tons)': 'Production'}, inplace=True)\n",
    "\n",
    "# Combine all into one DataFrame\n",
    "combined = pd.concat([rice, wheat, maize], ignore_index=True)\n",
    "combined\n"
   ]
  },
  {
   "cell_type": "code",
   "execution_count": 38,
   "id": "aed0619c",
   "metadata": {},
   "outputs": [
    {
     "data": {
      "application/vnd.plotly.v1+json": {
       "config": {
        "plotlyServerURL": "https://plot.ly"
       },
       "data": [
        {
         "hovertemplate": "Crop=Rice<br>Area Cultivated (hectares)=%{x}<br>Production (1000 tons)=%{y}<extra></extra>",
         "legendgroup": "Rice",
         "marker": {
          "color": "#636efa",
          "symbol": "circle"
         },
         "mode": "markers",
         "name": "Rice",
         "orientation": "v",
         "showlegend": true,
         "type": "scatter",
         "x": [
          34042.82,
          35012.33,
          34638.05,
          35833.94,
          35909.69,
          36412.74,
          35554.91,
          36818.73,
          36511.17,
          38020.03,
          37113.58,
          38845.96,
          39323.88,
          38122.01,
          38908.83,
          39464.47,
          36210.82,
          39743.74,
          39859.88,
          39722.14,
          39575.13,
          37277.02,
          40639.76,
          41780.98,
          41070.99,
          41021.6,
          40207.46,
          40936.31,
          41237.14,
          39824.7,
          40557.85,
          42355.99,
          42282.82,
          42322.26,
          43567.68,
          43489.09,
          39795.72,
          41149.31,
          40613.67,
          42579.31,
          41998.69,
          42448.85,
          43756.82,
          41438.76,
          41880.28,
          42182.73,
          40836.34,
          43081.16,
          42533.05,
          41814.24,
          42963.71,
          42976.53
         ],
         "xaxis": "x",
         "y": [
          29133.23,
          35056.64,
          34701.52,
          35836.01,
          39324.12,
          39946.79,
          37925.93,
          42026.94,
          37690.51,
          46144.36,
          40226.45,
          50439.41,
          50868.020000000004,
          40560.64,
          52796.25,
          52486.37,
          45081.34,
          57766.5,
          56451.83,
          62289.85,
          58592.01,
          54890.34,
          68923.09,
          73530.86,
          71613.37,
          71858.31,
          70205.91,
          77179.69,
          79273.91,
          72615.41,
          78120.14,
          80504.09,
          82394.23,
          86527.07,
          83476.59,
          91556.12,
          69917.86,
          84971.15,
          80951.64,
          87315.59,
          89984.14,
          93002.77,
          95226.84,
          88070.69,
          94300.23,
          102216.27,
          104237.62,
          109552.42,
          112551.62,
          98820.51,
          117614.1,
          114319.61
         ],
         "yaxis": "y"
        },
        {
         "hovertemplate": "<b>OLS trendline</b><br>Production = 8.47304 * Area + -268485<br>R<sup>2</sup>=0.828829<br><br>Crop=Rice<br>Area Cultivated (hectares)=%{x}<br>Production (1000 tons)=%{y} <b>(trend)</b><extra></extra>",
         "legendgroup": "Rice",
         "marker": {
          "color": "#636efa",
          "symbol": "circle"
         },
         "mode": "lines",
         "name": "Rice",
         "showlegend": false,
         "type": "scatter",
         "x": [
          34042.82,
          34638.05,
          35012.33,
          35554.91,
          35833.94,
          35909.69,
          36210.82,
          36412.74,
          36511.17,
          36818.73,
          37113.58,
          37277.02,
          38020.03,
          38122.01,
          38845.96,
          38908.83,
          39323.88,
          39464.47,
          39575.13,
          39722.14,
          39743.74,
          39795.72,
          39824.7,
          39859.88,
          40207.46,
          40557.85,
          40613.67,
          40639.76,
          40836.34,
          40936.31,
          41021.6,
          41070.99,
          41149.31,
          41237.14,
          41438.76,
          41780.98,
          41814.24,
          41880.28,
          41998.69,
          42182.73,
          42282.82,
          42322.26,
          42355.99,
          42448.85,
          42533.05,
          42579.31,
          42963.71,
          42976.53,
          43081.16,
          43489.09,
          43567.68,
          43756.82
         ],
         "xaxis": "x",
         "y": [
          19961.257834187476,
          25004.666522307554,
          28175.95661821938,
          32773.25965402101,
          35137.49251568143,
          35779.32543425931,
          38330.81252034969,
          40041.68912654428,
          40875.69063381315,
          43481.65937886672,
          45979.93576226843,
          47364.76971886726,
          53660.32452853769,
          54524.405334301,
          60658.46396670281,
          61191.164106517914,
          64707.900117814715,
          65899.12506861158,
          66836.75187745417,
          68082.37375679583,
          68265.39146031108,
          68705.8201746039,
          68951.36892682017,
          69249.45053837885,
          72194.51041744539,
          75163.37954405259,
          75636.34473897028,
          75857.40640029963,
          77523.03696312511,
          78370.0869548113,
          79092.75269244175,
          79511.23622839636,
          80174.84486447577,
          80919.0321283529,
          82627.36682199873,
          85527.01119685965,
          85808.8245681058,
          86368.38425052009,
          87371.67713354062,
          88931.05575182533,
          89779.12250853103,
          90113.29927828303,
          90399.09497918899,
          91185.90164346807,
          91899.3317655045,
          92291.294680533,
          95548.33195975842,
          95656.9563560115,
          96543.49072262272,
          99999.89867609419,
          100665.79503346758,
          102268.38616508228
         ],
         "yaxis": "y"
        },
        {
         "hovertemplate": "Crop=Wheat<br>Area Cultivated (hectares)=%{x}<br>Production (1000 tons)=%{y}<extra></extra>",
         "legendgroup": "Wheat",
         "marker": {
          "color": "#EF553B",
          "symbol": "circle"
         },
         "mode": "markers",
         "name": "Wheat",
         "orientation": "v",
         "showlegend": true,
         "type": "scatter",
         "x": [
          12489.93,
          14494.64,
          14889.58,
          15923.67,
          17472.15,
          18418.09,
          18062.22,
          18072.67,
          17376.45,
          19522.87,
          19837.66,
          20250.07,
          21790.05,
          21220.26,
          21941.87,
          21929.97,
          22924.52,
          24206.36,
          23381.79,
          22804.31,
          22607.87,
          22717.23,
          23871.65,
          24105.84,
          23713.76,
          23050.28,
          24336.74,
          24860.39,
          25527.41,
          24627.52,
          25502.71,
          26452.34,
          27361.1,
          27269.76,
          25462.41,
          26003.64,
          24972.71,
          26592.01,
          26565.27,
          26374.79,
          28125.62,
          28316.41,
          27649.54,
          28351.73,
          30002.55,
          29462.56,
          29236.26,
          31327.92,
          31141.73,
          30036.11,
          31486.79,
          30055.81
         ],
         "xaxis": "x",
         "y": [
          10989.12,
          16006.3,
          17375.67,
          19232.36,
          22677.88,
          25280.89,
          22879.56,
          20833.39,
          23052.96,
          27150.41,
          27580.73,
          30003.66,
          34078.29,
          30742,
          35659.06,
          37154.29,
          42402.18,
          44859.22,
          43846.97,
          46811.090000000004,
          43499.94,
          45504.65,
          53682.89,
          52123.31,
          54449.14,
          55378.51,
          56665.3,
          59400.67,
          65462.3,
          61157.13,
          68631.56,
          65085.19,
          70057.41,
          76209.47,
          69617.04,
          72186.1,
          65404.659999999996,
          72317.08,
          69013.36,
          68379.02,
          77709.5,
          80126.73,
          81613.21,
          81022.42,
          93438.55,
          100269.99,
          97177.86,
          102506.18,
          84866.58,
          93824.98,
          112962.82,
          110418.21
         ],
         "yaxis": "y"
        },
        {
         "hovertemplate": "<b>OLS trendline</b><br>Production = 5.59452 * Area + -77342.4<br>R<sup>2</sup>=0.923137<br><br>Crop=Wheat<br>Area Cultivated (hectares)=%{x}<br>Production (1000 tons)=%{y} <b>(trend)</b><extra></extra>",
         "legendgroup": "Wheat",
         "marker": {
          "color": "#EF553B",
          "symbol": "circle"
         },
         "mode": "lines",
         "name": "Wheat",
         "showlegend": false,
         "type": "scatter",
         "x": [
          12489.93,
          14494.64,
          14889.58,
          15923.67,
          17376.45,
          17472.15,
          18062.22,
          18072.67,
          18418.09,
          19522.87,
          19837.66,
          20250.07,
          21220.26,
          21790.05,
          21929.97,
          21941.87,
          22607.87,
          22717.23,
          22804.31,
          22924.52,
          23050.28,
          23381.79,
          23713.76,
          23871.65,
          24105.84,
          24206.36,
          24336.74,
          24627.52,
          24860.39,
          24972.71,
          25462.41,
          25502.71,
          25527.41,
          26003.64,
          26374.79,
          26452.34,
          26565.27,
          26592.01,
          27269.76,
          27361.1,
          27649.54,
          28125.62,
          28316.41,
          28351.73,
          29236.26,
          29462.56,
          30002.55,
          30036.11,
          30055.81,
          31141.73,
          31327.92,
          31486.79
         ],
         "xaxis": "x",
         "y": [
          -7467.170261036255,
          3748.2290914739133,
          5957.7306255014555,
          11742.972539013761,
          19870.585945112267,
          20405.981946546497,
          23707.14306009194,
          23765.60584185773,
          25698.06651913478,
          31878.785374563333,
          33639.885764234,
          35947.12364251501,
          41374.87543594738,
          44562.57959119517,
          45345.3654691542,
          45411.940311547776,
          49137.89367576095,
          49749.71088283355,
          50236.88208246672,
          50909.399881133475,
          51612.96729116868,
          53467.608131664645,
          55324.82245346319,
          56208.14193796113,
          57518.323647218,
          58080.68525708394,
          58810.09937063666,
          60436.87522536024,
          61739.67216218353,
          62368.04916198595,
          65107.68784435111,
          65333.14718455801,
          65471.33194145901,
          68135.61237785424,
          70212.0201723403,
          70645.87555281288,
          71277.66521260355,
          71427.26279962916,
          75218.9518275503,
          75729.95570185545,
          77343.64036908315,
          80007.08162679276,
          81074.46096967297,
          81272.05957751683,
          86220.58439620674,
          87486.62530659931,
          90507.61262963453,
          90695.36487423361,
          90805.57700828018,
          96880.78313030172,
          97922.42766015584,
          98811.22977873325
         ],
         "yaxis": "y"
        },
        {
         "hovertemplate": "Crop=Maize<br>Area Cultivated (hectares)=%{x}<br>Production (1000 tons)=%{y}<extra></extra>",
         "legendgroup": "Maize",
         "marker": {
          "color": "#00cc96",
          "symbol": "circle"
         },
         "mode": "markers",
         "name": "Maize",
         "orientation": "v",
         "showlegend": true,
         "type": "scatter",
         "x": [
          4875.34,
          5360.95,
          5107.3,
          5203.5199999999995,
          5580.51,
          5349.13,
          5489.13,
          5723.48,
          5515.87,
          5650.1,
          5656.5,
          5397.04,
          5435.99,
          5474.18,
          5657.54,
          5559.6900000000005,
          5306.3,
          5414.94,
          5339.66,
          5468.6,
          5426.9800000000005,
          5143.25,
          5520.86,
          5509.2699999999995,
          5462.59,
          5478.23,
          5646.46,
          5693,
          5676.87,
          5475.02,
          5706.39,
          5942.42,
          5897.99,
          5981.07,
          6402,
          6127.52,
          6249.91,
          6760.49,
          6864.63,
          7128.13,
          7280.74,
          7561.94,
          7402.78,
          7754.69,
          8104.9800000000005,
          8237.43,
          8214.82,
          8566.33,
          8710.72,
          8318.83,
          9055.87,
          9023.77
         ],
         "xaxis": "x",
         "y": [
          4832.2300000000005,
          6087.13,
          4485.59,
          4781.64,
          7125.88,
          4991.21,
          5831.5199999999995,
          5300.12,
          5117.28,
          6515.49,
          5775.28,
          5490.49,
          5667.17,
          5379.91,
          6248.26,
          6291.93,
          6115.9800000000005,
          7471.18,
          7758.14,
          6183.83,
          6664.06,
          5263.26,
          7717.07,
          9045.98,
          8319.23,
          7409,
          9448.88,
          8922.89,
          8394.53,
          8737.49,
          9836.78,
          10375.9,
          10325.04,
          10768.78,
          11665.88,
          12339,
          10483.11,
          13949.32,
          13125.05,
          14553.86,
          14222.14,
          18908.4,
          18206.51,
          16025.69,
          22120.65,
          21864.68,
          22911.1,
          26302,
          24732.81,
          22118.14,
          27182.66,
          32725.03
         ],
         "yaxis": "y"
        },
        {
         "hovertemplate": "<b>OLS trendline</b><br>Production = 5.76801 * Area + -24843.5<br>R<sup>2</sup>=0.949647<br><br>Crop=Maize<br>Area Cultivated (hectares)=%{x}<br>Production (1000 tons)=%{y} <b>(trend)</b><extra></extra>",
         "legendgroup": "Maize",
         "marker": {
          "color": "#00cc96",
          "symbol": "circle"
         },
         "mode": "lines",
         "name": "Maize",
         "showlegend": false,
         "type": "scatter",
         "x": [
          4875.34,
          5107.3,
          5143.25,
          5203.5199999999995,
          5306.3,
          5339.66,
          5349.13,
          5360.95,
          5397.04,
          5414.94,
          5426.9800000000005,
          5435.99,
          5462.59,
          5468.6,
          5474.18,
          5475.02,
          5478.23,
          5489.13,
          5509.2699999999995,
          5515.87,
          5520.86,
          5559.6900000000005,
          5580.51,
          5646.46,
          5650.1,
          5656.5,
          5657.54,
          5676.87,
          5693,
          5706.39,
          5723.48,
          5897.99,
          5942.42,
          5981.07,
          6127.52,
          6249.91,
          6402,
          6760.49,
          6864.63,
          7128.13,
          7280.74,
          7402.78,
          7561.94,
          7754.69,
          8104.9800000000005,
          8214.82,
          8237.43,
          8318.83,
          8566.33,
          8710.72,
          9023.77,
          9055.87
         ],
         "xaxis": "x",
         "y": [
          3277.4778208011558,
          4615.425367809785,
          4822.785319158982,
          5170.423268194201,
          5763.259312691302,
          5955.68011872772,
          6010.303171280626,
          6078.481046800724,
          6286.648519518181,
          6389.895894459783,
          6459.342732130004,
          6511.3125001871995,
          6664.74156015629,
          6699.407298893668,
          6731.5927934285355,
          6736.437921638088,
          6754.953233010292,
          6817.824539538979,
          6933.992256372716,
          6972.061120876326,
          7000.843489644962,
          7224.815309141191,
          7344.905272620756,
          7725.30551716817,
          7746.301072742892,
          7783.216335291843,
          7789.215065456046,
          7900.7106943734325,
          7993.748692016343,
          8070.982342880481,
          8169.557629905728,
          9176.133015439766,
          9432.405689666331,
          9655.339267403368,
          10500.064298699348,
          11206.011014850345,
          12083.26762126758,
          14151.041444888557,
          14751.721982677307,
          16271.592557935,
          17151.848529434334,
          17855.776442164686,
          18773.812877678974,
          19885.59676147753,
          21906.07290495767,
          22539.631098454076,
          22670.045799427804,
          23139.561794972302,
          24567.144213857602,
          25399.987145020626,
          27205.66260454405,
          27390.815718266145
         ],
         "yaxis": "y"
        }
       ],
       "layout": {
        "legend": {
         "title": {
          "text": "Crop"
         },
         "tracegroupgap": 0
        },
        "template": {
         "data": {
          "bar": [
           {
            "error_x": {
             "color": "#2a3f5f"
            },
            "error_y": {
             "color": "#2a3f5f"
            },
            "marker": {
             "line": {
              "color": "#E5ECF6",
              "width": 0.5
             },
             "pattern": {
              "fillmode": "overlay",
              "size": 10,
              "solidity": 0.2
             }
            },
            "type": "bar"
           }
          ],
          "barpolar": [
           {
            "marker": {
             "line": {
              "color": "#E5ECF6",
              "width": 0.5
             },
             "pattern": {
              "fillmode": "overlay",
              "size": 10,
              "solidity": 0.2
             }
            },
            "type": "barpolar"
           }
          ],
          "carpet": [
           {
            "aaxis": {
             "endlinecolor": "#2a3f5f",
             "gridcolor": "white",
             "linecolor": "white",
             "minorgridcolor": "white",
             "startlinecolor": "#2a3f5f"
            },
            "baxis": {
             "endlinecolor": "#2a3f5f",
             "gridcolor": "white",
             "linecolor": "white",
             "minorgridcolor": "white",
             "startlinecolor": "#2a3f5f"
            },
            "type": "carpet"
           }
          ],
          "choropleth": [
           {
            "colorbar": {
             "outlinewidth": 0,
             "ticks": ""
            },
            "type": "choropleth"
           }
          ],
          "contour": [
           {
            "colorbar": {
             "outlinewidth": 0,
             "ticks": ""
            },
            "colorscale": [
             [
              0,
              "#0d0887"
             ],
             [
              0.1111111111111111,
              "#46039f"
             ],
             [
              0.2222222222222222,
              "#7201a8"
             ],
             [
              0.3333333333333333,
              "#9c179e"
             ],
             [
              0.4444444444444444,
              "#bd3786"
             ],
             [
              0.5555555555555556,
              "#d8576b"
             ],
             [
              0.6666666666666666,
              "#ed7953"
             ],
             [
              0.7777777777777778,
              "#fb9f3a"
             ],
             [
              0.8888888888888888,
              "#fdca26"
             ],
             [
              1,
              "#f0f921"
             ]
            ],
            "type": "contour"
           }
          ],
          "contourcarpet": [
           {
            "colorbar": {
             "outlinewidth": 0,
             "ticks": ""
            },
            "type": "contourcarpet"
           }
          ],
          "heatmap": [
           {
            "colorbar": {
             "outlinewidth": 0,
             "ticks": ""
            },
            "colorscale": [
             [
              0,
              "#0d0887"
             ],
             [
              0.1111111111111111,
              "#46039f"
             ],
             [
              0.2222222222222222,
              "#7201a8"
             ],
             [
              0.3333333333333333,
              "#9c179e"
             ],
             [
              0.4444444444444444,
              "#bd3786"
             ],
             [
              0.5555555555555556,
              "#d8576b"
             ],
             [
              0.6666666666666666,
              "#ed7953"
             ],
             [
              0.7777777777777778,
              "#fb9f3a"
             ],
             [
              0.8888888888888888,
              "#fdca26"
             ],
             [
              1,
              "#f0f921"
             ]
            ],
            "type": "heatmap"
           }
          ],
          "heatmapgl": [
           {
            "colorbar": {
             "outlinewidth": 0,
             "ticks": ""
            },
            "colorscale": [
             [
              0,
              "#0d0887"
             ],
             [
              0.1111111111111111,
              "#46039f"
             ],
             [
              0.2222222222222222,
              "#7201a8"
             ],
             [
              0.3333333333333333,
              "#9c179e"
             ],
             [
              0.4444444444444444,
              "#bd3786"
             ],
             [
              0.5555555555555556,
              "#d8576b"
             ],
             [
              0.6666666666666666,
              "#ed7953"
             ],
             [
              0.7777777777777778,
              "#fb9f3a"
             ],
             [
              0.8888888888888888,
              "#fdca26"
             ],
             [
              1,
              "#f0f921"
             ]
            ],
            "type": "heatmapgl"
           }
          ],
          "histogram": [
           {
            "marker": {
             "pattern": {
              "fillmode": "overlay",
              "size": 10,
              "solidity": 0.2
             }
            },
            "type": "histogram"
           }
          ],
          "histogram2d": [
           {
            "colorbar": {
             "outlinewidth": 0,
             "ticks": ""
            },
            "colorscale": [
             [
              0,
              "#0d0887"
             ],
             [
              0.1111111111111111,
              "#46039f"
             ],
             [
              0.2222222222222222,
              "#7201a8"
             ],
             [
              0.3333333333333333,
              "#9c179e"
             ],
             [
              0.4444444444444444,
              "#bd3786"
             ],
             [
              0.5555555555555556,
              "#d8576b"
             ],
             [
              0.6666666666666666,
              "#ed7953"
             ],
             [
              0.7777777777777778,
              "#fb9f3a"
             ],
             [
              0.8888888888888888,
              "#fdca26"
             ],
             [
              1,
              "#f0f921"
             ]
            ],
            "type": "histogram2d"
           }
          ],
          "histogram2dcontour": [
           {
            "colorbar": {
             "outlinewidth": 0,
             "ticks": ""
            },
            "colorscale": [
             [
              0,
              "#0d0887"
             ],
             [
              0.1111111111111111,
              "#46039f"
             ],
             [
              0.2222222222222222,
              "#7201a8"
             ],
             [
              0.3333333333333333,
              "#9c179e"
             ],
             [
              0.4444444444444444,
              "#bd3786"
             ],
             [
              0.5555555555555556,
              "#d8576b"
             ],
             [
              0.6666666666666666,
              "#ed7953"
             ],
             [
              0.7777777777777778,
              "#fb9f3a"
             ],
             [
              0.8888888888888888,
              "#fdca26"
             ],
             [
              1,
              "#f0f921"
             ]
            ],
            "type": "histogram2dcontour"
           }
          ],
          "mesh3d": [
           {
            "colorbar": {
             "outlinewidth": 0,
             "ticks": ""
            },
            "type": "mesh3d"
           }
          ],
          "parcoords": [
           {
            "line": {
             "colorbar": {
              "outlinewidth": 0,
              "ticks": ""
             }
            },
            "type": "parcoords"
           }
          ],
          "pie": [
           {
            "automargin": true,
            "type": "pie"
           }
          ],
          "scatter": [
           {
            "fillpattern": {
             "fillmode": "overlay",
             "size": 10,
             "solidity": 0.2
            },
            "type": "scatter"
           }
          ],
          "scatter3d": [
           {
            "line": {
             "colorbar": {
              "outlinewidth": 0,
              "ticks": ""
             }
            },
            "marker": {
             "colorbar": {
              "outlinewidth": 0,
              "ticks": ""
             }
            },
            "type": "scatter3d"
           }
          ],
          "scattercarpet": [
           {
            "marker": {
             "colorbar": {
              "outlinewidth": 0,
              "ticks": ""
             }
            },
            "type": "scattercarpet"
           }
          ],
          "scattergeo": [
           {
            "marker": {
             "colorbar": {
              "outlinewidth": 0,
              "ticks": ""
             }
            },
            "type": "scattergeo"
           }
          ],
          "scattergl": [
           {
            "marker": {
             "colorbar": {
              "outlinewidth": 0,
              "ticks": ""
             }
            },
            "type": "scattergl"
           }
          ],
          "scattermapbox": [
           {
            "marker": {
             "colorbar": {
              "outlinewidth": 0,
              "ticks": ""
             }
            },
            "type": "scattermapbox"
           }
          ],
          "scatterpolar": [
           {
            "marker": {
             "colorbar": {
              "outlinewidth": 0,
              "ticks": ""
             }
            },
            "type": "scatterpolar"
           }
          ],
          "scatterpolargl": [
           {
            "marker": {
             "colorbar": {
              "outlinewidth": 0,
              "ticks": ""
             }
            },
            "type": "scatterpolargl"
           }
          ],
          "scatterternary": [
           {
            "marker": {
             "colorbar": {
              "outlinewidth": 0,
              "ticks": ""
             }
            },
            "type": "scatterternary"
           }
          ],
          "surface": [
           {
            "colorbar": {
             "outlinewidth": 0,
             "ticks": ""
            },
            "colorscale": [
             [
              0,
              "#0d0887"
             ],
             [
              0.1111111111111111,
              "#46039f"
             ],
             [
              0.2222222222222222,
              "#7201a8"
             ],
             [
              0.3333333333333333,
              "#9c179e"
             ],
             [
              0.4444444444444444,
              "#bd3786"
             ],
             [
              0.5555555555555556,
              "#d8576b"
             ],
             [
              0.6666666666666666,
              "#ed7953"
             ],
             [
              0.7777777777777778,
              "#fb9f3a"
             ],
             [
              0.8888888888888888,
              "#fdca26"
             ],
             [
              1,
              "#f0f921"
             ]
            ],
            "type": "surface"
           }
          ],
          "table": [
           {
            "cells": {
             "fill": {
              "color": "#EBF0F8"
             },
             "line": {
              "color": "white"
             }
            },
            "header": {
             "fill": {
              "color": "#C8D4E3"
             },
             "line": {
              "color": "white"
             }
            },
            "type": "table"
           }
          ]
         },
         "layout": {
          "annotationdefaults": {
           "arrowcolor": "#2a3f5f",
           "arrowhead": 0,
           "arrowwidth": 1
          },
          "autotypenumbers": "strict",
          "coloraxis": {
           "colorbar": {
            "outlinewidth": 0,
            "ticks": ""
           }
          },
          "colorscale": {
           "diverging": [
            [
             0,
             "#8e0152"
            ],
            [
             0.1,
             "#c51b7d"
            ],
            [
             0.2,
             "#de77ae"
            ],
            [
             0.3,
             "#f1b6da"
            ],
            [
             0.4,
             "#fde0ef"
            ],
            [
             0.5,
             "#f7f7f7"
            ],
            [
             0.6,
             "#e6f5d0"
            ],
            [
             0.7,
             "#b8e186"
            ],
            [
             0.8,
             "#7fbc41"
            ],
            [
             0.9,
             "#4d9221"
            ],
            [
             1,
             "#276419"
            ]
           ],
           "sequential": [
            [
             0,
             "#0d0887"
            ],
            [
             0.1111111111111111,
             "#46039f"
            ],
            [
             0.2222222222222222,
             "#7201a8"
            ],
            [
             0.3333333333333333,
             "#9c179e"
            ],
            [
             0.4444444444444444,
             "#bd3786"
            ],
            [
             0.5555555555555556,
             "#d8576b"
            ],
            [
             0.6666666666666666,
             "#ed7953"
            ],
            [
             0.7777777777777778,
             "#fb9f3a"
            ],
            [
             0.8888888888888888,
             "#fdca26"
            ],
            [
             1,
             "#f0f921"
            ]
           ],
           "sequentialminus": [
            [
             0,
             "#0d0887"
            ],
            [
             0.1111111111111111,
             "#46039f"
            ],
            [
             0.2222222222222222,
             "#7201a8"
            ],
            [
             0.3333333333333333,
             "#9c179e"
            ],
            [
             0.4444444444444444,
             "#bd3786"
            ],
            [
             0.5555555555555556,
             "#d8576b"
            ],
            [
             0.6666666666666666,
             "#ed7953"
            ],
            [
             0.7777777777777778,
             "#fb9f3a"
            ],
            [
             0.8888888888888888,
             "#fdca26"
            ],
            [
             1,
             "#f0f921"
            ]
           ]
          },
          "colorway": [
           "#636efa",
           "#EF553B",
           "#00cc96",
           "#ab63fa",
           "#FFA15A",
           "#19d3f3",
           "#FF6692",
           "#B6E880",
           "#FF97FF",
           "#FECB52"
          ],
          "font": {
           "color": "#2a3f5f"
          },
          "geo": {
           "bgcolor": "white",
           "lakecolor": "white",
           "landcolor": "#E5ECF6",
           "showlakes": true,
           "showland": true,
           "subunitcolor": "white"
          },
          "hoverlabel": {
           "align": "left"
          },
          "hovermode": "closest",
          "mapbox": {
           "style": "light"
          },
          "paper_bgcolor": "white",
          "plot_bgcolor": "#E5ECF6",
          "polar": {
           "angularaxis": {
            "gridcolor": "white",
            "linecolor": "white",
            "ticks": ""
           },
           "bgcolor": "#E5ECF6",
           "radialaxis": {
            "gridcolor": "white",
            "linecolor": "white",
            "ticks": ""
           }
          },
          "scene": {
           "xaxis": {
            "backgroundcolor": "#E5ECF6",
            "gridcolor": "white",
            "gridwidth": 2,
            "linecolor": "white",
            "showbackground": true,
            "ticks": "",
            "zerolinecolor": "white"
           },
           "yaxis": {
            "backgroundcolor": "#E5ECF6",
            "gridcolor": "white",
            "gridwidth": 2,
            "linecolor": "white",
            "showbackground": true,
            "ticks": "",
            "zerolinecolor": "white"
           },
           "zaxis": {
            "backgroundcolor": "#E5ECF6",
            "gridcolor": "white",
            "gridwidth": 2,
            "linecolor": "white",
            "showbackground": true,
            "ticks": "",
            "zerolinecolor": "white"
           }
          },
          "shapedefaults": {
           "line": {
            "color": "#2a3f5f"
           }
          },
          "ternary": {
           "aaxis": {
            "gridcolor": "white",
            "linecolor": "white",
            "ticks": ""
           },
           "baxis": {
            "gridcolor": "white",
            "linecolor": "white",
            "ticks": ""
           },
           "bgcolor": "#E5ECF6",
           "caxis": {
            "gridcolor": "white",
            "linecolor": "white",
            "ticks": ""
           }
          },
          "title": {
           "x": 0.05
          },
          "xaxis": {
           "automargin": true,
           "gridcolor": "white",
           "linecolor": "white",
           "ticks": "",
           "title": {
            "standoff": 15
           },
           "zerolinecolor": "white",
           "zerolinewidth": 2
          },
          "yaxis": {
           "automargin": true,
           "gridcolor": "white",
           "linecolor": "white",
           "ticks": "",
           "title": {
            "standoff": 15
           },
           "zerolinecolor": "white",
           "zerolinewidth": 2
          }
         }
        },
        "title": {
         "text": "Impact of Area Cultivated on Production (Rice, Wheat, Maize)"
        },
        "xaxis": {
         "anchor": "y",
         "domain": [
          0,
          1
         ],
         "title": {
          "text": "Area Cultivated (hectares)"
         }
        },
        "yaxis": {
         "anchor": "x",
         "domain": [
          0,
          1
         ],
         "title": {
          "text": "Production (1000 tons)"
         }
        }
       }
      }
     },
     "metadata": {},
     "output_type": "display_data"
    }
   ],
   "source": [
    "# Plot scatter chart with regression line\n",
    "fig = px.scatter(combined,\n",
    "                 x='Area',\n",
    "                 y='Production',\n",
    "                 color='Crop',\n",
    "                 trendline='ols',\n",
    "                 title='Impact of Area Cultivated on Production (Rice, Wheat, Maize)',\n",
    "                 labels={'Area': 'Area Cultivated (hectares)', 'Production': 'Production (1000 tons)'})\n",
    "\n",
    "fig.show()"
   ]
  },
  {
   "cell_type": "markdown",
   "id": "8598ab29",
   "metadata": {},
   "source": [
    "### `Rice vs. Wheat Yield Across States`"
   ]
  },
  {
   "cell_type": "code",
   "execution_count": 42,
   "id": "3920c201",
   "metadata": {},
   "outputs": [
    {
     "data": {
      "application/vnd.microsoft.datawrangler.viewer.v0+json": {
       "columns": [
        {
         "name": "index",
         "rawType": "int64",
         "type": "integer"
        },
        {
         "name": "State Name",
         "rawType": "object",
         "type": "string"
        },
        {
         "name": "RICE YIELD (Kg per ha)",
         "rawType": "float64",
         "type": "float"
        },
        {
         "name": "WHEAT YIELD (Kg per ha)",
         "rawType": "float64",
         "type": "float"
        }
       ],
       "ref": "9c66ed7d-496b-4e08-a3cc-7ff87e019409",
       "rows": [
        [
         "0",
         "Andhra Pradesh",
         "1337079.18",
         "116956.69"
        ],
        [
         "1",
         "Assam",
         "708457.9",
         "558080.41"
        ],
        [
         "2",
         "Bihar",
         "730287.4",
         "992099.68"
        ],
        [
         "3",
         "Chhattisgarh",
         "335014.04",
         "311869.75"
        ],
        [
         "4",
         "Gujarat",
         "989691.47",
         "1991362.26"
        ],
        [
         "5",
         "Haryana",
         "796460.55",
         "1161151.95"
        ],
        [
         "6",
         "Himachal Pradesh",
         "574244.15",
         "630164.41"
        ],
        [
         "7",
         "Jharkhand",
         "346166.1",
         "349397.48"
        ],
        [
         "8",
         "Karnataka",
         "2125721.28",
         "566556.69"
        ],
        [
         "9",
         "Kerala",
         "995867.63",
         "4000.0"
        ],
        [
         "10",
         "Madhya Pradesh",
         "1575672.54",
         "2930771.89"
        ],
        [
         "11",
         "Maharashtra",
         "1463057.73",
         "1288086.69"
        ],
        [
         "12",
         "Orissa",
         "830195.06",
         "1054791.18"
        ],
        [
         "13",
         "Punjab",
         "1773440.44",
         "2007153.14"
        ],
        [
         "14",
         "Rajasthan",
         "930383.04",
         "2722217.0"
        ],
        [
         "15",
         "Tamil Nadu",
         "1755871.99",
         "18561.25"
        ],
        [
         "16",
         "Telangana",
         "1020098.92",
         "251075.04"
        ],
        [
         "17",
         "Uttar Pradesh",
         "3767642.74",
         "5208756.43"
        ],
        [
         "18",
         "Uttarakhand",
         "508766.33",
         "494578.11"
        ],
        [
         "19",
         "West Bengal",
         "1443769.07",
         "1438980.99"
        ]
       ],
       "shape": {
        "columns": 3,
        "rows": 20
       }
      },
      "text/html": [
       "<div>\n",
       "<style scoped>\n",
       "    .dataframe tbody tr th:only-of-type {\n",
       "        vertical-align: middle;\n",
       "    }\n",
       "\n",
       "    .dataframe tbody tr th {\n",
       "        vertical-align: top;\n",
       "    }\n",
       "\n",
       "    .dataframe thead th {\n",
       "        text-align: right;\n",
       "    }\n",
       "</style>\n",
       "<table border=\"1\" class=\"dataframe\">\n",
       "  <thead>\n",
       "    <tr style=\"text-align: right;\">\n",
       "      <th></th>\n",
       "      <th>State Name</th>\n",
       "      <th>RICE YIELD (Kg per ha)</th>\n",
       "      <th>WHEAT YIELD (Kg per ha)</th>\n",
       "    </tr>\n",
       "  </thead>\n",
       "  <tbody>\n",
       "    <tr>\n",
       "      <th>0</th>\n",
       "      <td>Andhra Pradesh</td>\n",
       "      <td>1337079.18</td>\n",
       "      <td>116956.69</td>\n",
       "    </tr>\n",
       "    <tr>\n",
       "      <th>1</th>\n",
       "      <td>Assam</td>\n",
       "      <td>708457.90</td>\n",
       "      <td>558080.41</td>\n",
       "    </tr>\n",
       "    <tr>\n",
       "      <th>2</th>\n",
       "      <td>Bihar</td>\n",
       "      <td>730287.40</td>\n",
       "      <td>992099.68</td>\n",
       "    </tr>\n",
       "    <tr>\n",
       "      <th>3</th>\n",
       "      <td>Chhattisgarh</td>\n",
       "      <td>335014.04</td>\n",
       "      <td>311869.75</td>\n",
       "    </tr>\n",
       "    <tr>\n",
       "      <th>4</th>\n",
       "      <td>Gujarat</td>\n",
       "      <td>989691.47</td>\n",
       "      <td>1991362.26</td>\n",
       "    </tr>\n",
       "    <tr>\n",
       "      <th>5</th>\n",
       "      <td>Haryana</td>\n",
       "      <td>796460.55</td>\n",
       "      <td>1161151.95</td>\n",
       "    </tr>\n",
       "    <tr>\n",
       "      <th>6</th>\n",
       "      <td>Himachal Pradesh</td>\n",
       "      <td>574244.15</td>\n",
       "      <td>630164.41</td>\n",
       "    </tr>\n",
       "    <tr>\n",
       "      <th>7</th>\n",
       "      <td>Jharkhand</td>\n",
       "      <td>346166.10</td>\n",
       "      <td>349397.48</td>\n",
       "    </tr>\n",
       "    <tr>\n",
       "      <th>8</th>\n",
       "      <td>Karnataka</td>\n",
       "      <td>2125721.28</td>\n",
       "      <td>566556.69</td>\n",
       "    </tr>\n",
       "    <tr>\n",
       "      <th>9</th>\n",
       "      <td>Kerala</td>\n",
       "      <td>995867.63</td>\n",
       "      <td>4000.00</td>\n",
       "    </tr>\n",
       "    <tr>\n",
       "      <th>10</th>\n",
       "      <td>Madhya Pradesh</td>\n",
       "      <td>1575672.54</td>\n",
       "      <td>2930771.89</td>\n",
       "    </tr>\n",
       "    <tr>\n",
       "      <th>11</th>\n",
       "      <td>Maharashtra</td>\n",
       "      <td>1463057.73</td>\n",
       "      <td>1288086.69</td>\n",
       "    </tr>\n",
       "    <tr>\n",
       "      <th>12</th>\n",
       "      <td>Orissa</td>\n",
       "      <td>830195.06</td>\n",
       "      <td>1054791.18</td>\n",
       "    </tr>\n",
       "    <tr>\n",
       "      <th>13</th>\n",
       "      <td>Punjab</td>\n",
       "      <td>1773440.44</td>\n",
       "      <td>2007153.14</td>\n",
       "    </tr>\n",
       "    <tr>\n",
       "      <th>14</th>\n",
       "      <td>Rajasthan</td>\n",
       "      <td>930383.04</td>\n",
       "      <td>2722217.00</td>\n",
       "    </tr>\n",
       "    <tr>\n",
       "      <th>15</th>\n",
       "      <td>Tamil Nadu</td>\n",
       "      <td>1755871.99</td>\n",
       "      <td>18561.25</td>\n",
       "    </tr>\n",
       "    <tr>\n",
       "      <th>16</th>\n",
       "      <td>Telangana</td>\n",
       "      <td>1020098.92</td>\n",
       "      <td>251075.04</td>\n",
       "    </tr>\n",
       "    <tr>\n",
       "      <th>17</th>\n",
       "      <td>Uttar Pradesh</td>\n",
       "      <td>3767642.74</td>\n",
       "      <td>5208756.43</td>\n",
       "    </tr>\n",
       "    <tr>\n",
       "      <th>18</th>\n",
       "      <td>Uttarakhand</td>\n",
       "      <td>508766.33</td>\n",
       "      <td>494578.11</td>\n",
       "    </tr>\n",
       "    <tr>\n",
       "      <th>19</th>\n",
       "      <td>West Bengal</td>\n",
       "      <td>1443769.07</td>\n",
       "      <td>1438980.99</td>\n",
       "    </tr>\n",
       "  </tbody>\n",
       "</table>\n",
       "</div>"
      ],
      "text/plain": [
       "          State Name  RICE YIELD (Kg per ha)  WHEAT YIELD (Kg per ha)\n",
       "0     Andhra Pradesh              1337079.18                116956.69\n",
       "1              Assam               708457.90                558080.41\n",
       "2              Bihar               730287.40                992099.68\n",
       "3       Chhattisgarh               335014.04                311869.75\n",
       "4            Gujarat               989691.47               1991362.26\n",
       "5            Haryana               796460.55               1161151.95\n",
       "6   Himachal Pradesh               574244.15                630164.41\n",
       "7          Jharkhand               346166.10                349397.48\n",
       "8          Karnataka              2125721.28                566556.69\n",
       "9             Kerala               995867.63                  4000.00\n",
       "10    Madhya Pradesh              1575672.54               2930771.89\n",
       "11       Maharashtra              1463057.73               1288086.69\n",
       "12            Orissa               830195.06               1054791.18\n",
       "13            Punjab              1773440.44               2007153.14\n",
       "14         Rajasthan               930383.04               2722217.00\n",
       "15        Tamil Nadu              1755871.99                 18561.25\n",
       "16         Telangana              1020098.92                251075.04\n",
       "17     Uttar Pradesh              3767642.74               5208756.43\n",
       "18       Uttarakhand               508766.33                494578.11\n",
       "19       West Bengal              1443769.07               1438980.99"
      ]
     },
     "execution_count": 42,
     "metadata": {},
     "output_type": "execute_result"
    }
   ],
   "source": [
    "### `Rice vs. Wheat Yield Across States`\n",
    "\n",
    "rice_yield = df.groupby('State Name')['RICE YIELD (Kg per ha)'].sum().reset_index()\n",
    "wheat_yield = df.groupby('State Name')['WHEAT YIELD (Kg per ha)'].sum().reset_index()\n",
    "\n",
    "rice_wheat = pd.merge(rice_yield,wheat_yield,on=\"State Name\").sort_values(by='State Name')\n",
    "rice_wheat"
   ]
  },
  {
   "cell_type": "code",
   "execution_count": 48,
   "id": "31692f00",
   "metadata": {},
   "outputs": [
    {
     "data": {
      "application/vnd.plotly.v1+json": {
       "config": {
        "plotlyServerURL": "https://plot.ly"
       },
       "data": [
        {
         "alignmentgroup": "True",
         "hovertemplate": "Crop=RICE YIELD (Kg per ha)<br>State Name=%{x}<br>Yield (Kg per ha)=%{y}<extra></extra>",
         "legendgroup": "RICE YIELD (Kg per ha)",
         "marker": {
          "color": "#636efa",
          "pattern": {
           "shape": ""
          }
         },
         "name": "RICE YIELD (Kg per ha)",
         "offsetgroup": "RICE YIELD (Kg per ha)",
         "orientation": "v",
         "showlegend": true,
         "textposition": "auto",
         "type": "bar",
         "x": [
          "Andhra Pradesh",
          "Assam",
          "Bihar",
          "Chhattisgarh",
          "Gujarat",
          "Haryana",
          "Himachal Pradesh",
          "Jharkhand",
          "Karnataka",
          "Kerala",
          "Madhya Pradesh",
          "Maharashtra",
          "Orissa",
          "Punjab",
          "Rajasthan",
          "Tamil Nadu",
          "Telangana",
          "Uttar Pradesh",
          "Uttarakhand",
          "West Bengal"
         ],
         "xaxis": "x",
         "y": [
          1337079.18,
          708457.9,
          730287.4,
          335014.04,
          989691.47,
          796460.55,
          574244.15,
          346166.1,
          2125721.28,
          995867.63,
          1575672.54,
          1463057.73,
          830195.06,
          1773440.44,
          930383.04,
          1755871.99,
          1020098.92,
          3767642.74,
          508766.33,
          1443769.07
         ],
         "yaxis": "y"
        },
        {
         "alignmentgroup": "True",
         "hovertemplate": "Crop=WHEAT YIELD (Kg per ha)<br>State Name=%{x}<br>Yield (Kg per ha)=%{y}<extra></extra>",
         "legendgroup": "WHEAT YIELD (Kg per ha)",
         "marker": {
          "color": "#EF553B",
          "pattern": {
           "shape": ""
          }
         },
         "name": "WHEAT YIELD (Kg per ha)",
         "offsetgroup": "WHEAT YIELD (Kg per ha)",
         "orientation": "v",
         "showlegend": true,
         "textposition": "auto",
         "type": "bar",
         "x": [
          "Andhra Pradesh",
          "Assam",
          "Bihar",
          "Chhattisgarh",
          "Gujarat",
          "Haryana",
          "Himachal Pradesh",
          "Jharkhand",
          "Karnataka",
          "Kerala",
          "Madhya Pradesh",
          "Maharashtra",
          "Orissa",
          "Punjab",
          "Rajasthan",
          "Tamil Nadu",
          "Telangana",
          "Uttar Pradesh",
          "Uttarakhand",
          "West Bengal"
         ],
         "xaxis": "x",
         "y": [
          116956.69,
          558080.41,
          992099.68,
          311869.75,
          1991362.26,
          1161151.95,
          630164.41,
          349397.48,
          566556.69,
          4000,
          2930771.89,
          1288086.69,
          1054791.18,
          2007153.14,
          2722217,
          18561.25,
          251075.04,
          5208756.43,
          494578.11,
          1438980.99
         ],
         "yaxis": "y"
        }
       ],
       "layout": {
        "barmode": "group",
        "legend": {
         "title": {
          "text": "Crop"
         },
         "tracegroupgap": 0
        },
        "template": {
         "data": {
          "bar": [
           {
            "error_x": {
             "color": "#2a3f5f"
            },
            "error_y": {
             "color": "#2a3f5f"
            },
            "marker": {
             "line": {
              "color": "#E5ECF6",
              "width": 0.5
             },
             "pattern": {
              "fillmode": "overlay",
              "size": 10,
              "solidity": 0.2
             }
            },
            "type": "bar"
           }
          ],
          "barpolar": [
           {
            "marker": {
             "line": {
              "color": "#E5ECF6",
              "width": 0.5
             },
             "pattern": {
              "fillmode": "overlay",
              "size": 10,
              "solidity": 0.2
             }
            },
            "type": "barpolar"
           }
          ],
          "carpet": [
           {
            "aaxis": {
             "endlinecolor": "#2a3f5f",
             "gridcolor": "white",
             "linecolor": "white",
             "minorgridcolor": "white",
             "startlinecolor": "#2a3f5f"
            },
            "baxis": {
             "endlinecolor": "#2a3f5f",
             "gridcolor": "white",
             "linecolor": "white",
             "minorgridcolor": "white",
             "startlinecolor": "#2a3f5f"
            },
            "type": "carpet"
           }
          ],
          "choropleth": [
           {
            "colorbar": {
             "outlinewidth": 0,
             "ticks": ""
            },
            "type": "choropleth"
           }
          ],
          "contour": [
           {
            "colorbar": {
             "outlinewidth": 0,
             "ticks": ""
            },
            "colorscale": [
             [
              0,
              "#0d0887"
             ],
             [
              0.1111111111111111,
              "#46039f"
             ],
             [
              0.2222222222222222,
              "#7201a8"
             ],
             [
              0.3333333333333333,
              "#9c179e"
             ],
             [
              0.4444444444444444,
              "#bd3786"
             ],
             [
              0.5555555555555556,
              "#d8576b"
             ],
             [
              0.6666666666666666,
              "#ed7953"
             ],
             [
              0.7777777777777778,
              "#fb9f3a"
             ],
             [
              0.8888888888888888,
              "#fdca26"
             ],
             [
              1,
              "#f0f921"
             ]
            ],
            "type": "contour"
           }
          ],
          "contourcarpet": [
           {
            "colorbar": {
             "outlinewidth": 0,
             "ticks": ""
            },
            "type": "contourcarpet"
           }
          ],
          "heatmap": [
           {
            "colorbar": {
             "outlinewidth": 0,
             "ticks": ""
            },
            "colorscale": [
             [
              0,
              "#0d0887"
             ],
             [
              0.1111111111111111,
              "#46039f"
             ],
             [
              0.2222222222222222,
              "#7201a8"
             ],
             [
              0.3333333333333333,
              "#9c179e"
             ],
             [
              0.4444444444444444,
              "#bd3786"
             ],
             [
              0.5555555555555556,
              "#d8576b"
             ],
             [
              0.6666666666666666,
              "#ed7953"
             ],
             [
              0.7777777777777778,
              "#fb9f3a"
             ],
             [
              0.8888888888888888,
              "#fdca26"
             ],
             [
              1,
              "#f0f921"
             ]
            ],
            "type": "heatmap"
           }
          ],
          "heatmapgl": [
           {
            "colorbar": {
             "outlinewidth": 0,
             "ticks": ""
            },
            "colorscale": [
             [
              0,
              "#0d0887"
             ],
             [
              0.1111111111111111,
              "#46039f"
             ],
             [
              0.2222222222222222,
              "#7201a8"
             ],
             [
              0.3333333333333333,
              "#9c179e"
             ],
             [
              0.4444444444444444,
              "#bd3786"
             ],
             [
              0.5555555555555556,
              "#d8576b"
             ],
             [
              0.6666666666666666,
              "#ed7953"
             ],
             [
              0.7777777777777778,
              "#fb9f3a"
             ],
             [
              0.8888888888888888,
              "#fdca26"
             ],
             [
              1,
              "#f0f921"
             ]
            ],
            "type": "heatmapgl"
           }
          ],
          "histogram": [
           {
            "marker": {
             "pattern": {
              "fillmode": "overlay",
              "size": 10,
              "solidity": 0.2
             }
            },
            "type": "histogram"
           }
          ],
          "histogram2d": [
           {
            "colorbar": {
             "outlinewidth": 0,
             "ticks": ""
            },
            "colorscale": [
             [
              0,
              "#0d0887"
             ],
             [
              0.1111111111111111,
              "#46039f"
             ],
             [
              0.2222222222222222,
              "#7201a8"
             ],
             [
              0.3333333333333333,
              "#9c179e"
             ],
             [
              0.4444444444444444,
              "#bd3786"
             ],
             [
              0.5555555555555556,
              "#d8576b"
             ],
             [
              0.6666666666666666,
              "#ed7953"
             ],
             [
              0.7777777777777778,
              "#fb9f3a"
             ],
             [
              0.8888888888888888,
              "#fdca26"
             ],
             [
              1,
              "#f0f921"
             ]
            ],
            "type": "histogram2d"
           }
          ],
          "histogram2dcontour": [
           {
            "colorbar": {
             "outlinewidth": 0,
             "ticks": ""
            },
            "colorscale": [
             [
              0,
              "#0d0887"
             ],
             [
              0.1111111111111111,
              "#46039f"
             ],
             [
              0.2222222222222222,
              "#7201a8"
             ],
             [
              0.3333333333333333,
              "#9c179e"
             ],
             [
              0.4444444444444444,
              "#bd3786"
             ],
             [
              0.5555555555555556,
              "#d8576b"
             ],
             [
              0.6666666666666666,
              "#ed7953"
             ],
             [
              0.7777777777777778,
              "#fb9f3a"
             ],
             [
              0.8888888888888888,
              "#fdca26"
             ],
             [
              1,
              "#f0f921"
             ]
            ],
            "type": "histogram2dcontour"
           }
          ],
          "mesh3d": [
           {
            "colorbar": {
             "outlinewidth": 0,
             "ticks": ""
            },
            "type": "mesh3d"
           }
          ],
          "parcoords": [
           {
            "line": {
             "colorbar": {
              "outlinewidth": 0,
              "ticks": ""
             }
            },
            "type": "parcoords"
           }
          ],
          "pie": [
           {
            "automargin": true,
            "type": "pie"
           }
          ],
          "scatter": [
           {
            "fillpattern": {
             "fillmode": "overlay",
             "size": 10,
             "solidity": 0.2
            },
            "type": "scatter"
           }
          ],
          "scatter3d": [
           {
            "line": {
             "colorbar": {
              "outlinewidth": 0,
              "ticks": ""
             }
            },
            "marker": {
             "colorbar": {
              "outlinewidth": 0,
              "ticks": ""
             }
            },
            "type": "scatter3d"
           }
          ],
          "scattercarpet": [
           {
            "marker": {
             "colorbar": {
              "outlinewidth": 0,
              "ticks": ""
             }
            },
            "type": "scattercarpet"
           }
          ],
          "scattergeo": [
           {
            "marker": {
             "colorbar": {
              "outlinewidth": 0,
              "ticks": ""
             }
            },
            "type": "scattergeo"
           }
          ],
          "scattergl": [
           {
            "marker": {
             "colorbar": {
              "outlinewidth": 0,
              "ticks": ""
             }
            },
            "type": "scattergl"
           }
          ],
          "scattermapbox": [
           {
            "marker": {
             "colorbar": {
              "outlinewidth": 0,
              "ticks": ""
             }
            },
            "type": "scattermapbox"
           }
          ],
          "scatterpolar": [
           {
            "marker": {
             "colorbar": {
              "outlinewidth": 0,
              "ticks": ""
             }
            },
            "type": "scatterpolar"
           }
          ],
          "scatterpolargl": [
           {
            "marker": {
             "colorbar": {
              "outlinewidth": 0,
              "ticks": ""
             }
            },
            "type": "scatterpolargl"
           }
          ],
          "scatterternary": [
           {
            "marker": {
             "colorbar": {
              "outlinewidth": 0,
              "ticks": ""
             }
            },
            "type": "scatterternary"
           }
          ],
          "surface": [
           {
            "colorbar": {
             "outlinewidth": 0,
             "ticks": ""
            },
            "colorscale": [
             [
              0,
              "#0d0887"
             ],
             [
              0.1111111111111111,
              "#46039f"
             ],
             [
              0.2222222222222222,
              "#7201a8"
             ],
             [
              0.3333333333333333,
              "#9c179e"
             ],
             [
              0.4444444444444444,
              "#bd3786"
             ],
             [
              0.5555555555555556,
              "#d8576b"
             ],
             [
              0.6666666666666666,
              "#ed7953"
             ],
             [
              0.7777777777777778,
              "#fb9f3a"
             ],
             [
              0.8888888888888888,
              "#fdca26"
             ],
             [
              1,
              "#f0f921"
             ]
            ],
            "type": "surface"
           }
          ],
          "table": [
           {
            "cells": {
             "fill": {
              "color": "#EBF0F8"
             },
             "line": {
              "color": "white"
             }
            },
            "header": {
             "fill": {
              "color": "#C8D4E3"
             },
             "line": {
              "color": "white"
             }
            },
            "type": "table"
           }
          ]
         },
         "layout": {
          "annotationdefaults": {
           "arrowcolor": "#2a3f5f",
           "arrowhead": 0,
           "arrowwidth": 1
          },
          "autotypenumbers": "strict",
          "coloraxis": {
           "colorbar": {
            "outlinewidth": 0,
            "ticks": ""
           }
          },
          "colorscale": {
           "diverging": [
            [
             0,
             "#8e0152"
            ],
            [
             0.1,
             "#c51b7d"
            ],
            [
             0.2,
             "#de77ae"
            ],
            [
             0.3,
             "#f1b6da"
            ],
            [
             0.4,
             "#fde0ef"
            ],
            [
             0.5,
             "#f7f7f7"
            ],
            [
             0.6,
             "#e6f5d0"
            ],
            [
             0.7,
             "#b8e186"
            ],
            [
             0.8,
             "#7fbc41"
            ],
            [
             0.9,
             "#4d9221"
            ],
            [
             1,
             "#276419"
            ]
           ],
           "sequential": [
            [
             0,
             "#0d0887"
            ],
            [
             0.1111111111111111,
             "#46039f"
            ],
            [
             0.2222222222222222,
             "#7201a8"
            ],
            [
             0.3333333333333333,
             "#9c179e"
            ],
            [
             0.4444444444444444,
             "#bd3786"
            ],
            [
             0.5555555555555556,
             "#d8576b"
            ],
            [
             0.6666666666666666,
             "#ed7953"
            ],
            [
             0.7777777777777778,
             "#fb9f3a"
            ],
            [
             0.8888888888888888,
             "#fdca26"
            ],
            [
             1,
             "#f0f921"
            ]
           ],
           "sequentialminus": [
            [
             0,
             "#0d0887"
            ],
            [
             0.1111111111111111,
             "#46039f"
            ],
            [
             0.2222222222222222,
             "#7201a8"
            ],
            [
             0.3333333333333333,
             "#9c179e"
            ],
            [
             0.4444444444444444,
             "#bd3786"
            ],
            [
             0.5555555555555556,
             "#d8576b"
            ],
            [
             0.6666666666666666,
             "#ed7953"
            ],
            [
             0.7777777777777778,
             "#fb9f3a"
            ],
            [
             0.8888888888888888,
             "#fdca26"
            ],
            [
             1,
             "#f0f921"
            ]
           ]
          },
          "colorway": [
           "#636efa",
           "#EF553B",
           "#00cc96",
           "#ab63fa",
           "#FFA15A",
           "#19d3f3",
           "#FF6692",
           "#B6E880",
           "#FF97FF",
           "#FECB52"
          ],
          "font": {
           "color": "#2a3f5f"
          },
          "geo": {
           "bgcolor": "white",
           "lakecolor": "white",
           "landcolor": "#E5ECF6",
           "showlakes": true,
           "showland": true,
           "subunitcolor": "white"
          },
          "hoverlabel": {
           "align": "left"
          },
          "hovermode": "closest",
          "mapbox": {
           "style": "light"
          },
          "paper_bgcolor": "white",
          "plot_bgcolor": "#E5ECF6",
          "polar": {
           "angularaxis": {
            "gridcolor": "white",
            "linecolor": "white",
            "ticks": ""
           },
           "bgcolor": "#E5ECF6",
           "radialaxis": {
            "gridcolor": "white",
            "linecolor": "white",
            "ticks": ""
           }
          },
          "scene": {
           "xaxis": {
            "backgroundcolor": "#E5ECF6",
            "gridcolor": "white",
            "gridwidth": 2,
            "linecolor": "white",
            "showbackground": true,
            "ticks": "",
            "zerolinecolor": "white"
           },
           "yaxis": {
            "backgroundcolor": "#E5ECF6",
            "gridcolor": "white",
            "gridwidth": 2,
            "linecolor": "white",
            "showbackground": true,
            "ticks": "",
            "zerolinecolor": "white"
           },
           "zaxis": {
            "backgroundcolor": "#E5ECF6",
            "gridcolor": "white",
            "gridwidth": 2,
            "linecolor": "white",
            "showbackground": true,
            "ticks": "",
            "zerolinecolor": "white"
           }
          },
          "shapedefaults": {
           "line": {
            "color": "#2a3f5f"
           }
          },
          "ternary": {
           "aaxis": {
            "gridcolor": "white",
            "linecolor": "white",
            "ticks": ""
           },
           "baxis": {
            "gridcolor": "white",
            "linecolor": "white",
            "ticks": ""
           },
           "bgcolor": "#E5ECF6",
           "caxis": {
            "gridcolor": "white",
            "linecolor": "white",
            "ticks": ""
           }
          },
          "title": {
           "x": 0.05
          },
          "xaxis": {
           "automargin": true,
           "gridcolor": "white",
           "linecolor": "white",
           "ticks": "",
           "title": {
            "standoff": 15
           },
           "zerolinecolor": "white",
           "zerolinewidth": 2
          },
          "yaxis": {
           "automargin": true,
           "gridcolor": "white",
           "linecolor": "white",
           "ticks": "",
           "title": {
            "standoff": 15
           },
           "zerolinecolor": "white",
           "zerolinewidth": 2
          }
         }
        },
        "title": {
         "text": "Rice vs. Wheat Yield Across States"
        },
        "xaxis": {
         "anchor": "y",
         "domain": [
          0,
          1
         ],
         "tickangle": 45,
         "title": {
          "text": "State Name"
         }
        },
        "yaxis": {
         "anchor": "x",
         "domain": [
          0,
          1
         ],
         "title": {
          "text": "Yield (Kg per ha)"
         }
        }
       }
      }
     },
     "metadata": {},
     "output_type": "display_data"
    }
   ],
   "source": [
    "melted = rice_wheat.melt(id_vars='State Name', \n",
    "                         value_vars=['RICE YIELD (Kg per ha)', 'WHEAT YIELD (Kg per ha)'],\n",
    "                         var_name='Crop', \n",
    "                         value_name='Yield (Kg per ha)')\n",
    "\n",
    "# Create grouped bar chart\n",
    "fig = px.bar(\n",
    "    melted,\n",
    "    x='State Name',\n",
    "    y='Yield (Kg per ha)',\n",
    "    color='Crop',\n",
    "    barmode='group',\n",
    "    title='Rice vs. Wheat Yield Across States'\n",
    ")\n",
    "\n",
    "fig.update_layout(xaxis_tickangle=45)\n",
    "fig.show()"
   ]
  }
 ],
 "metadata": {
  "kernelspec": {
   "display_name": "base",
   "language": "python",
   "name": "python3"
  },
  "language_info": {
   "codemirror_mode": {
    "name": "ipython",
    "version": 3
   },
   "file_extension": ".py",
   "mimetype": "text/x-python",
   "name": "python",
   "nbconvert_exporter": "python",
   "pygments_lexer": "ipython3",
   "version": "3.12.7"
  }
 },
 "nbformat": 4,
 "nbformat_minor": 5
}
